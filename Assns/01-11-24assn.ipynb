{
 "cells": [
  {
   "cell_type": "markdown",
   "id": "cdf59aef-a0e4-4d66-99a4-71ac05d4d181",
   "metadata": {},
   "source": [
    "# Chapter 2 Problems #"
   ]
  },
  {
   "cell_type": "markdown",
   "id": "d19fe595-6a6e-4e54-88e3-88a363a7d19e",
   "metadata": {},
   "source": [
    "1.  A regular polygon is a closed polygon which is equilateral and equiangular--that is, all sides have the same length and all angles have the same measure. (See [this page](https://en.wikipedia.org/wiki/Regular_polygon).)  Your task is to define a class RegularPolygon(n, s), where the objects represent regular polygons, where n >2 is the number of sides and s is the length of a given side.  You should include the following methods which perform the following computations:\n",
    "\n",
    "+ a method .perimeter() which returns the perimeter of the polygon\n",
    "+ a method .area() which returns the area of the polygon\n",
    "+ a method .angle() which returns the size (in radians of each angle)\n",
    "+ a method .plot() which produces a plot of the polygon (The code below may be helpful)"
   ]
  },
  {
   "cell_type": "markdown",
   "id": "f081408c-6538-47cd-9ea5-65544b8c3839",
   "metadata": {},
   "source": [
    "**Note:**  The *Cartesian coordinate system* plots points on the plane using $(x,y)$, where $x$ and $y$ are the perpendicular distance to the axes.  The [polar coordinate system](https://tutorial.math.lamar.edu/classes/calcii/polarcoordinates.aspx) instead plots each point on the plane using two numbers $(r, \\theta)$, where $\\theta$ represents the angle made with the positive $x$-axis and $r$ represents the distance from the point to the origin. matplotlib can plot polar points using a 'polar projection'.  See the code below. "
   ]
  },
  {
   "cell_type": "code",
   "execution_count": 1,
   "id": "5dc5ad7e-ae91-4611-9eee-9ecc98b09f40",
   "metadata": {
    "tags": []
   },
   "outputs": [],
   "source": [
    "import matplotlib.pyplot as plt\n",
    "import numpy as np"
   ]
  },
  {
   "cell_type": "code",
   "execution_count": 4,
   "id": "24b5119d-fb95-4ee2-8669-c5d3424d73fc",
   "metadata": {
    "tags": []
   },
   "outputs": [
    {
     "data": {
      "text/plain": [
       "array([0.        , 1.25663706, 2.51327412, 3.76991118, 5.02654825,\n",
       "       6.28318531])"
      ]
     },
     "execution_count": 4,
     "metadata": {},
     "output_type": "execute_result"
    }
   ],
   "source": [
    "myangles = np.linspace(0, 2*np.pi, 6) \n",
    "myangles"
   ]
  },
  {
   "cell_type": "code",
   "execution_count": 6,
   "id": "4ce5fa96-d1da-4a2c-8b75-8da87aaf05da",
   "metadata": {
    "tags": []
   },
   "outputs": [
    {
     "data": {
      "text/plain": [
       "array([1., 1., 1., 1., 1., 1.])"
      ]
     },
     "execution_count": 6,
     "metadata": {},
     "output_type": "execute_result"
    }
   ],
   "source": [
    "myradii = np.ones(6)\n",
    "myradii"
   ]
  },
  {
   "cell_type": "code",
   "execution_count": 9,
   "id": "001a7b4b-af2c-4f5c-8c42-03cecf0956ae",
   "metadata": {
    "tags": []
   },
   "outputs": [
    {
     "data": {
      "image/png": "[encoded data removed]",
      "text/plain": [
       "<Figure size 640x480 with 1 Axes>"
      ]
     },
     "metadata": {},
     "output_type": "display_data"
    }
   ],
   "source": [
    "ax = plt.subplot(projection='polar')\n",
    "ax.plot(myangles, myradii) # The variables represent theta and r, not x and y\n",
    "ax.axis('off')  # Try it without this to see the effect\n",
    "plt.show()"
   ]
  },
  {
   "cell_type": "markdown",
   "id": "da94586f-229e-4ca0-abca-0cd832bfc36d",
   "metadata": {},
   "source": [
    "2. Consider the function $f(x,y) = x^2 - 6x + y^2 - 4 y + 13$.\n",
    "\n",
    "+ Produce a plot of this function on the region $0 \\le x \\le 5, 0 \\le y \\le 5$. \n",
    "+ Use calculus to find the location of the minimum of this function.  (Just tell me the coordinates (x,y) of the minimum; no need to show work.)\n",
    "+ Create a function graddescent(point, n, eta), which starts at a point  (that is, np.array([x.y])) and does n iterations of the gradient descent algorithm using learning rate $\\eta$, printing an estimate of the local minimum at each step and returning the last estimate of the local minimum.\n",
    "+ Starting with the point $(2,4)$ find (1) $n$ and $\\eta$ so that graddescent converges to the minimum and (2) $n$ and $\\eta$ so that graddescent does not converge to the minimum"
   ]
  },
  {
   "cell_type": "markdown",
   "id": "a03ccacf-95cf-49e2-a89e-b5f34c9c8cfd",
   "metadata": {},
   "source": [
    "3. The code presented in the textbook can be found on the author's [github repository](https://github.com/rasbt/machine-learning-book) as a Jupyter notebook.  In particular, the code for the object-oriented implementation of the perceptron algorithm can be found in the file ch02.ipynb. On the class [github page](https://github.com/aleahy-work/CS-STAT323-W24) is the file 'jan8separate.csv', which contains 100 observations of a dataset consisting of $(x_1, x_2, x_3, y)$, where $(x_1, x_2, x_3)$ is a point and $y$ is a value $-1$ or $1$. \n",
    "\n",
    "+ Use this data and the object-oriented Perceptron code to produce a fitted model for the data.  You can choose the values of $\\eta$, $n$, and the random state for defining the Perceptron class. \n",
    "\n",
    "**Note:** The Perceptron.fit() method takes data in the form X,y, where X is a matrix with each row representing an input $(x_1, x_2, x_3)$ and $y$ is the output indicator variable.  Also, recall that the indicator variable is {0,1}, **not** {-1,1}, like we used.  You should (1) import the data with numpy.genfromtxt(), split the columns into an X and y piece, and finally use numpy.where() to convert the -1,1 values into 0,1 values.\n",
    "\n",
    "+ Use the Perceptron.predict() method to determine the number of errors in your model by looking at the difference between your predicted outcomes ($\\hat y$) and the actual outcomes ($y$).  The nump.count_nonzero() method may be helpful.\n"
   ]
  }
 ],
 "metadata": {
  "kernelspec": {
   "display_name": "Python 3",
   "language": "python",
   "name": "python3"
  },
  "language_info": {
   "codemirror_mode": {
    "name": "ipython",
    "version": 3
   },
   "file_extension": ".py",
   "mimetype": "text/x-python",
   "name": "python",
   "nbconvert_exporter": "python",
   "pygments_lexer": "ipython3",
   "version": "3.11.6"
  }
 },
 "nbformat": 4,
 "nbformat_minor": 5
}
