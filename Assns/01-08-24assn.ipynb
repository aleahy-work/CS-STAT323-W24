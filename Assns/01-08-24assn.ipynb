{
 "cells": [
  {
   "cell_type": "markdown",
   "id": "e8eadabe-cce8-4f1d-be2d-7104c77f220f",
   "metadata": {},
   "source": [
    "# Some Numpy and Matplotlib Problems #"
   ]
  },
  {
   "cell_type": "markdown",
   "id": "f6614ef6-2240-4d3d-97cc-54474a10d407",
   "metadata": {},
   "source": [
    "Complete each of the following **using appropriate numpy functions and operations**.  The main numpy API reference is available [here](https://numpy.org/doc/stable/reference/).  It may or may not be useful. \n",
    "\n",
    "1. Consider the matrix $A = \\left(\\begin{matrix} 2 & 5 & 0 & 8 \\\\ 1 & 4 & 2 & 6 \\\\ 7 & 8 & 9 & 3 \\\\ 1 & 5 & 7 & 8 \\\\ \\end{matrix}\\right)$ and let $b = \\left(\\begin{matrix} 4 \\\\ 2 \\\\ 1 \\\\ 1 \\\\ \\end{matrix}\\right)$. \n",
    "\n",
    "+ Find the determinant of $A$ and explain why $A$ has an inverse.\n",
    "+ Find the inverse of the matrix $A$\n",
    "+ Solve th equation $A x = b$ for the vector $x$"
   ]
  },
  {
   "cell_type": "markdown",
   "id": "982c2e8a-2d02-4008-9a3c-2a4fad3f871a",
   "metadata": {},
   "source": [
    "2. Produce a plot of each of the following functions on an appropriate interval\n",
    "\n",
    "+  $f(x) = \\tan^{-1}(x^2)$\n",
    "+  $f(x) = \\ln(x)/x^2$"
   ]
  },
  {
   "attachments": {},
   "cell_type": "markdown",
   "id": "c56686f3-0e62-4d18-b459-30f35c4ae33d",
   "metadata": {},
   "source": [
    "3. The file jan8data.npy on the [class github page](https://github.com/aleahy-work/CS-STAT323-W24) contains several hundred observations of a (single-variable) random variable.  See [this page](https://numpy.org/doc/stable/reference/routines.io.html) for instructions on how to load the data into a numpy array.\n",
    "\n",
    "+ Produce a **density** (or relatively frequency) histogram of the data (as opposed to a *frequency* histogram).  You should use matplotlib, but note from the [matplotlib documentation](https://matplotlib.org/stable/api/_as_gen/matplotlib.pyplot.hist.html) that a numpy command is being used in the background!\n",
    "+ Find the mean and the standard deviation of the data. (Use numpy functions.)\n",
    "+ Hopefully, your previous answers convince you that this data is drawn from a *normal* random variable.  A normal random variable is a random variable with the probability density function given by\n",
    "$$\n",
    "f(x) =  \\frac{1}{\\sigma \\sqrt{2 \\pi}} e^{-\\frac{1}{2} \\left(\\frac{x - \\mu}{\\sigma}\\right)^2}\n",
    "$$\n",
    "where $\\mu$ is the *population* mean and $\\sigma$ is the *population* standard deviation.  From the Central Limit Theorem  you can deduce that $\\bar x \\approx \\mu$ and $s \\approx \\sigma$.  Use this fact (and Matplotlib) to produce a plot of your histogram together with the graph of the estimated probability density."
   ]
  },
  {
   "cell_type": "markdown",
   "id": "3bb71ab6-64a3-4851-b637-723801116ee1",
   "metadata": {},
   "source": [
    "4. [Newton's method](https://en.wikipedia.org/wiki/Newton%27s_method) is an iterative algorithm which uses the derivative to estimate a solution $x_n$ to an equation $f(x) = 0$, given a starting estimate $x_0$ for the solution and the derivative $f'(x)$ of the function. This algorithm is usually discussed in introductory calculus. Consider the function $f(x) = \\sin(x) + x - 1$.\n",
    "\n",
    "+ Produce a plot of $f(x)$ together with the $x$--axis on an appropriate interval.\n",
    "+ Write a function mynewton(x0, n) which performs n iterations of Newton's method to estimate the solution to the equation $f(x) = 0$, starting with the point $x_0$. At each step of the iteration, it should **print** the estimate for $x_0$ *and* it should **return** the final estimate after the $n^{th}$ iteration.\n",
    "+ Use your plot in the first part to estimate a good choice of $x_0$ and use $n = 10$ iterations in your mynewton(x0,n) function to estimate the solution to the equation $\\sin(x) + x -1 = 0$."
   ]
  },
  {
   "cell_type": "markdown",
   "id": "e950ec3a-9f93-4418-ae72-aa5ed9c1853b",
   "metadata": {},
   "source": [
    "5. On the [class github page](https://github.com/aleahy-work/CS-STAT323-W24) is a CSV file jan8separate.csv, which gives a dataset consisting of 100 observations $(x_1, x_2, x_3, y)$, where $(x_1, x_2, x_3)$ is a point in 3-dimensional space and $y$ is a claffisification variable $-1$ or $1$.\n",
    "\n",
    "+ Produce a plot of the dataset to convince yourself that the dataset is linearly separable.\n",
    "+ Use the perceptron algorithm (see class notes) to find an equation for a plane which separates the data into two categories **and** produce a plot of this plane with your data so that the separation is visible.\n",
    "\n",
    "**Note:** You can import this data using Pandas (or [numpy](https://numpy.org/doc/stable/reference/generated/numpy.genfromtxt.html)).  If you start with Pandas, note that you can convert a Pandas column (series) or dataframe to a numpy array using [various commands](https://stackoverflow.com/questions/13187778/convert-pandas-dataframe-to-numpy-array).  In general, numerical columns in Pandas are just numpy arrays with a label attached to the column, so they are completely equivalent. "
   ]
  }
 ],
 "metadata": {
  "kernelspec": {
   "display_name": "Python 3",
   "language": "python",
   "name": "python3"
  },
  "language_info": {
   "codemirror_mode": {
    "name": "ipython",
    "version": 3
   },
   "file_extension": ".py",
   "mimetype": "text/x-python",
   "name": "python",
   "nbconvert_exporter": "python",
   "pygments_lexer": "ipython3",
   "version": "3.11.6"
  }
 },
 "nbformat": 4,
 "nbformat_minor": 5
}
