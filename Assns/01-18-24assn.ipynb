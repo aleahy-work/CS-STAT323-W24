{
 "cells": [
  {
   "cell_type": "markdown",
   "id": "8a155858-530c-4149-90ed-33822c152eb5",
   "metadata": {},
   "source": [
    "# More Classification Problems #"
   ]
  },
  {
   "cell_type": "markdown",
   "id": "761f1578-a797-4831-b280-eb5304e18a79",
   "metadata": {},
   "source": [
    "1. Consider the dataset 01-18train.csv (on the [github page](https://github.com/aleahy-work/CS-STAT323-W24/tree/main/Assns) consisting of $(x,y)$ pairs, where $x$ is a number and $y$ is either 0 or 1.\n",
    "\n",
    "+ Produce a (labelled) side-by-side histogram of the two populations represented by the data.  Use an [alpha channel](https://stackoverflow.com/questions/69657280/how-to-fix-transparency-overlaps-in-matplotlib-when-plotting-multiple-figures) to make one histogram partially transparent.\n",
    "+ Produce a (labelled) scatter plot of the data (with the first variable on the x-axis and the second variable on the y-axis).\n",
    "+ Use this data to *train* a Bayesian classification model using the myBayes() class given below. (**Warning:** I wrote this myself; it has several problems but generally seems to work.) \n",
    "+ The second dataset 01-18test.csv has some additional points from the same distribution.  What is the *accuracy* of the model on these new data points?   In other words, what percentage of this data is correctly classified? \n",
    "\n",
    "2. On the [book's github site](https://github.com/rasbt/machine-learning-book) in Chapter 3 is a LogisticRegressionGD() class, which implements a logistic regression classifier making use of gradient descent.\n",
    "\n",
    "+ Use this to produce a logistic regression model for the training data above, and use this model to find the number of innacuracies on the test data as before.\n",
    "+ Add a new method to the class called findweights() which displays the weights and bias for the model.\n",
    "+ Use your answer to the previous question to plot the appropriate sigmoid function over the scatter plot you produced in Question 1\n",
    "\n",
    "3. (From Friday's material.)\n",
    "\n",
    "+ Make a function myKNN(X, y, pt, k), which trains and implements a k-nearest neighborhood classifier using data (X,y) and produces as output the classification for the point \"pt\".\n",
    "+ Modify the myKNN(X, y, pt, k) function so that it produces a scatter plot for the data (X,y) **and** adds the point pt to the scatter plot in a vivid red color.   \n"
   ]
  },
  {
   "cell_type": "code",
   "execution_count": 112,
   "id": "929f1fe0-d288-4c81-ac92-d55823556685",
   "metadata": {
    "tags": []
   },
   "outputs": [],
   "source": [
    "class myBayes():\n",
    "    import scipy.stats as stats\n",
    "    \n",
    "    def __init__(self):\n",
    "        import scipy.stats as stats\n",
    "        import numpy as np\n",
    "\n",
    "    def fit(self, X, y):\n",
    "        self.classes = np.unique(np.array(y)) # list of classes\n",
    "        if (self.classes.min() != 0) | (self.classes.max() != self.classes.shape[0] - 1):\n",
    "            return print(\"Classes must be np.array[0,...n]\")\n",
    "        self.py = np.bincount(y.astype('int8'))/y.size  # compute the priors P(y_k) for each class\n",
    "        self.dists = []\n",
    "        for i in np.unique(np.array(y)):\n",
    "            thisx = X[y == i]\n",
    "            thismean = np.mean(thisx, axis=0)\n",
    "            thiscov = np.cov(thisx.T)\n",
    "            self.dists.append(stats.multivariate_normal(thismean, thiscov))\n",
    "        return self\n",
    "\n",
    "    def predict(self,X):\n",
    "        myprobs = []\n",
    "        for i in range(self.classes.shape[0]):\n",
    "            myprobs.append(self.py[i] * np.array(self.dists[i].pdf(np.array(X))))\n",
    "        return  np.argmax(np.array(myprobs).T, axis=1)\n",
    "    "
   ]
  }
 ],
 "metadata": {
  "kernelspec": {
   "display_name": "Python 3",
   "language": "python",
   "name": "python3"
  },
  "language_info": {
   "codemirror_mode": {
    "name": "ipython",
    "version": 3
   },
   "file_extension": ".py",
   "mimetype": "text/x-python",
   "name": "python",
   "nbconvert_exporter": "python",
   "pygments_lexer": "ipython3",
   "version": "3.11.6"
  }
 },
 "nbformat": 4,
 "nbformat_minor": 5
}
