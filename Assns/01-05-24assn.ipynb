{
 "cells": [
  {
   "cell_type": "markdown",
   "id": "0c5ab7ae-41c8-4909-b98a-8aec27ec9cfc",
   "metadata": {
    "tags": []
   },
   "source": [
    "# The OECD Crop Yield Data #"
   ]
  },
  {
   "cell_type": "markdown",
   "id": "a030476c-aa44-44af-9667-9a405ebe6bab",
   "metadata": {},
   "source": [
    "The OECD [produces annual estimates](https://data.oecd.org/agroutput/crop-production.htm) of crop yields per hectare for several key staple crops in participating countries.  These measures are described as:\n",
    "\n",
    "*Crop production depends on the availability of arable land and is affected in particular by yields, macroeconomic uncertainty, as well as consumption patterns; it also has a great incidence on agricultural commodities' prices. The importance of crop production is related to harvested areas, returns per hectare (yields) and quantities produced. Crop yields are the harvested production per unit of harvested area for crop products. In most of the cases yield data are not recorded, but are obtained by dividing the production data by the data on area harvested. The actual yield that is captured on farm depends on several factors such as the crop's genetic potential, the amount of sunlight, water and nutrients absorbed by the crop, the presence of weeds and pests. This indicator is presented for wheat, maize, rice and soybean. Crop production is measured in tonnes per hectare, in thousand hectares and thousand tonnes.*\n",
    "\n",
    "I've made a copy of this dataset available at [my github page](https://github.com/aleahy-work/CS-STAT323-W24).  Your task is to import this data into a (well-formatted, cleaned up) Jupyter noteobok and use it to produce some information about crop yields.  "
   ]
  },
  {
   "cell_type": "markdown",
   "id": "10e5fcff-c196-494b-8303-1fbad7bfc606",
   "metadata": {},
   "source": [
    "**Problems:**\n",
    "\n",
    "1. What years and what grains are described by the dataset?  (Note: Future years are projections.)\n",
    "\n",
    "2. Produce a histogram of the distribution of the 'Value' column in the year 1990.\n",
    "   \n",
    "+ Use Matplotlib's 'pyplot.hist'. Make sure your histogram has both axes labelled as well as a title. \n",
    "+ Note that pandas has it's own histogram function. Do some research and product a plot with it.  How does it compare to the other histogram plot? (Hint: probably not very different.)\n",
    "\n",
    "3. The plot you produced in the previous question had some significant outliers which probably require some explanation.  Here's one idea:\n",
    "\n",
    "+ What are the units in the 'MEASURE' column?\n",
    "+ Produce a frequency distribution of the different measures in this column--that is, how many times does each meaure occur in the colum?  (Hint: the 'value_counts()' function for pandas might be helpful.)\n",
    "+ Given the observations in the previous bullet points, what do you think the phrase \"Crop production is measured in tonnes per hectare, in thousand hectares and thousand tonnes\" in the explanation quoted above means?\n",
    "+ Given that we are interested in 'yields per hectare', produce a new dataset (for all years, grains, and countries) more appropriate for our study.\n",
    "\n",
    "4. Use the dataset from the previous problem to produce a *boxplot* of the crop yield of rice in tons per hectare for all countries in the year 2020. Label it well! \n",
    "\n",
    "5. What was the highest crop yield for rice per hectare in 2020?  What country obtained those yields?\n",
    "\n",
    "6. Produce a comparative boxplot comparing the crop yield per hectare for each of the four crops in the study in the United States over the entire length of the study.  Labels!"
   ]
  },
  {
   "cell_type": "code",
   "execution_count": null,
   "id": "4cd23657-3219-4d16-957f-54ef1b253c7d",
   "metadata": {},
   "outputs": [],
   "source": []
  }
 ],
 "metadata": {
  "kernelspec": {
   "display_name": "Python 3",
   "language": "python",
   "name": "python3"
  },
  "language_info": {
   "codemirror_mode": {
    "name": "ipython",
    "version": 3
   },
   "file_extension": ".py",
   "mimetype": "text/x-python",
   "name": "python",
   "nbconvert_exporter": "python",
   "pygments_lexer": "ipython3",
   "version": "3.11.6"
  }
 },
 "nbformat": 4,
 "nbformat_minor": 5
}
