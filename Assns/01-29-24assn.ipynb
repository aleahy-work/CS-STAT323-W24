{
 "cells": [
  {
   "cell_type": "markdown",
   "id": "59639ea2-54e7-4f62-a0bd-d4b2a8ec0c4f",
   "metadata": {},
   "source": [
    "# Some Text Processing Problems #\n",
    "\n",
    "The purpose of this assignment is to give you practice using some of the text processing methods available in python.  You should use python string methods (see, e.g., [here](https://www.w3schools.com/python/python_ref_string.asp)) or the python re (\"regular expression\") library (see, e.g., [here](https://www.w3schools.com/python/python_regex.asp)).  But also be prepared to search for solutions on the internet.\n",
    "\n",
    "The asolution to each problem should work for any string, but in your answers you should demonstrate that your solution works on the simple **mytext** string given below. Note that **mytext** is a single string, but continued over two lines--with a backslash indicating to python that the string should be continued to the next line."
   ]
  },
  {
   "cell_type": "code",
   "execution_count": 18,
   "id": "0dc96ee1-8973-4b78-a212-ef73d73c4052",
   "metadata": {},
   "outputs": [],
   "source": [
    "mytext = \"This is my text, and it contains the numbers 123 and 456. \" \\\n",
    "        \"This is the second sentence in my text.  And this isn't the second sentence.\""
   ]
  },
  {
   "cell_type": "code",
   "execution_count": 19,
   "id": "39ff2e45-aac4-4ceb-8916-84e53d23546d",
   "metadata": {},
   "outputs": [
    {
     "data": {
      "text/plain": [
       "\"This is my text, and it contains the numbers 123 and 456. This is the second sentence in my text.  And this isn't the second sentence.\""
      ]
     },
     "execution_count": 19,
     "metadata": {},
     "output_type": "execute_result"
    }
   ],
   "source": [
    "mytext"
   ]
  },
  {
   "cell_type": "markdown",
   "id": "aff09cc8-da26-4854-af2b-14b0dd5caa6c",
   "metadata": {},
   "source": [
    "1. How many characters are in the string?\n",
    "2. How many times does the substring 'is' appear in the string?\n",
    "3. Produce a version of the string without capital letters and without punctuation marks such as commas and periods\n",
    "4. Produce a list containing each word in the string.  (The words should not have unnecessary punctuation attached to them, and spaces or blank strings '' are not words.  You may have to search on this one.)\n",
    "5. How many times does the *word* is appear in the string?\n",
    "6. Print off all the numbers in the string"
   ]
  }
 ],
 "metadata": {
  "kernelspec": {
   "display_name": "Python 3",
   "language": "python",
   "name": "python3"
  },
  "language_info": {
   "codemirror_mode": {
    "name": "ipython",
    "version": 3
   },
   "file_extension": ".py",
   "mimetype": "text/x-python",
   "name": "python",
   "nbconvert_exporter": "python",
   "pygments_lexer": "ipython3",
   "version": "3.11.6"
  }
 },
 "nbformat": 4,
 "nbformat_minor": 5
}
