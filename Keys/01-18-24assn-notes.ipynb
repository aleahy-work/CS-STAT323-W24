{
 "cells": [
  {
   "cell_type": "markdown",
   "id": "8a155858-530c-4149-90ed-33822c152eb5",
   "metadata": {},
   "source": [
    "# More Classification Problems #"
   ]
  },
  {
   "cell_type": "markdown",
   "id": "761f1578-a797-4831-b280-eb5304e18a79",
   "metadata": {},
   "source": [
    "1. Consider the dataset 01-18train.csv (on the github page) consisting of $(x,y)$ pairs, where $x$ is a number and $y$ is either 0 or 1.\n",
    "\n",
    "+ Produce a (labelled) side-by-side histogram of the two populations represented by the data.  Use an [alpha channel](https://stackoverflow.com/questions/69657280/how-to-fix-transparency-overlaps-in-matplotlib-when-plotting-multiple-figures) to make one histogram partially transparent.\n",
    "+ Produce a (labelled) scatter plot of the data (with the first variable on the x-axis and the second variable on the y-axis).\n",
    "+ Use this data to *train* a Bayesian classification model using the myBayes() class given below. (**Warning:** I wrote this myself; it has several problems but generally seems to work.) \n",
    "+ The dataset 01-18test.csv has some additional points from the same distribution.  What is the *accuracy* of the model on these new data points?   In other words, what percentage of this data is correctly classified? \n",
    "\n",
    "2. On the [book's github site](https://github.com/rasbt/machine-learning-book) in Chapter 3 is a LogisticRegressionGD() class, which implements a logistic regression classifier which makes use of gradient descent.\n",
    "\n",
    "+ Use this to produce a logistic regression model for the training data above, and use this model to find the number of innacuracies on the test data as before.\n",
    "+ Add a new method to the class called findweights() which displays the weights an bias for the model.\n",
    "+ Use your answer to the previous question to plot the appropriate sigmoid function over the scatter plot you produced in Question 1\n",
    "\n",
    "3. (From Friday's material.)\n",
    "\n",
    "+ Make a function myKNN(X, y, pt, k), which trains and implements a k-nearest neighborhood classifier using data (X,y) and produces as output the classification for the point \"pt\".\n",
    "+ Use the dataset [01-19data.csv](https://github.com/aleahy-work/CS-STAT323-W24/tree/main/Assns) on the github page to 'train' your model and find the classification for the point (0,1) with $k = 5$. \n",
    "+ Modify the myKNN(X, y, pt, k) function so that it produces a scatter plot for the data (X,y) **and** adds the point pt to the scatter plot in a vivid red color.  Test it out with your point above. \n"
   ]
  },
  {
   "cell_type": "code",
   "execution_count": 1,
   "id": "929f1fe0-d288-4c81-ac92-d55823556685",
   "metadata": {
    "tags": []
   },
   "outputs": [],
   "source": [
    "class myBayes():\n",
    "    import scipy.stats as stats\n",
    "    \n",
    "    def __init__(self):\n",
    "        import scipy.stats as stats\n",
    "        import numpy as np\n",
    "\n",
    "    def fit(self, X, y):\n",
    "        self.classes = np.unique(np.array(y)) # list of classes\n",
    "        if (self.classes.min() != 0) | (self.classes.max() != self.classes.shape[0] - 1):\n",
    "            return print(\"Classes must be np.array[0,...n]\")\n",
    "        self.py = np.bincount(y.astype('int8'))/y.size  # compute the priors P(y_k) for each class\n",
    "        self.dists = []\n",
    "        for i in np.unique(np.array(y)):\n",
    "            thisx = X[y == i]\n",
    "            thismean = np.mean(thisx, axis=0)\n",
    "            thiscov = np.cov(thisx.T)\n",
    "            self.dists.append(stats.multivariate_normal(thismean, thiscov))\n",
    "        return self\n",
    "\n",
    "    def predict(self,X):\n",
    "        myprobs = []\n",
    "        for i in range(self.classes.shape[0]):\n",
    "            myprobs.append(self.py[i] * np.array(self.dists[i].pdf(np.array(X))))\n",
    "        return  np.argmax(np.array(myprobs).T, axis=1)\n",
    "    "
   ]
  },
  {
   "cell_type": "code",
   "execution_count": 2,
   "id": "71ca6fd8-7507-469e-8e3e-f603aa0cf234",
   "metadata": {
    "tags": []
   },
   "outputs": [],
   "source": [
    "import numpy as np\n",
    "import scipy.stats as stats"
   ]
  },
  {
   "cell_type": "code",
   "execution_count": 4,
   "id": "3f0affc3-5839-4189-88d0-fdfc3c024028",
   "metadata": {},
   "outputs": [],
   "source": [
    "class LogisticRegressionGD:\n",
    "    \"\"\"Gradient descent-based logistic regression classifier.\n",
    "\n",
    "    Parameters\n",
    "    ------------\n",
    "    eta : float\n",
    "      Learning rate (between 0.0 and 1.0)\n",
    "    n_iter : int\n",
    "      Passes over the training dataset.\n",
    "    random_state : int\n",
    "      Random number generator seed for random weight\n",
    "      initialization.\n",
    "\n",
    "\n",
    "    Attributes\n",
    "    -----------\n",
    "    w_ : 1d-array\n",
    "      Weights after training.\n",
    "    b_ : Scalar\n",
    "      Bias unit after fitting.\n",
    "    losses_ : list\n",
    "       Log loss function values in each epoch.\n",
    "\n",
    "    \"\"\"\n",
    "    def __init__(self, eta=0.01, n_iter=50, random_state=1):\n",
    "        self.eta = eta\n",
    "        self.n_iter = n_iter\n",
    "        self.random_state = random_state\n",
    "\n",
    "    def fit(self, X, y):\n",
    "        \"\"\" Fit training data.\n",
    "\n",
    "        Parameters\n",
    "        ----------\n",
    "        X : {array-like}, shape = [n_examples, n_features]\n",
    "          Training vectors, where n_examples is the number of examples and\n",
    "          n_features is the number of features.\n",
    "        y : array-like, shape = [n_examples]\n",
    "          Target values.\n",
    "\n",
    "        Returns\n",
    "        -------\n",
    "        self : Instance of LogisticRegressionGD\n",
    "\n",
    "        \"\"\"\n",
    "        rgen = np.random.RandomState(self.random_state)\n",
    "        self.w_ = rgen.normal(loc=0.0, scale=0.01, size=X.shape[1])\n",
    "        self.b_ = np.float_(0.)\n",
    "        self.losses_ = []\n",
    "\n",
    "        for i in range(self.n_iter):\n",
    "            net_input = self.net_input(X)\n",
    "            output = self.activation(net_input)\n",
    "            errors = (y - output)\n",
    "            self.w_ += self.eta * X.T.dot(errors) / X.shape[0]\n",
    "            self.b_ += self.eta * errors.mean()\n",
    "            loss = (-y.dot(np.log(output)) - (1 - y).dot(np.log(1 - output))) / X.shape[0]\n",
    "            self.losses_.append(loss)\n",
    "        return self\n",
    "\n",
    "    def net_input(self, X):\n",
    "        \"\"\"Calculate net input\"\"\"\n",
    "        return np.dot(X, self.w_) + self.b_\n",
    "\n",
    "    def activation(self, z):\n",
    "        \"\"\"Compute logistic sigmoid activation\"\"\"\n",
    "        return 1. / (1. + np.exp(-np.clip(z, -250, 250)))\n",
    "\n",
    "    def predict(self, X):\n",
    "        \"\"\"Return class label after unit step\"\"\"\n",
    "        return np.where(self.activation(self.net_input(X)) >= 0.5, 1, 0)"
   ]
  },
  {
   "cell_type": "markdown",
   "id": "62c4d2f6-7b6d-4f23-9378-78a3c8ee09ef",
   "metadata": {},
   "source": [
    "## Problem 1 ##"
   ]
  },
  {
   "cell_type": "code",
   "execution_count": 1,
   "id": "2e001b5f-0e0f-44a5-81df-cb1023ad2ccf",
   "metadata": {},
   "outputs": [],
   "source": [
    "import numpy as np\n",
    "import matplotlib.pyplot as plt"
   ]
  },
  {
   "cell_type": "code",
   "execution_count": 17,
   "id": "b551fc70-4126-4ac1-9e23-93aac9a74e86",
   "metadata": {},
   "outputs": [],
   "source": [
    "mydata = np.genfromtxt('https://raw.githubusercontent.com/aleahy-work/CS-STAT323-W24/main/Assns/01-18train.csv', delimiter=',')"
   ]
  },
  {
   "cell_type": "code",
   "execution_count": 18,
   "id": "d3bfacbe-95ad-41b2-917f-0579b963833c",
   "metadata": {},
   "outputs": [
    {
     "data": {
      "text/plain": [
       "array([[-0.16870724,  0.        ],\n",
       "       [ 1.58280044,  1.        ],\n",
       "       [ 1.2576642 ,  1.        ],\n",
       "       [-2.66692079,  0.        ],\n",
       "       [ 1.28179027,  1.        ]])"
      ]
     },
     "execution_count": 18,
     "metadata": {},
     "output_type": "execute_result"
    }
   ],
   "source": [
    "mydata[:5]"
   ]
  },
  {
   "cell_type": "markdown",
   "id": "65673e9b-279c-4764-a340-dcbcd1766e5a",
   "metadata": {},
   "source": [
    "### Part 1 ###"
   ]
  },
  {
   "cell_type": "code",
   "execution_count": 19,
   "id": "3b3b05d9-b0d1-4810-9ee3-29c376606dab",
   "metadata": {
    "tags": []
   },
   "outputs": [
    {
     "data": {
      "image/png": "[encoded data removed]",
      "text/plain": [
       "<Figure size 432x288 with 1 Axes>"
      ]
     },
     "metadata": {
      "needs_background": "light"
     },
     "output_type": "display_data"
    }
   ],
   "source": [
    "plt.hist(mydata[mydata[:,1] == 1,0])\n",
    "plt.hist(mydata[mydata[:,1] == 0,0],alpha=.5)\n",
    "plt.show()"
   ]
  },
  {
   "cell_type": "markdown",
   "id": "6dbd7063-0b1c-49cd-8063-81714e6f821c",
   "metadata": {},
   "source": [
    "### Part 2 ###"
   ]
  },
  {
   "cell_type": "code",
   "execution_count": 21,
   "id": "1a066cb3-6284-4e92-8c18-c402aa324b5c",
   "metadata": {
    "tags": []
   },
   "outputs": [
    {
     "data": {
      "image/png": "[encoded data removed]",
      "text/plain": [
       "<Figure size 432x288 with 1 Axes>"
      ]
     },
     "metadata": {
      "needs_background": "light"
     },
     "output_type": "display_data"
    }
   ],
   "source": [
    "plt.scatter(mydata[:,0], mydata[:,1])\n",
    "plt.show()"
   ]
  },
  {
   "cell_type": "markdown",
   "id": "e893d910-8902-4b4c-9a88-dccabb0a7254",
   "metadata": {},
   "source": [
    "### Part 3 ###"
   ]
  },
  {
   "cell_type": "code",
   "execution_count": 22,
   "id": "99ab6d5a-6b9c-4bfc-86f6-36802e0eeb34",
   "metadata": {
    "tags": []
   },
   "outputs": [],
   "source": [
    "import scipy.stats as stats\n",
    "\n",
    "class myBayes():\n",
    "    \n",
    "    def __init__(self):\n",
    "        import scipy.stats as stats\n",
    "        import numpy as np\n",
    "\n",
    "    def fit(self, X, y):\n",
    "        self.classes = np.unique(np.array(y)) # list of classes\n",
    "        if (self.classes.min() != 0) | (self.classes.max() != self.classes.shape[0] - 1):\n",
    "            return print(\"Classes must be np.array[0,...n]\")\n",
    "        self.py = np.bincount(y.astype('int8'))/y.size  # compute the priors P(y_k) for each class\n",
    "        self.dists = []\n",
    "        for i in np.unique(np.array(y)):\n",
    "            thisx = X[y == i]\n",
    "            thismean = np.mean(thisx, axis=0)\n",
    "            thiscov = np.cov(thisx.T)\n",
    "            self.dists.append(stats.multivariate_normal(thismean, thiscov))\n",
    "        return self\n",
    "\n",
    "    def predict(self,X):\n",
    "        myprobs = []\n",
    "        for i in range(self.classes.shape[0]):\n",
    "            myprobs.append(self.py[i] * np.array(self.dists[i].pdf(np.array(X))))\n",
    "        return  np.argmax(np.array(myprobs).T, axis=1)\n",
    "    "
   ]
  },
  {
   "cell_type": "code",
   "execution_count": 23,
   "id": "9f9ed074-49bf-41d5-b731-90e7e6698ade",
   "metadata": {
    "tags": []
   },
   "outputs": [],
   "source": [
    "myownbayes = myBayes()"
   ]
  },
  {
   "cell_type": "code",
   "execution_count": 24,
   "id": "7d0be4c8-895d-4fc9-999a-8dac13e6843e",
   "metadata": {
    "tags": []
   },
   "outputs": [],
   "source": [
    "mymodel = myownbayes.fit(mydata[:,0], mydata[:,1])"
   ]
  },
  {
   "cell_type": "markdown",
   "id": "6d836ea2-9fca-43af-9633-e7ebf430d294",
   "metadata": {},
   "source": [
    "### Part 4 ###"
   ]
  },
  {
   "cell_type": "code",
   "execution_count": 25,
   "id": "7508e333-84bb-4d8d-9f41-764ebd4d6560",
   "metadata": {},
   "outputs": [],
   "source": [
    "mytest = np.genfromtxt('https://raw.githubusercontent.com/aleahy-work/CS-STAT323-W24/main/Assns/01-18test.csv', delimiter=',')"
   ]
  },
  {
   "cell_type": "code",
   "execution_count": 26,
   "id": "ccbd8ceb-459f-4e2a-a52c-839233b8b3f7",
   "metadata": {},
   "outputs": [],
   "source": [
    "mypredict = mymodel.predict(mytest[:,0])"
   ]
  },
  {
   "cell_type": "code",
   "execution_count": 27,
   "id": "dd766b77-61d2-4163-91db-c6bec180b7ac",
   "metadata": {},
   "outputs": [
    {
     "data": {
      "text/plain": [
       "array([1, 0, 0, 0, 1])"
      ]
     },
     "execution_count": 27,
     "metadata": {},
     "output_type": "execute_result"
    }
   ],
   "source": [
    "mypredict[:5]"
   ]
  },
  {
   "cell_type": "markdown",
   "id": "a049d130-04d7-45fd-81b3-e641df1b382d",
   "metadata": {},
   "source": [
    "Make a homemade accuracy measure (Yes, SKLearn can do this itself.)"
   ]
  },
  {
   "cell_type": "code",
   "execution_count": 29,
   "id": "981cd2dc-7171-44b9-aff5-d25a2a86399f",
   "metadata": {},
   "outputs": [
    {
     "data": {
      "text/plain": [
       "70"
      ]
     },
     "execution_count": 29,
     "metadata": {},
     "output_type": "execute_result"
    }
   ],
   "source": [
    "len(mypredict - mytest[:,1])"
   ]
  },
  {
   "cell_type": "code",
   "execution_count": 30,
   "id": "1f4ddb17-1469-4a00-8504-791f2fdbe972",
   "metadata": {},
   "outputs": [
    {
     "data": {
      "text/plain": [
       "5"
      ]
     },
     "execution_count": 30,
     "metadata": {},
     "output_type": "execute_result"
    }
   ],
   "source": [
    "np.count_nonzero(mypredict - mytest[:,1])"
   ]
  },
  {
   "cell_type": "markdown",
   "id": "150938cb-ca99-459e-9840-5e732658fbab",
   "metadata": {},
   "source": [
    "Then just compute the ratio to find the accuracy measure:"
   ]
  },
  {
   "cell_type": "code",
   "execution_count": 33,
   "id": "ee5084ac-bf7b-4997-80ad-c962c9b3bee0",
   "metadata": {},
   "outputs": [
    {
     "data": {
      "text/plain": [
       "0.9285714285714286"
      ]
     },
     "execution_count": 33,
     "metadata": {},
     "output_type": "execute_result"
    }
   ],
   "source": [
    "1- np.count_nonzero(mypredict - mytest[:,1])/len(mypredict - mytest[:,1]) # 93% accuracy"
   ]
  },
  {
   "cell_type": "markdown",
   "id": "f4f55d51-7d61-41f9-9713-64aa41621add",
   "metadata": {},
   "source": [
    "## Problem 2 ##\n",
    "\n",
    "### Part 1 ###"
   ]
  },
  {
   "cell_type": "code",
   "execution_count": 34,
   "id": "105479a1-9679-42e6-8fe0-7403489a410c",
   "metadata": {},
   "outputs": [],
   "source": [
    "class LogisticRegressionGD:\n",
    "    \"\"\"Gradient descent-based logistic regression classifier.\n",
    "\n",
    "    Parameters\n",
    "    ------------\n",
    "    eta : float\n",
    "      Learning rate (between 0.0 and 1.0)\n",
    "    n_iter : int\n",
    "      Passes over the training dataset.\n",
    "    random_state : int\n",
    "      Random number generator seed for random weight\n",
    "      initialization.\n",
    "\n",
    "\n",
    "    Attributes\n",
    "    -----------\n",
    "    w_ : 1d-array\n",
    "      Weights after training.\n",
    "    b_ : Scalar\n",
    "      Bias unit after fitting.\n",
    "    losses_ : list\n",
    "       Log loss function values in each epoch.\n",
    "\n",
    "    \"\"\"\n",
    "    def __init__(self, eta=0.01, n_iter=50, random_state=1):\n",
    "        self.eta = eta\n",
    "        self.n_iter = n_iter\n",
    "        self.random_state = random_state\n",
    "\n",
    "    def fit(self, X, y):\n",
    "        \"\"\" Fit training data.\n",
    "\n",
    "        Parameters\n",
    "        ----------\n",
    "        X : {array-like}, shape = [n_examples, n_features]\n",
    "          Training vectors, where n_examples is the number of examples and\n",
    "          n_features is the number of features.\n",
    "        y : array-like, shape = [n_examples]\n",
    "          Target values.\n",
    "\n",
    "        Returns\n",
    "        -------\n",
    "        self : Instance of LogisticRegressionGD\n",
    "\n",
    "        \"\"\"\n",
    "        rgen = np.random.RandomState(self.random_state)\n",
    "        self.w_ = rgen.normal(loc=0.0, scale=0.01, size=X.shape[1])\n",
    "        self.b_ = np.float_(0.)\n",
    "        self.losses_ = []\n",
    "\n",
    "        for i in range(self.n_iter):\n",
    "            net_input = self.net_input(X)\n",
    "            output = self.activation(net_input)\n",
    "            errors = (y - output)\n",
    "            self.w_ += self.eta * X.T.dot(errors) / X.shape[0]\n",
    "            self.b_ += self.eta * errors.mean()\n",
    "            loss = (-y.dot(np.log(output)) - (1 - y).dot(np.log(1 - output))) / X.shape[0]\n",
    "            self.losses_.append(loss)\n",
    "        return self\n",
    "\n",
    "    def net_input(self, X):\n",
    "        \"\"\"Calculate net input\"\"\"\n",
    "        return np.dot(X, self.w_) + self.b_\n",
    "\n",
    "    def activation(self, z):\n",
    "        \"\"\"Compute logistic sigmoid activation\"\"\"\n",
    "        return 1. / (1. + np.exp(-np.clip(z, -250, 250)))\n",
    "\n",
    "    def predict(self, X):\n",
    "        \"\"\"Return class label after unit step\"\"\"\n",
    "        return np.where(self.activation(self.net_input(X)) >= 0.5, 1, 0)"
   ]
  },
  {
   "cell_type": "code",
   "execution_count": 59,
   "id": "113cfb24-7670-4d3a-a07d-e5daf4afd8aa",
   "metadata": {},
   "outputs": [],
   "source": [
    "mylog = LogisticRegressionGD()"
   ]
  },
  {
   "cell_type": "markdown",
   "id": "a7d0e0cb-d026-4b60-a111-0678fc935bc7",
   "metadata": {},
   "source": [
    "#### Note: ####\n",
    "\n",
    "Note the shape of X is [n_examples, n_features] and that y is just an array in the .fit() method above.  So my mydata above has to be reshaped.  See the next few lines and not the subtle differences."
   ]
  },
  {
   "cell_type": "code",
   "execution_count": 44,
   "id": "6552ead2-0579-41c8-a4cf-dc9ec6f3bcbc",
   "metadata": {},
   "outputs": [
    {
     "data": {
      "text/plain": [
       "(175,)"
      ]
     },
     "execution_count": 44,
     "metadata": {},
     "output_type": "execute_result"
    }
   ],
   "source": [
    "mydata[:,0].shape # This shape is incorrect for the input to the model"
   ]
  },
  {
   "cell_type": "code",
   "execution_count": 51,
   "id": "4c23e273-4ab4-4327-920d-67d831d4d6f6",
   "metadata": {},
   "outputs": [
    {
     "data": {
      "text/plain": [
       "(175, 1)"
      ]
     },
     "execution_count": 51,
     "metadata": {},
     "output_type": "execute_result"
    }
   ],
   "source": [
    "mydata[:,0:1].shape # This is the correct shape for the input to the model"
   ]
  },
  {
   "cell_type": "code",
   "execution_count": 53,
   "id": "98316dbc-7faa-41a2-a100-9e11e1dfacd6",
   "metadata": {},
   "outputs": [
    {
     "data": {
      "text/plain": [
       "(175,)"
      ]
     },
     "execution_count": 53,
     "metadata": {},
     "output_type": "execute_result"
    }
   ],
   "source": [
    "mydata[:,1].shape  # this is the correct shape for the output"
   ]
  },
  {
   "cell_type": "code",
   "execution_count": 60,
   "id": "b91e0ccf-f2a3-424e-9806-0a623c317ff2",
   "metadata": {},
   "outputs": [],
   "source": [
    "mymodel = mylog.fit(mydata[:,0:1], mydata[:,1])  # Works"
   ]
  },
  {
   "cell_type": "code",
   "execution_count": 61,
   "id": "a29ad099-1660-405d-b6c7-5d2fee798408",
   "metadata": {},
   "outputs": [],
   "source": [
    "mypredict = mymodel.predict(mytest[:,0:1])"
   ]
  },
  {
   "cell_type": "code",
   "execution_count": 62,
   "id": "880f19e6-2107-47fa-baf7-fe34d5b73787",
   "metadata": {},
   "outputs": [
    {
     "data": {
      "text/plain": [
       "0.9285714285714286"
      ]
     },
     "execution_count": 62,
     "metadata": {},
     "output_type": "execute_result"
    }
   ],
   "source": [
    "1- np.count_nonzero(mypredict - mytest[:,1])/len(mypredict - mytest[:,1]) # 93% accuracy"
   ]
  },
  {
   "cell_type": "markdown",
   "id": "a0062529-69ae-4e0e-8f95-a341311678dd",
   "metadata": {},
   "source": [
    "### Part 2 ##"
   ]
  },
  {
   "cell_type": "code",
   "execution_count": 58,
   "id": "ca7f07fa-dfe8-4508-b456-f92f40a2a470",
   "metadata": {},
   "outputs": [],
   "source": [
    "class LogisticRegressionGD:\n",
    "    \"\"\"Gradient descent-based logistic regression classifier.\n",
    "\n",
    "    Parameters\n",
    "    ------------\n",
    "    eta : float\n",
    "      Learning rate (between 0.0 and 1.0)\n",
    "    n_iter : int\n",
    "      Passes over the training dataset.\n",
    "    random_state : int\n",
    "      Random number generator seed for random weight\n",
    "      initialization.\n",
    "\n",
    "\n",
    "    Attributes\n",
    "    -----------\n",
    "    w_ : 1d-array\n",
    "      Weights after training.\n",
    "    b_ : Scalar\n",
    "      Bias unit after fitting.\n",
    "    losses_ : list\n",
    "       Log loss function values in each epoch.\n",
    "\n",
    "    \"\"\"\n",
    "    def __init__(self, eta=0.01, n_iter=50, random_state=1):\n",
    "        self.eta = eta\n",
    "        self.n_iter = n_iter\n",
    "        self.random_state = random_state\n",
    "\n",
    "    def fit(self, X, y):\n",
    "        \"\"\" Fit training data.\n",
    "\n",
    "        Parameters\n",
    "        ----------\n",
    "        X : {array-like}, shape = [n_examples, n_features]\n",
    "          Training vectors, where n_examples is the number of examples and\n",
    "          n_features is the number of features.\n",
    "        y : array-like, shape = [n_examples]\n",
    "          Target values.\n",
    "\n",
    "        Returns\n",
    "        -------\n",
    "        self : Instance of LogisticRegressionGD\n",
    "\n",
    "        \"\"\"\n",
    "        rgen = np.random.RandomState(self.random_state)\n",
    "        self.w_ = rgen.normal(loc=0.0, scale=0.01, size=X.shape[1])\n",
    "        self.b_ = np.float_(0.)\n",
    "        self.losses_ = []\n",
    "\n",
    "        for i in range(self.n_iter):\n",
    "            net_input = self.net_input(X)\n",
    "            output = self.activation(net_input)\n",
    "            errors = (y - output)\n",
    "            self.w_ += self.eta * X.T.dot(errors) / X.shape[0]\n",
    "            self.b_ += self.eta * errors.mean()\n",
    "            loss = (-y.dot(np.log(output)) - (1 - y).dot(np.log(1 - output))) / X.shape[0]\n",
    "            self.losses_.append(loss)\n",
    "        return self\n",
    "\n",
    "    def net_input(self, X):\n",
    "        \"\"\"Calculate net input\"\"\"\n",
    "        return np.dot(X, self.w_) + self.b_\n",
    "\n",
    "    def activation(self, z):\n",
    "        \"\"\"Compute logistic sigmoid activation\"\"\"\n",
    "        return 1. / (1. + np.exp(-np.clip(z, -250, 250)))\n",
    "\n",
    "    def predict(self, X):\n",
    "        \"\"\"Return class label after unit step\"\"\"\n",
    "        return np.where(self.activation(self.net_input(X)) >= 0.5, 1, 0)\n",
    "\n",
    "    def findweights(self):\n",
    "        return self.w_, self.b_"
   ]
  },
  {
   "cell_type": "code",
   "execution_count": 63,
   "id": "b641302f-975d-4816-86e8-306222e68047",
   "metadata": {},
   "outputs": [],
   "source": [
    "w, b = mylog.findweights()"
   ]
  },
  {
   "cell_type": "code",
   "execution_count": 64,
   "id": "ec16299f-85e3-4204-9ad4-ea5c6c144158",
   "metadata": {},
   "outputs": [
    {
     "data": {
      "text/plain": [
       "array([0.28924181])"
      ]
     },
     "execution_count": 64,
     "metadata": {},
     "output_type": "execute_result"
    }
   ],
   "source": [
    "w"
   ]
  },
  {
   "cell_type": "code",
   "execution_count": 65,
   "id": "35b37afe-e337-4d31-9742-13e4ad143fcc",
   "metadata": {},
   "outputs": [
    {
     "data": {
      "text/plain": [
       "0.025843613311529828"
      ]
     },
     "execution_count": 65,
     "metadata": {},
     "output_type": "execute_result"
    }
   ],
   "source": [
    "b"
   ]
  },
  {
   "cell_type": "markdown",
   "id": "73260291-9b8c-4b56-97ea-dfc0033be189",
   "metadata": {},
   "source": [
    "### Part 3 ###"
   ]
  },
  {
   "cell_type": "code",
   "execution_count": 74,
   "id": "79505617-4944-4393-9681-1dd8cf5d03d9",
   "metadata": {},
   "outputs": [],
   "source": [
    "def mylogitfctn(x):\n",
    "   return 1/(1 + np.exp(-(0.28924181*x + 0.025843613311529828)))"
   ]
  },
  {
   "cell_type": "code",
   "execution_count": 82,
   "id": "3b449189-1bd1-439a-8821-b83e0b4816f0",
   "metadata": {},
   "outputs": [],
   "source": [
    "myx = np.arange(-7,7,.1)"
   ]
  },
  {
   "cell_type": "code",
   "execution_count": 83,
   "id": "d22d913f-c2d0-4a60-a438-b7662bae926e",
   "metadata": {},
   "outputs": [],
   "source": [
    "myy = mylogitfctn(myx)"
   ]
  },
  {
   "cell_type": "code",
   "execution_count": 84,
   "id": "8640798c-7d72-4ff4-85eb-a2b1cc7791a3",
   "metadata": {
    "tags": []
   },
   "outputs": [
    {
     "data": {
      "image/png": "[encoded data removed]",
      "text/plain": [
       "<Figure size 432x288 with 1 Axes>"
      ]
     },
     "metadata": {
      "needs_background": "light"
     },
     "output_type": "display_data"
    }
   ],
   "source": [
    "plt.scatter(mydata[:,0], mydata[:,1])\n",
    "plt.plot(myx, myy)\n",
    "plt.show()"
   ]
  },
  {
   "cell_type": "markdown",
   "id": "fa1555ca-86dc-4017-894f-465cabce69bc",
   "metadata": {},
   "source": [
    "## Problem 3 ##"
   ]
  },
  {
   "cell_type": "code",
   "execution_count": 93,
   "id": "6ec1193a-233a-4881-9f5d-08c81419d529",
   "metadata": {},
   "outputs": [],
   "source": [
    "import numpy.linalg as LA\n",
    "\n",
    "def myknn(X,y,pt,k):\n",
    "    mydistanc = np.argpartition(LA.norm(pt - X, axis=1),k)\n",
    "    indx, count = np.unique(y[mydistanc[:k]], return_counts = True)\n",
    "    plt.scatter(X[:,0], X[:,1], c=y)\n",
    "    plt.scatter(pt[0], pt[1], c=\"red\")\n",
    "    plt.show()\n",
    "    return indx[np.argmax(count)]"
   ]
  },
  {
   "cell_type": "code",
   "execution_count": 94,
   "id": "49c89a09-8c7c-4aad-a63c-751b14db218f",
   "metadata": {},
   "outputs": [],
   "source": [
    "mydata = np.genfromtxt('https://raw.githubusercontent.com/aleahy-work/CS-STAT323-W24/main/Assns/01-19data.csv', delimiter=',')"
   ]
  },
  {
   "cell_type": "code",
   "execution_count": 95,
   "id": "20ec87b5-7f52-40d3-a46b-d2caa9e22b3d",
   "metadata": {},
   "outputs": [
    {
     "data": {
      "text/plain": [
       "array([[ 5.24607175,  1.03490857,  1.        ],\n",
       "       [-5.05241673, -0.2116077 ,  0.        ],\n",
       "       [-0.9571638 ,  1.75115351,  1.        ],\n",
       "       [-2.4209439 , -1.60546925,  0.        ],\n",
       "       [-0.53618997, -1.02552156,  0.        ]])"
      ]
     },
     "execution_count": 95,
     "metadata": {},
     "output_type": "execute_result"
    }
   ],
   "source": [
    "mydata[:5]"
   ]
  },
  {
   "cell_type": "code",
   "execution_count": 96,
   "id": "d3caa8fa-6b22-4f24-8cd7-26e0553ac5d6",
   "metadata": {},
   "outputs": [],
   "source": [
    "X = mydata[:,:2]"
   ]
  },
  {
   "cell_type": "code",
   "execution_count": 97,
   "id": "3716621f-6ada-481a-8c99-1d97c943c06e",
   "metadata": {},
   "outputs": [],
   "source": [
    "y = mydata[:,2]"
   ]
  },
  {
   "cell_type": "code",
   "execution_count": 99,
   "id": "96997e96-de58-40ad-a10c-bbfe367892de",
   "metadata": {},
   "outputs": [
    {
     "data": {
      "image/png": "[encoded data removed]",
      "text/plain": [
       "<Figure size 432x288 with 1 Axes>"
      ]
     },
     "metadata": {
      "needs_background": "light"
     },
     "output_type": "display_data"
    },
    {
     "data": {
      "text/plain": [
       "1.0"
      ]
     },
     "execution_count": 99,
     "metadata": {},
     "output_type": "execute_result"
    }
   ],
   "source": [
    "myknn(X,y,np.array([0,1]), 5)"
   ]
  }
 ],
 "metadata": {
  "kernelspec": {
   "display_name": "Python 3",
   "language": "python",
   "name": "python3"
  },
  "language_info": {
   "codemirror_mode": {
    "name": "ipython",
    "version": 3
   },
   "file_extension": ".py",
   "mimetype": "text/x-python",
   "name": "python",
   "nbconvert_exporter": "python",
   "pygments_lexer": "ipython3",
   "version": "3.11.6"
  }
 },
 "nbformat": 4,
 "nbformat_minor": 5
}
