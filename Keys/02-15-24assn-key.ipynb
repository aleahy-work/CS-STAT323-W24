{
 "cells": [
  {
   "cell_type": "markdown",
   "id": "d2d87357-1c0b-4bb8-a1d5-03442091c77f",
   "metadata": {},
   "source": [
    "# Some Neural Network Problems #"
   ]
  },
  {
   "cell_type": "markdown",
   "id": "2973ad28-1c74-44e7-a09a-d0bbfc3c497e",
   "metadata": {
    "jp-MarkdownHeadingCollapsed": true
   },
   "source": [
    "## Problem 1 ##"
   ]
  },
  {
   "cell_type": "markdown",
   "id": "e5da62bf-f402-4542-9b31-b40f7e1b3e5a",
   "metadata": {},
   "source": [
    "Consider the cell below, which selects a uniform random sample of outputs of the function $f(x,y) = x^2 - y^2$ on the region $[-1,1]\\times[-1,1]$. "
   ]
  },
  {
   "cell_type": "code",
   "execution_count": null,
   "id": "a41a73f7-4351-4263-9cfb-822bf5f332db",
   "metadata": {},
   "outputs": [],
   "source": [
    "tempX = np.random.uniform(-1,1,2000)\n",
    "tempY = np.random.uniform(-1,1,2000)\n",
    "\n",
    "myX = np.array([tempX, tempY]).T\n",
    "\n",
    "myX[:5]\n",
    "\n",
    "def myfunc(X):\n",
    "    \n",
    "    return X[:,0]**2  - X[:,1]**2\n",
    "\n",
    "myy = myfunc(myX)"
   ]
  },
  {
   "cell_type": "markdown",
   "id": "13098556-0799-44ae-99c5-1dbe17f23739",
   "metadata": {},
   "source": [
    "1. Produce a 3D scatter plot of the data to confirm that $f(x,y)$ has a 'saddle point' graph.\n",
    "\n",
    "2. Jupyter class notes for Wednesday's class are available on the [github page](https://github.com/aleahy-work/CS-STAT323-W24/tree/main/CNotes).  In them I attempt to train a two-layer model with a [ReLU](https://machinelearningmastery.com/rectified-linear-activation-function-for-deep-learning-neural-networks/) activation function and the [ADAM optimizer](https://machinelearningmastery.com/adam-optimization-algorithm-for-deep-learning/).  The training doesn't seem to succeed, with MSE not showing a consistent declining trend.  Modify the hyperparameters of the model until you produce a model that has MSE tending to zero over 100 epochs. You should try modifying the following hyperparameters as needed:\n",
    "\n",
    "   + Batch size\n",
    "   + The number of layers\n",
    "   + The number of nodes in a given layer\n",
    "\n",
    "The last two will require changes to the Model class. You could also potentially experiment with optimizers, loss functions, and activation functions.\n",
    "\n",
    "**Warning:** Every time you modify your Model class you have to reinitialize your model instance.  If you change your batch size, you have to reinitialize your Dataloader.\n",
    "\n",
    "3. In my training function done in class, I gave a quick \"loss.item()\" MSE measure at the end of each epoch.  The book's method uses loss_hist[epoch]/len(train_dl.dataset) instead.  (See below, and note that loss_fn is [nn.MSELoss](https://pytorch.org/docs/stable/generated/torch.nn.MSELoss.html).)  Explain the difference between the two.  (This [discussion](https://discuss.pytorch.org/t/what-is-loss-item/61218/3) may be helpful.) **Then** produce a plot of loss_hist for all epochs. "
   ]
  },
  {
   "cell_type": "code",
   "execution_count": null,
   "id": "e0aff6aa-d050-402a-ade8-f4c6f1695563",
   "metadata": {},
   "outputs": [],
   "source": [
    "for epoch in range(num_epochs):\n",
    "\n",
    "    for x_batch, y_batch in train_dl:\n",
    "        pred = model(x_batch)\n",
    "        loss = loss_fn(pred, y_batch.long())\n",
    "        loss.backward()\n",
    "        optimizer.step()\n",
    "        optimizer.zero_grad()\n",
    "    \n",
    "        loss_hist[epoch] += loss.item()*y_batch.size(0)\n",
    "        is_correct = (torch.argmax(pred, dim=1) == y_batch).float()\n",
    "        accuracy_hist[epoch] += is_correct.sum()\n",
    "        \n",
    "    loss_hist[epoch] /= len(train_dl.dataset)\n",
    "    accuracy_hist[epoch] /= len(train_dl.dataset)"
   ]
  },
  {
   "cell_type": "markdown",
   "id": "023b3b09-04ac-4712-86fc-dab67a526cf3",
   "metadata": {},
   "source": [
    "4. Remember that training data is not a good estimate of model success, since neural networks tend to [overfit](https://machinelearningmastery.com/overfitting-and-underfitting-with-machine-learning-algorithms/) the training data.\n",
    "\n",
    "   + Ordinarily you would have to set aside some of the data for testing purposes, but *because of the way the data was generated* that won't be necessary.  Explain what I mean by this. Then generate a testing dataset 1/4 of the size of the training data, feed the features from this through the .forward() method of your model and use your loss function to find MSE for the testing data.  How does it compare to the MSE for your training data after 100 epochs?\n",
    "   \n",
    "    + You could also use the SKLearn [mean_squared_error](https://scikit-learn.org/stable/modules/generated/sklearn.metrics.mean_squared_error.html) to compute MSE for your testing data.  Does it work?  If it doesn't, figure out how to fix it, and compare with the answer to your previous part. "
   ]
  },
  {
   "cell_type": "markdown",
   "id": "e9e22f7b-3ae5-4bc7-9502-7f03a0fb68ba",
   "metadata": {
    "jp-MarkdownHeadingCollapsed": true
   },
   "source": [
    "## Problem 2 ##"
   ]
  },
  {
   "cell_type": "markdown",
   "id": "c3ab5ac6-0782-40c9-85f9-1bdcf754d3ac",
   "metadata": {},
   "source": [
    "Consider the function $f(x,y)$ on the region $[-1,1]\\times [-1,1]$ which has value 1 in the I and III quadrant and value -1 in the II and IV quadrant.  A sample from this function is given below.   This function is discussed on apges 419-430 of the textbok and in the ch13_part1.ipynb Jupyter notebook located [at the author's github page](https://github.com/rasbt/machine-learning-book/blob/main/ch13/ch13_part1.ipynb), where he solves this problem using slightly more advanced techniques (though it still may be helpful to read).  Your task is to use this data to find a neural network which fits this function with a categorical output.  Note that:\n",
    "\n",
    "+ You will need to use the [binary classification loss function](https://pytorch.org/docs/stable/generated/torch.nn.BCELoss.html)\n",
    "+  Given my implementation of the function, it might be advisable to use the [hyperbolic tangent function](https://pytorch.org/docs/stable/generated/torch.tanh.html) instead of the sigmoid function in the final layer.  Why?\n",
    "+  The key measure of success is accuracy\n",
    "+  The model should require several layers and some consideration of activation functions\n",
    "\n",
    "You should:\n",
    "\n",
    "1. Implement a model which outputs training accuracy at the end of each epoch.  Then test your model by generating a test dataset and testing its accuracy.\n",
    "\n",
    "2. Once you are satisfied with the performance of your model, you should mprove on your model by generating a validation set and outputing both training and validation accuracy at each epoch.  \n",
    "   "
   ]
  },
  {
   "cell_type": "code",
   "execution_count": 64,
   "id": "a5ef4217-bb7f-4664-8bb2-f78a84fed252",
   "metadata": {},
   "outputs": [],
   "source": [
    "tempX = np.random.uniform(-1,1,250)\n",
    "tempY = np.random.uniform(-1,1,250)\n",
    "mynewX = np.array([tempX, tempY]).T\n",
    "myy = - np.ones(250)\n",
    "myy[((tempX < 0) & (tempY < 0)) | ((tempX > 0) & (tempY > 0))] = 1"
   ]
  },
  {
   "cell_type": "code",
   "execution_count": 68,
   "id": "910255d9-c412-4ea9-91d3-2cc7301b4645",
   "metadata": {},
   "outputs": [
    {
     "name": "stdout",
     "output_type": "stream",
     "text": [
      "[[-0.2100423  -0.24223176]\n",
      " [-0.84033671 -0.88252459]\n",
      " [ 0.96339307 -0.21853388]\n",
      " [-0.31139506 -0.92060703]\n",
      " [-0.39964054  0.12267476]\n",
      " [ 0.54937592 -0.82549735]\n",
      " [ 0.82110002 -0.69089501]\n",
      " [-0.7079347  -0.91307726]\n",
      " [ 0.59534633  0.32167267]\n",
      " [ 0.26634699  0.84902265]]\n",
      "[ 1.  1. -1.  1. -1. -1. -1.  1.  1.  1.]\n"
     ]
    }
   ],
   "source": [
    "print(mynewX[:10])\n",
    "print(myy[:10])"
   ]
  },
  {
   "cell_type": "code",
   "execution_count": 66,
   "id": "465f97b8-8b0a-4a43-b243-d9babeeb8721",
   "metadata": {},
   "outputs": [
    {
     "data": {
      "image/png": "[encoded data removed]",
      "text/plain": [
       "<Figure size 640x480 with 1 Axes>"
      ]
     },
     "metadata": {},
     "output_type": "display_data"
    }
   ],
   "source": [
    "import matplotlib.pyplot as plt\n",
    "plt.scatter(tempX, tempY, c= myy)\n",
    "plt.show()"
   ]
  },
  {
   "cell_type": "code",
   "execution_count": null,
   "id": "57f524fd-9af6-4102-8759-1922e3c39c1b",
   "metadata": {},
   "outputs": [],
   "source": []
  },
  {
   "cell_type": "markdown",
   "id": "7bf9e8ae-6f9a-4c01-8f4b-70f46b79f5dc",
   "metadata": {},
   "source": [
    "# Key #"
   ]
  },
  {
   "cell_type": "markdown",
   "id": "958324c7-28f8-492c-a403-cddec72a7c86",
   "metadata": {
    "jp-MarkdownHeadingCollapsed": true
   },
   "source": [
    "## Problem 1 ##"
   ]
  },
  {
   "cell_type": "markdown",
   "id": "6260c96a-a6a7-4958-8cac-2833d155fad3",
   "metadata": {},
   "source": [
    "Generating the random sample."
   ]
  },
  {
   "cell_type": "code",
   "execution_count": 23,
   "id": "83ab74be-65ec-4df3-9207-b77cfb21d284",
   "metadata": {},
   "outputs": [],
   "source": [
    "import numpy as np\n",
    "import torch\n",
    "import torch.nn as nn\n",
    "import matplotlib.pyplot as plt"
   ]
  },
  {
   "cell_type": "code",
   "execution_count": 5,
   "id": "37a8fe18-0150-402e-83ef-abe84b67d87d",
   "metadata": {},
   "outputs": [],
   "source": [
    "tempX = np.random.uniform(-1,1,2000)\n",
    "tempY = np.random.uniform(-1,1,2000)"
   ]
  },
  {
   "cell_type": "code",
   "execution_count": 6,
   "id": "ed6a7481-1650-4ff8-8301-d6d0175d5d95",
   "metadata": {},
   "outputs": [],
   "source": [
    "myX = np.array([tempX, tempY]).T"
   ]
  },
  {
   "cell_type": "code",
   "execution_count": 7,
   "id": "3c9e0aec-e4cb-45cb-8694-c515312a9a12",
   "metadata": {},
   "outputs": [
    {
     "data": {
      "text/plain": [
       "array([[-0.23489504, -0.82403812],\n",
       "       [ 0.85562608, -0.63647187],\n",
       "       [ 0.77886399,  0.25325345],\n",
       "       [ 0.02258302, -0.09061527],\n",
       "       [-0.74448977,  0.26302843]])"
      ]
     },
     "execution_count": 7,
     "metadata": {},
     "output_type": "execute_result"
    }
   ],
   "source": [
    "myX[:5]"
   ]
  },
  {
   "cell_type": "code",
   "execution_count": 8,
   "id": "8d565eae-6083-4bb2-a710-c54796ad2de8",
   "metadata": {},
   "outputs": [],
   "source": [
    "def myfunc(X):\n",
    "    \n",
    "    return X[:,0]**2  - X[:,1]**2"
   ]
  },
  {
   "cell_type": "code",
   "execution_count": 9,
   "id": "e8a21896-f6ef-487b-86e6-1f36155bba7e",
   "metadata": {},
   "outputs": [],
   "source": [
    "myy = myfunc(myX)"
   ]
  },
  {
   "cell_type": "code",
   "execution_count": 10,
   "id": "5f02b0b7-ad4d-4bf2-a5dd-269b8ce7f9d8",
   "metadata": {},
   "outputs": [
    {
     "data": {
      "text/plain": [
       "array([-0.62386315,  0.32699955,  0.54249181, -0.00770113,  0.48508107])"
      ]
     },
     "execution_count": 10,
     "metadata": {},
     "output_type": "execute_result"
    }
   ],
   "source": [
    "myy[:5]"
   ]
  },
  {
   "cell_type": "markdown",
   "id": "d2c84f6b-02a3-486f-8c2b-8ea51b84d0b4",
   "metadata": {},
   "source": [
    "### Part 1 ###"
   ]
  },
  {
   "cell_type": "code",
   "execution_count": 11,
   "id": "5e73a20b-bb27-4587-8acd-3c1f3554d081",
   "metadata": {},
   "outputs": [
    {
     "data": {
      "image/png": "[encoded data removed]",
      "text/plain": [
       "<Figure size 432x288 with 1 Axes>"
      ]
     },
     "metadata": {
      "needs_background": "light"
     },
     "output_type": "display_data"
    }
   ],
   "source": [
    "fig = plt.figure()\n",
    "ax = fig.add_subplot(projection='3d')\n",
    "ax.scatter(myX[:,0], myX[:,1], myy)\n",
    "plt.show()"
   ]
  },
  {
   "cell_type": "markdown",
   "id": "16c35b88-cfbf-4f4a-887a-b9c833e9b48e",
   "metadata": {},
   "source": [
    "### Part 2 ###"
   ]
  },
  {
   "cell_type": "code",
   "execution_count": 12,
   "id": "352944d9-d61f-4adf-bbbb-89b681ebca1c",
   "metadata": {},
   "outputs": [],
   "source": [
    "myXtensor = torch.from_numpy(myX)"
   ]
  },
  {
   "cell_type": "code",
   "execution_count": 13,
   "id": "9dc5bf71-7ed5-4d14-984f-083cd6cf1ccf",
   "metadata": {},
   "outputs": [
    {
     "data": {
      "text/plain": [
       "tensor([[-0.2349, -0.8240],\n",
       "        [ 0.8556, -0.6365],\n",
       "        [ 0.7789,  0.2533],\n",
       "        [ 0.0226, -0.0906],\n",
       "        [-0.7445,  0.2630]], dtype=torch.float64)"
      ]
     },
     "execution_count": 13,
     "metadata": {},
     "output_type": "execute_result"
    }
   ],
   "source": [
    "myXtensor[:5]"
   ]
  },
  {
   "cell_type": "code",
   "execution_count": 14,
   "id": "e06f1a91-6b7a-4e97-9533-46b73498aaab",
   "metadata": {},
   "outputs": [
    {
     "data": {
      "text/plain": [
       "torch.Size([2000, 2])"
      ]
     },
     "execution_count": 14,
     "metadata": {},
     "output_type": "execute_result"
    }
   ],
   "source": [
    "myXtensor.shape"
   ]
  },
  {
   "cell_type": "code",
   "execution_count": 15,
   "id": "cb838fb2-b18e-4dba-b08a-ec53931bf1c9",
   "metadata": {},
   "outputs": [],
   "source": [
    "myytensor = torch.from_numpy(myy)"
   ]
  },
  {
   "cell_type": "code",
   "execution_count": 16,
   "id": "6c4f65e4-f0f0-4dfc-90f4-0bf3292d4201",
   "metadata": {},
   "outputs": [
    {
     "data": {
      "text/plain": [
       "tensor([-0.6239,  0.3270,  0.5425, -0.0077,  0.4851], dtype=torch.float64)"
      ]
     },
     "execution_count": 16,
     "metadata": {},
     "output_type": "execute_result"
    }
   ],
   "source": [
    "myytensor[:5]"
   ]
  },
  {
   "cell_type": "code",
   "execution_count": 17,
   "id": "bc764f59-ac88-4795-a937-5f4071c1e049",
   "metadata": {},
   "outputs": [
    {
     "data": {
      "text/plain": [
       "torch.Size([2000])"
      ]
     },
     "execution_count": 17,
     "metadata": {},
     "output_type": "execute_result"
    }
   ],
   "source": [
    "myytensor.shape"
   ]
  },
  {
   "cell_type": "code",
   "execution_count": 18,
   "id": "cdee0872-35ed-45f1-bda5-ce4189ea1d70",
   "metadata": {},
   "outputs": [
    {
     "data": {
      "text/plain": [
       "torch.float64"
      ]
     },
     "execution_count": 18,
     "metadata": {},
     "output_type": "execute_result"
    }
   ],
   "source": [
    "myytensor.dtype"
   ]
  },
  {
   "cell_type": "code",
   "execution_count": 19,
   "id": "7dbd06ce-cfb2-4110-9b50-b9ccc1b39232",
   "metadata": {},
   "outputs": [],
   "source": [
    "train_ds = torch.utils.data.TensorDataset(myXtensor, myytensor)"
   ]
  },
  {
   "cell_type": "code",
   "execution_count": 20,
   "id": "6e488878-fc1e-4952-8151-689b02d80f63",
   "metadata": {},
   "outputs": [],
   "source": [
    "batch_size = 20"
   ]
  },
  {
   "cell_type": "code",
   "execution_count": 21,
   "id": "a8e98a6d-20ff-450f-b5ed-21400263fad9",
   "metadata": {},
   "outputs": [],
   "source": [
    "train_dl = torch.utils.data.DataLoader(train_ds, batch_size, shuffle=True)"
   ]
  },
  {
   "cell_type": "code",
   "execution_count": 39,
   "id": "3c8bdfd2-58b3-47b3-8e8c-4fbb1818568a",
   "metadata": {},
   "outputs": [],
   "source": [
    "class Model(nn.Module):\n",
    "    def __init__(self, input_size, hidden_size, output_size):\n",
    "        super().__init__()\n",
    "        self.layer1 = nn.Linear(input_size, hidden_size)\n",
    "        self.layer2 = nn.Linear(hidden_size, hidden_size)\n",
    "        self.layer3 = nn.Linear(hidden_size, output_size)  \n",
    "\n",
    "    def forward(self, x):\n",
    "        x = self.layer1(x)\n",
    "        x = nn.ReLU()(x)\n",
    "        x = self.layer2(x)\n",
    "        x = nn.ReLU()(x)\n",
    "        x = self.layer3(x)\n",
    "        return x\n",
    "    \n",
    "input_size = 2\n",
    "hidden_size = 32\n",
    "output_size = 1\n",
    " \n",
    "model = Model(input_size, hidden_size, output_size)\n",
    "# model = model.to(device)\n",
    "\n",
    "learning_rate = 0.0001\n",
    "\n",
    "loss_fn = nn.MSELoss()\n",
    " \n",
    "optimizer = torch.optim.Adam(model.parameters(), lr=learning_rate)\n"
   ]
  },
  {
   "cell_type": "code",
   "execution_count": 40,
   "id": "e284dfab-cff2-4a71-9190-54786a3f580e",
   "metadata": {},
   "outputs": [
    {
     "name": "stdout",
     "output_type": "stream",
     "text": [
      "Model(\n",
      "  (layer1): Linear(in_features=2, out_features=32, bias=True)\n",
      "  (layer2): Linear(in_features=32, out_features=32, bias=True)\n",
      "  (layer3): Linear(in_features=32, out_features=1, bias=True)\n",
      ")\n"
     ]
    }
   ],
   "source": [
    "print(model)"
   ]
  },
  {
   "cell_type": "code",
   "execution_count": 30,
   "id": "93bdd684-529f-4fee-aef1-84739fdf4449",
   "metadata": {},
   "outputs": [
    {
     "name": "stdout",
     "output_type": "stream",
     "text": [
      "Epoch is  0  and MSE is  0.12118808925151825\n",
      "Epoch is  5  and MSE is  0.05811012536287308\n",
      "Epoch is  10  and MSE is  0.030746281147003174\n",
      "Epoch is  15  and MSE is  0.007399571593850851\n",
      "Epoch is  20  and MSE is  0.003715238766744733\n",
      "Epoch is  25  and MSE is  0.003569789929315448\n",
      "Epoch is  30  and MSE is  0.0017457855865359306\n",
      "Epoch is  35  and MSE is  0.0011491815093904734\n",
      "Epoch is  40  and MSE is  0.0010524129029363394\n",
      "Epoch is  45  and MSE is  0.0006643846281804144\n",
      "Epoch is  50  and MSE is  0.0004956038319505751\n",
      "Epoch is  55  and MSE is  0.0004200254625175148\n",
      "Epoch is  60  and MSE is  0.0003240428923163563\n",
      "Epoch is  65  and MSE is  0.0002067318418994546\n",
      "Epoch is  70  and MSE is  0.00010609922173898667\n",
      "Epoch is  75  and MSE is  0.00019621648243628442\n",
      "Epoch is  80  and MSE is  0.00025750830536708236\n",
      "Epoch is  85  and MSE is  0.0001416025625076145\n",
      "Epoch is  90  and MSE is  0.0001016472015180625\n",
      "Epoch is  95  and MSE is  7.194544014055282e-05\n"
     ]
    }
   ],
   "source": [
    "num_epochs = 100\n",
    "loss_hist = [0] * num_epochs\n",
    "accuracy_hist = [0] * num_epochs\n",
    "\n",
    "for epoch in range(num_epochs):\n",
    "\n",
    "    for x_batch, y_batch in train_dl:\n",
    "        pred = torch.squeeze(model(x_batch.float()))  # torch.squeeze seem to be important\n",
    "        loss = loss_fn(pred, y_batch.float())\n",
    "        optimizer.zero_grad()\n",
    "        loss.backward()\n",
    "        optimizer.step()\n",
    "\n",
    "    if epoch % 5 == 0:\n",
    "        print(\"Epoch is \", epoch, ' and MSE is ', loss.item())\n",
    "#        loss_hist[epoch] += loss.item()*y_batch.size(0)\n",
    "#        is_correct = (torch.argmax(pred, dim=1) == y_batch).float()\n",
    "#        accuracy_hist[epoch] += is_correct.sum()\n",
    "#        \n",
    "#    loss_hist[epoch] /= len(train_dl.dataset)\n",
    "#    accuracy_hist[epoch] /= len(train_dl.dataset)"
   ]
  },
  {
   "cell_type": "markdown",
   "id": "07e59785-5556-4945-b1dc-7394f1b497af",
   "metadata": {},
   "source": [
    "### Part 3 ###"
   ]
  },
  {
   "cell_type": "markdown",
   "id": "cc55ca33-b82a-4987-b9a6-98e553bfcaf9",
   "metadata": {},
   "source": [
    "loss.item() is the loss obtained in the batch--the mean square error for the last batch in the epoch.  This is subject to more variability than the overall average loss in the epoch, which is what loss_hist[epoch] represents:\n",
    "\n",
    "###        loss_hist[epoch] += loss.item()*y_batch.size(0)\n",
    "\n",
    "This code removes the \"batch.size\" value in the denominator.  (Remember, we are using MSE.) Then it adds it to the loss_hist for the epoch.  loss_hist is an SSE but then this line is used\n",
    "\n",
    "###    loss_hist[epoch] /= len(train_dl.dataset)\n",
    "\n",
    "which finds the MSE for the entire epoch.  The code below reinstates these computations and prints the *epoch* MSE at the end of every fifth epoch."
   ]
  },
  {
   "cell_type": "code",
   "execution_count": 41,
   "id": "510c1451-027e-478c-8f98-f0f813aa8122",
   "metadata": {},
   "outputs": [
    {
     "name": "stdout",
     "output_type": "stream",
     "text": [
      "Epoch is  0  and epoch MSE is  0.17510535299777985\n",
      "Epoch is  5  and epoch MSE is  0.1252420262992382\n",
      "Epoch is  10  and epoch MSE is  0.0701836603321135\n",
      "Epoch is  15  and epoch MSE is  0.02392757183406502\n",
      "Epoch is  20  and epoch MSE is  0.00821385050425306\n",
      "Epoch is  25  and epoch MSE is  0.005349773244233802\n",
      "Epoch is  30  and epoch MSE is  0.00393650820129551\n",
      "Epoch is  35  and epoch MSE is  0.002822018500883132\n",
      "Epoch is  40  and epoch MSE is  0.001910559344687499\n",
      "Epoch is  45  and epoch MSE is  0.0012883934681303798\n",
      "Epoch is  50  and epoch MSE is  0.0009039366833167151\n",
      "Epoch is  55  and epoch MSE is  0.0006785187017521821\n",
      "Epoch is  60  and epoch MSE is  0.0005381376555305906\n",
      "Epoch is  65  and epoch MSE is  0.0004484195535769686\n",
      "Epoch is  70  and epoch MSE is  0.0003861976551706903\n",
      "Epoch is  75  and epoch MSE is  0.0003354018802929204\n",
      "Epoch is  80  and epoch MSE is  0.0002952837525663199\n",
      "Epoch is  85  and epoch MSE is  0.0002646123846352566\n",
      "Epoch is  90  and epoch MSE is  0.00024399259622441603\n",
      "Epoch is  95  and epoch MSE is  0.00022787962589063682\n"
     ]
    }
   ],
   "source": [
    "num_epochs = 100\n",
    "loss_hist = [0] * num_epochs\n",
    "accuracy_hist = [0] * num_epochs\n",
    "\n",
    "for epoch in range(num_epochs):\n",
    "\n",
    "    for x_batch, y_batch in train_dl:\n",
    "        pred = torch.squeeze(model(x_batch.float()))  # torch.squeeze seem to be important\n",
    "        loss = loss_fn(pred, y_batch.float())\n",
    "        optimizer.zero_grad()\n",
    "        loss.backward()\n",
    "        optimizer.step()\n",
    "        loss_hist[epoch] += loss.item()*y_batch.size(0)\n",
    "        \n",
    "    loss_hist[epoch] /= len(train_dl.dataset)\n",
    "    if epoch % 5 == 0:\n",
    "        print('Epoch is ', epoch, ' and epoch MSE is ', loss_hist[epoch])"
   ]
  },
  {
   "cell_type": "code",
   "execution_count": 42,
   "id": "1dd1488e-8ded-4c54-9d31-b792877ab4a3",
   "metadata": {},
   "outputs": [],
   "source": [
    "myxplot = np.arange(0,100)"
   ]
  },
  {
   "cell_type": "code",
   "execution_count": 45,
   "id": "d86500cc-ce9d-4434-ba18-0b4bf1951f1e",
   "metadata": {},
   "outputs": [
    {
     "data": {
      "image/png": "[encoded data removed]",
      "text/plain": [
       "<Figure size 432x288 with 1 Axes>"
      ]
     },
     "metadata": {
      "needs_background": "light"
     },
     "output_type": "display_data"
    }
   ],
   "source": [
    "plt.plot(myxplot, loss_hist)\n",
    "plt.show()"
   ]
  },
  {
   "cell_type": "markdown",
   "id": "15ca0e32-9e75-42ca-a122-afba7e73cb8f",
   "metadata": {},
   "source": [
    "### Part 4 ###\n",
    "\n",
    "The data was generated from a distribution. When you select a test set, you are taking a smaller sample from the distribution.  Another way to generate a sample from the distribution is to simply resample from the same distribution."
   ]
  },
  {
   "cell_type": "code",
   "execution_count": 46,
   "id": "7f97c6e5-ac7b-4f2b-b7ca-87908258ba30",
   "metadata": {},
   "outputs": [],
   "source": [
    "tempX = np.random.uniform(-1,1,500)\n",
    "tempY = np.random.uniform(-1,1,500)\n",
    "\n",
    "myX = np.array([tempX, tempY]).T\n",
    "\n",
    "myX[:5]\n",
    "\n",
    "def myfunc(X):\n",
    "    \n",
    "    return X[:,0]**2  - X[:,1]**2\n",
    "\n",
    "myy = myfunc(myX)"
   ]
  },
  {
   "cell_type": "code",
   "execution_count": 47,
   "id": "88cdf091-074d-456c-a651-745dcd324835",
   "metadata": {},
   "outputs": [],
   "source": [
    "myXtensor = torch.from_numpy(myX)\n",
    "myytensor = torch.frommyxplot_numpy(myy)"
   ]
  },
  {
   "cell_type": "code",
   "execution_count": 52,
   "id": "e0978a51-78f2-46d0-9998-87776dc10211",
   "metadata": {},
   "outputs": [
    {
     "data": {
      "text/plain": [
       "tensor([0.4997, 0.3344, 0.0457, 0.5345, 0.8310], dtype=torch.float64)"
      ]
     },
     "execution_count": 52,
     "metadata": {},
     "output_type": "execute_result"
    }
   ],
   "source": [
    "myytensor[:5]"
   ]
  },
  {
   "cell_type": "code",
   "execution_count": 54,
   "id": "39da7bf6-2a65-4149-9b74-4da8df34627a",
   "metadata": {},
   "outputs": [],
   "source": [
    "mytestpred = torch.squeeze(model(myXtensor.float()))"
   ]
  },
  {
   "cell_type": "code",
   "execution_count": 60,
   "id": "17c2c8e3-f4e0-4b9d-9e3c-501cd79f03e5",
   "metadata": {},
   "outputs": [
    {
     "data": {
      "text/plain": [
       "array(0.00023845)"
      ]
     },
     "execution_count": 60,
     "metadata": {},
     "output_type": "execute_result"
    }
   ],
   "source": [
    "loss_fn(mytestpred, myytensor).detach().numpy()"
   ]
  },
  {
   "cell_type": "code",
   "execution_count": 62,
   "id": "8c1bcfd1-dcb6-4b23-854f-df2a031cce5a",
   "metadata": {},
   "outputs": [
    {
     "data": {
      "text/plain": [
       "-2.640349150750089e-05"
      ]
     },
     "execution_count": 62,
     "metadata": {},
     "output_type": "execute_result"
    }
   ],
   "source": [
    "loss_hist[99] - loss_fn(mytestpred, myytensor).detach().numpy()"
   ]
  },
  {
   "cell_type": "markdown",
   "id": "f267baa1-724f-4292-b06d-d8609cface8a",
   "metadata": {},
   "source": [
    "**Conclusion:** The MSE between the last are essentially the same--up to the fourth decimal place.  So the model does not appear to be overfitting."
   ]
  },
  {
   "cell_type": "markdown",
   "id": "87552efb-63c4-4ea3-a90f-cf826e07ba13",
   "metadata": {},
   "source": [
    "#### Part (2) ####"
   ]
  },
  {
   "cell_type": "code",
   "execution_count": 70,
   "id": "b9ba0a70-af62-4616-8df9-1944fbcd6314",
   "metadata": {},
   "outputs": [],
   "source": [
    "from sklearn.metrics import mean_squared_error"
   ]
  },
  {
   "cell_type": "code",
   "execution_count": 69,
   "id": "7c12ac62-b238-4af8-8a54-e41521afa0c3",
   "metadata": {},
   "outputs": [
    {
     "data": {
      "text/plain": [
       "0.00023844919801047765"
      ]
     },
     "execution_count": 69,
     "metadata": {},
     "output_type": "execute_result"
    }
   ],
   "source": [
    "mean_squared_error(mytestpred.detach().numpy(), myytensor.detach().numpy())"
   ]
  },
  {
   "cell_type": "markdown",
   "id": "3adea51c-6116-49e2-a28b-6fe5430096da",
   "metadata": {},
   "source": [
    "You had to convert them into numpy arrays first."
   ]
  },
  {
   "cell_type": "markdown",
   "id": "bec595ec-d941-4c0c-9aad-9a6d7b457f29",
   "metadata": {
    "jp-MarkdownHeadingCollapsed": true
   },
   "source": [
    "## Problem 2 ##"
   ]
  },
  {
   "cell_type": "code",
   "execution_count": 103,
   "id": "16df7b24-59e4-4530-96e6-946ba3cb4a81",
   "metadata": {},
   "outputs": [],
   "source": [
    "tempX = np.random.uniform(-1,1,250)\n",
    "tempY = np.random.uniform(-1,1,250)\n",
    "mynewX = np.array([tempX, tempY]).T\n",
    "myy = np.zeros(250)\n",
    "myy[((tempX < 0) & (tempY < 0)) | ((tempX > 0) & (tempY > 0))] = 1"
   ]
  },
  {
   "cell_type": "code",
   "execution_count": 104,
   "id": "03db429d-4784-407a-a327-f695f2c13f85",
   "metadata": {},
   "outputs": [
    {
     "name": "stdout",
     "output_type": "stream",
     "text": [
      "[[-0.54330373  0.56504425]\n",
      " [-0.67499545 -0.51890448]\n",
      " [-0.21047588  0.01909751]\n",
      " [ 0.86625577  0.94789567]\n",
      " [-0.54559522  0.5443074 ]\n",
      " [ 0.28026695  0.22414454]\n",
      " [ 0.30631611  0.86179202]\n",
      " [-0.29388637 -0.61632361]\n",
      " [-0.49465519 -0.83599154]\n",
      " [-0.1430351  -0.03039803]]\n",
      "[0. 1. 0. 1. 0. 1. 1. 1. 1. 1.]\n"
     ]
    }
   ],
   "source": [
    "print(mynewX[:10])\n",
    "print(myy[:10])"
   ]
  },
  {
   "cell_type": "code",
   "execution_count": 105,
   "id": "672b5ae9-2f52-40d4-b394-ae7ff29f6860",
   "metadata": {},
   "outputs": [
    {
     "data": {
      "image/png": "[encoded data removed]",
      "text/plain": [
       "<Figure size 432x288 with 1 Axes>"
      ]
     },
     "metadata": {
      "needs_background": "light"
     },
     "output_type": "display_data"
    }
   ],
   "source": [
    "import matplotlib.pyplot as plt\n",
    "plt.scatter(tempX, tempY, c= myy)\n",
    "plt.show()"
   ]
  },
  {
   "cell_type": "code",
   "execution_count": 106,
   "id": "8c242b73-0fb0-40d3-aafa-83da1726860d",
   "metadata": {},
   "outputs": [],
   "source": [
    "import torch"
   ]
  },
  {
   "cell_type": "code",
   "execution_count": 107,
   "id": "5f3121cc-9220-408b-9336-f2a5419150f8",
   "metadata": {},
   "outputs": [],
   "source": [
    "tensX = torch.from_numpy(mynewX)"
   ]
  },
  {
   "cell_type": "code",
   "execution_count": 108,
   "id": "1240ceb7-51a5-4a38-8fe4-b1d861ba32aa",
   "metadata": {},
   "outputs": [],
   "source": [
    "tensy = torch.from_numpy(myy)"
   ]
  },
  {
   "cell_type": "code",
   "execution_count": 109,
   "id": "61afc40b-8147-41cb-a4df-67443a3d81a0",
   "metadata": {},
   "outputs": [
    {
     "data": {
      "text/plain": [
       "tensor([[-0.5433,  0.5650],\n",
       "        [-0.6750, -0.5189],\n",
       "        [-0.2105,  0.0191],\n",
       "        [ 0.8663,  0.9479],\n",
       "        [-0.5456,  0.5443]], dtype=torch.float64)"
      ]
     },
     "execution_count": 109,
     "metadata": {},
     "output_type": "execute_result"
    }
   ],
   "source": [
    "tensX[:5]"
   ]
  },
  {
   "cell_type": "code",
   "execution_count": 110,
   "id": "be763ff7-439a-4f47-bfd8-b889377b4929",
   "metadata": {},
   "outputs": [
    {
     "data": {
      "text/plain": [
       "tensor([0., 1., 0., 1., 0.], dtype=torch.float64)"
      ]
     },
     "execution_count": 110,
     "metadata": {},
     "output_type": "execute_result"
    }
   ],
   "source": [
    "tensy[:5]"
   ]
  },
  {
   "cell_type": "code",
   "execution_count": 111,
   "id": "9ab1f548-ca54-4b59-b86f-facbfa45a085",
   "metadata": {},
   "outputs": [],
   "source": [
    "from torch.utils.data import TensorDataset\n",
    "from torch.utils.data import DataLoader\n",
    "\n",
    "train_ds = TensorDataset(tensX, tensy)\n",
    "\n",
    "torch.manual_seed(1)\n",
    "batch_size = 2\n",
    "train_dl = DataLoader(train_ds, batch_size, shuffle=True)"
   ]
  },
  {
   "cell_type": "code",
   "execution_count": 112,
   "id": "1e2fc8f3-360f-4f53-9046-933ced590af3",
   "metadata": {},
   "outputs": [
    {
     "name": "stdout",
     "output_type": "stream",
     "text": [
      "torch.float64\n",
      "tensor([0., 1.], dtype=torch.float64)\n"
     ]
    }
   ],
   "source": [
    "for xt, yt in train_dl:\n",
    "    print(xt.dtype)\n",
    "    print(yt)\n",
    "    break"
   ]
  },
  {
   "cell_type": "code",
   "execution_count": 113,
   "id": "3c97cdab-4201-4da2-8f88-36aaecd973e6",
   "metadata": {},
   "outputs": [],
   "source": [
    "import torch.nn as nn"
   ]
  },
  {
   "cell_type": "code",
   "execution_count": 141,
   "id": "35e28a86-6681-4a12-9997-53fb9cf44803",
   "metadata": {},
   "outputs": [],
   "source": [
    "class Model(nn.Module):\n",
    "    def __init__(self, input_size, hidden_size, output_size):\n",
    "        super().__init__()\n",
    "        self.layer1 = nn.Linear(input_size, hidden_size)  \n",
    "        self.layer2 = nn.Linear(hidden_size, hidden_size)\n",
    "        self.layer3 = nn.Linear(hidden_size, output_size)  \n",
    "\n",
    "    def forward(self, x):\n",
    "        x = self.layer1(x)\n",
    "        x = nn.ReLU()(x)\n",
    "        x = self.layer2(x)\n",
    "        x = nn.ReLU()(x)\n",
    "        x = self.layer3(x)\n",
    "        x = nn.Sigmoid()(x)\n",
    "        return x\n",
    " "
   ]
  },
  {
   "cell_type": "code",
   "execution_count": 142,
   "id": "2d3134f6-9d1e-4128-99c8-3be27de327ad",
   "metadata": {},
   "outputs": [],
   "source": [
    "   \n",
    "input_size = 2\n",
    "hidden_size = 16\n",
    "output_size = 1\n",
    " \n",
    "model = Model(input_size, hidden_size, output_size)\n",
    "\n",
    "learning_rate = 0.0001\n",
    "\n",
    "loss_fn = nn.BCELoss()\n",
    " \n",
    "optimizer = torch.optim.Adam(model.parameters(), lr=learning_rate)"
   ]
  },
  {
   "cell_type": "code",
   "execution_count": 143,
   "id": "cba43cc9-4e2d-4e95-bd82-78830100943b",
   "metadata": {},
   "outputs": [
    {
     "name": "stdout",
     "output_type": "stream",
     "text": [
      "Model(\n",
      "  (layer1): Linear(in_features=2, out_features=16, bias=True)\n",
      "  (layer2): Linear(in_features=16, out_features=16, bias=True)\n",
      "  (layer3): Linear(in_features=16, out_features=1, bias=True)\n",
      ")\n"
     ]
    }
   ],
   "source": [
    "print(model)"
   ]
  },
  {
   "cell_type": "code",
   "execution_count": 144,
   "id": "5871ce09-a8dc-43ae-813b-4edfaebb4ede",
   "metadata": {},
   "outputs": [
    {
     "name": "stdout",
     "output_type": "stream",
     "text": [
      "Epoch  0  and accuracy is  tensor(0.5160)\n",
      "Epoch  10  and accuracy is  tensor(0.6440)\n",
      "Epoch  20  and accuracy is  tensor(0.8440)\n",
      "Epoch  30  and accuracy is  tensor(0.9000)\n",
      "Epoch  40  and accuracy is  tensor(0.9400)\n",
      "Epoch  50  and accuracy is  tensor(0.9480)\n",
      "Epoch  60  and accuracy is  tensor(0.9600)\n",
      "Epoch  70  and accuracy is  tensor(0.9560)\n",
      "Epoch  80  and accuracy is  tensor(0.9560)\n",
      "Epoch  90  and accuracy is  tensor(0.9560)\n",
      "Epoch  100  and accuracy is  tensor(0.9560)\n",
      "Epoch  110  and accuracy is  tensor(0.9600)\n",
      "Epoch  120  and accuracy is  tensor(0.9600)\n",
      "Epoch  130  and accuracy is  tensor(0.9640)\n",
      "Epoch  140  and accuracy is  tensor(0.9640)\n",
      "Epoch  150  and accuracy is  tensor(0.9640)\n",
      "Epoch  160  and accuracy is  tensor(0.9640)\n",
      "Epoch  170  and accuracy is  tensor(0.9640)\n",
      "Epoch  180  and accuracy is  tensor(0.9760)\n",
      "Epoch  190  and accuracy is  tensor(0.9760)\n",
      "Epoch  200  and accuracy is  tensor(0.9800)\n",
      "Epoch  210  and accuracy is  tensor(0.9800)\n",
      "Epoch  220  and accuracy is  tensor(0.9840)\n",
      "Epoch  230  and accuracy is  tensor(0.9840)\n",
      "Epoch  240  and accuracy is  tensor(0.9840)\n",
      "Epoch  250  and accuracy is  tensor(0.9880)\n",
      "Epoch  260  and accuracy is  tensor(0.9880)\n",
      "Epoch  270  and accuracy is  tensor(0.9880)\n",
      "Epoch  280  and accuracy is  tensor(0.9880)\n",
      "Epoch  290  and accuracy is  tensor(0.9880)\n",
      "Epoch  300  and accuracy is  tensor(0.9880)\n",
      "Epoch  310  and accuracy is  tensor(0.9880)\n",
      "Epoch  320  and accuracy is  tensor(0.9920)\n",
      "Epoch  330  and accuracy is  tensor(0.9920)\n",
      "Epoch  340  and accuracy is  tensor(0.9920)\n",
      "Epoch  350  and accuracy is  tensor(0.9920)\n",
      "Epoch  360  and accuracy is  tensor(0.9920)\n",
      "Epoch  370  and accuracy is  tensor(0.9920)\n",
      "Epoch  380  and accuracy is  tensor(0.9920)\n",
      "Epoch  390  and accuracy is  tensor(0.9920)\n",
      "Epoch  400  and accuracy is  tensor(0.9920)\n",
      "Epoch  410  and accuracy is  tensor(0.9960)\n",
      "Epoch  420  and accuracy is  tensor(0.9920)\n",
      "Epoch  430  and accuracy is  tensor(0.9920)\n",
      "Epoch  440  and accuracy is  tensor(0.9920)\n",
      "Epoch  450  and accuracy is  tensor(0.9920)\n",
      "Epoch  460  and accuracy is  tensor(0.9920)\n",
      "Epoch  470  and accuracy is  tensor(0.9960)\n",
      "Epoch  480  and accuracy is  tensor(0.9920)\n",
      "Epoch  490  and accuracy is  tensor(0.9960)\n"
     ]
    }
   ],
   "source": [
    "num_epochs = 500\n",
    "loss_hist = [0] * num_epochs\n",
    "accuracy_hist = [0] * num_epochs\n",
    "\n",
    "for epoch in range(num_epochs):\n",
    "\n",
    "    for x_batch, y_batch in train_dl:\n",
    "        pred = model(x_batch.float())\n",
    "        loss = loss_fn(pred.squeeze(), y_batch.float())\n",
    "        loss.backward()\n",
    "        optimizer.step()\n",
    "        optimizer.zero_grad()\n",
    "     \n",
    "        loss_hist[epoch] += loss.item()*y_batch.size(0)\n",
    "        is_correct = ((pred.T > .5).float() == y_batch).float()\n",
    "        accuracy_hist[epoch] += is_correct.sum().float()\n",
    "\n",
    "    loss_hist[epoch] /= len(train_dl.dataset)\n",
    "    accuracy_hist[epoch] /= len(train_dl.dataset)\n",
    "    if epoch % 10 ==0:\n",
    "        print(\"Epoch \", epoch, \" and accuracy is \", accuracy_hist[epoch]) \n",
    "    \n"
   ]
  },
  {
   "cell_type": "markdown",
   "id": "1a4516a4-b091-4a74-b1b6-05c71ec35d26",
   "metadata": {},
   "source": [
    "#### Generate test data ####"
   ]
  },
  {
   "cell_type": "code",
   "execution_count": 145,
   "id": "8e7550f4-b1a0-4d93-8d47-990b99994130",
   "metadata": {},
   "outputs": [],
   "source": [
    "testX = np.random.uniform(-1,1,250)\n",
    "testY = np.random.uniform(-1,1,250)\n",
    "mytestX = np.array([testX, testY]).T\n",
    "mytesty = np.zeros(250)\n",
    "mytesty[((testX < 0) & (testY < 0)) | ((testX > 0) & (testY > 0))] = 1"
   ]
  },
  {
   "cell_type": "code",
   "execution_count": 147,
   "id": "90387e49-3c1c-454a-b0a4-01bd11618d53",
   "metadata": {},
   "outputs": [
    {
     "name": "stdout",
     "output_type": "stream",
     "text": [
      "[[ 0.59049631 -0.0333601 ]\n",
      " [-0.55667857  0.58853849]\n",
      " [ 0.48588408 -0.45823048]\n",
      " [ 0.85211994  0.20706459]\n",
      " [-0.02993026  0.54636412]\n",
      " [ 0.96736268  0.19257166]\n",
      " [-0.11252797  0.52846114]\n",
      " [ 0.30514756 -0.57042726]\n",
      " [-0.60921051 -0.08827714]\n",
      " [-0.97150209  0.59329913]]\n",
      "[0. 0. 0. 1. 0. 1. 0. 0. 1. 0.]\n"
     ]
    }
   ],
   "source": [
    "print(mytestX[:10])\n",
    "print(mytesty[:10])"
   ]
  },
  {
   "cell_type": "code",
   "execution_count": 148,
   "id": "4f9ca5da-6b0f-475e-9d6b-80f91fe7bc79",
   "metadata": {},
   "outputs": [
    {
     "data": {
      "image/png": "[encoded data removed]",
      "text/plain": [
       "<Figure size 432x288 with 1 Axes>"
      ]
     },
     "metadata": {
      "needs_background": "light"
     },
     "output_type": "display_data"
    }
   ],
   "source": [
    "import matplotlib.pyplot as plt\n",
    "plt.scatter(tempX, tempY, c= myy)\n",
    "plt.show()"
   ]
  },
  {
   "cell_type": "code",
   "execution_count": 150,
   "id": "d6b906f7-8d54-44cf-af68-923a543758df",
   "metadata": {},
   "outputs": [],
   "source": [
    "tensX = torch.from_numpy(mytestX)"
   ]
  },
  {
   "cell_type": "code",
   "execution_count": 151,
   "id": "e2909850-7c59-4694-846d-bc98be1fec5e",
   "metadata": {},
   "outputs": [],
   "source": [
    "tensy = torch.from_numpy(mytesty)"
   ]
  },
  {
   "cell_type": "code",
   "execution_count": 152,
   "id": "c480c449-504a-43a6-9e56-dc53e1a7ccae",
   "metadata": {},
   "outputs": [
    {
     "data": {
      "text/plain": [
       "tensor([[ 0.5905, -0.0334],\n",
       "        [-0.5567,  0.5885],\n",
       "        [ 0.4859, -0.4582],\n",
       "        [ 0.8521,  0.2071],\n",
       "        [-0.0299,  0.5464]], dtype=torch.float64)"
      ]
     },
     "execution_count": 152,
     "metadata": {},
     "output_type": "execute_result"
    }
   ],
   "source": [
    "tensX[:5]"
   ]
  },
  {
   "cell_type": "code",
   "execution_count": 153,
   "id": "4b753448-a50f-416b-8bd3-d5199282d8c3",
   "metadata": {},
   "outputs": [
    {
     "data": {
      "text/plain": [
       "tensor([0., 0., 0., 1., 0.], dtype=torch.float64)"
      ]
     },
     "execution_count": 153,
     "metadata": {},
     "output_type": "execute_result"
    }
   ],
   "source": [
    "tensy[:5]"
   ]
  },
  {
   "cell_type": "code",
   "execution_count": 166,
   "id": "5c06a333-67b3-4d84-846d-575a23944d3d",
   "metadata": {},
   "outputs": [],
   "source": [
    "pred = (model(tensX.float()) > .5).float().T.numpy()"
   ]
  },
  {
   "cell_type": "code",
   "execution_count": 170,
   "id": "d92943f9-a7fc-4222-80c8-e0b364ea511a",
   "metadata": {},
   "outputs": [
    {
     "data": {
      "text/plain": [
       "array([0., 0., 0., 1., 0., 1., 0., 0., 1., 0., 1., 0., 0., 1., 0., 0., 0.,\n",
       "       1., 0., 1., 0., 0., 1., 1., 1., 1., 0., 1., 1., 1., 0., 1., 1., 0.,\n",
       "       0., 1., 1., 1., 0., 1., 0., 0., 0., 0., 1., 1., 0., 0., 0., 1., 1.,\n",
       "       0., 0., 1., 0., 1., 0., 1., 1., 1., 0., 0., 1., 1., 0., 0., 0., 0.,\n",
       "       1., 1., 0., 0., 0., 1., 0., 0., 0., 0., 1., 1., 1., 1., 1., 1., 0.,\n",
       "       1., 0., 0., 1., 0., 1., 0., 1., 1., 0., 0., 1., 1., 0., 1., 0., 1.,\n",
       "       1., 0., 1., 1., 0., 1., 1., 0., 1., 1., 1., 0., 0., 0., 0., 0., 1.,\n",
       "       0., 0., 1., 1., 1., 0., 0., 0., 1., 1., 1., 0., 1., 0., 1., 0., 0.,\n",
       "       0., 1., 1., 1., 1., 0., 0., 0., 0., 0., 0., 1., 0., 0., 0., 1., 1.,\n",
       "       0., 0., 1., 0., 0., 0., 1., 1., 1., 1., 1., 1., 0., 0., 1., 0., 0.,\n",
       "       1., 1., 0., 1., 1., 1., 1., 0., 1., 0., 1., 0., 1., 1., 0., 1., 1.,\n",
       "       1., 0., 1., 0., 0., 0., 1., 1., 0., 1., 1., 1., 0., 0., 1., 0., 1.,\n",
       "       1., 0., 1., 0., 1., 1., 0., 0., 0., 1., 0., 0., 0., 0., 0., 1., 0.,\n",
       "       1., 1., 0., 1., 0., 1., 0., 0., 1., 1., 0., 0., 0., 1., 1., 0., 1.,\n",
       "       1., 0., 1., 1., 0., 0., 0., 1., 0., 0., 0., 1.], dtype=float32)"
      ]
     },
     "execution_count": 170,
     "metadata": {},
     "output_type": "execute_result"
    }
   ],
   "source": [
    "pred[0]"
   ]
  },
  {
   "cell_type": "code",
   "execution_count": 162,
   "id": "7e956367-5940-4636-ba8b-7f5a961af913",
   "metadata": {},
   "outputs": [
    {
     "data": {
      "text/plain": [
       "array([0., 0., 0., 1., 0., 1., 0., 0., 1., 0., 1., 0., 0., 1., 0., 0., 0.,\n",
       "       1., 0., 1., 0., 0., 1., 1., 1., 1., 0., 1., 1., 1., 0., 1., 1., 0.,\n",
       "       0., 1., 1., 1., 0., 1., 0., 0., 0., 0., 1., 1., 0., 0., 0., 1., 1.,\n",
       "       0., 0., 1., 0., 1., 0., 1., 1., 1., 0., 0., 1., 1., 0., 0., 0., 0.,\n",
       "       1., 1., 0., 0., 0., 1., 0., 0., 0., 0., 1., 1., 1., 1., 1., 1., 0.,\n",
       "       1., 0., 0., 1., 0., 1., 0., 1., 1., 0., 0., 1., 1., 0., 1., 0., 1.,\n",
       "       1., 0., 1., 1., 0., 0., 1., 0., 1., 1., 1., 0., 0., 0., 0., 0., 1.,\n",
       "       0., 0., 1., 1., 1., 0., 0., 0., 1., 1., 1., 0., 1., 0., 1., 0., 0.,\n",
       "       0., 1., 1., 1., 1., 0., 0., 0., 0., 0., 0., 1., 1., 0., 0., 1., 1.,\n",
       "       0., 0., 1., 0., 0., 0., 1., 1., 1., 1., 1., 1., 0., 0., 1., 0., 0.,\n",
       "       1., 1., 0., 1., 1., 1., 1., 0., 1., 0., 1., 0., 1., 1., 0., 1., 0.,\n",
       "       1., 0., 1., 0., 0., 0., 1., 1., 0., 1., 1., 0., 0., 0., 1., 0., 1.,\n",
       "       1., 0., 1., 0., 1., 1., 0., 0., 0., 1., 0., 0., 0., 0., 0., 1., 0.,\n",
       "       1., 1., 0., 1., 0., 1., 0., 0., 1., 1., 0., 0., 0., 1., 1., 0., 1.,\n",
       "       1., 0., 1., 1., 0., 1., 0., 1., 0., 0., 0., 1.])"
      ]
     },
     "execution_count": 162,
     "metadata": {},
     "output_type": "execute_result"
    }
   ],
   "source": [
    "mytesty"
   ]
  },
  {
   "cell_type": "code",
   "execution_count": 165,
   "id": "067117ea-729e-4922-bf37-148b027d479d",
   "metadata": {},
   "outputs": [],
   "source": [
    "from sklearn.metrics import accuracy_score"
   ]
  },
  {
   "cell_type": "code",
   "execution_count": 171,
   "id": "ce0bef57-7bbe-4bd1-80b3-dc91b0818cc7",
   "metadata": {},
   "outputs": [
    {
     "data": {
      "text/plain": [
       "0.98"
      ]
     },
     "execution_count": 171,
     "metadata": {},
     "output_type": "execute_result"
    }
   ],
   "source": [
    "accuracy_score(pred[0],mytesty)"
   ]
  },
  {
   "cell_type": "markdown",
   "id": "06eed410-1b4e-4747-aaaf-57addb2ea7ae",
   "metadata": {},
   "source": [
    "**Conclusion:** On the test data, we show 98% accuracy.. "
   ]
  },
  {
   "cell_type": "code",
   "execution_count": null,
   "id": "8535bd12-a744-4428-8eb8-9740bee0de59",
   "metadata": {},
   "outputs": [],
   "source": []
  }
 ],
 "metadata": {
  "kernelspec": {
   "display_name": "Python 3",
   "language": "python",
   "name": "python3"
  },
  "language_info": {
   "codemirror_mode": {
    "name": "ipython",
    "version": 3
   },
   "file_extension": ".py",
   "mimetype": "text/x-python",
   "name": "python",
   "nbconvert_exporter": "python",
   "pygments_lexer": "ipython3",
   "version": "3.11.6"
  }
 },
 "nbformat": 4,
 "nbformat_minor": 5
}
