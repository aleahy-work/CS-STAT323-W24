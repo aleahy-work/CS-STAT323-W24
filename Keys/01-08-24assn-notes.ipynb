{
 "cells": [
  {
   "cell_type": "markdown",
   "id": "e8eadabe-cce8-4f1d-be2d-7104c77f220f",
   "metadata": {},
   "source": [
    "# Some Numpy and Matplotlib Problems #"
   ]
  },
  {
   "cell_type": "markdown",
   "id": "1c4ace12-64cd-431a-a53b-2d5b2bf59f61",
   "metadata": {},
   "source": [
    "Complete each of the following **using appropriate numpy functions and operations**.  The main numpy API reference is available [here](https://numpy.org/doc/stable/reference/).  It may or may not be useful. \n",
    "\n",
    "1. Consider the matrix $ A = \\left( \\matrix{ 2 & 5 & 0 & 8 \\cr 1 & 4 & 2 & 6 \\cr 7 & 8 & 9 & 3 \\cr 1 & 5 & 7 & 8 \\cr}\\right)$ and let $b = \\left( \\matrix{ 4 \\cr 2 \\cr 1 \\cr 1 \\cr}\\right)$. \n",
    "\n",
    "+ Find the determinant of $A$ and exaplain why $A$ has an inverse.\n",
    "+ Find the inverse of the matrix $A$\n",
    "+ Solve th equation $A x = b$ for the vector $x$\n",
    "\n",
    "2. Produce a plot of each of the following functions on an appropriate interval\n",
    "\n",
    "+  $f(x) = \\ln(x)/x^2$\n",
    "+  $f(x) = \\tan^{-1}(x^2)$\n",
    "\n",
    "3. The file jan8data.npy on the [class github page](https://github.com/aleahy-work/CS-STAT323-W24) contains several hundred observations of a (single-variable) random variable.  See [this page](https://numpy.org/doc/stable/reference/routines.io.html) for instructions on how to load the data into a numpy array.\n",
    "\n",
    "+ Produce a **density** (or relatively frequency) histogram of the data (as opposed to a *frequency* histogram).  (You should use matplotlib, but note from the [matplotlib documentation](https://matplotlib.org/stable/api/_as_gen/matplotlib.pyplot.hist.html) that a numpy command is being used in the background!)\n",
    "+ Find the mean and the standard deviation of the data. (Use numpy functions.)\n",
    "+ Hopefully, your previous answers convince you that this data is drawn from a *normal* random variable.  A normal random variable is a random variable with the probability density function is given by $ f(x) =  {1 \\over \\sigma \\sqrt{2 \\pi}} e^{-{1\\over 2} \\left({x - \\mu \\over \\sigma}\\right)^2}$, where $\\mu$ is the *population* mean and $\\sigma$ is the *population* standard deviation.  The Central Limit Theorem says that $\\bar x \\approx \\mu$ and $s \\approx \\sigma$.  Use this fact (and Matplotlib) to produce a plot of your histogram together with the graph of the estimated probability density.\n",
    "\n",
    "4. [Newton's method](https://en.wikipedia.org/wiki/Newton%27s_method) is an iterative algorithm which uses the derivative to estimate a solution $x_n$ to an equation $f(x) = 0$, given a starting estimate $x_0$ for the solution and the derivative $f'(x)$ of the function. This algorithm is usually discussed in introductory calculus. Consider the function $f(x) = \\sin(x) + x - 1$.\n",
    "\n",
    "+ Produce a plot of $f(x)$ together with the $x$--axis on an appropriate interval.\n",
    "+ Write a function mynewton(x0, n) which performs n iterations of Newton's method to estimate the solution to the equation $f(x) = 0$, starting with the point $x_0$. At each step of the iteration, it should **print** the estimate for $x_0$ *and* it should **return** the final estimate after the $n^th$ iteration.\n",
    "+ Use your plot in the first part to estimate a good choice of $x_0$ and use $n = 10$ iterations of Newton's method to estimate the solution to the equation $\\sin(x) + x -1 = 0$.\n",
    "\n",
    "5. On the [class github page](https://github.com/aleahy-work/CS-STAT323-W24) is a CSV file jan8separate.csv, which gives dataset consisting of 1000 observations $(x_1, x_2, x_3, y)$, where $x_1, x_2, x_3)$ is a point in 3-dimensional space and $y$ is a claffisification variable $-1$ or $1$.\n",
    "\n",
    "+ Produce a plot of the dataset to convince yourself that the dataset is linearly separable.\n",
    "+ Use the perceptron algorithm (see class notes) to find an equation for a plane which separates the data into two categories **and** produce a plot of this plane with your data so that the separation is visible. "
   ]
  },
  {
   "cell_type": "markdown",
   "id": "7b8eb490-eac1-4120-aab8-ac7be6fb5794",
   "metadata": {},
   "source": [
    "# Key #"
   ]
  },
  {
   "cell_type": "code",
   "execution_count": 15,
   "id": "b70f13b1-61d1-47b0-9470-99e8dba24e87",
   "metadata": {},
   "outputs": [],
   "source": [
    "import numpy as np\n",
    "import matplotlib.pyplot as plt"
   ]
  },
  {
   "cell_type": "markdown",
   "id": "d06d5702-450b-4b0c-9132-7af21a318986",
   "metadata": {},
   "source": [
    "## Problem 1 ##"
   ]
  },
  {
   "cell_type": "code",
   "execution_count": 4,
   "id": "15d871c8-54f4-4eb4-a94e-424934599c17",
   "metadata": {},
   "outputs": [],
   "source": [
    "mymatrix = np.array([[2,5,0,8],[1,4,2,6],[7,8,9,3],[1,5,7,8]])"
   ]
  },
  {
   "cell_type": "code",
   "execution_count": 5,
   "id": "0ec5fe00-14ec-464e-8c5b-140e321c7009",
   "metadata": {},
   "outputs": [
    {
     "data": {
      "text/plain": [
       "array([[2, 5, 0, 8],\n",
       "       [1, 4, 2, 6],\n",
       "       [7, 8, 9, 3],\n",
       "       [1, 5, 7, 8]])"
      ]
     },
     "execution_count": 5,
     "metadata": {},
     "output_type": "execute_result"
    }
   ],
   "source": [
    "mymatrix"
   ]
  },
  {
   "cell_type": "markdown",
   "id": "0be00dca-d510-4f6d-a7e0-5d573f47ea8b",
   "metadata": {},
   "source": [
    "### Part a ###"
   ]
  },
  {
   "cell_type": "code",
   "execution_count": 7,
   "id": "592c7d24-c799-4df6-afdc-c407d3e7e0b5",
   "metadata": {},
   "outputs": [
    {
     "data": {
      "text/plain": [
       "179.0"
      ]
     },
     "execution_count": 7,
     "metadata": {},
     "output_type": "execute_result"
    }
   ],
   "source": [
    "np.linalg.det(mymatrix)"
   ]
  },
  {
   "cell_type": "markdown",
   "id": "00280909-34a2-4839-8501-3ffb2c8b4f11",
   "metadata": {},
   "source": [
    "**Solution:** This has an inverse because it's determinant is nonzero. "
   ]
  },
  {
   "cell_type": "markdown",
   "id": "709bf4b6-69e1-47e5-9252-8502f96f833f",
   "metadata": {},
   "source": [
    "### Part b ###"
   ]
  },
  {
   "cell_type": "code",
   "execution_count": 6,
   "id": "b4ed60b9-06dc-4ee8-baae-58885b2da1fd",
   "metadata": {},
   "outputs": [
    {
     "data": {
      "text/plain": [
       "array([[ 0.96089385, -1.91620112,  0.07821229,  0.44692737],\n",
       "       [-1.03351955,  2.3575419 ,  0.06703911, -0.75977654],\n",
       "       [-0.00558659, -0.27374302,  0.01117318,  0.20670391],\n",
       "       [ 0.53072626, -0.99441341, -0.06145251,  0.36312849]])"
      ]
     },
     "execution_count": 6,
     "metadata": {},
     "output_type": "execute_result"
    }
   ],
   "source": [
    "np.linalg.inv(mymatrix)"
   ]
  },
  {
   "cell_type": "markdown",
   "id": "bf31b80c-f7c6-43ff-8316-b4687bee272c",
   "metadata": {},
   "source": [
    "### Part c ###"
   ]
  },
  {
   "cell_type": "code",
   "execution_count": 12,
   "id": "73332b12-e36a-4f3c-b500-6a5b17b848c6",
   "metadata": {},
   "outputs": [],
   "source": [
    "b = np.array( [4,2,1,1] )"
   ]
  },
  {
   "cell_type": "code",
   "execution_count": 11,
   "id": "213c6e29-68b5-402c-9ee6-66e54244e081",
   "metadata": {},
   "outputs": [
    {
     "data": {
      "text/plain": [
       "array([4, 2, 1, 1])"
      ]
     },
     "execution_count": 11,
     "metadata": {},
     "output_type": "execute_result"
    }
   ],
   "source": [
    "b"
   ]
  },
  {
   "cell_type": "code",
   "execution_count": 14,
   "id": "77ee33cf-45a7-4c5f-8fb1-8ae4a2582acf",
   "metadata": {},
   "outputs": [],
   "source": [
    "x = np.linalg.inv(mymatrix)@b"
   ]
  },
  {
   "cell_type": "code",
   "execution_count": 15,
   "id": "88d43578-32f0-4505-9afd-2066f5fcefc8",
   "metadata": {},
   "outputs": [
    {
     "data": {
      "text/plain": [
       "array([ 0.53631285, -0.11173184, -0.35195531,  0.43575419])"
      ]
     },
     "execution_count": 15,
     "metadata": {},
     "output_type": "execute_result"
    }
   ],
   "source": [
    "x"
   ]
  },
  {
   "cell_type": "markdown",
   "id": "7c2a8559-30d4-4ef6-b817-dcecd8ecc867",
   "metadata": {},
   "source": [
    "## Problem 2 ##"
   ]
  },
  {
   "cell_type": "markdown",
   "id": "8562b59c-2855-4cd3-b459-3510a7f9758c",
   "metadata": {},
   "source": [
    "### Part a ###"
   ]
  },
  {
   "cell_type": "code",
   "execution_count": 9,
   "id": "4eaccaf7-5461-4c13-be3e-0bd962cdd673",
   "metadata": {},
   "outputs": [],
   "source": [
    "myx = np.arange(-10,10,.1)"
   ]
  },
  {
   "cell_type": "code",
   "execution_count": 13,
   "id": "ebdbe6e1-1114-42f6-bf7b-e09ef137fe98",
   "metadata": {},
   "outputs": [],
   "source": [
    "def f(x):\n",
    "    return np.arctan(x)**2"
   ]
  },
  {
   "cell_type": "code",
   "execution_count": 17,
   "id": "017a32df-3436-4305-ad33-96e78a3e66ab",
   "metadata": {},
   "outputs": [
    {
     "data": {
      "image/png": "[encoded data removed]",
      "text/plain": [
       "<Figure size 432x288 with 1 Axes>"
      ]
     },
     "metadata": {
      "needs_background": "light"
     },
     "output_type": "display_data"
    }
   ],
   "source": [
    "plt.plot(myx,f(myx))\n",
    "plt.show()"
   ]
  },
  {
   "cell_type": "markdown",
   "id": "97409751-1117-462a-9d85-464025d9b718",
   "metadata": {},
   "source": [
    "### Part b ###"
   ]
  },
  {
   "cell_type": "code",
   "execution_count": 100,
   "id": "df3a6fff-ef36-4b7d-9a92-8f6243907fae",
   "metadata": {},
   "outputs": [],
   "source": [
    "myx = np.arange(0.5,10,.1)"
   ]
  },
  {
   "cell_type": "code",
   "execution_count": 101,
   "id": "e3335502-6304-4d83-abd7-7876f59ea1c8",
   "metadata": {},
   "outputs": [],
   "source": [
    "def g(x):\n",
    "    return np.log(x)/x**2"
   ]
  },
  {
   "cell_type": "code",
   "execution_count": 102,
   "id": "6d08e4ea-af08-439c-a0fc-cd36fb31c78a",
   "metadata": {},
   "outputs": [
    {
     "data": {
      "text/plain": [
       "[<matplotlib.lines.Line2D at 0x7f34907bda50>]"
      ]
     },
     "execution_count": 102,
     "metadata": {},
     "output_type": "execute_result"
    },
    {
     "data": {
      "image/png": "[encoded data removed]",
      "text/plain": [
       "<Figure size 432x288 with 1 Axes>"
      ]
     },
     "metadata": {
      "needs_background": "light"
     },
     "output_type": "display_data"
    }
   ],
   "source": [
    "plt.plot(myx, g(myx))"
   ]
  },
  {
   "cell_type": "markdown",
   "id": "3753ec09-56e8-4950-926b-4a61623e018e",
   "metadata": {},
   "source": [
    "## Problem 3 ##"
   ]
  },
  {
   "cell_type": "code",
   "execution_count": 21,
   "id": "b16d1941-35a2-42e4-899d-c2ad43c09ef0",
   "metadata": {},
   "outputs": [],
   "source": [
    "mydata = np.load(\"jan8data.npy\")"
   ]
  },
  {
   "cell_type": "markdown",
   "id": "152f5fae-c2c3-4648-81b1-1d2a35f94121",
   "metadata": {},
   "source": [
    "### Part a ###"
   ]
  },
  {
   "cell_type": "code",
   "execution_count": 23,
   "id": "65fd3d34-2751-43c1-a19f-9e4d721a1feb",
   "metadata": {},
   "outputs": [
    {
     "data": {
      "image/png": "[encoded data removed]",
      "text/plain": [
       "<Figure size 432x288 with 1 Axes>"
      ]
     },
     "metadata": {
      "needs_background": "light"
     },
     "output_type": "display_data"
    }
   ],
   "source": [
    "plt.hist(mydata, density=True)\n",
    "plt.show()"
   ]
  },
  {
   "cell_type": "markdown",
   "id": "6f81a904-8e89-4d54-9b55-dad2eba49dc0",
   "metadata": {},
   "source": [
    "### Part b ###"
   ]
  },
  {
   "cell_type": "code",
   "execution_count": 27,
   "id": "302f2f66-fb4a-40a6-bd07-26d54eca7a23",
   "metadata": {},
   "outputs": [
    {
     "data": {
      "text/plain": [
       "14.942329301785364"
      ]
     },
     "execution_count": 27,
     "metadata": {},
     "output_type": "execute_result"
    }
   ],
   "source": [
    "np.mean(mydata)"
   ]
  },
  {
   "cell_type": "code",
   "execution_count": 29,
   "id": "e76a975f-f8f1-482e-b977-70353a64c26e",
   "metadata": {},
   "outputs": [
    {
     "data": {
      "text/plain": [
       "1.7242887930982718"
      ]
     },
     "execution_count": 29,
     "metadata": {},
     "output_type": "execute_result"
    }
   ],
   "source": [
    "np.std(mydata)"
   ]
  },
  {
   "cell_type": "markdown",
   "id": "bd547066-0063-493c-9642-2aa56c698e8a",
   "metadata": {},
   "source": [
    "### Part c ###"
   ]
  },
  {
   "cell_type": "code",
   "execution_count": 25,
   "id": "0575adc1-fd78-46cb-9181-b6894b7c4548",
   "metadata": {},
   "outputs": [],
   "source": [
    "def d(x):\n",
    "    return (1/(1.724*np.sqrt(2*np.pi))) * np.exp((-1/2)*((x - 14.94)/1.724)**2)"
   ]
  },
  {
   "cell_type": "code",
   "execution_count": 28,
   "id": "9de8e569-070b-442f-9010-daddfe12de87",
   "metadata": {},
   "outputs": [
    {
     "data": {
      "text/plain": [
       "3.141592653589793"
      ]
     },
     "execution_count": 28,
     "metadata": {},
     "output_type": "execute_result"
    }
   ],
   "source": [
    "np.pi"
   ]
  },
  {
   "cell_type": "code",
   "execution_count": 35,
   "id": "020018c5-2b59-45da-9548-9b171b7a7724",
   "metadata": {},
   "outputs": [],
   "source": [
    "myx = np.arange(10,20,.1)"
   ]
  },
  {
   "cell_type": "code",
   "execution_count": 36,
   "id": "e703f33e-4639-45f7-888b-0fa1d9bb86f5",
   "metadata": {},
   "outputs": [
    {
     "data": {
      "image/png": "[encoded data removed]",
      "text/plain": [
       "<Figure size 432x288 with 1 Axes>"
      ]
     },
     "metadata": {
      "needs_background": "light"
     },
     "output_type": "display_data"
    }
   ],
   "source": [
    "plt.hist(mydata, density=True)\n",
    "plt.plot(myx, d(myx))\n",
    "plt.show()"
   ]
  },
  {
   "cell_type": "markdown",
   "id": "6cb31d85-c2de-445b-8b48-45c098324ab1",
   "metadata": {},
   "source": [
    "## Problem 4 ###"
   ]
  },
  {
   "cell_type": "markdown",
   "id": "5a459e53-cc24-4a17-8169-606ff9a9206a",
   "metadata": {},
   "source": [
    "### Part a ###"
   ]
  },
  {
   "cell_type": "code",
   "execution_count": 38,
   "id": "b8691325-bb9e-4c8b-a946-08748336ab7c",
   "metadata": {},
   "outputs": [],
   "source": [
    "def myf(x):\n",
    "    return np.sin(x) + x - 1"
   ]
  },
  {
   "cell_type": "code",
   "execution_count": 39,
   "id": "112d8a31-debf-4b16-84db-cfd2cd084294",
   "metadata": {},
   "outputs": [],
   "source": [
    "myx = np.linspace(-5,5,100)"
   ]
  },
  {
   "cell_type": "code",
   "execution_count": 40,
   "id": "4656ab3d-e276-4273-a87a-22a1a5f2d9dd",
   "metadata": {},
   "outputs": [
    {
     "data": {
      "image/png": "[encoded data removed]",
      "text/plain": [
       "<Figure size 432x288 with 1 Axes>"
      ]
     },
     "metadata": {
      "needs_background": "light"
     },
     "output_type": "display_data"
    }
   ],
   "source": [
    "plt.plot(myx, myf(myx))\n",
    "plt.plot([-5,5],[0,0])\n",
    "plt.show()"
   ]
  },
  {
   "cell_type": "markdown",
   "id": "bcd0dbed-0982-4c8c-bff8-31e91eb4608a",
   "metadata": {},
   "source": [
    "### Part b ###"
   ]
  },
  {
   "cell_type": "code",
   "execution_count": 43,
   "id": "724af88b-04f1-4507-85d2-890270480df6",
   "metadata": {},
   "outputs": [],
   "source": [
    "def mynewton(x0,n):\n",
    "    for i in range(n):\n",
    "        x0 =x0 - (np.sin(x0) + x0 - 1)/(np.cos(x0) + 1)\n",
    "        print(x0)\n",
    "    return x0"
   ]
  },
  {
   "cell_type": "markdown",
   "id": "ac6ae231-70cf-4df8-932d-92250f9c6ffb",
   "metadata": {},
   "source": [
    "### Part c ###"
   ]
  },
  {
   "cell_type": "code",
   "execution_count": 45,
   "id": "8c483ba5-e2a3-4a1d-9e8e-e615b94ecef7",
   "metadata": {},
   "outputs": [
    {
     "name": "stdout",
     "output_type": "stream",
     "text": [
      "0.1014355490108454\n",
      "0.5011141383227441\n",
      "0.510960915676762\n",
      "0.5109734293681188\n",
      "0.5109734293885692\n",
      "0.5109734293885692\n",
      "0.5109734293885692\n",
      "0.5109734293885692\n",
      "0.5109734293885692\n",
      "0.5109734293885692\n"
     ]
    },
    {
     "data": {
      "text/plain": [
       "0.5109734293885692"
      ]
     },
     "execution_count": 45,
     "metadata": {},
     "output_type": "execute_result"
    }
   ],
   "source": [
    "mynewton(1.5,10)"
   ]
  },
  {
   "cell_type": "markdown",
   "id": "ad34a778-40d4-4d9f-b8d3-8f5bbbb2aca0",
   "metadata": {},
   "source": [
    "## Problem 5 ##"
   ]
  },
  {
   "cell_type": "markdown",
   "id": "6603966d-8ce3-4c8e-bedc-7048121efcbe",
   "metadata": {},
   "source": [
    "## Part a ##"
   ]
  },
  {
   "cell_type": "code",
   "execution_count": 48,
   "id": "14ca054f-bdd4-4cfd-be54-978b91118e3e",
   "metadata": {},
   "outputs": [],
   "source": [
    "mydata = np.genfromtxt(\"https://raw.githubusercontent.com/aleahy-work/CS-STAT323-W24/main/jan8separate.csv\", delimiter=\",\")"
   ]
  },
  {
   "cell_type": "code",
   "execution_count": 55,
   "id": "8e2b428e-536f-4f01-9096-26d9d459a623",
   "metadata": {},
   "outputs": [
    {
     "data": {
      "text/plain": [
       "array([[ 2.68732827,  1.44073213,  1.98533201,  1.        ],\n",
       "       [ 3.66818721,  0.7763507 ,  2.98772964,  1.        ],\n",
       "       [ 2.18197402, -0.56420079,  1.66955275,  1.        ],\n",
       "       [ 3.40543001,  1.97288659,  0.89189183,  1.        ],\n",
       "       [ 3.43602137,  1.07664729,  1.45527268,  1.        ]])"
      ]
     },
     "execution_count": 55,
     "metadata": {},
     "output_type": "execute_result"
    }
   ],
   "source": [
    "mydata[:5,:]"
   ]
  },
  {
   "cell_type": "code",
   "execution_count": 57,
   "id": "e2a7c7ef-4ad3-45b5-bdc1-b27330f4290c",
   "metadata": {},
   "outputs": [
    {
     "data": {
      "text/plain": [
       "<mpl_toolkits.mplot3d.art3d.Path3DCollection at 0x7f3492d804d0>"
      ]
     },
     "execution_count": 57,
     "metadata": {},
     "output_type": "execute_result"
    },
    {
     "data": {
      "image/png": "[encoded data removed]",
      "text/plain": [
       "<Figure size 432x288 with 1 Axes>"
      ]
     },
     "metadata": {
      "needs_background": "light"
     },
     "output_type": "display_data"
    }
   ],
   "source": [
    "fig = plt.figure()\n",
    "ax = fig.add_subplot(projection='3d')\n",
    "ax.scatter(mydata[:,0].T, mydata[:,1].T,  mydata[:,2].T, c=mydata[:,3].T)"
   ]
  },
  {
   "cell_type": "markdown",
   "id": "a50c2ea2-e089-4ea1-ab30-50232d776378",
   "metadata": {},
   "source": [
    "### Part b ###"
   ]
  },
  {
   "cell_type": "code",
   "execution_count": 76,
   "id": "3722a8e2-2950-4d7a-a6e5-95a8413aa1c1",
   "metadata": {},
   "outputs": [],
   "source": [
    "w = np.zeros(4)\n",
    "while True:\n",
    "    m = 0\n",
    "    for x in mydata:\n",
    "        if x[3]*np.dot(w,x) <= 0:\n",
    "            w = w + x[3]*x\n",
    "            m = m + 1\n",
    "    if m == 0:\n",
    "        break"
   ]
  },
  {
   "cell_type": "code",
   "execution_count": 77,
   "id": "e12804a6-ee2d-473e-af51-74db9c58ec4e",
   "metadata": {},
   "outputs": [
    {
     "data": {
      "text/plain": [
       "array([2.68732827, 1.44073213, 1.98533201, 1.        ])"
      ]
     },
     "execution_count": 77,
     "metadata": {},
     "output_type": "execute_result"
    }
   ],
   "source": [
    "w"
   ]
  },
  {
   "cell_type": "code",
   "execution_count": 78,
   "id": "c2420676-0b8e-4542-a218-8290eeae62be",
   "metadata": {},
   "outputs": [],
   "source": [
    "def plane(x,y):\n",
    "    return (-2.68732827*x - 1.44073213*y - 1)/1.98533201"
   ]
  },
  {
   "cell_type": "code",
   "execution_count": 67,
   "id": "19b133d9-de3e-48cb-8833-bb21a3a8338a",
   "metadata": {},
   "outputs": [],
   "source": [
    "myx = np.arange(-4,4,.1)\n",
    "myy = np.arange(-4,4,.1)"
   ]
  },
  {
   "cell_type": "code",
   "execution_count": 70,
   "id": "277b49d3-846f-45d9-b831-ea613ca3813d",
   "metadata": {},
   "outputs": [],
   "source": [
    "xv, yv = np.meshgrid(myx ,myy)"
   ]
  },
  {
   "cell_type": "code",
   "execution_count": 79,
   "id": "589ffde8-518f-47ab-8801-fb6e78a82d10",
   "metadata": {},
   "outputs": [],
   "source": [
    "myz = plane(xv,yv)"
   ]
  },
  {
   "cell_type": "code",
   "execution_count": 97,
   "id": "ad2e26f9-c617-4cc0-b275-550dfcb732cc",
   "metadata": {},
   "outputs": [
    {
     "data": {
      "image/png": "[encoded data removed]",
      "text/plain": [
       "<Figure size 432x432 with 1 Axes>"
      ]
     },
     "metadata": {
      "needs_background": "light"
     },
     "output_type": "display_data"
    }
   ],
   "source": [
    "fig = plt.figure(figsize=(6,6))\n",
    "ax = fig.add_subplot(111, projection='3d')\n",
    "ax.plot_surface(xv,yv, myz)\n",
    "ax.scatter(mydata[:,0].T, mydata[:,1].T,  mydata[:,2].T, c=mydata[:,3].T)\n",
    "ax.view_init(elev=3, azim=115, roll=0)  # this changes the view position to make it more clear\n",
    "plt.show()"
   ]
  }
 ],
 "metadata": {
  "kernelspec": {
   "display_name": "Python 3",
   "language": "python",
   "name": "python3"
  },
  "language_info": {
   "codemirror_mode": {
    "name": "ipython",
    "version": 3
   },
   "file_extension": ".py",
   "mimetype": "text/x-python",
   "name": "python",
   "nbconvert_exporter": "python",
   "pygments_lexer": "ipython3",
   "version": "3.11.6"
  }
 },
 "nbformat": 4,
 "nbformat_minor": 5
}
