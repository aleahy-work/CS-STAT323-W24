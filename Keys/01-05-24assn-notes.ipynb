{
 "cells": [
  {
   "cell_type": "markdown",
   "id": "0c5ab7ae-41c8-4909-b98a-8aec27ec9cfc",
   "metadata": {
    "tags": []
   },
   "source": [
    "# The OECD Crop Yield Data #"
   ]
  },
  {
   "cell_type": "markdown",
   "id": "a030476c-aa44-44af-9667-9a405ebe6bab",
   "metadata": {},
   "source": [
    "The OECD [produces annual estimates](https://data.oecd.org/agroutput/crop-production.htm) of crop yields per acre for several key staple crops in participating countries.  These measures are described as:\n",
    "\n",
    "*Crop production depends on the availability of arable land and is affected in particular by yields, macroeconomic uncertainty, as well as consumption patterns; it also has a great incidence on agricultural commodities' prices. The importance of crop production is related to harvested areas, returns per hectare (yields) and quantities produced. Crop yields are the harvested production per unit of harvested area for crop products. In most of the cases yield data are not recorded, but are obtained by dividing the production data by the data on area harvested. The actual yield that is captured on farm depends on several factors such as the crop's genetic potential, the amount of sunlight, water and nutrients absorbed by the crop, the presence of weeds and pests. This indicator is presented for wheat, maize, rice and soybean. Crop production is measured in tonnes per hectare, in thousand hectares and thousand tonnes.*\n",
    "\n",
    "I've made a copy of this dataset available at [my github page](https://github.com/aleahy-work/CS-STAT323-W24).  Your task is to import this data into a (well-formatted, cleaned up) Jupyter noteobok and use it to produce some information about crop yields.  "
   ]
  },
  {
   "cell_type": "markdown",
   "id": "10e5fcff-c196-494b-8303-1fbad7bfc606",
   "metadata": {},
   "source": [
    "**Problems:**\n",
    "\n",
    "1. What years and what grains are described by the dataset?  (Note: Future years are projections.)\n",
    "\n",
    "2. Produce a histogram of the distribution of the 'Value' column in the year 1990.\n",
    "   \n",
    "+ Use Matplotlib's 'pyplot.hist'. Make sure your histogram has both axes labelled as well as a title. \n",
    "+ Note that pandas has it's own histogram function. Do some research and product a plot with it.  How does it compare to the other histogram plot? (Hint: probably not very different.)\n",
    "\n",
    "3. The plot you produced in the previous question had some significant outliers which probably require some explanation.  Here's one idea:\n",
    "\n",
    "+ What are the units in the 'MEASURE' column?\n",
    "+ Produce a frequency distribution of the different measures in this column--that is, how many times does each meaure occur in the colum?  (Hint: the 'value_counts()' function for pandas might be helpful.)\n",
    "+ Given the observations in the previous bullet points, what do you think the phrase \"Crop production is measured in tonnes per hectare, in thousand hectares and thousand tonnes\" in the explanation quoted above means?\n",
    "+ Given that we are interested in 'yields per acre', produce a new dataset (for all years, grains, and countries) more appropriate for our study.\n",
    "\n",
    "4. Use the dataset from the previous problem to produce a *boxplot* of the crop yield of rice in tons per hectare for all countries in the year 2020. Label it well! \n",
    "\n",
    "5. What was the highest crop yield for rice per acre in 2020?  What country obtained those yields?\n",
    "\n",
    "6. Produce a comparative boxplot comparing the crop yield per acre for each of the four crops in the study in the United States over the entire length of the study.  Labels!"
   ]
  },
  {
   "cell_type": "markdown",
   "id": "86a03f95-f714-44a9-8179-fbf39805898f",
   "metadata": {},
   "source": [
    "# Key #\n",
    "\n",
    "## Problem 1 ##"
   ]
  },
  {
   "cell_type": "code",
   "execution_count": 1,
   "id": "af367224-3247-4b7a-bea3-f7cedd2085ed",
   "metadata": {
    "tags": []
   },
   "outputs": [],
   "source": [
    "import pandas as pd"
   ]
  },
  {
   "cell_type": "code",
   "execution_count": 3,
   "id": "0537d2d8-1d49-4dfc-a842-818b980c8afe",
   "metadata": {
    "tags": []
   },
   "outputs": [],
   "source": [
    "mydata = pd.read_csv(\"https://raw.githubusercontent.com/aleahy-work/CS-STAT323-W24/main/cropyields.csv\")"
   ]
  },
  {
   "cell_type": "code",
   "execution_count": 3,
   "id": "50daef67-a6fe-4593-b506-d76f370d2fc7",
   "metadata": {
    "tags": []
   },
   "outputs": [
    {
     "data": {
      "text/html": [
       "<div>\n",
       "<style scoped>\n",
       "    .dataframe tbody tr th:only-of-type {\n",
       "        vertical-align: middle;\n",
       "    }\n",
       "\n",
       "    .dataframe tbody tr th {\n",
       "        vertical-align: top;\n",
       "    }\n",
       "\n",
       "    .dataframe thead th {\n",
       "        text-align: right;\n",
       "    }\n",
       "</style>\n",
       "<table border=\"1\" class=\"dataframe\">\n",
       "  <thead>\n",
       "    <tr style=\"text-align: right;\">\n",
       "      <th></th>\n",
       "      <th>LOCATION</th>\n",
       "      <th>INDICATOR</th>\n",
       "      <th>SUBJECT</th>\n",
       "      <th>MEASURE</th>\n",
       "      <th>FREQUENCY</th>\n",
       "      <th>TIME</th>\n",
       "      <th>Value</th>\n",
       "      <th>Flag Codes</th>\n",
       "    </tr>\n",
       "  </thead>\n",
       "  <tbody>\n",
       "    <tr>\n",
       "      <th>0</th>\n",
       "      <td>AUS</td>\n",
       "      <td>CROPYIELD</td>\n",
       "      <td>RICE</td>\n",
       "      <td>TONNE_HA</td>\n",
       "      <td>A</td>\n",
       "      <td>1990</td>\n",
       "      <td>8.315</td>\n",
       "      <td>NaN</td>\n",
       "    </tr>\n",
       "    <tr>\n",
       "      <th>1</th>\n",
       "      <td>AUS</td>\n",
       "      <td>CROPYIELD</td>\n",
       "      <td>RICE</td>\n",
       "      <td>TONNE_HA</td>\n",
       "      <td>A</td>\n",
       "      <td>1991</td>\n",
       "      <td>8.395</td>\n",
       "      <td>NaN</td>\n",
       "    </tr>\n",
       "    <tr>\n",
       "      <th>2</th>\n",
       "      <td>AUS</td>\n",
       "      <td>CROPYIELD</td>\n",
       "      <td>RICE</td>\n",
       "      <td>TONNE_HA</td>\n",
       "      <td>A</td>\n",
       "      <td>1992</td>\n",
       "      <td>8.094</td>\n",
       "      <td>NaN</td>\n",
       "    </tr>\n",
       "    <tr>\n",
       "      <th>3</th>\n",
       "      <td>AUS</td>\n",
       "      <td>CROPYIELD</td>\n",
       "      <td>RICE</td>\n",
       "      <td>TONNE_HA</td>\n",
       "      <td>A</td>\n",
       "      <td>1993</td>\n",
       "      <td>8.336</td>\n",
       "      <td>NaN</td>\n",
       "    </tr>\n",
       "    <tr>\n",
       "      <th>4</th>\n",
       "      <td>AUS</td>\n",
       "      <td>CROPYIELD</td>\n",
       "      <td>RICE</td>\n",
       "      <td>TONNE_HA</td>\n",
       "      <td>A</td>\n",
       "      <td>1994</td>\n",
       "      <td>8.538</td>\n",
       "      <td>NaN</td>\n",
       "    </tr>\n",
       "  </tbody>\n",
       "</table>\n",
       "</div>"
      ],
      "text/plain": [
       "  LOCATION  INDICATOR SUBJECT   MEASURE FREQUENCY  TIME  Value  Flag Codes\n",
       "0      AUS  CROPYIELD    RICE  TONNE_HA         A  1990  8.315         NaN\n",
       "1      AUS  CROPYIELD    RICE  TONNE_HA         A  1991  8.395         NaN\n",
       "2      AUS  CROPYIELD    RICE  TONNE_HA         A  1992  8.094         NaN\n",
       "3      AUS  CROPYIELD    RICE  TONNE_HA         A  1993  8.336         NaN\n",
       "4      AUS  CROPYIELD    RICE  TONNE_HA         A  1994  8.538         NaN"
      ]
     },
     "execution_count": 3,
     "metadata": {},
     "output_type": "execute_result"
    }
   ],
   "source": [
    "mydata.head()"
   ]
  },
  {
   "cell_type": "code",
   "execution_count": 4,
   "id": "50694a54-f685-4098-adfd-a000c41fd992",
   "metadata": {
    "tags": []
   },
   "outputs": [
    {
     "data": {
      "text/plain": [
       "array([1990, 1991, 1992, 1993, 1994, 1995, 1996, 1997, 1998, 1999, 2000,\n",
       "       2001, 2002, 2003, 2004, 2005, 2006, 2007, 2008, 2009, 2010, 2011,\n",
       "       2012, 2013, 2014, 2015, 2016, 2017, 2018, 2019, 2020, 2021, 2022,\n",
       "       2023, 2024, 2025, 2026, 2027, 2028, 2029, 2030])"
      ]
     },
     "execution_count": 4,
     "metadata": {},
     "output_type": "execute_result"
    }
   ],
   "source": [
    "mydata[\"TIME\"].unique()"
   ]
  },
  {
   "cell_type": "code",
   "execution_count": 5,
   "id": "a599987a-6e22-4a36-a39f-8dd40d32742f",
   "metadata": {},
   "outputs": [
    {
     "data": {
      "text/plain": [
       "array(['RICE', 'WHEAT', 'MAIZE', 'SOYBEAN'], dtype=object)"
      ]
     },
     "execution_count": 5,
     "metadata": {},
     "output_type": "execute_result"
    }
   ],
   "source": [
    "mydata[\"SUBJECT\"].unique()"
   ]
  },
  {
   "cell_type": "markdown",
   "id": "9a8768a4-74e6-4093-b2d5-d0c6fe544451",
   "metadata": {},
   "source": [
    "**Answer:** The years covered are 1990 - 2030 and the grains are rice, wheat, maize, and soybeam. "
   ]
  },
  {
   "cell_type": "markdown",
   "id": "14ebed13-de60-4aff-ad49-3d490e8ab5ed",
   "metadata": {},
   "source": [
    "## Problem 2 ##"
   ]
  },
  {
   "cell_type": "code",
   "execution_count": 6,
   "id": "1dc4ac47-204e-4486-9656-b376264be9a7",
   "metadata": {},
   "outputs": [],
   "source": [
    "import matplotlib.pyplot as plt"
   ]
  },
  {
   "cell_type": "code",
   "execution_count": 7,
   "id": "9f083331-8e47-493d-af1a-620ad9e41afd",
   "metadata": {
    "tags": []
   },
   "outputs": [],
   "source": [
    "mydata2 = mydata[(mydata[\"TIME\"] == 1990) & (mydata[\"SUBJECT\"] == 'RICE')]"
   ]
  },
  {
   "cell_type": "code",
   "execution_count": 11,
   "id": "f94a4bab-7787-4af5-b2cd-9ea1f5b743bd",
   "metadata": {
    "tags": []
   },
   "outputs": [
    {
     "data": {
      "image/png": "[encoded data removed]",
      "text/plain": [
       "<Figure size 432x288 with 1 Axes>"
      ]
     },
     "metadata": {
      "needs_background": "light"
     },
     "output_type": "display_data"
    }
   ],
   "source": [
    "plt.hist(mydata2[\"Value\"])\n",
    "plt.xlabel(\"Distribution of values\")\n",
    "plt.ylabel(\"Count\")\n",
    "plt.title(\"My Very First Histogram\")\n",
    "plt.show()"
   ]
  },
  {
   "cell_type": "code",
   "execution_count": 13,
   "id": "64470e6f-1715-4a26-82f0-92c9ff265fd2",
   "metadata": {
    "tags": []
   },
   "outputs": [
    {
     "data": {
      "text/plain": [
       "<AxesSubplot: >"
      ]
     },
     "execution_count": 13,
     "metadata": {},
     "output_type": "execute_result"
    },
    {
     "data": {
      "image/png": "[encoded data removed]",
      "text/plain": [
       "<Figure size 432x288 with 1 Axes>"
      ]
     },
     "metadata": {
      "needs_background": "light"
     },
     "output_type": "display_data"
    }
   ],
   "source": [
    "mydata2[\"Value\"].hist()"
   ]
  },
  {
   "cell_type": "markdown",
   "id": "a8da96c1-e5d9-4478-ac78-6e1b06d52e29",
   "metadata": {},
   "source": [
    "## Problem 3 ##"
   ]
  },
  {
   "cell_type": "code",
   "execution_count": 26,
   "id": "c22ddb8c-5e1e-4e91-8050-58adefdce2fb",
   "metadata": {
    "tags": []
   },
   "outputs": [
    {
     "data": {
      "text/plain": [
       "array(['TONNE_HA', 'THND_TONNE', 'THND_HA'], dtype=object)"
      ]
     },
     "execution_count": 26,
     "metadata": {},
     "output_type": "execute_result"
    }
   ],
   "source": [
    "mydata['MEASURE'].unique()"
   ]
  },
  {
   "cell_type": "code",
   "execution_count": 14,
   "id": "738f97e1-f2f7-4d27-88dc-98c09f4f5201",
   "metadata": {
    "tags": []
   },
   "outputs": [
    {
     "data": {
      "text/plain": [
       "THND_TONNE    6232\n",
       "THND_HA       6232\n",
       "TONNE_HA      6212\n",
       "Name: MEASURE, dtype: int64"
      ]
     },
     "execution_count": 14,
     "metadata": {},
     "output_type": "execute_result"
    }
   ],
   "source": [
    "mydata['MEASURE'].value_counts()"
   ]
  },
  {
   "cell_type": "markdown",
   "id": "59df06bc-bb4e-4e86-a51c-0dc73a34632b",
   "metadata": {},
   "source": [
    "The 'MEASURE' column contains three different quantities: (1) the productivity (TONNE_HA = tons per hectare), (2) the number of hectares (THND_HA), and (3) the number of tonnes of grain (THND_TONNE). We are only interested in yields per hectare, so we can filter by 'TONNE_HA'."
   ]
  },
  {
   "cell_type": "code",
   "execution_count": 15,
   "id": "50b80182-918b-4d55-9e82-67be964c95e9",
   "metadata": {},
   "outputs": [],
   "source": [
    "mydata3 = mydata[mydata['MEASURE'] == 'TONNE_HA']"
   ]
  },
  {
   "cell_type": "markdown",
   "id": "778a2e90-9b0a-4b1f-a9ff-3d47be3bca57",
   "metadata": {},
   "source": [
    "## Problem 4 ##"
   ]
  },
  {
   "cell_type": "code",
   "execution_count": 17,
   "id": "13eb289a-00f2-44e3-b8fb-cc4949025c7b",
   "metadata": {},
   "outputs": [],
   "source": [
    "mydata4 = mydata3[(mydata3[\"TIME\"] == 2020) & (mydata3[\"SUBJECT\"] == 'RICE')]"
   ]
  },
  {
   "cell_type": "code",
   "execution_count": 18,
   "id": "575a5820-aa99-4133-bd91-bef5d87f4052",
   "metadata": {},
   "outputs": [
    {
     "data": {
      "text/html": [
       "<div>\n",
       "<style scoped>\n",
       "    .dataframe tbody tr th:only-of-type {\n",
       "        vertical-align: middle;\n",
       "    }\n",
       "\n",
       "    .dataframe tbody tr th {\n",
       "        vertical-align: top;\n",
       "    }\n",
       "\n",
       "    .dataframe thead th {\n",
       "        text-align: right;\n",
       "    }\n",
       "</style>\n",
       "<table border=\"1\" class=\"dataframe\">\n",
       "  <thead>\n",
       "    <tr style=\"text-align: right;\">\n",
       "      <th></th>\n",
       "      <th>LOCATION</th>\n",
       "      <th>INDICATOR</th>\n",
       "      <th>SUBJECT</th>\n",
       "      <th>MEASURE</th>\n",
       "      <th>FREQUENCY</th>\n",
       "      <th>TIME</th>\n",
       "      <th>Value</th>\n",
       "      <th>Flag Codes</th>\n",
       "    </tr>\n",
       "  </thead>\n",
       "  <tbody>\n",
       "    <tr>\n",
       "      <th>30</th>\n",
       "      <td>AUS</td>\n",
       "      <td>CROPYIELD</td>\n",
       "      <td>RICE</td>\n",
       "      <td>TONNE_HA</td>\n",
       "      <td>A</td>\n",
       "      <td>2020</td>\n",
       "      <td>8.305</td>\n",
       "      <td>NaN</td>\n",
       "    </tr>\n",
       "    <tr>\n",
       "      <th>112</th>\n",
       "      <td>CAN</td>\n",
       "      <td>CROPYIELD</td>\n",
       "      <td>RICE</td>\n",
       "      <td>TONNE_HA</td>\n",
       "      <td>A</td>\n",
       "      <td>2020</td>\n",
       "      <td>0.000</td>\n",
       "      <td>NaN</td>\n",
       "    </tr>\n",
       "    <tr>\n",
       "      <th>194</th>\n",
       "      <td>JPN</td>\n",
       "      <td>CROPYIELD</td>\n",
       "      <td>RICE</td>\n",
       "      <td>TONNE_HA</td>\n",
       "      <td>A</td>\n",
       "      <td>2020</td>\n",
       "      <td>5.032</td>\n",
       "      <td>NaN</td>\n",
       "    </tr>\n",
       "    <tr>\n",
       "      <th>276</th>\n",
       "      <td>KOR</td>\n",
       "      <td>CROPYIELD</td>\n",
       "      <td>RICE</td>\n",
       "      <td>TONNE_HA</td>\n",
       "      <td>A</td>\n",
       "      <td>2020</td>\n",
       "      <td>5.474</td>\n",
       "      <td>NaN</td>\n",
       "    </tr>\n",
       "    <tr>\n",
       "      <th>358</th>\n",
       "      <td>MEX</td>\n",
       "      <td>CROPYIELD</td>\n",
       "      <td>RICE</td>\n",
       "      <td>TONNE_HA</td>\n",
       "      <td>A</td>\n",
       "      <td>2020</td>\n",
       "      <td>6.682</td>\n",
       "      <td>NaN</td>\n",
       "    </tr>\n",
       "  </tbody>\n",
       "</table>\n",
       "</div>"
      ],
      "text/plain": [
       "    LOCATION  INDICATOR SUBJECT   MEASURE FREQUENCY  TIME  Value  Flag Codes\n",
       "30       AUS  CROPYIELD    RICE  TONNE_HA         A  2020  8.305         NaN\n",
       "112      CAN  CROPYIELD    RICE  TONNE_HA         A  2020  0.000         NaN\n",
       "194      JPN  CROPYIELD    RICE  TONNE_HA         A  2020  5.032         NaN\n",
       "276      KOR  CROPYIELD    RICE  TONNE_HA         A  2020  5.474         NaN\n",
       "358      MEX  CROPYIELD    RICE  TONNE_HA         A  2020  6.682         NaN"
      ]
     },
     "execution_count": 18,
     "metadata": {},
     "output_type": "execute_result"
    }
   ],
   "source": [
    "mydata4.head()"
   ]
  },
  {
   "cell_type": "code",
   "execution_count": 21,
   "id": "8023204a-312d-41e3-8d15-9d304589bb76",
   "metadata": {},
   "outputs": [
    {
     "data": {
      "text/plain": [
       "30     8.305\n",
       "112    0.000\n",
       "194    5.032\n",
       "276    5.474\n",
       "358    6.682\n",
       "Name: Value, dtype: float64"
      ]
     },
     "execution_count": 21,
     "metadata": {},
     "output_type": "execute_result"
    }
   ],
   "source": [
    "mydata4[\"Value\"].head()"
   ]
  },
  {
   "cell_type": "code",
   "execution_count": 22,
   "id": "ab92bad6-d0aa-4c13-b967-bbc24ec50ab8",
   "metadata": {},
   "outputs": [],
   "source": [
    "rice2020 = mydata4[\"Value\"]"
   ]
  },
  {
   "cell_type": "code",
   "execution_count": 26,
   "id": "75a2623e-2761-4029-b05e-acdab5a9645c",
   "metadata": {},
   "outputs": [
    {
     "data": {
      "image/png": "[encoded data removed]",
      "text/plain": [
       "<Figure size 432x288 with 1 Axes>"
      ]
     },
     "metadata": {
      "needs_background": "light"
     },
     "output_type": "display_data"
    }
   ],
   "source": [
    "plt.boxplot(rice2020)\n",
    "plt.xlabel(\"Rice Crop Yield\")\n",
    "plt.ylabel(\"Tons per hectare\")\n",
    "plt.title(\"Rice Yield by Country (2020)\")\n",
    "plt.show()"
   ]
  },
  {
   "cell_type": "markdown",
   "id": "ee70c431-3e00-4db0-b5ae-80cc01a25305",
   "metadata": {},
   "source": [
    "## Problem 5 ##"
   ]
  },
  {
   "cell_type": "code",
   "execution_count": 29,
   "id": "2b66d40e-4420-47e1-944b-153c0f8bafd7",
   "metadata": {},
   "outputs": [
    {
     "data": {
      "text/plain": [
       "8.305"
      ]
     },
     "execution_count": 29,
     "metadata": {},
     "output_type": "execute_result"
    }
   ],
   "source": [
    "mydata4[\"Value\"].max()"
   ]
  },
  {
   "cell_type": "markdown",
   "id": "7b00d407-e3c6-4538-8b44-f98909f268f0",
   "metadata": {},
   "source": [
    "The maximum rice yield per acre in 2020 was 8.305 tons per hectare. "
   ]
  },
  {
   "cell_type": "code",
   "execution_count": 30,
   "id": "0a392717-f1be-4c56-bc43-5cec3aacd114",
   "metadata": {},
   "outputs": [
    {
     "data": {
      "text/html": [
       "<div>\n",
       "<style scoped>\n",
       "    .dataframe tbody tr th:only-of-type {\n",
       "        vertical-align: middle;\n",
       "    }\n",
       "\n",
       "    .dataframe tbody tr th {\n",
       "        vertical-align: top;\n",
       "    }\n",
       "\n",
       "    .dataframe thead th {\n",
       "        text-align: right;\n",
       "    }\n",
       "</style>\n",
       "<table border=\"1\" class=\"dataframe\">\n",
       "  <thead>\n",
       "    <tr style=\"text-align: right;\">\n",
       "      <th></th>\n",
       "      <th>LOCATION</th>\n",
       "      <th>INDICATOR</th>\n",
       "      <th>SUBJECT</th>\n",
       "      <th>MEASURE</th>\n",
       "      <th>FREQUENCY</th>\n",
       "      <th>TIME</th>\n",
       "      <th>Value</th>\n",
       "      <th>Flag Codes</th>\n",
       "    </tr>\n",
       "  </thead>\n",
       "  <tbody>\n",
       "    <tr>\n",
       "      <th>30</th>\n",
       "      <td>AUS</td>\n",
       "      <td>CROPYIELD</td>\n",
       "      <td>RICE</td>\n",
       "      <td>TONNE_HA</td>\n",
       "      <td>A</td>\n",
       "      <td>2020</td>\n",
       "      <td>8.305</td>\n",
       "      <td>NaN</td>\n",
       "    </tr>\n",
       "  </tbody>\n",
       "</table>\n",
       "</div>"
      ],
      "text/plain": [
       "   LOCATION  INDICATOR SUBJECT   MEASURE FREQUENCY  TIME  Value  Flag Codes\n",
       "30      AUS  CROPYIELD    RICE  TONNE_HA         A  2020  8.305         NaN"
      ]
     },
     "execution_count": 30,
     "metadata": {},
     "output_type": "execute_result"
    }
   ],
   "source": [
    "mydata4[mydata4['Value'] > 8.3]"
   ]
  },
  {
   "cell_type": "markdown",
   "id": "0fb2e99a-23d7-4674-86d0-a25f5cf42b60",
   "metadata": {},
   "source": [
    "These yields were obtained by Australia. "
   ]
  },
  {
   "cell_type": "markdown",
   "id": "05d5c6a9-1154-4e69-a4b9-a5ef45d041d2",
   "metadata": {},
   "source": [
    "## Problem 6 ##"
   ]
  },
  {
   "cell_type": "code",
   "execution_count": 43,
   "id": "f4230599-8231-48bd-a8f8-caecc6edc1e0",
   "metadata": {},
   "outputs": [
    {
     "data": {
      "image/png": "[encoded data removed]",
      "text/plain": [
       "<Figure size 432x288 with 1 Axes>"
      ]
     },
     "metadata": {
      "needs_background": "light"
     },
     "output_type": "display_data"
    }
   ],
   "source": [
    "mydata3[mydata3[\"LOCATION\"] == 'USA'].boxplot(column=\"Value\", by=\"SUBJECT\")\n",
    "plt.xlabel(\"Grain\")\n",
    "plt.ylabel(\"Tons per hectare\")\n",
    "plt.suptitle(\"United States crop yields (1990 - 2020)\")\n",
    "plt.title(\"\")\n",
    "plt.show()"
   ]
  }
 ],
 "metadata": {
  "kernelspec": {
   "display_name": "Python 3",
   "language": "python",
   "name": "python3"
  },
  "language_info": {
   "codemirror_mode": {
    "name": "ipython",
    "version": 3
   },
   "file_extension": ".py",
   "mimetype": "text/x-python",
   "name": "python",
   "nbconvert_exporter": "python",
   "pygments_lexer": "ipython3",
   "version": "3.11.6"
  }
 },
 "nbformat": 4,
 "nbformat_minor": 5
}
