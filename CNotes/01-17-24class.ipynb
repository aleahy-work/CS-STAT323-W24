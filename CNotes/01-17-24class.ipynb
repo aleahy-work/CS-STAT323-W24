{
 "cells": [
  {
   "cell_type": "markdown",
   "id": "eb11b37b-3376-4b7c-9317-4deefdd006c3",
   "metadata": {},
   "source": [
    "# Naive Bayes' Classification Algorithm #"
   ]
  },
  {
   "cell_type": "markdown",
   "id": "20cb1231-3e62-4154-817c-3a0813d7db3f",
   "metadata": {},
   "source": [
    "## Generating a sample space ##"
   ]
  },
  {
   "cell_type": "code",
   "execution_count": 488,
   "id": "f396c745-a321-48e0-b7c7-221c24056a0c",
   "metadata": {
    "tags": []
   },
   "outputs": [],
   "source": [
    "import numpy as np\n",
    "import matplotlib.pyplot as plt"
   ]
  },
  {
   "cell_type": "code",
   "execution_count": 2,
   "id": "3acacd42-c3bc-4aae-8efd-0e45fc3fa066",
   "metadata": {
    "tags": []
   },
   "outputs": [],
   "source": [
    "xvals1 = np.random.multivariate_normal([1.2,1.2],[[1,0],[0,1]], 140)\n",
    "xvals0 = np.random.multivariate_normal([-1.2,-1.2],[[1,0],[0,1]], 60)"
   ]
  },
  {
   "cell_type": "code",
   "execution_count": 3,
   "id": "1a7c6f10-5141-4ffd-a7a8-0a2afae4d098",
   "metadata": {
    "tags": []
   },
   "outputs": [
    {
     "data": {
      "text/plain": [
       "array([[1.2568325 , 1.64814137],\n",
       "       [1.83827692, 3.08107399],\n",
       "       [0.3673154 , 1.41909216],\n",
       "       [1.45416713, 0.17293849],\n",
       "       [0.34804486, 1.62685203]])"
      ]
     },
     "execution_count": 3,
     "metadata": {},
     "output_type": "execute_result"
    }
   ],
   "source": [
    "xvals1[:5,:]"
   ]
  },
  {
   "cell_type": "code",
   "execution_count": 4,
   "id": "e01e42ec-9f56-4f88-816e-1e5dfce4262b",
   "metadata": {
    "tags": []
   },
   "outputs": [
    {
     "data": {
      "text/plain": [
       "array([[-3.18492448, -1.31331252],\n",
       "       [-0.55071702, -2.23230411],\n",
       "       [-3.5665884 , -0.09799114],\n",
       "       [ 0.31715628, -1.74131884],\n",
       "       [-1.15899908, -2.73197249]])"
      ]
     },
     "execution_count": 4,
     "metadata": {},
     "output_type": "execute_result"
    }
   ],
   "source": [
    "xvals0[:5,:]"
   ]
  },
  {
   "cell_type": "code",
   "execution_count": 5,
   "id": "5c9ea587-c24c-4b17-9392-5b210b6d2893",
   "metadata": {
    "tags": []
   },
   "outputs": [],
   "source": [
    "mydata1 = np.append(xvals1,np.ones([140,1]),axis=1)\n",
    "mydata0 = np.append(xvals0,np.zeros([60,1]),axis=1)\n",
    "mydata = np.vstack((mydata1, mydata0))"
   ]
  },
  {
   "cell_type": "code",
   "execution_count": 6,
   "id": "3fc8a8bd-ad65-4ca6-8b84-9b5bd76d9daf",
   "metadata": {
    "tags": []
   },
   "outputs": [
    {
     "data": {
      "image/png": "[encoded data removed]",
      "text/plain": [
       "<Figure size 432x288 with 1 Axes>"
      ]
     },
     "metadata": {
      "needs_background": "light"
     },
     "output_type": "display_data"
    }
   ],
   "source": [
    "plt.scatter(mydata[:,0], mydata[:,1], c = mydata[:,2])\n",
    "plt.show()"
   ]
  },
  {
   "cell_type": "markdown",
   "id": "afd90604-56f9-404e-9f34-424e63c9be9b",
   "metadata": {},
   "source": [
    "## Implementing Naive Bayes Line by Line ##"
   ]
  },
  {
   "cell_type": "markdown",
   "id": "1edf2b3c-c574-44e4-91b4-86edea4f8d3a",
   "metadata": {},
   "source": [
    "For an overview of the Naive Bayes algorithm, see [the Wikipedia page](https://en.wikipedia.org/wiki/Naive_Bayes_classifier).  The key is the observation $P(y_i | {\\bf x}_i ) = posterior = \\frac{prior \\times likelihood}{evidence} = \\frac{P(y_i) \\cdot P({\\bf x}_i | y)}{P({\\bf x}_i)}$."
   ]
  },
  {
   "cell_type": "markdown",
   "id": "8763ea24-5a78-43b0-b9b4-637d271bfe47",
   "metadata": {},
   "source": [
    "### Computing the \"priors\" for each class ###"
   ]
  },
  {
   "cell_type": "code",
   "execution_count": 7,
   "id": "c357a06f-d252-4bd0-b1ef-8566384a7f17",
   "metadata": {
    "tags": []
   },
   "outputs": [],
   "source": [
    "class1 = mydata[mydata[:,2] == 1, :2]"
   ]
  },
  {
   "cell_type": "code",
   "execution_count": 8,
   "id": "6324d30e-6799-49d4-81da-0806aa03db51",
   "metadata": {
    "tags": []
   },
   "outputs": [
    {
     "data": {
      "text/plain": [
       "array([[1.2568325 , 1.64814137],\n",
       "       [1.83827692, 3.08107399],\n",
       "       [0.3673154 , 1.41909216],\n",
       "       [1.45416713, 0.17293849],\n",
       "       [0.34804486, 1.62685203]])"
      ]
     },
     "execution_count": 8,
     "metadata": {},
     "output_type": "execute_result"
    }
   ],
   "source": [
    "class1[:5,:]"
   ]
  },
  {
   "cell_type": "code",
   "execution_count": 9,
   "id": "4a35b4f7-70a3-4791-a6b1-589b506da231",
   "metadata": {
    "tags": []
   },
   "outputs": [],
   "source": [
    "class0 = mydata[mydata[:,2] == 0, :2]"
   ]
  },
  {
   "cell_type": "code",
   "execution_count": 10,
   "id": "b1f92a73-f435-4130-b175-55843a19f178",
   "metadata": {
    "tags": []
   },
   "outputs": [
    {
     "data": {
      "text/plain": [
       "array([[-3.18492448, -1.31331252],\n",
       "       [-0.55071702, -2.23230411],\n",
       "       [-3.5665884 , -0.09799114],\n",
       "       [ 0.31715628, -1.74131884],\n",
       "       [-1.15899908, -2.73197249]])"
      ]
     },
     "execution_count": 10,
     "metadata": {},
     "output_type": "execute_result"
    }
   ],
   "source": [
    "class0[:5,:]"
   ]
  },
  {
   "cell_type": "code",
   "execution_count": 11,
   "id": "a9f7a475-280b-4d9b-989b-76d80f7b95dc",
   "metadata": {
    "tags": []
   },
   "outputs": [
    {
     "data": {
      "text/plain": [
       "60"
      ]
     },
     "execution_count": 11,
     "metadata": {},
     "output_type": "execute_result"
    }
   ],
   "source": [
    "class0.shape[0]"
   ]
  },
  {
   "cell_type": "code",
   "execution_count": 12,
   "id": "755723a4-19ea-4dab-880f-41d9db8dd847",
   "metadata": {
    "tags": []
   },
   "outputs": [
    {
     "data": {
      "text/plain": [
       "140"
      ]
     },
     "execution_count": 12,
     "metadata": {},
     "output_type": "execute_result"
    }
   ],
   "source": [
    "class1.shape[0]"
   ]
  },
  {
   "cell_type": "code",
   "execution_count": 13,
   "id": "d6d62a6a-0e00-49de-b7ee-060072c51c56",
   "metadata": {
    "tags": []
   },
   "outputs": [],
   "source": [
    "py1 = class1.shape[0]/mydata.shape[0]\n",
    "py0 = class0.shape[0]/mydata.shape[0]"
   ]
  },
  {
   "cell_type": "code",
   "execution_count": 14,
   "id": "3006fca9-ca03-417e-a692-61efa1b2677a",
   "metadata": {
    "tags": []
   },
   "outputs": [
    {
     "name": "stdout",
     "output_type": "stream",
     "text": [
      "0.7\n",
      "0.3\n"
     ]
    }
   ],
   "source": [
    "print(py1)\n",
    "print(py0)"
   ]
  },
  {
   "cell_type": "markdown",
   "id": "507dd164-dc92-4d59-989f-95ccfaef9b6c",
   "metadata": {},
   "source": [
    "### Computing the Likelihood of x for each class (with scipy) ###"
   ]
  },
  {
   "cell_type": "code",
   "execution_count": 15,
   "id": "286579bc-3aa8-4563-96a8-65efe295ce9b",
   "metadata": {
    "tags": []
   },
   "outputs": [
    {
     "data": {
      "text/plain": [
       "<matplotlib.collections.PathCollection at 0x7f1f00bf5110>"
      ]
     },
     "execution_count": 15,
     "metadata": {},
     "output_type": "execute_result"
    },
    {
     "data": {
      "image/png": "[encoded data removed]",
      "text/plain": [
       "<Figure size 432x288 with 1 Axes>"
      ]
     },
     "metadata": {
      "needs_background": "light"
     },
     "output_type": "display_data"
    }
   ],
   "source": [
    "plt.scatter(class1[:,0], class1[:,1])"
   ]
  },
  {
   "cell_type": "code",
   "execution_count": 16,
   "id": "5560973d-ee28-4e84-a9cb-410e80075715",
   "metadata": {
    "tags": []
   },
   "outputs": [],
   "source": [
    "cov0 = np.cov(class0.T)\n",
    "cov1 = np.cov(class1.T)\n",
    "mean0 = np.mean(class0, axis = 0)\n",
    "mean1 = np.mean(class1, axis = 0)"
   ]
  },
  {
   "cell_type": "code",
   "execution_count": 17,
   "id": "5aae37ed-1104-41e9-a0c2-16b60da67559",
   "metadata": {
    "tags": []
   },
   "outputs": [
    {
     "data": {
      "text/plain": [
       "array([-1.28782194, -1.21979942])"
      ]
     },
     "execution_count": 17,
     "metadata": {},
     "output_type": "execute_result"
    }
   ],
   "source": [
    "mean0"
   ]
  },
  {
   "cell_type": "markdown",
   "id": "798580c9-1a7f-4ef1-8d0e-8abc450b67e8",
   "metadata": {},
   "source": [
    "We use scipy.stats to create an object representing each (normal) probability distribution, where the parameters are estimated from the data."
   ]
  },
  {
   "cell_type": "code",
   "execution_count": 18,
   "id": "482a90a5-edb0-4dea-adda-a4f738acd5ff",
   "metadata": {
    "tags": []
   },
   "outputs": [],
   "source": [
    "import scipy.stats as stats"
   ]
  },
  {
   "cell_type": "markdown",
   "id": "58d97577-6e89-4148-8948-4201b8922193",
   "metadata": {},
   "source": [
    "dist0 and dist1 are the two objects.  One of their methods (.pdf) creates a probability density function, which we can then evaluate at x. "
   ]
  },
  {
   "cell_type": "code",
   "execution_count": 65,
   "id": "58381317-9ab8-4acd-8c05-d23e4b4b632b",
   "metadata": {
    "tags": []
   },
   "outputs": [],
   "source": [
    "dist0 = stats.multivariate_normal(mean0, cov0)\n",
    "dist1 = stats.multivariate_normal(mean1, cov1)"
   ]
  },
  {
   "cell_type": "code",
   "execution_count": 20,
   "id": "63c1f232-20ee-419a-ba2e-166c43e4c89c",
   "metadata": {
    "tags": []
   },
   "outputs": [
    {
     "data": {
      "text/plain": [
       "0.15073805632851645"
      ]
     },
     "execution_count": 20,
     "metadata": {},
     "output_type": "execute_result"
    }
   ],
   "source": [
    "dist0.pdf([-1.2,-1.2])"
   ]
  },
  {
   "cell_type": "code",
   "execution_count": 21,
   "id": "6e483b77-c967-4705-ada0-c8d224b2304f",
   "metadata": {
    "tags": []
   },
   "outputs": [
    {
     "data": {
      "text/plain": [
       "0.00032728389944592387"
      ]
     },
     "execution_count": 21,
     "metadata": {},
     "output_type": "execute_result"
    }
   ],
   "source": [
    "dist1.pdf([-1.2,-1.2])"
   ]
  },
  {
   "cell_type": "markdown",
   "id": "44c81a7a-77f6-4aec-93a5-1b3268bc92c4",
   "metadata": {},
   "source": [
    "### Computing the conditional probability of x for each class ###"
   ]
  },
  {
   "cell_type": "code",
   "execution_count": 22,
   "id": "f092c234-4f0f-438c-8dc3-54a80a36fa8b",
   "metadata": {
    "tags": []
   },
   "outputs": [
    {
     "data": {
      "text/plain": [
       "0.0002290987296121467"
      ]
     },
     "execution_count": 22,
     "metadata": {},
     "output_type": "execute_result"
    }
   ],
   "source": [
    "py1 * dist1.pdf([-1.2,-1.2])"
   ]
  },
  {
   "cell_type": "code",
   "execution_count": 66,
   "id": "a19ea054-7ce7-4b31-8a5c-7de0734df2e9",
   "metadata": {
    "tags": []
   },
   "outputs": [
    {
     "data": {
      "text/plain": [
       "0.04522141689855493"
      ]
     },
     "execution_count": 66,
     "metadata": {},
     "output_type": "execute_result"
    }
   ],
   "source": [
    "py0 * dist0.pdf([-1.2,-1.2])"
   ]
  },
  {
   "cell_type": "markdown",
   "id": "0d64efd8-a41a-4049-9772-abd294470b30",
   "metadata": {},
   "source": [
    "The point $(-1.2, -1.2)$ belongs to category 0.  This confirms your visual intuition above. "
   ]
  },
  {
   "cell_type": "code",
   "execution_count": 24,
   "id": "46c5428a-56df-47b0-a866-e978a31287f6",
   "metadata": {
    "tags": []
   },
   "outputs": [
    {
     "data": {
      "text/plain": [
       "0.09857646164154812"
      ]
     },
     "execution_count": 24,
     "metadata": {},
     "output_type": "execute_result"
    }
   ],
   "source": [
    "py1 * dist1.pdf([1.2,1.2])"
   ]
  },
  {
   "cell_type": "code",
   "execution_count": 25,
   "id": "136d90e3-d9c9-4b4f-8fa5-1b5ecba9dde0",
   "metadata": {
    "tags": []
   },
   "outputs": [
    {
     "data": {
      "text/plain": [
       "4.9903787875943557e-05"
      ]
     },
     "execution_count": 25,
     "metadata": {},
     "output_type": "execute_result"
    }
   ],
   "source": [
    "py0 * dist0.pdf([1.2,1.2])"
   ]
  },
  {
   "cell_type": "markdown",
   "id": "495341bc-f78e-4e79-9a28-07991ab80c93",
   "metadata": {},
   "source": [
    "The point $(1.2, 1.2)$ in category zero. Again, compare with the two-color scatter plot above."
   ]
  },
  {
   "cell_type": "markdown",
   "id": "9d323e27-9875-4988-a04e-d0942d557939",
   "metadata": {},
   "source": [
    "### A function for prediction ###"
   ]
  },
  {
   "cell_type": "markdown",
   "id": "b4609c66-8404-4eb6-a3fc-ba869bf6ee6e",
   "metadata": {},
   "source": [
    "The function below gives the category (0 or 1) using np.argmax."
   ]
  },
  {
   "cell_type": "code",
   "execution_count": 107,
   "id": "e0d5a095-ef43-4a8c-9c7d-b40ca175470e",
   "metadata": {
    "tags": []
   },
   "outputs": [],
   "source": [
    "def mybayes(x):\n",
    "   return np.argmax([py0 * dist0.pdf(x), py1 * dist1.pdf(x)])"
   ]
  },
  {
   "cell_type": "markdown",
   "id": "dd955476-25bf-4eaa-a857-4981649092d5",
   "metadata": {},
   "source": [
    "Checking these results and some others with the mybayes() function."
   ]
  },
  {
   "cell_type": "code",
   "execution_count": 68,
   "id": "e3ff9d4a-793f-4b36-90fc-60dcfd2eadce",
   "metadata": {},
   "outputs": [
    {
     "data": {
      "text/plain": [
       "0"
      ]
     },
     "execution_count": 68,
     "metadata": {},
     "output_type": "execute_result"
    }
   ],
   "source": [
    "mybayes([-1.2,-1.2])"
   ]
  },
  {
   "cell_type": "code",
   "execution_count": 69,
   "id": "d6dc86ef-b357-473e-abb8-84348fb1fb94",
   "metadata": {},
   "outputs": [
    {
     "data": {
      "text/plain": [
       "1"
      ]
     },
     "execution_count": 69,
     "metadata": {},
     "output_type": "execute_result"
    }
   ],
   "source": [
    "mybayes([1.2,1.2])"
   ]
  },
  {
   "cell_type": "code",
   "execution_count": 60,
   "id": "cdad0780-cd6e-42ff-b205-3dae0167827d",
   "metadata": {
    "tags": []
   },
   "outputs": [
    {
     "data": {
      "text/plain": [
       "1"
      ]
     },
     "execution_count": 60,
     "metadata": {},
     "output_type": "execute_result"
    }
   ],
   "source": [
    "mybayes([4,4])"
   ]
  },
  {
   "cell_type": "code",
   "execution_count": 61,
   "id": "d19aeae5-cf9b-4c86-830b-26fcc34e5fd1",
   "metadata": {
    "tags": []
   },
   "outputs": [
    {
     "data": {
      "text/plain": [
       "0"
      ]
     },
     "execution_count": 61,
     "metadata": {},
     "output_type": "execute_result"
    }
   ],
   "source": [
    "mybayes([-4,-4])"
   ]
  },
  {
   "cell_type": "code",
   "execution_count": 62,
   "id": "a440e81a-614d-42b4-8336-8092a71b9cb2",
   "metadata": {
    "tags": []
   },
   "outputs": [
    {
     "data": {
      "text/plain": [
       "1"
      ]
     },
     "execution_count": 62,
     "metadata": {},
     "output_type": "execute_result"
    }
   ],
   "source": [
    "mybayes([0,0])"
   ]
  },
  {
   "cell_type": "markdown",
   "id": "0c262818-696e-473d-a9ff-fdf293946809",
   "metadata": {},
   "source": [
    "### An object-oriented mybayes() ###"
   ]
  },
  {
   "cell_type": "markdown",
   "id": "33e97fb7-0df3-4d03-9f92-0b80997dcf73",
   "metadata": {},
   "source": [
    "The function doesn't really work too well.  For instance, we would like it to evaluate the category of an entire array of points, but it doesn't.  We should expect three different estimates below."
   ]
  },
  {
   "cell_type": "code",
   "execution_count": 116,
   "id": "bc65bd60-089a-4550-8f52-0ad720ea4426",
   "metadata": {},
   "outputs": [],
   "source": [
    "myX = np.array([[ -1.2,-1.2],[1.2,1.2],[4,4],[-4,-4],[0,0]])"
   ]
  },
  {
   "cell_type": "code",
   "execution_count": 117,
   "id": "9b8b1725-597e-4640-96a5-d9132eea2c45",
   "metadata": {},
   "outputs": [
    {
     "data": {
      "text/plain": [
       "array([[-1.2, -1.2],\n",
       "       [ 1.2,  1.2],\n",
       "       [ 4. ,  4. ],\n",
       "       [-4. , -4. ],\n",
       "       [ 0. ,  0. ]])"
      ]
     },
     "execution_count": 117,
     "metadata": {},
     "output_type": "execute_result"
    }
   ],
   "source": [
    "myX"
   ]
  },
  {
   "cell_type": "code",
   "execution_count": 118,
   "id": "132d7f2d-6cb4-4447-9606-bd4eec4dfc12",
   "metadata": {},
   "outputs": [
    {
     "data": {
      "text/plain": [
       "6"
      ]
     },
     "execution_count": 118,
     "metadata": {},
     "output_type": "execute_result"
    }
   ],
   "source": [
    "mybayes(myX)  # I would like mybayes to give a category number (0 or 1) for each row"
   ]
  },
  {
   "cell_type": "markdown",
   "id": "e3cf9890-d244-48f3-94a0-a434a959a14a",
   "metadata": {},
   "source": [
    "The issue is that **by default** [np.argmax](https://numpy.org/doc/stable/reference/generated/numpy.argmax.html) doesn't deal with the array correctly, and neither do the density functions.  The output below should be an array.  In the next line we force it to follow the results along 'axis 1' (i.e., each row represents a data point)."
   ]
  },
  {
   "cell_type": "code",
   "execution_count": 119,
   "id": "d71fb216-0064-4b18-9ef0-e54f862162c2",
   "metadata": {},
   "outputs": [],
   "source": [
    "myval = np.array([[1,2],[2,1],[3,1],[2,3]])"
   ]
  },
  {
   "cell_type": "code",
   "execution_count": 120,
   "id": "e0c761e9-5253-4431-a460-fb237fab8c61",
   "metadata": {},
   "outputs": [
    {
     "data": {
      "text/plain": [
       "array([[1, 2],\n",
       "       [2, 1],\n",
       "       [3, 1],\n",
       "       [2, 3]])"
      ]
     },
     "execution_count": 120,
     "metadata": {},
     "output_type": "execute_result"
    }
   ],
   "source": [
    "myval"
   ]
  },
  {
   "cell_type": "code",
   "execution_count": 121,
   "id": "03a6ff2e-9768-472a-8a90-14063b38e768",
   "metadata": {},
   "outputs": [
    {
     "data": {
      "text/plain": [
       "4"
      ]
     },
     "execution_count": 121,
     "metadata": {},
     "output_type": "execute_result"
    }
   ],
   "source": [
    "np.argmax(myval)"
   ]
  },
  {
   "cell_type": "code",
   "execution_count": 122,
   "id": "f89e7d2e-9591-4739-b1ca-6aa109894e47",
   "metadata": {},
   "outputs": [
    {
     "data": {
      "text/plain": [
       "array([1, 0, 0, 1])"
      ]
     },
     "execution_count": 122,
     "metadata": {},
     "output_type": "execute_result"
    }
   ],
   "source": [
    "np.argmax(myval, axis=1)   # This gives the index (0 or 1) of the maximum value *in each row*"
   ]
  },
  {
   "cell_type": "code",
   "execution_count": 127,
   "id": "be01b049-49c1-4370-a2c4-b021abdab132",
   "metadata": {},
   "outputs": [
    {
     "data": {
      "text/plain": [
       "array([2.29098730e-04, 9.85764616e-02, 9.42666263e-05, 1.56743480e-13,\n",
       "       1.90289898e-02])"
      ]
     },
     "execution_count": 127,
     "metadata": {},
     "output_type": "execute_result"
    }
   ],
   "source": [
    "py1 *dist1.pdf(myX)  # This should produce an output for *each row* in myX--but it's in columns"
   ]
  },
  {
   "cell_type": "code",
   "execution_count": 143,
   "id": "dc8bf63b-9c98-48ca-9771-cc22b3a77b5f",
   "metadata": {},
   "outputs": [],
   "source": [
    "def mybayes(x):\n",
    "    return np.argmax(np.array([py0 * dist0.pdf(np.array(x)), py1 * dist1.pdf(np.array(x))]).T, axis=1)"
   ]
  },
  {
   "cell_type": "code",
   "execution_count": 144,
   "id": "ea62202b-4c03-4359-a59c-d6f8cfff73f1",
   "metadata": {},
   "outputs": [
    {
     "data": {
      "text/plain": [
       "array([0, 1, 1, 0, 1])"
      ]
     },
     "execution_count": 144,
     "metadata": {},
     "output_type": "execute_result"
    }
   ],
   "source": [
    "mybayes(myX)"
   ]
  },
  {
   "cell_type": "code",
   "execution_count": 489,
   "id": "929f1fe0-d288-4c81-ac92-d55823556685",
   "metadata": {},
   "outputs": [],
   "source": [
    "class myBayes():\n",
    "    import scipy.stats as stats\n",
    "    \n",
    "    def __init__(self):\n",
    "        import scipy.stats as stats\n",
    "        import numpy as np\n",
    "\n",
    "    def fit(self, X, y):\n",
    "        self.classes = np.unique(np.array(y)) # list of classes\n",
    "        if (self.classes.min() != 0) | (self.classes.max() != self.classes.shape[0] - 1):\n",
    "            return print(\"Classes must be np.array[0,...n]\")\n",
    "        self.py = np.bincount(y.astype('int8'))/y.size  # compute the priors P(y_k) for each class\n",
    "        self.dists = []\n",
    "        for i in np.unique(np.array(y)):\n",
    "            thisx = X[y == i]\n",
    "            thismean = np.mean(thisx, axis=0)\n",
    "            thiscov = np.cov(thisx.T)\n",
    "            self.dists.append(stats.multivariate_normal(thismean, thiscov))\n",
    "        return self\n",
    "\n",
    "    def predict(self,X):\n",
    "        myprobs = []\n",
    "        for i in range(self.classes.shape[0]):\n",
    "            myprobs.append(self.py[i] * np.array(self.dists[i].pdf(np.array(X))))\n",
    "        return  np.argmax(np.array(myprobs).T, axis=1)\n",
    "    "
   ]
  },
  {
   "cell_type": "code",
   "execution_count": 490,
   "id": "046dc144-5d29-460a-a2e3-38732d6b544d",
   "metadata": {},
   "outputs": [],
   "source": [
    "myownbayes = myBayes()"
   ]
  },
  {
   "cell_type": "code",
   "execution_count": 491,
   "id": "178fd96d-9832-4298-b012-5dd49d487eed",
   "metadata": {},
   "outputs": [],
   "source": [
    "mydists = myownbayes.fit(myX,myy)"
   ]
  },
  {
   "cell_type": "markdown",
   "id": "bdde1a05-60a6-4526-ac7b-83ffda01d4cc",
   "metadata": {},
   "source": [
    "## Warning:  There's a slight problem with this method (see below) ##"
   ]
  },
  {
   "cell_type": "code",
   "execution_count": 492,
   "id": "750fe3c0-fd8e-4960-a9a8-ab133a81546b",
   "metadata": {},
   "outputs": [
    {
     "ename": "AxisError",
     "evalue": "axis 1 is out of bounds for array of dimension 1",
     "output_type": "error",
     "traceback": [
      "\u001b[0;31m---------------------------------------------------------------------------\u001b[0m",
      "\u001b[0;31mAxisError\u001b[0m                                 Traceback (most recent call last)",
      "Cell \u001b[0;32mIn [492], line 1\u001b[0m\n\u001b[0;32m----> 1\u001b[0m \u001b[43mmydists\u001b[49m\u001b[38;5;241;43m.\u001b[39;49m\u001b[43mpredict\u001b[49m\u001b[43m(\u001b[49m\u001b[43mnp\u001b[49m\u001b[38;5;241;43m.\u001b[39;49m\u001b[43marray\u001b[49m\u001b[43m(\u001b[49m\u001b[43m[\u001b[49m\u001b[38;5;241;43m-\u001b[39;49m\u001b[38;5;241;43m1\u001b[39;49m\u001b[43m,\u001b[49m\u001b[38;5;241;43m2\u001b[39;49m\u001b[43m]\u001b[49m\u001b[43m)\u001b[49m\u001b[43m)\u001b[49m\n",
      "Cell \u001b[0;32mIn [489], line 25\u001b[0m, in \u001b[0;36mmyBayes.predict\u001b[0;34m(self, X)\u001b[0m\n\u001b[1;32m     23\u001b[0m \u001b[38;5;28;01mfor\u001b[39;00m i \u001b[38;5;129;01min\u001b[39;00m \u001b[38;5;28mrange\u001b[39m(\u001b[38;5;28mself\u001b[39m\u001b[38;5;241m.\u001b[39mclasses\u001b[38;5;241m.\u001b[39mshape[\u001b[38;5;241m0\u001b[39m]):\n\u001b[1;32m     24\u001b[0m     myprobs\u001b[38;5;241m.\u001b[39mappend(\u001b[38;5;28mself\u001b[39m\u001b[38;5;241m.\u001b[39mpy[i] \u001b[38;5;241m*\u001b[39m np\u001b[38;5;241m.\u001b[39marray(\u001b[38;5;28mself\u001b[39m\u001b[38;5;241m.\u001b[39mdists[i]\u001b[38;5;241m.\u001b[39mpdf(np\u001b[38;5;241m.\u001b[39marray(X))))\n\u001b[0;32m---> 25\u001b[0m \u001b[38;5;28;01mreturn\u001b[39;00m  \u001b[43mnp\u001b[49m\u001b[38;5;241;43m.\u001b[39;49m\u001b[43margmax\u001b[49m\u001b[43m(\u001b[49m\u001b[43mnp\u001b[49m\u001b[38;5;241;43m.\u001b[39;49m\u001b[43marray\u001b[49m\u001b[43m(\u001b[49m\u001b[43mmyprobs\u001b[49m\u001b[43m)\u001b[49m\u001b[38;5;241;43m.\u001b[39;49m\u001b[43mT\u001b[49m\u001b[43m,\u001b[49m\u001b[43m \u001b[49m\u001b[43maxis\u001b[49m\u001b[38;5;241;43m=\u001b[39;49m\u001b[38;5;241;43m1\u001b[39;49m\u001b[43m)\u001b[49m\n",
      "File \u001b[0;32m<__array_function__ internals>:200\u001b[0m, in \u001b[0;36margmax\u001b[0;34m(*args, **kwargs)\u001b[0m\n",
      "File \u001b[0;32m/usr/lib64/python3.11/site-packages/numpy/core/fromnumeric.py:1242\u001b[0m, in \u001b[0;36margmax\u001b[0;34m(a, axis, out, keepdims)\u001b[0m\n\u001b[1;32m   1155\u001b[0m \u001b[38;5;124;03m\"\"\"\u001b[39;00m\n\u001b[1;32m   1156\u001b[0m \u001b[38;5;124;03mReturns the indices of the maximum values along an axis.\u001b[39;00m\n\u001b[1;32m   1157\u001b[0m \n\u001b[0;32m   (...)\u001b[0m\n\u001b[1;32m   1239\u001b[0m \u001b[38;5;124;03m(2, 1, 4)\u001b[39;00m\n\u001b[1;32m   1240\u001b[0m \u001b[38;5;124;03m\"\"\"\u001b[39;00m\n\u001b[1;32m   1241\u001b[0m kwds \u001b[38;5;241m=\u001b[39m {\u001b[38;5;124m'\u001b[39m\u001b[38;5;124mkeepdims\u001b[39m\u001b[38;5;124m'\u001b[39m: keepdims} \u001b[38;5;28;01mif\u001b[39;00m keepdims \u001b[38;5;129;01mis\u001b[39;00m \u001b[38;5;129;01mnot\u001b[39;00m np\u001b[38;5;241m.\u001b[39m_NoValue \u001b[38;5;28;01melse\u001b[39;00m {}\n\u001b[0;32m-> 1242\u001b[0m \u001b[38;5;28;01mreturn\u001b[39;00m \u001b[43m_wrapfunc\u001b[49m\u001b[43m(\u001b[49m\u001b[43ma\u001b[49m\u001b[43m,\u001b[49m\u001b[43m \u001b[49m\u001b[38;5;124;43m'\u001b[39;49m\u001b[38;5;124;43margmax\u001b[39;49m\u001b[38;5;124;43m'\u001b[39;49m\u001b[43m,\u001b[49m\u001b[43m \u001b[49m\u001b[43maxis\u001b[49m\u001b[38;5;241;43m=\u001b[39;49m\u001b[43maxis\u001b[49m\u001b[43m,\u001b[49m\u001b[43m \u001b[49m\u001b[43mout\u001b[49m\u001b[38;5;241;43m=\u001b[39;49m\u001b[43mout\u001b[49m\u001b[43m,\u001b[49m\u001b[43m \u001b[49m\u001b[38;5;241;43m*\u001b[39;49m\u001b[38;5;241;43m*\u001b[39;49m\u001b[43mkwds\u001b[49m\u001b[43m)\u001b[49m\n",
      "File \u001b[0;32m/usr/lib64/python3.11/site-packages/numpy/core/fromnumeric.py:57\u001b[0m, in \u001b[0;36m_wrapfunc\u001b[0;34m(obj, method, *args, **kwds)\u001b[0m\n\u001b[1;32m     54\u001b[0m     \u001b[38;5;28;01mreturn\u001b[39;00m _wrapit(obj, method, \u001b[38;5;241m*\u001b[39margs, \u001b[38;5;241m*\u001b[39m\u001b[38;5;241m*\u001b[39mkwds)\n\u001b[1;32m     56\u001b[0m \u001b[38;5;28;01mtry\u001b[39;00m:\n\u001b[0;32m---> 57\u001b[0m     \u001b[38;5;28;01mreturn\u001b[39;00m \u001b[43mbound\u001b[49m\u001b[43m(\u001b[49m\u001b[38;5;241;43m*\u001b[39;49m\u001b[43margs\u001b[49m\u001b[43m,\u001b[49m\u001b[43m \u001b[49m\u001b[38;5;241;43m*\u001b[39;49m\u001b[38;5;241;43m*\u001b[39;49m\u001b[43mkwds\u001b[49m\u001b[43m)\u001b[49m\n\u001b[1;32m     58\u001b[0m \u001b[38;5;28;01mexcept\u001b[39;00m \u001b[38;5;167;01mTypeError\u001b[39;00m:\n\u001b[1;32m     59\u001b[0m     \u001b[38;5;66;03m# A TypeError occurs if the object does have such a method in its\u001b[39;00m\n\u001b[1;32m     60\u001b[0m     \u001b[38;5;66;03m# class, but its signature is not identical to that of NumPy's. This\u001b[39;00m\n\u001b[0;32m   (...)\u001b[0m\n\u001b[1;32m     64\u001b[0m     \u001b[38;5;66;03m# Call _wrapit from within the except clause to ensure a potential\u001b[39;00m\n\u001b[1;32m     65\u001b[0m     \u001b[38;5;66;03m# exception has a traceback chain.\u001b[39;00m\n\u001b[1;32m     66\u001b[0m     \u001b[38;5;28;01mreturn\u001b[39;00m _wrapit(obj, method, \u001b[38;5;241m*\u001b[39margs, \u001b[38;5;241m*\u001b[39m\u001b[38;5;241m*\u001b[39mkwds)\n",
      "\u001b[0;31mAxisError\u001b[0m: axis 1 is out of bounds for array of dimension 1"
     ]
    }
   ],
   "source": [
    "mydists.predict(np.array([-1,2]))"
   ]
  },
  {
   "cell_type": "markdown",
   "id": "590324eb-4354-4c86-8302-2c19352f93b9",
   "metadata": {},
   "source": [
    "## But it works in general . . . ##"
   ]
  },
  {
   "cell_type": "code",
   "execution_count": 493,
   "id": "4b366bbd-2e96-4360-a362-c78cdb2c4340",
   "metadata": {},
   "outputs": [
    {
     "data": {
      "text/plain": [
       "array([1, 1, 1, 1, 1, 1, 1, 1, 1, 1, 1, 1, 1, 1, 1, 1, 1, 1, 1, 1, 1, 1,\n",
       "       0, 1, 1, 1, 1, 1, 1, 1, 1, 1, 1, 1, 1, 1, 1, 1, 1, 1, 1, 1, 1, 1,\n",
       "       1, 1, 1, 1, 1, 1, 1, 1, 1, 1, 1, 1, 1, 1, 1, 1, 1, 1, 1, 1, 1, 1,\n",
       "       1, 1, 1, 1, 1, 1, 1, 1, 1, 1, 1, 1, 1, 1, 1, 1, 0, 1, 1, 1, 1, 1,\n",
       "       1, 1, 1, 1, 1, 1, 1, 1, 1, 1, 1, 1, 1, 1, 1, 1, 1, 1, 1, 1, 1, 1,\n",
       "       1, 1, 1, 1, 1, 0, 1, 1, 1, 1, 1, 1, 1, 1, 1, 1, 1, 1, 1, 1, 1, 1,\n",
       "       1, 1, 1, 1, 1, 1, 1, 1, 0, 0, 0, 0, 0, 0, 0, 0, 0, 0, 0, 0, 0, 0,\n",
       "       0, 0, 0, 0, 0, 0, 0, 0, 0, 0, 0, 0, 0, 0, 1, 0, 0, 0, 0, 0, 0, 0,\n",
       "       0, 0, 0, 0, 0, 0, 0, 0, 0, 0, 0, 0, 0, 0, 0, 0, 1, 0, 0, 0, 0, 0,\n",
       "       0, 0])"
      ]
     },
     "execution_count": 493,
     "metadata": {},
     "output_type": "execute_result"
    }
   ],
   "source": [
    "mydists.predict(myX)"
   ]
  }
 ],
 "metadata": {
  "kernelspec": {
   "display_name": "Python 3",
   "language": "python",
   "name": "python3"
  },
  "language_info": {
   "codemirror_mode": {
    "name": "ipython",
    "version": 3
   },
   "file_extension": ".py",
   "mimetype": "text/x-python",
   "name": "python",
   "nbconvert_exporter": "python",
   "pygments_lexer": "ipython3",
   "version": "3.11.6"
  }
 },
 "nbformat": 4,
 "nbformat_minor": 5
}
