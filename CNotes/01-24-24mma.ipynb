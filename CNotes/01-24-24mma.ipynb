{
 "cells": [
  {
   "cell_type": "code",
   "execution_count": 1,
   "id": "97f17dc7-b0ac-4134-8038-7c57083fd677",
   "metadata": {},
   "outputs": [
    {
     "data": {
      "text/html": [
       "<div><pre style=\"&#102;&#111;&#110;&#116;&#45;&#102;&#97;&#109;&#105;&#108;&#121;&#58;&#32;&#34;&#67;&#111;&#117;&#114;&#105;&#101;&#114;&#32;&#78;&#101;&#119;&#34;&#44;&#67;&#111;&#117;&#114;&#105;&#101;&#114;&#44;&#109;&#111;&#110;&#111;&#115;&#112;&#97;&#99;&#101;&#59;\">&#50;</pre></div>"
      ],
      "text/plain": [
       "2"
      ]
     },
     "execution_count": 1,
     "metadata": {
      "text/html": [],
      "text/plain": []
     },
     "output_type": "execute_result"
    }
   ],
   "source": [
    "1+1"
   ]
  },
  {
   "cell_type": "code",
   "execution_count": 2,
   "id": "7f567a2b-c955-4788-af37-41e9d24d423a",
   "metadata": {},
   "outputs": [
    {
     "data": {
      "text/html": [
       "<div><img alt=\"Output\" src=\"data:image/png;base64,iVBORw0KGgoAAAANSUhEUgAAAFgAAAASCAIAAABQNI5pAAAAhXpUWHRSYXcgcHJvZmlsZSB0eXBlIGV4aWYAAHjaVYvBDcMwDAP/mqIjyLJM2uMYiQNkg45fuu0n9yApgbT1vi97felp2dgxABc5csRU6P6juNciDXn+X9MfZGWgoRhTluEkhnJXkqKFN+LCAahYcIbnIV8gNQN3o86928QyPusLVffpbh/5eCey76LuBgAAAAlwSFlzAAALEwAACxMBAJqcGAAAADx0RVh0U29mdHdhcmUAQ3JlYXRlZCB3aXRoIHRoZSBXb2xmcmFtIExhbmd1YWdlIDogd3d3LndvbGZyYW0uY29tXKKmhQAAACF0RVh0Q3JlYXRpb24gVGltZQAyMDI0OjAxOjI0IDA4OjI5OjUymmFh2AAAA25JREFUWIXtmE1IKlEUx6/iEFGRMUwlDAoGEhJSBEm1aNEHU1EtWiQFBUktgohcBGI0RUK0DhdtCorwYxMSQQnVtA2SMUmaMIIMJYMIzCEt576F1TNHLR/Ya+FvNffOOed/5s+5wzACCCHIA4DwfzfwW8gb8UbeiDfyRrwhBAB4vd6BgQEcx1EU7e/vv729zYWSz+fTaDQ4jkskkomJCZZlc6HygcViEQgEx8fH34wXAgCsVitBEB6Ph6bpwsJCrVabi86mpqY6OzsZhqFpmmGYhYWFXKjEub6+np+fVygUWeTAz+zs7MhkMshDp9MRBBG/pigKx/GHhwd+2Dex2WxNTU1Jmz6fr6ioKBAIJIoaDIZsi7+8vKjVapvNVlNTQ1EUP2B5ebn4nYKCAgDA0dHRXyMeHx8pimpoaFhdXeUnRyKR2tpak8kUDoerqqr29/dTNvH8/Ly3t/dlr7Ozs1qtlr8/PDxMkmT8OhqNVlRUXF1dZaui1+tHRkYghNXV1SmNSKzT3Nw8PT0NIXwz4uLioqSkBABgNBpjsVjKNI/Hg2HY4ODg5ORkutKhUGhpaSmDNoTQ6/ViGMYwDP+Wy+WqrKyMRCIQwu3t7ba2tmxVDg4OFApFKBSCXxnBcZxGo+nt7Y0/76ejEQwGZ2Zm1Gp1NBpNmdzX1ycSie7u7tJV/9KIm5sbpVK5tbWVLqCjo2NzcxNC2NPTY7FYslK5v7+XyWQnJyfxZWYjDAZDfX3909NTfJn8jnh9fUUQhKZpfqbdblepVGNjY0NDQ/y7u7u7JEnq9frW1laSJEmS5E/W5eWlXC43m83pmoMQOhyOxsbGYDD4MRrfVzGZTOIEhEJhcXHx+Pg4X2V9fV0qlfr9/o8dEA6HCYJwOBwsywYCgcXFRQzDWJZNyvT7/RKJxOl0siyrVCrX1tZSPkaGiXC5XDiOW63WDC7EUalUo6OjOp0uXcB3DiBMPxGHh4coip6dnSVuAgghRVHd3d04jpeVlXV1dbnd7qRMjuPa29uNRmN86Xa7URQ9Pz/PqsXy8nIEQUpLS0Xv2O32lJEbGxsAgJT1v1RJJJ0RYrEYQZDE2VlZWUk+Gr8Bs9nc0tLyw6K/ywiO405PT6VSqdPp/GFpUW4+7f4FCKFcLo/FYnNzc3V1dT+sLoD5HzMAAAD+AEKpONI63TLDAAAAAElFTkSuQmCC\"></div>"
      ],
      "text/plain": [
       "3 x + 2 y + 4 z"
      ]
     },
     "execution_count": 2,
     "metadata": {
      "text/html": [],
      "text/plain": []
     },
     "output_type": "execute_result"
    }
   ],
   "source": [
    "f[x_, y_, z_] = 3 x + 2 y + 4 z "
   ]
  },
  {
   "cell_type": "code",
   "execution_count": 3,
   "id": "ca66ae19-6c30-4b4d-a4b3-93c6f0a10d7b",
   "metadata": {},
   "outputs": [
    {
     "data": {
      "text/html": [
       "<div><img alt=\"Output\" src=\"data:image/png;base64,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\"></div>"
      ],
      "text/plain": [
       "       2      2      2\n",
       "-81 + x  + 2 y  + 6 z"
      ]
     },
     "execution_count": 3,
     "metadata": {
      "text/html": [],
      "text/plain": []
     },
     "output_type": "execute_result"
    }
   ],
   "source": [
    "g[x_,y_, z_] = x^2 + 2 y^2 + 6 z^2 - 81"
   ]
  },
  {
   "cell_type": "code",
   "execution_count": 4,
   "id": "1bb5b574-dcfa-40d3-b55a-d74b8cb6f7a5",
   "metadata": {},
   "outputs": [
    {
     "data": {
      "text/html": [
       "<div><img alt=\"Output\" src=\"data:image/png;base64,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\"></div>"
      ],
      "text/plain": [
       "Grad[f, {x , …, x }] gives the gradient (∂ f/∂ x , …, ∂ f/∂ x )\n",
       "          1      n                              1            n\n",
       " \n",
       ">    .Grad[f, {x , …, x }, chart] gives the gradient in the coordinates chart.\n",
       "                1      n\n",
       "\n",
       "\n",
       "Attributes[Grad]={Protected, ReadProtected}"
      ]
     },
     "execution_count": 4,
     "metadata": {
      "text/html": [],
      "text/plain": []
     },
     "output_type": "execute_result"
    }
   ],
   "source": [
    "?Grad"
   ]
  },
  {
   "cell_type": "code",
   "execution_count": 6,
   "id": "5e80d544-03fd-4353-ab36-cc793e2e1807",
   "metadata": {},
   "outputs": [
    {
     "data": {
      "text/html": [
       "<div><pre style=\"&#102;&#111;&#110;&#116;&#45;&#102;&#97;&#109;&#105;&#108;&#121;&#58;&#32;&#34;&#67;&#111;&#117;&#114;&#105;&#101;&#114;&#32;&#78;&#101;&#119;&#34;&#44;&#67;&#111;&#117;&#114;&#105;&#101;&#114;&#44;&#109;&#111;&#110;&#111;&#115;&#112;&#97;&#99;&#101;&#59;\">&#123;&#51;&#44;&#32;&#50;&#44;&#32;&#52;&#125;</pre></div>"
      ],
      "text/plain": [
       "{3, 2, 4}"
      ]
     },
     "execution_count": 6,
     "metadata": {
      "text/html": [],
      "text/plain": []
     },
     "output_type": "execute_result"
    }
   ],
   "source": [
    "Grad[f[x,y,z],{x,y,z}]"
   ]
  },
  {
   "cell_type": "code",
   "execution_count": 7,
   "id": "b3b696a8-db05-4b6c-b6a0-977452c04ddb",
   "metadata": {},
   "outputs": [
    {
     "data": {
      "text/html": [
       "<div><img alt=\"Output\" src=\"data:image/png;base64,iVBORw0KGgoAAAANSUhEUgAAAG8AAAASCAIAAADaGxcoAAAAhXpUWHRSYXcgcHJvZmlsZSB0eXBlIGV4aWYAAHjaVYvBDcMwDAP/mqIjyLJM2uMYiQNkg45fuu0n9yApgbT1vi97felp2dgxABc5csRU6P6juNciDXn+X9MfZGWgoRhTluEkhnJXkqKFN+LCAahYcIbnIV8gNQN3o86928QyPusLVffpbh/5eCey76LuBgAAAAlwSFlzAAALEwAACxMBAJqcGAAAADx0RVh0U29mdHdhcmUAQ3JlYXRlZCB3aXRoIHRoZSBXb2xmcmFtIExhbmd1YWdlIDogd3d3LndvbGZyYW0uY29tXKKmhQAAACF0RVh0Q3JlYXRpb24gVGltZQAyMDI0OjAxOjI0IDA4OjMxOjAw8cz17gAABG9JREFUWIXtmF0oe38cx8/Mfi6IoS2rDe1Cs7QUxdxwMSKNJM93E4WQtTy0wjokV5I8lFhNa7MbkQspNldKkR1RB1Fm9iSsMTTO939xfr/zPz/bDmP61z+vq+/5fD7fz/t73ud7HjYaAAD6IUxE/NcL+F/x42Y4+XEznPy4GU7+cnNpaWl4eJh4L1ksltraWi6Xy+FwWltbvV7v961Dr9fTaLStra2wd/b5fDAM5+bm0ul0h8NBxB8fHxUKRXp6ekJCQmlp6dnZWaid19bWxsfHX15eiMi/brrdbgRBlEoljUbDI52dnSUlJSiK7u/voyiqUqm+cFJUnJ+fDw4OpqWlfUdzAACbza6pqcEwjBwfGxtjMBgmk8lqtQqFwrq6ulA7FxcXS6XS2dnZv8RwTk5O1Go1CILBYMjLy/OPy+Xy4uJifGwymbhc7s3NTbAmAfH5fDk5OQaDISMjw2QyvclaLJbo6GibzUZWVCqVIUkAAO7u7iAIstvtAbNOp5NGoz09PfmnRkdHY/4QFRUFQZDRaCQX9Pb2EuOPPjcRBElPT/ePj4yM2O32qakpr9fb2Ng4NzcXHx8f0hXu7+8XCARVVVXkW4aAy+VWVlbOzMzghz6fT6vVymSykCTeBUEQPp+Pm/WG7u5uj8fj8Xiur6+zs7O7uroKCgrIBYD8wU74iqKoRqMJeOlOT09ZLBaKogGzR0dHLBarvr6+vb39nR3ix8bGRlpamsfjAQAIBAL/vQkAMJvNSUlJz8/PAIClpSWJRBKqCqDcm8/Pz5mZmQsLCxTTMQyrra0tKyt7fX19k+rp6SHGv928uLiAYdhqtfo3uri4EAqFWq2WQqy8vDwyMtLhcFDU+ONyuVJSUnZ2dvDDYG4CAIqKivCzlUqler0+JBWcYG4+PT1VVFS0tLRQT1cqlVlZWff39/6pwcFBYvzbzcvLSxiGLRbLm9Lj42M+n6/T6SiUlpeXRSJRU1NTQ0ODf/bh4SHYxMnJSSaJiIiImJiY5uZm/8r19XWxWOx0OolN+kEJgoBu3t/fSySStrY26rlqtTo5Ofnq6ipgdnFxUaFQ4GOqO91sNnO53MXFRQqlq6srDoezt7fn9XqFQuH8/Dw529TURKfTt7e3qZeLQ7E3AQAikUgmk8nl8jfxD0r4u3l7eysWizs6Oqgnbm5uJiYmIggSrKCvr48YU73T2Ww2g8GIi4uL/MPy8jK5AMOwwsLCoaEh/PDg4CAxMfHw8JAo6O7uptPpKpWKesU41G5qNBoIgsjNPyjR3NzMZDLj4uIgCIqNjWUymdPT0wCA6upqCILi4+N//fqFn53/pQIAMJlMBoNBvocmJibIBQGem+C9L6RPU19fPz4+/vU+Op0uPz//WyU+R2A33W73J77jqDEajTwez+VyfaUJhmG7u7vJycl7e3vfJPFpbDYb/usRByLnVlZWBgYGMAwLi5LL5crLyzObzV9pgmFYamoqj8ebnZ39JolPs7q6CsOw2+0mIjTw829x+PgHLSq/jMSbW28AAAAASUVORK5CYII=\"></div>"
      ],
      "text/plain": [
       "{2 x, 4 y, 12 z}"
      ]
     },
     "execution_count": 7,
     "metadata": {
      "text/html": [],
      "text/plain": []
     },
     "output_type": "execute_result"
    }
   ],
   "source": [
    "Grad[g[x,y,z], {x,y,z}]"
   ]
  },
  {
   "cell_type": "code",
   "execution_count": 11,
   "id": "19718560-f6fc-4adf-9601-53f62716b5e8",
   "metadata": {},
   "outputs": [
    {
     "data": {
      "text/html": [
       "<div><img alt=\"Output\" src=\"data:image/png;base64,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\"></div>"
      ],
      "text/plain": [
       "                                                                         41\n",
       "                                                                   -Sqrt[--]\n",
       "                3                 3                 3                    3\n",
       "{{x -> -27 Sqrt[--], y -> -9 Sqrt[--], z -> -6 Sqrt[--], lambda -> ---------}, \n",
       "                41                41                41                18\n",
       " \n",
       "                                                                        41\n",
       "                                                                   Sqrt[--]\n",
       "                  3                3                3                   3\n",
       ">   {x -> 27 Sqrt[--], y -> 9 Sqrt[--], z -> 6 Sqrt[--], lambda -> --------}}\n",
       "                  41               41               41                18"
      ]
     },
     "execution_count": 11,
     "metadata": {
      "text/html": [],
      "text/plain": []
     },
     "output_type": "execute_result"
    }
   ],
   "source": [
    "Solve[{Grad[f[x,y,z],{x,y,z}]  == lambda Grad[g[x,y,z],{x,y,z}], g[x,y,z] == 0}, {x,y,z,lambda}]"
   ]
  },
  {
   "cell_type": "code",
   "execution_count": null,
   "id": "57b6966e-e04d-461c-b41c-f2919d0809be",
   "metadata": {},
   "outputs": [],
   "source": []
  }
 ],
 "metadata": {
  "kernelspec": {
   "display_name": "Wolfram Language 12",
   "language": "Wolfram Language",
   "name": "wolframlanguage12"
  },
  "language_info": {
   "codemirror_mode": "mathematica",
   "file_extension": ".m",
   "mimetype": "application/vnd.wolfram.m",
   "name": "Wolfram Language",
   "pygments_lexer": "mathematica",
   "version": "12.0"
  }
 },
 "nbformat": 4,
 "nbformat_minor": 5
}
