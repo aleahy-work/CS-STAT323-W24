{
 "cells": [
  {
   "cell_type": "markdown",
   "id": "99270c40-fb6b-48ae-af03-924110b9fa57",
   "metadata": {},
   "source": [
    "# Semantic Analysis: Categorization of Sentences #"
   ]
  },
  {
   "cell_type": "markdown",
   "id": "d82718f7-dfc2-4585-9c73-887cdb01c644",
   "metadata": {},
   "source": [
    "This set of notes basically follows the presentation in the first 2/3 of Chapter 8 of the text book, with several deviations (given below).  For instance, the textbook shows how to unpack the dataset from scratch, but there is a cleaner version of the text corpus than used in the book which can be found on [kaggle.com](https://www.kaggle.com/datasets/lakshmi25npathi/imdb-dataset-of-50k-movie-reviews)  It is also available as imdb-dataset.csv in your CNotesCS323_1. "
   ]
  },
  {
   "cell_type": "code",
   "execution_count": 2,
   "id": "ab4cb903-d554-4c00-8929-db1dad732ed7",
   "metadata": {},
   "outputs": [],
   "source": [
    "import numpy as np\n",
    "import pandas as pd"
   ]
  },
  {
   "cell_type": "code",
   "execution_count": 3,
   "id": "e6243178-5092-41a8-a3aa-0b85dd40e57b",
   "metadata": {},
   "outputs": [],
   "source": [
    "mydata = pd.read_csv(\"/home/courses/CS323_1/CNotes/imdb-dataset.csv\")"
   ]
  },
  {
   "cell_type": "code",
   "execution_count": 4,
   "id": "9e498a6f-38c7-4d81-9594-b7e5aae5041c",
   "metadata": {},
   "outputs": [
    {
     "data": {
      "text/html": [
       "<div>\n",
       "<style scoped>\n",
       "    .dataframe tbody tr th:only-of-type {\n",
       "        vertical-align: middle;\n",
       "    }\n",
       "\n",
       "    .dataframe tbody tr th {\n",
       "        vertical-align: top;\n",
       "    }\n",
       "\n",
       "    .dataframe thead th {\n",
       "        text-align: right;\n",
       "    }\n",
       "</style>\n",
       "<table border=\"1\" class=\"dataframe\">\n",
       "  <thead>\n",
       "    <tr style=\"text-align: right;\">\n",
       "      <th></th>\n",
       "      <th>review</th>\n",
       "      <th>sentiment</th>\n",
       "    </tr>\n",
       "  </thead>\n",
       "  <tbody>\n",
       "    <tr>\n",
       "      <th>0</th>\n",
       "      <td>One of the other reviewers has mentioned that ...</td>\n",
       "      <td>positive</td>\n",
       "    </tr>\n",
       "    <tr>\n",
       "      <th>1</th>\n",
       "      <td>A wonderful little production. &lt;br /&gt;&lt;br /&gt;The...</td>\n",
       "      <td>positive</td>\n",
       "    </tr>\n",
       "    <tr>\n",
       "      <th>2</th>\n",
       "      <td>I thought this was a wonderful way to spend ti...</td>\n",
       "      <td>positive</td>\n",
       "    </tr>\n",
       "    <tr>\n",
       "      <th>3</th>\n",
       "      <td>Basically there's a family where a little boy ...</td>\n",
       "      <td>negative</td>\n",
       "    </tr>\n",
       "    <tr>\n",
       "      <th>4</th>\n",
       "      <td>Petter Mattei's \"Love in the Time of Money\" is...</td>\n",
       "      <td>positive</td>\n",
       "    </tr>\n",
       "  </tbody>\n",
       "</table>\n",
       "</div>"
      ],
      "text/plain": [
       "                                              review sentiment\n",
       "0  One of the other reviewers has mentioned that ...  positive\n",
       "1  A wonderful little production. <br /><br />The...  positive\n",
       "2  I thought this was a wonderful way to spend ti...  positive\n",
       "3  Basically there's a family where a little boy ...  negative\n",
       "4  Petter Mattei's \"Love in the Time of Money\" is...  positive"
      ]
     },
     "execution_count": 4,
     "metadata": {},
     "output_type": "execute_result"
    }
   ],
   "source": [
    "mydata.head()"
   ]
  },
  {
   "cell_type": "code",
   "execution_count": 5,
   "id": "36e3fc8d-73af-4b6f-a839-6f4a29b99f80",
   "metadata": {},
   "outputs": [
    {
     "data": {
      "text/plain": [
       "\"One of the other reviewers has mentioned that after watching just 1 Oz episode you'll be hooked. They are right, as this is exactly what happened with me.<br /><br />The first thing that struck me about Oz was its brutality and unflinching scenes of violence, which set in right from the word GO. Trust me, this is not a show for the faint hearted or timid. This show pulls no punches with regards to drugs, sex or violence. Its is hardcore, in the classic use of the word.<br /><br />It is called OZ as that is the nickname given to the Oswald Maximum Security State Penitentary. It focuses mainly on Emerald City, an experimental section of the prison where all the cells have glass fronts and face inwards, so privacy is not high on the agenda. Em City is home to many..Aryans, Muslims, gangstas, Latinos, Christians, Italians, Irish and more....so scuffles, death stares, dodgy dealings and shady agreements are never far away.<br /><br />I would say the main appeal of the show is due to the fact that it goes where other shows wouldn't dare. Forget pretty pictures painted for mainstream audiences, forget charm, forget romance...OZ doesn't mess around. The first episode I ever saw struck me as so nasty it was surreal, I couldn't say I was ready for it, but as I watched more, I developed a taste for Oz, and got accustomed to the high levels of graphic violence. Not just violence, but injustice (crooked guards who'll be sold out for a nickel, inmates who'll kill on order and get away with it, well mannered, middle class inmates being turned into prison bitches due to their lack of street skills or prison experience) Watching Oz, you may become comfortable with what is uncomfortable viewing....thats if you can get in touch with your darker side.\""
      ]
     },
     "execution_count": 5,
     "metadata": {},
     "output_type": "execute_result"
    }
   ],
   "source": [
    "mydata.loc[0,'review']"
   ]
  },
  {
   "cell_type": "code",
   "execution_count": 6,
   "id": "4a1da2b4-df24-427e-9d57-853797207e71",
   "metadata": {},
   "outputs": [
    {
     "data": {
      "text/plain": [
       "(50000, 2)"
      ]
     },
     "execution_count": 6,
     "metadata": {},
     "output_type": "execute_result"
    }
   ],
   "source": [
    "mydata.shape"
   ]
  },
  {
   "cell_type": "code",
   "execution_count": 7,
   "id": "491b50c4-57e4-4336-b4bc-e3398b8eae80",
   "metadata": {},
   "outputs": [
    {
     "data": {
      "text/plain": [
       "review       object\n",
       "sentiment    object\n",
       "dtype: object"
      ]
     },
     "execution_count": 7,
     "metadata": {},
     "output_type": "execute_result"
    }
   ],
   "source": [
    "mydata.dtypes"
   ]
  },
  {
   "cell_type": "markdown",
   "id": "02d7a7cd-0bf7-4896-afb9-516fe5aba2f9",
   "metadata": {},
   "source": [
    "## Goal: Predict 'positive' or 'negative' based on the text with the 'Bag of Words' model ##\n",
    "\n",
    "**Idea:** For each entry, we must *vectorize\" the text--that is, create a (fixed-length) 'feature vector' from the text--a numerical vector we can input into the usual models--SVM, logistic regression, etc.\n",
    "\n",
    "+ There are many ways to do this.\n",
    "+ We will use something called a 'Bag of words' model.\n",
    "+ This is not state-of-the-art (\"SOTA\") today, but still very useful to understand "
   ]
  },
  {
   "cell_type": "markdown",
   "id": "7580632d-76b4-4e94-88f7-8e6a696cad57",
   "metadata": {},
   "source": [
    "# Text Processing with Python #"
   ]
  },
  {
   "cell_type": "markdown",
   "id": "a4504d0e-fc5d-4e3b-858d-6ff8ca5ce31c",
   "metadata": {},
   "source": [
    "## Point 1:  Each review is a string ##"
   ]
  },
  {
   "cell_type": "code",
   "execution_count": 8,
   "id": "1b85396a-1e82-47b0-9d64-6327ede50b1b",
   "metadata": {},
   "outputs": [],
   "source": [
    "mystring = mydata.loc[0,'review']"
   ]
  },
  {
   "cell_type": "code",
   "execution_count": 9,
   "id": "a98ae532-9c31-4388-a424-1380209a2b37",
   "metadata": {},
   "outputs": [
    {
     "data": {
      "text/plain": [
       "\"One of the other reviewers has mentioned that after watching just 1 Oz episode you'll be hooked. They are right, as this is exactly what happened with me.<br /><br />The first thing that struck me about Oz was its brutality and unflinching scenes of violence, which set in right from the word GO. Trust me, this is not a show for the faint hearted or timid. This show pulls no punches with regards to drugs, sex or violence. Its is hardcore, in the classic use of the word.<br /><br />It is called OZ as that is the nickname given to the Oswald Maximum Security State Penitentary. It focuses mainly on Emerald City, an experimental section of the prison where all the cells have glass fronts and face inwards, so privacy is not high on the agenda. Em City is home to many..Aryans, Muslims, gangstas, Latinos, Christians, Italians, Irish and more....so scuffles, death stares, dodgy dealings and shady agreements are never far away.<br /><br />I would say the main appeal of the show is due to the fact that it goes where other shows wouldn't dare. Forget pretty pictures painted for mainstream audiences, forget charm, forget romance...OZ doesn't mess around. The first episode I ever saw struck me as so nasty it was surreal, I couldn't say I was ready for it, but as I watched more, I developed a taste for Oz, and got accustomed to the high levels of graphic violence. Not just violence, but injustice (crooked guards who'll be sold out for a nickel, inmates who'll kill on order and get away with it, well mannered, middle class inmates being turned into prison bitches due to their lack of street skills or prison experience) Watching Oz, you may become comfortable with what is uncomfortable viewing....thats if you can get in touch with your darker side.\""
      ]
     },
     "execution_count": 9,
     "metadata": {},
     "output_type": "execute_result"
    }
   ],
   "source": [
    "mystring"
   ]
  },
  {
   "cell_type": "markdown",
   "id": "ecc9a195-d984-4e0c-b0ef-f5e4a4904207",
   "metadata": {},
   "source": [
    "## Point 2: Strings are just arrays of unicode characters ##"
   ]
  },
  {
   "cell_type": "code",
   "execution_count": 11,
   "id": "731f423f-3659-4012-abdd-7333dcf3b1dd",
   "metadata": {},
   "outputs": [
    {
     "data": {
      "text/plain": [
       "'One of the other reviewers has mentioned that afte'"
      ]
     },
     "execution_count": 11,
     "metadata": {},
     "output_type": "execute_result"
    }
   ],
   "source": [
    "mystring[:50]"
   ]
  },
  {
   "cell_type": "code",
   "execution_count": 12,
   "id": "9ca84616-e02a-4516-99b7-c69eded3906a",
   "metadata": {},
   "outputs": [
    {
     "data": {
      "text/plain": [
       "True"
      ]
     },
     "execution_count": 12,
     "metadata": {},
     "output_type": "execute_result"
    }
   ],
   "source": [
    "isinstance(mystring, str)"
   ]
  },
  {
   "cell_type": "markdown",
   "id": "cb47dd3d-e973-4a92-ad41-6b8e42c3a2c0",
   "metadata": {},
   "source": [
    "## Point 3: There are lots of python methods for dealing with strings ##\n",
    "\n",
    "For instance, see [here](https://www.w3schools.com/python/python_ref_string.asp) or [here](https://www.pythoncheatsheet.org/cheatsheet/manipulating-strings) for a lengthy list."
   ]
  },
  {
   "cell_type": "code",
   "execution_count": 13,
   "id": "dffb7443-ddab-4b54-9f43-59642a821588",
   "metadata": {},
   "outputs": [
    {
     "data": {
      "text/plain": [
       "\"One Of The Other Reviewers Has Mentioned That After Watching Just 1 Oz Episode You'Ll Be Hooked. They Are Right, As This Is Exactly What Happened With Me.<Br /><Br />The First Thing That Struck Me About Oz Was Its Brutality And Unflinching Scenes Of Violence, Which Set In Right From The Word Go. Trust Me, This Is Not A Show For The Faint Hearted Or Timid. This Show Pulls No Punches With Regards To Drugs, Sex Or Violence. Its Is Hardcore, In The Classic Use Of The Word.<Br /><Br />It Is Called Oz As That Is The Nickname Given To The Oswald Maximum Security State Penitentary. It Focuses Mainly On Emerald City, An Experimental Section Of The Prison Where All The Cells Have Glass Fronts And Face Inwards, So Privacy Is Not High On The Agenda. Em City Is Home To Many..Aryans, Muslims, Gangstas, Latinos, Christians, Italians, Irish And More....So Scuffles, Death Stares, Dodgy Dealings And Shady Agreements Are Never Far Away.<Br /><Br />I Would Say The Main Appeal Of The Show Is Due To The Fact That It Goes Where Other Shows Wouldn'T Dare. Forget Pretty Pictures Painted For Mainstream Audiences, Forget Charm, Forget Romance...Oz Doesn'T Mess Around. The First Episode I Ever Saw Struck Me As So Nasty It Was Surreal, I Couldn'T Say I Was Ready For It, But As I Watched More, I Developed A Taste For Oz, And Got Accustomed To The High Levels Of Graphic Violence. Not Just Violence, But Injustice (Crooked Guards Who'Ll Be Sold Out For A Nickel, Inmates Who'Ll Kill On Order And Get Away With It, Well Mannered, Middle Class Inmates Being Turned Into Prison Bitches Due To Their Lack Of Street Skills Or Prison Experience) Watching Oz, You May Become Comfortable With What Is Uncomfortable Viewing....Thats If You Can Get In Touch With Your Darker Side.\""
      ]
     },
     "execution_count": 13,
     "metadata": {},
     "output_type": "execute_result"
    }
   ],
   "source": [
    "mystring.title()"
   ]
  },
  {
   "cell_type": "code",
   "execution_count": 14,
   "id": "0cca2df3-08a5-455d-85ef-7e9d347d1ad3",
   "metadata": {},
   "outputs": [
    {
     "data": {
      "text/plain": [
       "\"ONE OF THE OTHER REVIEWERS HAS MENTIONED THAT AFTER WATCHING JUST 1 OZ EPISODE YOU'LL BE HOOKED. THEY ARE RIGHT, AS THIS IS EXACTLY WHAT HAPPENED WITH ME.<BR /><BR />THE FIRST THING THAT STRUCK ME ABOUT OZ WAS ITS BRUTALITY AND UNFLINCHING SCENES OF VIOLENCE, WHICH SET IN RIGHT FROM THE WORD GO. TRUST ME, THIS IS NOT A SHOW FOR THE FAINT HEARTED OR TIMID. THIS SHOW PULLS NO PUNCHES WITH REGARDS TO DRUGS, SEX OR VIOLENCE. ITS IS HARDCORE, IN THE CLASSIC USE OF THE WORD.<BR /><BR />IT IS CALLED OZ AS THAT IS THE NICKNAME GIVEN TO THE OSWALD MAXIMUM SECURITY STATE PENITENTARY. IT FOCUSES MAINLY ON EMERALD CITY, AN EXPERIMENTAL SECTION OF THE PRISON WHERE ALL THE CELLS HAVE GLASS FRONTS AND FACE INWARDS, SO PRIVACY IS NOT HIGH ON THE AGENDA. EM CITY IS HOME TO MANY..ARYANS, MUSLIMS, GANGSTAS, LATINOS, CHRISTIANS, ITALIANS, IRISH AND MORE....SO SCUFFLES, DEATH STARES, DODGY DEALINGS AND SHADY AGREEMENTS ARE NEVER FAR AWAY.<BR /><BR />I WOULD SAY THE MAIN APPEAL OF THE SHOW IS DUE TO THE FACT THAT IT GOES WHERE OTHER SHOWS WOULDN'T DARE. FORGET PRETTY PICTURES PAINTED FOR MAINSTREAM AUDIENCES, FORGET CHARM, FORGET ROMANCE...OZ DOESN'T MESS AROUND. THE FIRST EPISODE I EVER SAW STRUCK ME AS SO NASTY IT WAS SURREAL, I COULDN'T SAY I WAS READY FOR IT, BUT AS I WATCHED MORE, I DEVELOPED A TASTE FOR OZ, AND GOT ACCUSTOMED TO THE HIGH LEVELS OF GRAPHIC VIOLENCE. NOT JUST VIOLENCE, BUT INJUSTICE (CROOKED GUARDS WHO'LL BE SOLD OUT FOR A NICKEL, INMATES WHO'LL KILL ON ORDER AND GET AWAY WITH IT, WELL MANNERED, MIDDLE CLASS INMATES BEING TURNED INTO PRISON BITCHES DUE TO THEIR LACK OF STREET SKILLS OR PRISON EXPERIENCE) WATCHING OZ, YOU MAY BECOME COMFORTABLE WITH WHAT IS UNCOMFORTABLE VIEWING....THATS IF YOU CAN GET IN TOUCH WITH YOUR DARKER SIDE.\""
      ]
     },
     "execution_count": 14,
     "metadata": {},
     "output_type": "execute_result"
    }
   ],
   "source": [
    "mystring.upper()"
   ]
  },
  {
   "cell_type": "code",
   "execution_count": 15,
   "id": "36ae92de-0b02-4781-95d2-fcccec68bf5a",
   "metadata": {},
   "outputs": [
    {
     "data": {
      "text/plain": [
       "[\"One of the other reviewers has mentioned that after watching just 1 Oz episode you'll be hooked\",\n",
       " ' They are right, as this is exactly what happened with me',\n",
       " '<br /><br />The first thing that struck me about Oz was its brutality and unflinching scenes of violence, which set in right from the word GO',\n",
       " ' Trust me, this is not a show for the faint hearted or timid',\n",
       " ' This show pulls no punches with regards to drugs, sex or violence',\n",
       " ' Its is hardcore, in the classic use of the word',\n",
       " '<br /><br />It is called OZ as that is the nickname given to the Oswald Maximum Security State Penitentary',\n",
       " ' It focuses mainly on Emerald City, an experimental section of the prison where all the cells have glass fronts and face inwards, so privacy is not high on the agenda',\n",
       " ' Em City is home to many',\n",
       " '',\n",
       " 'Aryans, Muslims, gangstas, Latinos, Christians, Italians, Irish and more',\n",
       " '',\n",
       " '',\n",
       " '',\n",
       " 'so scuffles, death stares, dodgy dealings and shady agreements are never far away',\n",
       " \"<br /><br />I would say the main appeal of the show is due to the fact that it goes where other shows wouldn't dare\",\n",
       " ' Forget pretty pictures painted for mainstream audiences, forget charm, forget romance',\n",
       " '',\n",
       " '',\n",
       " \"OZ doesn't mess around\",\n",
       " \" The first episode I ever saw struck me as so nasty it was surreal, I couldn't say I was ready for it, but as I watched more, I developed a taste for Oz, and got accustomed to the high levels of graphic violence\",\n",
       " \" Not just violence, but injustice (crooked guards who'll be sold out for a nickel, inmates who'll kill on order and get away with it, well mannered, middle class inmates being turned into prison bitches due to their lack of street skills or prison experience) Watching Oz, you may become comfortable with what is uncomfortable viewing\",\n",
       " '',\n",
       " '',\n",
       " '',\n",
       " 'thats if you can get in touch with your darker side',\n",
       " '']"
      ]
     },
     "execution_count": 15,
     "metadata": {},
     "output_type": "execute_result"
    }
   ],
   "source": [
    "mystring.split('.')"
   ]
  },
  {
   "cell_type": "markdown",
   "id": "9ddea1dc-3940-4966-b7d6-7c1cd916855f",
   "metadata": {},
   "source": [
    "## Point 4: We are primarily interested in splitting a sentence into words ##\n",
    "\n",
    "**Idea:** The list of words will be converted into a *numerical* list of *counts* of each word, and the differences in these counts will be used to distinguish one review from another.  Hence \"bag of words\".   "
   ]
  },
  {
   "cell_type": "markdown",
   "id": "0f01c376-d628-4931-8c1a-b70fb382e521",
   "metadata": {},
   "source": [
    "**Example:** (From the book)"
   ]
  },
  {
   "cell_type": "code",
   "execution_count": 16,
   "id": "526b9062-8ef2-4685-859b-7f6a8d216eb5",
   "metadata": {},
   "outputs": [],
   "source": [
    "import numpy as np\n",
    "from sklearn.feature_extraction.text import CountVectorizer\n",
    "\n",
    "count = CountVectorizer()\n",
    "docs = np.array([\n",
    "        'The sun is shining',\n",
    "        'The weather is sweet',\n",
    "        'The sun is shining, the weather is sweet, and one and one is two'])\n",
    "bag = count.fit_transform(docs)"
   ]
  },
  {
   "cell_type": "code",
   "execution_count": 17,
   "id": "e76e5b49-d8c6-4191-b65d-76dffc578759",
   "metadata": {},
   "outputs": [
    {
     "name": "stdout",
     "output_type": "stream",
     "text": [
      "{'the': 6, 'sun': 4, 'is': 1, 'shining': 3, 'weather': 8, 'sweet': 5, 'and': 0, 'one': 2, 'two': 7}\n"
     ]
    }
   ],
   "source": [
    "print(count.vocabulary_)"
   ]
  },
  {
   "cell_type": "code",
   "execution_count": 18,
   "id": "20a6c9c2-fb9f-4125-aa37-ef05a209191e",
   "metadata": {},
   "outputs": [
    {
     "name": "stdout",
     "output_type": "stream",
     "text": [
      "[[0 1 0 1 1 0 1 0 0]\n",
      " [0 1 0 0 0 1 1 0 1]\n",
      " [2 3 2 1 1 1 2 1 1]]\n"
     ]
    }
   ],
   "source": [
    "print(bag.toarray())"
   ]
  },
  {
   "cell_type": "markdown",
   "id": "cd474139-9310-4130-a14a-281a764b9bdd",
   "metadata": {},
   "source": [
    "**Problem:** Real sentence are messy."
   ]
  },
  {
   "cell_type": "code",
   "execution_count": 19,
   "id": "436077bf-4d86-4d23-9312-0736c56c9433",
   "metadata": {},
   "outputs": [
    {
     "data": {
      "text/plain": [
       "['One',\n",
       " 'of',\n",
       " 'the',\n",
       " 'other',\n",
       " 'reviewers',\n",
       " 'has',\n",
       " 'mentioned',\n",
       " 'that',\n",
       " 'after',\n",
       " 'watching',\n",
       " 'just',\n",
       " '1',\n",
       " 'Oz',\n",
       " 'episode',\n",
       " \"you'll\",\n",
       " 'be',\n",
       " 'hooked.',\n",
       " 'They',\n",
       " 'are',\n",
       " 'right,',\n",
       " 'as',\n",
       " 'this',\n",
       " 'is',\n",
       " 'exactly',\n",
       " 'what',\n",
       " 'happened',\n",
       " 'with',\n",
       " 'me.<br',\n",
       " '/><br',\n",
       " '/>The',\n",
       " 'first',\n",
       " 'thing',\n",
       " 'that',\n",
       " 'struck',\n",
       " 'me',\n",
       " 'about',\n",
       " 'Oz',\n",
       " 'was',\n",
       " 'its',\n",
       " 'brutality',\n",
       " 'and',\n",
       " 'unflinching',\n",
       " 'scenes',\n",
       " 'of',\n",
       " 'violence,',\n",
       " 'which',\n",
       " 'set',\n",
       " 'in',\n",
       " 'right',\n",
       " 'from',\n",
       " 'the',\n",
       " 'word',\n",
       " 'GO.',\n",
       " 'Trust',\n",
       " 'me,',\n",
       " 'this',\n",
       " 'is',\n",
       " 'not',\n",
       " 'a',\n",
       " 'show',\n",
       " 'for',\n",
       " 'the',\n",
       " 'faint',\n",
       " 'hearted',\n",
       " 'or',\n",
       " 'timid.',\n",
       " 'This',\n",
       " 'show',\n",
       " 'pulls',\n",
       " 'no',\n",
       " 'punches',\n",
       " 'with',\n",
       " 'regards',\n",
       " 'to',\n",
       " 'drugs,',\n",
       " 'sex',\n",
       " 'or',\n",
       " 'violence.',\n",
       " 'Its',\n",
       " 'is',\n",
       " 'hardcore,',\n",
       " 'in',\n",
       " 'the',\n",
       " 'classic',\n",
       " 'use',\n",
       " 'of',\n",
       " 'the',\n",
       " 'word.<br',\n",
       " '/><br',\n",
       " '/>It',\n",
       " 'is',\n",
       " 'called',\n",
       " 'OZ',\n",
       " 'as',\n",
       " 'that',\n",
       " 'is',\n",
       " 'the',\n",
       " 'nickname',\n",
       " 'given',\n",
       " 'to',\n",
       " 'the',\n",
       " 'Oswald',\n",
       " 'Maximum',\n",
       " 'Security',\n",
       " 'State',\n",
       " 'Penitentary.',\n",
       " 'It',\n",
       " 'focuses',\n",
       " 'mainly',\n",
       " 'on',\n",
       " 'Emerald',\n",
       " 'City,',\n",
       " 'an',\n",
       " 'experimental',\n",
       " 'section',\n",
       " 'of',\n",
       " 'the',\n",
       " 'prison',\n",
       " 'where',\n",
       " 'all',\n",
       " 'the',\n",
       " 'cells',\n",
       " 'have',\n",
       " 'glass',\n",
       " 'fronts',\n",
       " 'and',\n",
       " 'face',\n",
       " 'inwards,',\n",
       " 'so',\n",
       " 'privacy',\n",
       " 'is',\n",
       " 'not',\n",
       " 'high',\n",
       " 'on',\n",
       " 'the',\n",
       " 'agenda.',\n",
       " 'Em',\n",
       " 'City',\n",
       " 'is',\n",
       " 'home',\n",
       " 'to',\n",
       " 'many..Aryans,',\n",
       " 'Muslims,',\n",
       " 'gangstas,',\n",
       " 'Latinos,',\n",
       " 'Christians,',\n",
       " 'Italians,',\n",
       " 'Irish',\n",
       " 'and',\n",
       " 'more....so',\n",
       " 'scuffles,',\n",
       " 'death',\n",
       " 'stares,',\n",
       " 'dodgy',\n",
       " 'dealings',\n",
       " 'and',\n",
       " 'shady',\n",
       " 'agreements',\n",
       " 'are',\n",
       " 'never',\n",
       " 'far',\n",
       " 'away.<br',\n",
       " '/><br',\n",
       " '/>I',\n",
       " 'would',\n",
       " 'say',\n",
       " 'the',\n",
       " 'main',\n",
       " 'appeal',\n",
       " 'of',\n",
       " 'the',\n",
       " 'show',\n",
       " 'is',\n",
       " 'due',\n",
       " 'to',\n",
       " 'the',\n",
       " 'fact',\n",
       " 'that',\n",
       " 'it',\n",
       " 'goes',\n",
       " 'where',\n",
       " 'other',\n",
       " 'shows',\n",
       " \"wouldn't\",\n",
       " 'dare.',\n",
       " 'Forget',\n",
       " 'pretty',\n",
       " 'pictures',\n",
       " 'painted',\n",
       " 'for',\n",
       " 'mainstream',\n",
       " 'audiences,',\n",
       " 'forget',\n",
       " 'charm,',\n",
       " 'forget',\n",
       " 'romance...OZ',\n",
       " \"doesn't\",\n",
       " 'mess',\n",
       " 'around.',\n",
       " 'The',\n",
       " 'first',\n",
       " 'episode',\n",
       " 'I',\n",
       " 'ever',\n",
       " 'saw',\n",
       " 'struck',\n",
       " 'me',\n",
       " 'as',\n",
       " 'so',\n",
       " 'nasty',\n",
       " 'it',\n",
       " 'was',\n",
       " 'surreal,',\n",
       " 'I',\n",
       " \"couldn't\",\n",
       " 'say',\n",
       " 'I',\n",
       " 'was',\n",
       " 'ready',\n",
       " 'for',\n",
       " 'it,',\n",
       " 'but',\n",
       " 'as',\n",
       " 'I',\n",
       " 'watched',\n",
       " 'more,',\n",
       " 'I',\n",
       " 'developed',\n",
       " 'a',\n",
       " 'taste',\n",
       " 'for',\n",
       " 'Oz,',\n",
       " 'and',\n",
       " 'got',\n",
       " 'accustomed',\n",
       " 'to',\n",
       " 'the',\n",
       " 'high',\n",
       " 'levels',\n",
       " 'of',\n",
       " 'graphic',\n",
       " 'violence.',\n",
       " 'Not',\n",
       " 'just',\n",
       " 'violence,',\n",
       " 'but',\n",
       " 'injustice',\n",
       " '(crooked',\n",
       " 'guards',\n",
       " \"who'll\",\n",
       " 'be',\n",
       " 'sold',\n",
       " 'out',\n",
       " 'for',\n",
       " 'a',\n",
       " 'nickel,',\n",
       " 'inmates',\n",
       " \"who'll\",\n",
       " 'kill',\n",
       " 'on',\n",
       " 'order',\n",
       " 'and',\n",
       " 'get',\n",
       " 'away',\n",
       " 'with',\n",
       " 'it,',\n",
       " 'well',\n",
       " 'mannered,',\n",
       " 'middle',\n",
       " 'class',\n",
       " 'inmates',\n",
       " 'being',\n",
       " 'turned',\n",
       " 'into',\n",
       " 'prison',\n",
       " 'bitches',\n",
       " 'due',\n",
       " 'to',\n",
       " 'their',\n",
       " 'lack',\n",
       " 'of',\n",
       " 'street',\n",
       " 'skills',\n",
       " 'or',\n",
       " 'prison',\n",
       " 'experience)',\n",
       " 'Watching',\n",
       " 'Oz,',\n",
       " 'you',\n",
       " 'may',\n",
       " 'become',\n",
       " 'comfortable',\n",
       " 'with',\n",
       " 'what',\n",
       " 'is',\n",
       " 'uncomfortable',\n",
       " 'viewing....thats',\n",
       " 'if',\n",
       " 'you',\n",
       " 'can',\n",
       " 'get',\n",
       " 'in',\n",
       " 'touch',\n",
       " 'with',\n",
       " 'your',\n",
       " 'darker',\n",
       " 'side.']"
      ]
     },
     "execution_count": 19,
     "metadata": {},
     "output_type": "execute_result"
    }
   ],
   "source": [
    "mystring.split(' ')"
   ]
  },
  {
   "cell_type": "markdown",
   "id": "0362b7a6-9422-46a8-a448-ec20795ddcd3",
   "metadata": {},
   "source": [
    "## Point 5: There are lots of other ways to clean up text ##"
   ]
  },
  {
   "cell_type": "markdown",
   "id": "0de54f20-248d-4d9c-9f9f-dc519b3745e0",
   "metadata": {},
   "source": [
    "### Some General Ideas for Cleaning Data ###"
   ]
  },
  {
   "cell_type": "markdown",
   "id": "65455819-c140-40ff-8eba-2f4f9daa69f5",
   "metadata": {},
   "source": [
    "+ Lowercasing\n",
    "+ Removing Punctuation & Special Characters\n",
    "+ Stop-Words Removal  (Next step)\n",
    "+ Removal of URLs\n",
    "+ Removal of HTML Tags"
   ]
  },
  {
   "cell_type": "markdown",
   "id": "57aa7349-3739-498b-9370-dad41701c0b5",
   "metadata": {},
   "source": [
    "### Capitalization/Lowercasing ###"
   ]
  },
  {
   "cell_type": "code",
   "execution_count": 1,
   "id": "e5c18fce-790d-4383-b170-469d40aa08a0",
   "metadata": {},
   "outputs": [
    {
     "ename": "NameError",
     "evalue": "name 'mystring' is not defined",
     "output_type": "error",
     "traceback": [
      "\u001b[0;31m---------------------------------------------------------------------------\u001b[0m",
      "\u001b[0;31mNameError\u001b[0m                                 Traceback (most recent call last)",
      "Cell \u001b[0;32mIn [1], line 1\u001b[0m\n\u001b[0;32m----> 1\u001b[0m \u001b[43mmystring\u001b[49m\u001b[38;5;241m.\u001b[39mlower()\n",
      "\u001b[0;31mNameError\u001b[0m: name 'mystring' is not defined"
     ]
    }
   ],
   "source": [
    "mystring.lower()"
   ]
  },
  {
   "cell_type": "markdown",
   "id": "1e99f078-6e25-4e25-b22c-d3dd242a1b28",
   "metadata": {},
   "source": [
    "**Note:**  You need to save your modified string--it won't be converted automatically"
   ]
  },
  {
   "cell_type": "code",
   "execution_count": 34,
   "id": "d90acee5-9795-4913-a0f3-5b2a43e65e20",
   "metadata": {},
   "outputs": [],
   "source": [
    "mystring2 = mystring.lower()"
   ]
  },
  {
   "cell_type": "markdown",
   "id": "c4a687a6-25d9-4223-a521-a57e3372cf29",
   "metadata": {},
   "source": [
    "### Punctuation and HTML Tags with Regular Expresssions ###"
   ]
  },
  {
   "cell_type": "markdown",
   "id": "95b99768-92d9-4054-92f0-67e6de99bb0f",
   "metadata": {},
   "source": [
    "The python [re package](https://docs.python.org/3/library/re.html) is a way to manually clean up characters. Unfortunately, reading 're' syntax is like reading Greek."
   ]
  },
  {
   "cell_type": "code",
   "execution_count": 21,
   "id": "cf4cffd7-d981-40c3-8372-d48361fab049",
   "metadata": {},
   "outputs": [],
   "source": [
    "import re"
   ]
  },
  {
   "cell_type": "code",
   "execution_count": 44,
   "id": "bdcc23a2-5915-47c2-b41a-40e4f06ddee6",
   "metadata": {},
   "outputs": [
    {
     "data": {
      "text/plain": [
       "\"one of the other reviewers has mentioned that after watching just 1 oz episode you'll be hooked. they are right, as this is exactly what happened with me.  the first thing that struck me about oz was its brutality and unflinching scenes of violence, which set in right from the word go. trust me, this is not a show for the faint hearted or timid. this show pulls no punches with regards to drugs, sex or violence. its is hardcore, in the classic use of the word.  it is called oz as that is the nickname given to the oswald maximum security state penitentary. it focuses mainly on emerald city, an experimental section of the prison where all the cells have glass fronts and face inwards, so privacy is not high on the agenda. em city is home to many..aryans, muslims, gangstas, latinos, christians, italians, irish and more....so scuffles, death stares, dodgy dealings and shady agreements are never far away.  i would say the main appeal of the show is due to the fact that it goes where other shows wouldn't dare. forget pretty pictures painted for mainstream audiences, forget charm, forget romance...oz doesn't mess around. the first episode i ever saw struck me as so nasty it was surreal, i couldn't say i was ready for it, but as i watched more, i developed a taste for oz, and got accustomed to the high levels of graphic violence. not just violence, but injustice (crooked guards who'll be sold out for a nickel, inmates who'll kill on order and get away with it, well mannered, middle class inmates being turned into prison bitches due to their lack of street skills or prison experience) watching oz, you may become comfortable with what is uncomfortable viewing....thats if you can get in touch with your darker side.\""
      ]
     },
     "execution_count": 44,
     "metadata": {},
     "output_type": "execute_result"
    }
   ],
   "source": [
    "re.sub('<[^>]*>',' ',mystring2)"
   ]
  },
  {
   "cell_type": "code",
   "execution_count": 45,
   "id": "f13a2703-c294-4182-92aa-517787c65d37",
   "metadata": {},
   "outputs": [],
   "source": [
    "mystring3 = re.sub('<[^>]*>','',mystring2)"
   ]
  },
  {
   "cell_type": "code",
   "execution_count": 48,
   "id": "6c0c57d6-9476-409a-ad66-5358426c7e59",
   "metadata": {},
   "outputs": [
    {
     "data": {
      "text/plain": [
       "\"one of the other reviewers has mentioned that after watching just 1 oz episode you'll be hooked  they are right  as this is exactly what happened with me the first thing that struck me about oz was its brutality and unflinching scenes of violence  which set in right from the word go  trust me  this is not a show for the faint hearted or timid  this show pulls no punches with regards to drugs  sex or violence  its is hardcore  in the classic use of the word it is called oz as that is the nickname given to the oswald maximum security state penitentary  it focuses mainly on emerald city  an experimental section of the prison where all the cells have glass fronts and face inwards  so privacy is not high on the agenda  em city is home to many  aryans  muslims  gangstas  latinos  christians  italians  irish and more    so scuffles  death stares  dodgy dealings and shady agreements are never far away i would say the main appeal of the show is due to the fact that it goes where other shows wouldn't dare  forget pretty pictures painted for mainstream audiences  forget charm  forget romance   oz doesn't mess around  the first episode i ever saw struck me as so nasty it was surreal  i couldn't say i was ready for it  but as i watched more  i developed a taste for oz  and got accustomed to the high levels of graphic violence  not just violence  but injustice  crooked guards who'll be sold out for a nickel  inmates who'll kill on order and get away with it  well mannered  middle class inmates being turned into prison bitches due to their lack of street skills or prison experience  watching oz  you may become comfortable with what is uncomfortable viewing    thats if you can get in touch with your darker side \""
      ]
     },
     "execution_count": 48,
     "metadata": {},
     "output_type": "execute_result"
    }
   ],
   "source": [
    "re.sub('\\.|,|\\(|\\)',' ',mystring3)"
   ]
  },
  {
   "cell_type": "code",
   "execution_count": 43,
   "id": "406175b7-0378-495e-a3a5-fb27a81f5ba1",
   "metadata": {},
   "outputs": [],
   "source": [
    "mystring4 = re.sub('\\.|,|\\(|\\)',' ',mystring3)"
   ]
  },
  {
   "cell_type": "markdown",
   "id": "4e86dc71-4423-4189-b18d-dd49403ede94",
   "metadata": {},
   "source": [
    "You can also remove digits."
   ]
  },
  {
   "cell_type": "code",
   "execution_count": 49,
   "id": "e86e3385-f92e-4fc7-9cbe-1aeedebbfa35",
   "metadata": {},
   "outputs": [
    {
     "data": {
      "text/plain": [
       "\"one of the other reviewers has mentioned that after watching just  oz episode you'll be hooked  they are right  as this is exactly what happened with me the first thing that struck me about oz was its brutality and unflinching scenes of violence  which set in right from the word go  trust me  this is not a show for the faint hearted or timid  this show pulls no punches with regards to drugs  sex or violence  its is hardcore  in the classic use of the word it is called oz as that is the nickname given to the oswald maximum security state penitentary  it focuses mainly on emerald city  an experimental section of the prison where all the cells have glass fronts and face inwards  so privacy is not high on the agenda  em city is home to many  aryans  muslims  gangstas  latinos  christians  italians  irish and more    so scuffles  death stares  dodgy dealings and shady agreements are never far away i would say the main appeal of the show is due to the fact that it goes where other shows wouldn't dare  forget pretty pictures painted for mainstream audiences  forget charm  forget romance   oz doesn't mess around  the first episode i ever saw struck me as so nasty it was surreal  i couldn't say i was ready for it  but as i watched more  i developed a taste for oz  and got accustomed to the high levels of graphic violence  not just violence  but injustice  crooked guards who'll be sold out for a nickel  inmates who'll kill on order and get away with it  well mannered  middle class inmates being turned into prison bitches due to their lack of street skills or prison experience  watching oz  you may become comfortable with what is uncomfortable viewing    thats if you can get in touch with your darker side \""
      ]
     },
     "execution_count": 49,
     "metadata": {},
     "output_type": "execute_result"
    }
   ],
   "source": [
    "re.sub('[\\d+]','',mystring4)"
   ]
  },
  {
   "cell_type": "code",
   "execution_count": 50,
   "id": "4b08d1c2-1083-408a-86ef-e5e8c196ddd3",
   "metadata": {},
   "outputs": [],
   "source": [
    "mystring5 = re.sub('[\\d+]','',mystring4)"
   ]
  },
  {
   "cell_type": "markdown",
   "id": "071bb5ec-63ac-452c-b75a-cef9e666ce40",
   "metadata": {},
   "source": [
    "**Note:** Another way to remove HTML is with the \"beautiful Soup\" package."
   ]
  },
  {
   "cell_type": "code",
   "execution_count": 47,
   "id": "1beaa17d-4513-4a73-a92e-591f3eb8211a",
   "metadata": {},
   "outputs": [
    {
     "data": {
      "text/plain": [
       "\"One of the other reviewers has mentioned that after watching just 1 Oz episode you'll be hooked. They are right, as this is exactly what happened with me.The first thing that struck me about Oz was its brutality and unflinching scenes of violence, which set in right from the word GO. Trust me, this is not a show for the faint hearted or timid. This show pulls no punches with regards to drugs, sex or violence. Its is hardcore, in the classic use of the word.It is called OZ as that is the nickname given to the Oswald Maximum Security State Penitentary. It focuses mainly on Emerald City, an experimental section of the prison where all the cells have glass fronts and face inwards, so privacy is not high on the agenda. Em City is home to many..Aryans, Muslims, gangstas, Latinos, Christians, Italians, Irish and more....so scuffles, death stares, dodgy dealings and shady agreements are never far away.I would say the main appeal of the show is due to the fact that it goes where other shows wouldn't dare. Forget pretty pictures painted for mainstream audiences, forget charm, forget romance...OZ doesn't mess around. The first episode I ever saw struck me as so nasty it was surreal, I couldn't say I was ready for it, but as I watched more, I developed a taste for Oz, and got accustomed to the high levels of graphic violence. Not just violence, but injustice (crooked guards who'll be sold out for a nickel, inmates who'll kill on order and get away with it, well mannered, middle class inmates being turned into prison bitches due to their lack of street skills or prison experience) Watching Oz, you may become comfortable with what is uncomfortable viewing....thats if you can get in touch with your darker side.\""
      ]
     },
     "execution_count": 47,
     "metadata": {},
     "output_type": "execute_result"
    }
   ],
   "source": [
    "from bs4 import BeautifulSoup  # Remember to pip install this package !!\n",
    "\n",
    "soup = BeautifulSoup(mystring)\n",
    "soup.get_text()"
   ]
  },
  {
   "cell_type": "markdown",
   "id": "5c0d3c5d-5ec0-4452-ae70-a688c005b971",
   "metadata": {},
   "source": [
    "## Point 6: The next step is to tokenize ##"
   ]
  },
  {
   "cell_type": "code",
   "execution_count": 52,
   "id": "712be2ff-9b3d-4653-8a5f-e789eea59f5c",
   "metadata": {},
   "outputs": [
    {
     "data": {
      "text/plain": [
       "\"one of the other reviewers has mentioned that after watching just  oz episode you'll be hooked  they are right  as this is exactly what happened with me the first thing that struck me about oz was its brutality and unflinching scenes of violence  which set in right from the word go  trust me  this is not a show for the faint hearted or timid  this show pulls no punches with regards to drugs  sex or violence  its is hardcore  in the classic use of the word it is called oz as that is the nickname given to the oswald maximum security state penitentary  it focuses mainly on emerald city  an experimental section of the prison where all the cells have glass fronts and face inwards  so privacy is not high on the agenda  em city is home to many  aryans  muslims  gangstas  latinos  christians  italians  irish and more    so scuffles  death stares  dodgy dealings and shady agreements are never far away i would say the main appeal of the show is due to the fact that it goes where other shows wouldn't dare  forget pretty pictures painted for mainstream audiences  forget charm  forget romance   oz doesn't mess around  the first episode i ever saw struck me as so nasty it was surreal  i couldn't say i was ready for it  but as i watched more  i developed a taste for oz  and got accustomed to the high levels of graphic violence  not just violence  but injustice  crooked guards who'll be sold out for a nickel  inmates who'll kill on order and get away with it  well mannered  middle class inmates being turned into prison bitches due to their lack of street skills or prison experience  watching oz  you may become comfortable with what is uncomfortable viewing    thats if you can get in touch with your darker side \""
      ]
     },
     "execution_count": 52,
     "metadata": {},
     "output_type": "execute_result"
    }
   ],
   "source": [
    "mystring5"
   ]
  },
  {
   "cell_type": "code",
   "execution_count": 54,
   "id": "af5ff759-20e3-4e41-aa36-cf85b3c2f8db",
   "metadata": {},
   "outputs": [
    {
     "name": "stdout",
     "output_type": "stream",
     "text": [
      "['one', 'of', 'the', 'other', 'reviewers', 'has', 'mentioned', 'that', 'after', 'watching', 'just', '', 'oz', 'episode', \"you'll\", 'be', 'hooked', '', 'they', 'are', 'right', '', 'as', 'this', 'is', 'exactly', 'what', 'happened', 'with', 'me', 'the', 'first', 'thing', 'that', 'struck', 'me', 'about', 'oz', 'was', 'its', 'brutality', 'and', 'unflinching', 'scenes', 'of', 'violence', '', 'which', 'set', 'in', 'right', 'from', 'the', 'word', 'go', '', 'trust', 'me', '', 'this', 'is', 'not', 'a', 'show', 'for', 'the', 'faint', 'hearted', 'or', 'timid', '', 'this', 'show', 'pulls', 'no', 'punches', 'with', 'regards', 'to', 'drugs', '', 'sex', 'or', 'violence', '', 'its', 'is', 'hardcore', '', 'in', 'the', 'classic', 'use', 'of', 'the', 'word', 'it', 'is', 'called', 'oz', 'as', 'that', 'is', 'the', 'nickname', 'given', 'to', 'the', 'oswald', 'maximum', 'security', 'state', 'penitentary', '', 'it', 'focuses', 'mainly', 'on', 'emerald', 'city', '', 'an', 'experimental', 'section', 'of', 'the', 'prison', 'where', 'all', 'the', 'cells', 'have', 'glass', 'fronts', 'and', 'face', 'inwards', '', 'so', 'privacy', 'is', 'not', 'high', 'on', 'the', 'agenda', '', 'em', 'city', 'is', 'home', 'to', 'many', '', 'aryans', '', 'muslims', '', 'gangstas', '', 'latinos', '', 'christians', '', 'italians', '', 'irish', 'and', 'more', '', '', '', 'so', 'scuffles', '', 'death', 'stares', '', 'dodgy', 'dealings', 'and', 'shady', 'agreements', 'are', 'never', 'far', 'away', 'i', 'would', 'say', 'the', 'main', 'appeal', 'of', 'the', 'show', 'is', 'due', 'to', 'the', 'fact', 'that', 'it', 'goes', 'where', 'other', 'shows', \"wouldn't\", 'dare', '', 'forget', 'pretty', 'pictures', 'painted', 'for', 'mainstream', 'audiences', '', 'forget', 'charm', '', 'forget', 'romance', '', '', 'oz', \"doesn't\", 'mess', 'around', '', 'the', 'first', 'episode', 'i', 'ever', 'saw', 'struck', 'me', 'as', 'so', 'nasty', 'it', 'was', 'surreal', '', 'i', \"couldn't\", 'say', 'i', 'was', 'ready', 'for', 'it', '', 'but', 'as', 'i', 'watched', 'more', '', 'i', 'developed', 'a', 'taste', 'for', 'oz', '', 'and', 'got', 'accustomed', 'to', 'the', 'high', 'levels', 'of', 'graphic', 'violence', '', 'not', 'just', 'violence', '', 'but', 'injustice', '', 'crooked', 'guards', \"who'll\", 'be', 'sold', 'out', 'for', 'a', 'nickel', '', 'inmates', \"who'll\", 'kill', 'on', 'order', 'and', 'get', 'away', 'with', 'it', '', 'well', 'mannered', '', 'middle', 'class', 'inmates', 'being', 'turned', 'into', 'prison', 'bitches', 'due', 'to', 'their', 'lack', 'of', 'street', 'skills', 'or', 'prison', 'experience', '', 'watching', 'oz', '', 'you', 'may', 'become', 'comfortable', 'with', 'what', 'is', 'uncomfortable', 'viewing', '', '', '', 'thats', 'if', 'you', 'can', 'get', 'in', 'touch', 'with', 'your', 'darker', 'side', '']\n"
     ]
    }
   ],
   "source": [
    "print(mystring5.split(' '))"
   ]
  },
  {
   "cell_type": "markdown",
   "id": "6aa691c0-1e6a-433b-80d4-fcd389d41103",
   "metadata": {},
   "source": [
    "### The Natural Language Toolkit ###\n",
    "The [NLTK](https://www.nltk.org/) is a well-known package for tokenizing natural language sentences.  We will use [nltk.tokenize](https://www.nltk.org/api/nltk.tokenize.html).\n",
    "\n",
    "And they have a[nice book](https://www.nltk.org/book/)  to go along with it."
   ]
  },
  {
   "cell_type": "code",
   "execution_count": 56,
   "id": "7574a553-e2dd-4184-8c2b-fc92ac4541c6",
   "metadata": {},
   "outputs": [],
   "source": [
    "import nltk  # Remember to 'pip install nltk'"
   ]
  },
  {
   "cell_type": "code",
   "execution_count": 58,
   "id": "82fc466c-3bfa-480c-9032-fe7ab2c3c24f",
   "metadata": {},
   "outputs": [],
   "source": [
    "from nltk.tokenize import word_tokenize"
   ]
  },
  {
   "cell_type": "code",
   "execution_count": 59,
   "id": "02d92605-8940-44dd-b6ac-75d8713b64f5",
   "metadata": {},
   "outputs": [
    {
     "data": {
      "text/plain": [
       "['one',\n",
       " 'of',\n",
       " 'the',\n",
       " 'other',\n",
       " 'reviewers',\n",
       " 'has',\n",
       " 'mentioned',\n",
       " 'that',\n",
       " 'after',\n",
       " 'watching',\n",
       " 'just',\n",
       " 'oz',\n",
       " 'episode',\n",
       " 'you',\n",
       " \"'ll\",\n",
       " 'be',\n",
       " 'hooked',\n",
       " 'they',\n",
       " 'are',\n",
       " 'right',\n",
       " 'as',\n",
       " 'this',\n",
       " 'is',\n",
       " 'exactly',\n",
       " 'what',\n",
       " 'happened',\n",
       " 'with',\n",
       " 'me',\n",
       " 'the',\n",
       " 'first',\n",
       " 'thing',\n",
       " 'that',\n",
       " 'struck',\n",
       " 'me',\n",
       " 'about',\n",
       " 'oz',\n",
       " 'was',\n",
       " 'its',\n",
       " 'brutality',\n",
       " 'and',\n",
       " 'unflinching',\n",
       " 'scenes',\n",
       " 'of',\n",
       " 'violence',\n",
       " 'which',\n",
       " 'set',\n",
       " 'in',\n",
       " 'right',\n",
       " 'from',\n",
       " 'the',\n",
       " 'word',\n",
       " 'go',\n",
       " 'trust',\n",
       " 'me',\n",
       " 'this',\n",
       " 'is',\n",
       " 'not',\n",
       " 'a',\n",
       " 'show',\n",
       " 'for',\n",
       " 'the',\n",
       " 'faint',\n",
       " 'hearted',\n",
       " 'or',\n",
       " 'timid',\n",
       " 'this',\n",
       " 'show',\n",
       " 'pulls',\n",
       " 'no',\n",
       " 'punches',\n",
       " 'with',\n",
       " 'regards',\n",
       " 'to',\n",
       " 'drugs',\n",
       " 'sex',\n",
       " 'or',\n",
       " 'violence',\n",
       " 'its',\n",
       " 'is',\n",
       " 'hardcore',\n",
       " 'in',\n",
       " 'the',\n",
       " 'classic',\n",
       " 'use',\n",
       " 'of',\n",
       " 'the',\n",
       " 'word',\n",
       " 'it',\n",
       " 'is',\n",
       " 'called',\n",
       " 'oz',\n",
       " 'as',\n",
       " 'that',\n",
       " 'is',\n",
       " 'the',\n",
       " 'nickname',\n",
       " 'given',\n",
       " 'to',\n",
       " 'the',\n",
       " 'oswald',\n",
       " 'maximum',\n",
       " 'security',\n",
       " 'state',\n",
       " 'penitentary',\n",
       " 'it',\n",
       " 'focuses',\n",
       " 'mainly',\n",
       " 'on',\n",
       " 'emerald',\n",
       " 'city',\n",
       " 'an',\n",
       " 'experimental',\n",
       " 'section',\n",
       " 'of',\n",
       " 'the',\n",
       " 'prison',\n",
       " 'where',\n",
       " 'all',\n",
       " 'the',\n",
       " 'cells',\n",
       " 'have',\n",
       " 'glass',\n",
       " 'fronts',\n",
       " 'and',\n",
       " 'face',\n",
       " 'inwards',\n",
       " 'so',\n",
       " 'privacy',\n",
       " 'is',\n",
       " 'not',\n",
       " 'high',\n",
       " 'on',\n",
       " 'the',\n",
       " 'agenda',\n",
       " 'em',\n",
       " 'city',\n",
       " 'is',\n",
       " 'home',\n",
       " 'to',\n",
       " 'many',\n",
       " 'aryans',\n",
       " 'muslims',\n",
       " 'gangstas',\n",
       " 'latinos',\n",
       " 'christians',\n",
       " 'italians',\n",
       " 'irish',\n",
       " 'and',\n",
       " 'more',\n",
       " 'so',\n",
       " 'scuffles',\n",
       " 'death',\n",
       " 'stares',\n",
       " 'dodgy',\n",
       " 'dealings',\n",
       " 'and',\n",
       " 'shady',\n",
       " 'agreements',\n",
       " 'are',\n",
       " 'never',\n",
       " 'far',\n",
       " 'away',\n",
       " 'i',\n",
       " 'would',\n",
       " 'say',\n",
       " 'the',\n",
       " 'main',\n",
       " 'appeal',\n",
       " 'of',\n",
       " 'the',\n",
       " 'show',\n",
       " 'is',\n",
       " 'due',\n",
       " 'to',\n",
       " 'the',\n",
       " 'fact',\n",
       " 'that',\n",
       " 'it',\n",
       " 'goes',\n",
       " 'where',\n",
       " 'other',\n",
       " 'shows',\n",
       " 'would',\n",
       " \"n't\",\n",
       " 'dare',\n",
       " 'forget',\n",
       " 'pretty',\n",
       " 'pictures',\n",
       " 'painted',\n",
       " 'for',\n",
       " 'mainstream',\n",
       " 'audiences',\n",
       " 'forget',\n",
       " 'charm',\n",
       " 'forget',\n",
       " 'romance',\n",
       " 'oz',\n",
       " 'does',\n",
       " \"n't\",\n",
       " 'mess',\n",
       " 'around',\n",
       " 'the',\n",
       " 'first',\n",
       " 'episode',\n",
       " 'i',\n",
       " 'ever',\n",
       " 'saw',\n",
       " 'struck',\n",
       " 'me',\n",
       " 'as',\n",
       " 'so',\n",
       " 'nasty',\n",
       " 'it',\n",
       " 'was',\n",
       " 'surreal',\n",
       " 'i',\n",
       " 'could',\n",
       " \"n't\",\n",
       " 'say',\n",
       " 'i',\n",
       " 'was',\n",
       " 'ready',\n",
       " 'for',\n",
       " 'it',\n",
       " 'but',\n",
       " 'as',\n",
       " 'i',\n",
       " 'watched',\n",
       " 'more',\n",
       " 'i',\n",
       " 'developed',\n",
       " 'a',\n",
       " 'taste',\n",
       " 'for',\n",
       " 'oz',\n",
       " 'and',\n",
       " 'got',\n",
       " 'accustomed',\n",
       " 'to',\n",
       " 'the',\n",
       " 'high',\n",
       " 'levels',\n",
       " 'of',\n",
       " 'graphic',\n",
       " 'violence',\n",
       " 'not',\n",
       " 'just',\n",
       " 'violence',\n",
       " 'but',\n",
       " 'injustice',\n",
       " 'crooked',\n",
       " 'guards',\n",
       " 'who',\n",
       " \"'ll\",\n",
       " 'be',\n",
       " 'sold',\n",
       " 'out',\n",
       " 'for',\n",
       " 'a',\n",
       " 'nickel',\n",
       " 'inmates',\n",
       " 'who',\n",
       " \"'ll\",\n",
       " 'kill',\n",
       " 'on',\n",
       " 'order',\n",
       " 'and',\n",
       " 'get',\n",
       " 'away',\n",
       " 'with',\n",
       " 'it',\n",
       " 'well',\n",
       " 'mannered',\n",
       " 'middle',\n",
       " 'class',\n",
       " 'inmates',\n",
       " 'being',\n",
       " 'turned',\n",
       " 'into',\n",
       " 'prison',\n",
       " 'bitches',\n",
       " 'due',\n",
       " 'to',\n",
       " 'their',\n",
       " 'lack',\n",
       " 'of',\n",
       " 'street',\n",
       " 'skills',\n",
       " 'or',\n",
       " 'prison',\n",
       " 'experience',\n",
       " 'watching',\n",
       " 'oz',\n",
       " 'you',\n",
       " 'may',\n",
       " 'become',\n",
       " 'comfortable',\n",
       " 'with',\n",
       " 'what',\n",
       " 'is',\n",
       " 'uncomfortable',\n",
       " 'viewing',\n",
       " 'thats',\n",
       " 'if',\n",
       " 'you',\n",
       " 'can',\n",
       " 'get',\n",
       " 'in',\n",
       " 'touch',\n",
       " 'with',\n",
       " 'your',\n",
       " 'darker',\n",
       " 'side']"
      ]
     },
     "execution_count": 59,
     "metadata": {},
     "output_type": "execute_result"
    }
   ],
   "source": [
    "word_tokenize(mystring5)"
   ]
  },
  {
   "cell_type": "code",
   "execution_count": 60,
   "id": "50858e27-284c-462e-842a-ab369fb3da90",
   "metadata": {},
   "outputs": [],
   "source": [
    "mylist1 = word_tokenize(mystring5)"
   ]
  },
  {
   "cell_type": "code",
   "execution_count": 62,
   "id": "3ad9e33a-be26-4371-b98b-444b4e073ef2",
   "metadata": {},
   "outputs": [
    {
     "data": {
      "text/plain": [
       "313"
      ]
     },
     "execution_count": 62,
     "metadata": {},
     "output_type": "execute_result"
    }
   ],
   "source": [
    "len(mylist1)"
   ]
  },
  {
   "cell_type": "markdown",
   "id": "72bc7fd3-1e0e-4804-9699-ebb01a73ed86",
   "metadata": {},
   "source": [
    "## Point 7: Remove Stop Words ##"
   ]
  },
  {
   "cell_type": "markdown",
   "id": "81162af5-bbc3-4d96-9715-ce5ff2e2b8de",
   "metadata": {},
   "source": [
    "Some words are so common, they don't add anything by being included in the list of words. \n",
    "\n",
    "The NLTK package (short for 'Natural Language Toolkit') is a very powerful package for dealing with a lot of these issues.\n"
   ]
  },
  {
   "cell_type": "code",
   "execution_count": 66,
   "id": "75845d76-1260-416a-8cad-0d3241209a8c",
   "metadata": {},
   "outputs": [
    {
     "name": "stdout",
     "output_type": "stream",
     "text": [
      "['i', 'me', 'my', 'myself', 'we', 'our', 'ours', 'ourselves', 'you', \"you're\", \"you've\", \"you'll\", \"you'd\", 'your', 'yours', 'yourself', 'yourselves', 'he', 'him', 'his', 'himself', 'she', \"she's\", 'her', 'hers', 'herself', 'it', \"it's\", 'its', 'itself', 'they', 'them', 'their', 'theirs', 'themselves', 'what', 'which', 'who', 'whom', 'this', 'that', \"that'll\", 'these', 'those', 'am', 'is', 'are', 'was', 'were', 'be', 'been', 'being', 'have', 'has', 'had', 'having', 'do', 'does', 'did', 'doing', 'a', 'an', 'the', 'and', 'but', 'if', 'or', 'because', 'as', 'until', 'while', 'of', 'at', 'by', 'for', 'with', 'about', 'against', 'between', 'into', 'through', 'during', 'before', 'after', 'above', 'below', 'to', 'from', 'up', 'down', 'in', 'out', 'on', 'off', 'over', 'under', 'again', 'further', 'then', 'once', 'here', 'there', 'when', 'where', 'why', 'how', 'all', 'any', 'both', 'each', 'few', 'more', 'most', 'other', 'some', 'such', 'no', 'nor', 'not', 'only', 'own', 'same', 'so', 'than', 'too', 'very', 's', 't', 'can', 'will', 'just', 'don', \"don't\", 'should', \"should've\", 'now', 'd', 'll', 'm', 'o', 're', 've', 'y', 'ain', 'aren', \"aren't\", 'couldn', \"couldn't\", 'didn', \"didn't\", 'doesn', \"doesn't\", 'hadn', \"hadn't\", 'hasn', \"hasn't\", 'haven', \"haven't\", 'isn', \"isn't\", 'ma', 'mightn', \"mightn't\", 'mustn', \"mustn't\", 'needn', \"needn't\", 'shan', \"shan't\", 'shouldn', \"shouldn't\", 'wasn', \"wasn't\", 'weren', \"weren't\", 'won', \"won't\", 'wouldn', \"wouldn't\"]\n"
     ]
    },
    {
     "name": "stderr",
     "output_type": "stream",
     "text": [
      "[nltk_data] Downloading package stopwords to /home/aleahy/nltk_data...\n",
      "[nltk_data]   Package stopwords is already up-to-date!\n"
     ]
    }
   ],
   "source": [
    "import nltk  # Remember to 'pip install nltk'\n",
    "from nltk.corpus import stopwords\n",
    "\n",
    "nltk.download('stopwords')\n",
    "print(stopwords.words('english'))"
   ]
  },
  {
   "cell_type": "code",
   "execution_count": 27,
   "id": "c010bb5a-ddbf-4c2f-8d57-c5f4e69ee98f",
   "metadata": {},
   "outputs": [
    {
     "data": {
      "text/plain": [
       "179"
      ]
     },
     "execution_count": 27,
     "metadata": {},
     "output_type": "execute_result"
    }
   ],
   "source": [
    "len(stopwords.words('english'))"
   ]
  },
  {
   "cell_type": "markdown",
   "id": "2ac8434a-48fb-4352-844a-c8651e1c8cb1",
   "metadata": {},
   "source": [
    "**Question:** How do you remove these stop words?  There's an interesting way to construct a list in python using a for loop:"
   ]
  },
  {
   "cell_type": "code",
   "execution_count": 63,
   "id": "1a3f1176-d6ef-4efc-82fb-4fe974d59958",
   "metadata": {},
   "outputs": [
    {
     "data": {
      "text/plain": [
       "['one',\n",
       " 'reviewers',\n",
       " 'mentioned',\n",
       " 'watching',\n",
       " 'oz',\n",
       " 'episode',\n",
       " \"'ll\",\n",
       " 'hooked',\n",
       " 'right',\n",
       " 'exactly',\n",
       " 'happened',\n",
       " 'first',\n",
       " 'thing',\n",
       " 'struck',\n",
       " 'oz',\n",
       " 'brutality',\n",
       " 'unflinching',\n",
       " 'scenes',\n",
       " 'violence',\n",
       " 'set',\n",
       " 'right',\n",
       " 'word',\n",
       " 'go',\n",
       " 'trust',\n",
       " 'show',\n",
       " 'faint',\n",
       " 'hearted',\n",
       " 'timid',\n",
       " 'show',\n",
       " 'pulls',\n",
       " 'punches',\n",
       " 'regards',\n",
       " 'drugs',\n",
       " 'sex',\n",
       " 'violence',\n",
       " 'hardcore',\n",
       " 'classic',\n",
       " 'use',\n",
       " 'word',\n",
       " 'called',\n",
       " 'oz',\n",
       " 'nickname',\n",
       " 'given',\n",
       " 'oswald',\n",
       " 'maximum',\n",
       " 'security',\n",
       " 'state',\n",
       " 'penitentary',\n",
       " 'focuses',\n",
       " 'mainly',\n",
       " 'emerald',\n",
       " 'city',\n",
       " 'experimental',\n",
       " 'section',\n",
       " 'prison',\n",
       " 'cells',\n",
       " 'glass',\n",
       " 'fronts',\n",
       " 'face',\n",
       " 'inwards',\n",
       " 'privacy',\n",
       " 'high',\n",
       " 'agenda',\n",
       " 'em',\n",
       " 'city',\n",
       " 'home',\n",
       " 'many',\n",
       " 'aryans',\n",
       " 'muslims',\n",
       " 'gangstas',\n",
       " 'latinos',\n",
       " 'christians',\n",
       " 'italians',\n",
       " 'irish',\n",
       " 'scuffles',\n",
       " 'death',\n",
       " 'stares',\n",
       " 'dodgy',\n",
       " 'dealings',\n",
       " 'shady',\n",
       " 'agreements',\n",
       " 'never',\n",
       " 'far',\n",
       " 'away',\n",
       " 'would',\n",
       " 'say',\n",
       " 'main',\n",
       " 'appeal',\n",
       " 'show',\n",
       " 'due',\n",
       " 'fact',\n",
       " 'goes',\n",
       " 'shows',\n",
       " 'would',\n",
       " \"n't\",\n",
       " 'dare',\n",
       " 'forget',\n",
       " 'pretty',\n",
       " 'pictures',\n",
       " 'painted',\n",
       " 'mainstream',\n",
       " 'audiences',\n",
       " 'forget',\n",
       " 'charm',\n",
       " 'forget',\n",
       " 'romance',\n",
       " 'oz',\n",
       " \"n't\",\n",
       " 'mess',\n",
       " 'around',\n",
       " 'first',\n",
       " 'episode',\n",
       " 'ever',\n",
       " 'saw',\n",
       " 'struck',\n",
       " 'nasty',\n",
       " 'surreal',\n",
       " 'could',\n",
       " \"n't\",\n",
       " 'say',\n",
       " 'ready',\n",
       " 'watched',\n",
       " 'developed',\n",
       " 'taste',\n",
       " 'oz',\n",
       " 'got',\n",
       " 'accustomed',\n",
       " 'high',\n",
       " 'levels',\n",
       " 'graphic',\n",
       " 'violence',\n",
       " 'violence',\n",
       " 'injustice',\n",
       " 'crooked',\n",
       " 'guards',\n",
       " \"'ll\",\n",
       " 'sold',\n",
       " 'nickel',\n",
       " 'inmates',\n",
       " \"'ll\",\n",
       " 'kill',\n",
       " 'order',\n",
       " 'get',\n",
       " 'away',\n",
       " 'well',\n",
       " 'mannered',\n",
       " 'middle',\n",
       " 'class',\n",
       " 'inmates',\n",
       " 'turned',\n",
       " 'prison',\n",
       " 'bitches',\n",
       " 'due',\n",
       " 'lack',\n",
       " 'street',\n",
       " 'skills',\n",
       " 'prison',\n",
       " 'experience',\n",
       " 'watching',\n",
       " 'oz',\n",
       " 'may',\n",
       " 'become',\n",
       " 'comfortable',\n",
       " 'uncomfortable',\n",
       " 'viewing',\n",
       " 'thats',\n",
       " 'get',\n",
       " 'touch',\n",
       " 'darker',\n",
       " 'side']"
      ]
     },
     "execution_count": 63,
     "metadata": {},
     "output_type": "execute_result"
    }
   ],
   "source": [
    "[word for word in mylist1 if word not in stopwords.words('english')]"
   ]
  },
  {
   "cell_type": "markdown",
   "id": "94aa67df-d24f-4921-abd7-b6cca06c036f",
   "metadata": {},
   "source": [
    "**Note:**  I didn't deal with contractions very well . . . . "
   ]
  },
  {
   "cell_type": "code",
   "execution_count": 64,
   "id": "5d8ca47c-2b90-4104-86c9-10556152ca70",
   "metadata": {},
   "outputs": [],
   "source": [
    "mylist2 = [word for word in mylist1 if word not in stopwords.words('english')]"
   ]
  },
  {
   "cell_type": "code",
   "execution_count": 65,
   "id": "fb34277f-bf11-4bf6-8b3e-a0d4d96ddd53",
   "metadata": {},
   "outputs": [
    {
     "data": {
      "text/plain": [
       "170"
      ]
     },
     "execution_count": 65,
     "metadata": {},
     "output_type": "execute_result"
    }
   ],
   "source": [
    "len(mylist2)"
   ]
  },
  {
   "cell_type": "code",
   "execution_count": 67,
   "id": "6202ff34-4a10-4319-ad79-e2fa6e88b22a",
   "metadata": {},
   "outputs": [
    {
     "name": "stdout",
     "output_type": "stream",
     "text": [
      "['one', 'reviewers', 'mentioned', 'watching', 'oz', 'episode', \"'ll\", 'hooked', 'right', 'exactly', 'happened', 'first', 'thing', 'struck', 'oz', 'brutality', 'unflinching', 'scenes', 'violence', 'set', 'right', 'word', 'go', 'trust', 'show', 'faint', 'hearted', 'timid', 'show', 'pulls', 'punches', 'regards', 'drugs', 'sex', 'violence', 'hardcore', 'classic', 'use', 'word', 'called', 'oz', 'nickname', 'given', 'oswald', 'maximum', 'security', 'state', 'penitentary', 'focuses', 'mainly', 'emerald', 'city', 'experimental', 'section', 'prison', 'cells', 'glass', 'fronts', 'face', 'inwards', 'privacy', 'high', 'agenda', 'em', 'city', 'home', 'many', 'aryans', 'muslims', 'gangstas', 'latinos', 'christians', 'italians', 'irish', 'scuffles', 'death', 'stares', 'dodgy', 'dealings', 'shady', 'agreements', 'never', 'far', 'away', 'would', 'say', 'main', 'appeal', 'show', 'due', 'fact', 'goes', 'shows', 'would', \"n't\", 'dare', 'forget', 'pretty', 'pictures', 'painted', 'mainstream', 'audiences', 'forget', 'charm', 'forget', 'romance', 'oz', \"n't\", 'mess', 'around', 'first', 'episode', 'ever', 'saw', 'struck', 'nasty', 'surreal', 'could', \"n't\", 'say', 'ready', 'watched', 'developed', 'taste', 'oz', 'got', 'accustomed', 'high', 'levels', 'graphic', 'violence', 'violence', 'injustice', 'crooked', 'guards', \"'ll\", 'sold', 'nickel', 'inmates', \"'ll\", 'kill', 'order', 'get', 'away', 'well', 'mannered', 'middle', 'class', 'inmates', 'turned', 'prison', 'bitches', 'due', 'lack', 'street', 'skills', 'prison', 'experience', 'watching', 'oz', 'may', 'become', 'comfortable', 'uncomfortable', 'viewing', 'thats', 'get', 'touch', 'darker', 'side']\n"
     ]
    }
   ],
   "source": [
    "print(mylist2)"
   ]
  },
  {
   "cell_type": "markdown",
   "id": "b99a544a-ebcd-418a-938f-a9c530f4ffb5",
   "metadata": {},
   "source": [
    "## Some Additional Steps:  Stemming or Lemmatization ##"
   ]
  },
  {
   "cell_type": "markdown",
   "id": "edfee1d8-9562-49f7-bbe9-162f71a79b48",
   "metadata": {},
   "source": [
    "See [here](https://www.ibm.com/topics/stemming-lemmatization): \"Literature generally defines stemming as the process of stripping affixes from words to obtain stemmed word strings, and lemmatization as the larger enterprise of reducing morphological variants to one dictionary base form."
   ]
  },
  {
   "cell_type": "code",
   "execution_count": 68,
   "id": "233e833b-7b6f-4d19-99d3-780691f8278e",
   "metadata": {},
   "outputs": [],
   "source": [
    "from nltk.stem.porter import PorterStemmer"
   ]
  },
  {
   "cell_type": "code",
   "execution_count": 71,
   "id": "c71fecb8-7faf-4ebd-ba99-580a71cd857d",
   "metadata": {},
   "outputs": [],
   "source": [
    "porter = PorterStemmer()"
   ]
  },
  {
   "cell_type": "code",
   "execution_count": 72,
   "id": "ec7d0f73-f803-48b2-b026-ed1daef2b4f5",
   "metadata": {},
   "outputs": [
    {
     "data": {
      "text/plain": [
       "['one',\n",
       " 'review',\n",
       " 'mention',\n",
       " 'watch',\n",
       " 'oz',\n",
       " 'episod',\n",
       " \"'ll\",\n",
       " 'hook',\n",
       " 'right',\n",
       " 'exactli',\n",
       " 'happen',\n",
       " 'first',\n",
       " 'thing',\n",
       " 'struck',\n",
       " 'oz',\n",
       " 'brutal',\n",
       " 'unflinch',\n",
       " 'scene',\n",
       " 'violenc',\n",
       " 'set',\n",
       " 'right',\n",
       " 'word',\n",
       " 'go',\n",
       " 'trust',\n",
       " 'show',\n",
       " 'faint',\n",
       " 'heart',\n",
       " 'timid',\n",
       " 'show',\n",
       " 'pull',\n",
       " 'punch',\n",
       " 'regard',\n",
       " 'drug',\n",
       " 'sex',\n",
       " 'violenc',\n",
       " 'hardcor',\n",
       " 'classic',\n",
       " 'use',\n",
       " 'word',\n",
       " 'call',\n",
       " 'oz',\n",
       " 'nicknam',\n",
       " 'given',\n",
       " 'oswald',\n",
       " 'maximum',\n",
       " 'secur',\n",
       " 'state',\n",
       " 'penitentari',\n",
       " 'focus',\n",
       " 'mainli',\n",
       " 'emerald',\n",
       " 'citi',\n",
       " 'experiment',\n",
       " 'section',\n",
       " 'prison',\n",
       " 'cell',\n",
       " 'glass',\n",
       " 'front',\n",
       " 'face',\n",
       " 'inward',\n",
       " 'privaci',\n",
       " 'high',\n",
       " 'agenda',\n",
       " 'em',\n",
       " 'citi',\n",
       " 'home',\n",
       " 'mani',\n",
       " 'aryan',\n",
       " 'muslim',\n",
       " 'gangsta',\n",
       " 'latino',\n",
       " 'christian',\n",
       " 'italian',\n",
       " 'irish',\n",
       " 'scuffl',\n",
       " 'death',\n",
       " 'stare',\n",
       " 'dodgi',\n",
       " 'deal',\n",
       " 'shadi',\n",
       " 'agreement',\n",
       " 'never',\n",
       " 'far',\n",
       " 'away',\n",
       " 'would',\n",
       " 'say',\n",
       " 'main',\n",
       " 'appeal',\n",
       " 'show',\n",
       " 'due',\n",
       " 'fact',\n",
       " 'goe',\n",
       " 'show',\n",
       " 'would',\n",
       " \"n't\",\n",
       " 'dare',\n",
       " 'forget',\n",
       " 'pretti',\n",
       " 'pictur',\n",
       " 'paint',\n",
       " 'mainstream',\n",
       " 'audienc',\n",
       " 'forget',\n",
       " 'charm',\n",
       " 'forget',\n",
       " 'romanc',\n",
       " 'oz',\n",
       " \"n't\",\n",
       " 'mess',\n",
       " 'around',\n",
       " 'first',\n",
       " 'episod',\n",
       " 'ever',\n",
       " 'saw',\n",
       " 'struck',\n",
       " 'nasti',\n",
       " 'surreal',\n",
       " 'could',\n",
       " \"n't\",\n",
       " 'say',\n",
       " 'readi',\n",
       " 'watch',\n",
       " 'develop',\n",
       " 'tast',\n",
       " 'oz',\n",
       " 'got',\n",
       " 'accustom',\n",
       " 'high',\n",
       " 'level',\n",
       " 'graphic',\n",
       " 'violenc',\n",
       " 'violenc',\n",
       " 'injustic',\n",
       " 'crook',\n",
       " 'guard',\n",
       " \"'ll\",\n",
       " 'sold',\n",
       " 'nickel',\n",
       " 'inmat',\n",
       " \"'ll\",\n",
       " 'kill',\n",
       " 'order',\n",
       " 'get',\n",
       " 'away',\n",
       " 'well',\n",
       " 'manner',\n",
       " 'middl',\n",
       " 'class',\n",
       " 'inmat',\n",
       " 'turn',\n",
       " 'prison',\n",
       " 'bitch',\n",
       " 'due',\n",
       " 'lack',\n",
       " 'street',\n",
       " 'skill',\n",
       " 'prison',\n",
       " 'experi',\n",
       " 'watch',\n",
       " 'oz',\n",
       " 'may',\n",
       " 'becom',\n",
       " 'comfort',\n",
       " 'uncomfort',\n",
       " 'view',\n",
       " 'that',\n",
       " 'get',\n",
       " 'touch',\n",
       " 'darker',\n",
       " 'side']"
      ]
     },
     "execution_count": 72,
     "metadata": {},
     "output_type": "execute_result"
    }
   ],
   "source": [
    "[ porter.stem(word) for word in mylist2 ]"
   ]
  },
  {
   "cell_type": "code",
   "execution_count": 73,
   "id": "a33889e5-4794-4d4a-85c0-afc6345d05f4",
   "metadata": {},
   "outputs": [],
   "source": [
    "mylist3stemmed = [ porter.stem(word) for word in mylist2 ]"
   ]
  },
  {
   "cell_type": "code",
   "execution_count": 74,
   "id": "ec6ff026-e0f0-4dfa-aa01-83a0ec7ba113",
   "metadata": {},
   "outputs": [],
   "source": [
    "from nltk.stem import WordNetLemmatizer"
   ]
  },
  {
   "cell_type": "code",
   "execution_count": 75,
   "id": "5fc19fc4-89a2-43b9-a0c2-505b4c091fae",
   "metadata": {},
   "outputs": [],
   "source": [
    "lemmatizer = WordNetLemmatizer()"
   ]
  },
  {
   "cell_type": "code",
   "execution_count": 77,
   "id": "6db1bab3-f24e-4cb7-9b93-38f05b7638c4",
   "metadata": {},
   "outputs": [
    {
     "name": "stderr",
     "output_type": "stream",
     "text": [
      "[nltk_data] Downloading package wordnet to /home/aleahy/nltk_data...\n"
     ]
    },
    {
     "data": {
      "text/plain": [
       "True"
      ]
     },
     "execution_count": 77,
     "metadata": {},
     "output_type": "execute_result"
    }
   ],
   "source": [
    " nltk.download('wordnet')  # The next line gave an error and suggested I run this"
   ]
  },
  {
   "cell_type": "code",
   "execution_count": 78,
   "id": "b329bc91-30ce-426b-8ded-51e0147b6900",
   "metadata": {},
   "outputs": [
    {
     "data": {
      "text/plain": [
       "['one',\n",
       " 'reviewer',\n",
       " 'mentioned',\n",
       " 'watching',\n",
       " 'oz',\n",
       " 'episode',\n",
       " \"'ll\",\n",
       " 'hooked',\n",
       " 'right',\n",
       " 'exactly',\n",
       " 'happened',\n",
       " 'first',\n",
       " 'thing',\n",
       " 'struck',\n",
       " 'oz',\n",
       " 'brutality',\n",
       " 'unflinching',\n",
       " 'scene',\n",
       " 'violence',\n",
       " 'set',\n",
       " 'right',\n",
       " 'word',\n",
       " 'go',\n",
       " 'trust',\n",
       " 'show',\n",
       " 'faint',\n",
       " 'hearted',\n",
       " 'timid',\n",
       " 'show',\n",
       " 'pull',\n",
       " 'punch',\n",
       " 'regard',\n",
       " 'drug',\n",
       " 'sex',\n",
       " 'violence',\n",
       " 'hardcore',\n",
       " 'classic',\n",
       " 'use',\n",
       " 'word',\n",
       " 'called',\n",
       " 'oz',\n",
       " 'nickname',\n",
       " 'given',\n",
       " 'oswald',\n",
       " 'maximum',\n",
       " 'security',\n",
       " 'state',\n",
       " 'penitentary',\n",
       " 'focus',\n",
       " 'mainly',\n",
       " 'emerald',\n",
       " 'city',\n",
       " 'experimental',\n",
       " 'section',\n",
       " 'prison',\n",
       " 'cell',\n",
       " 'glass',\n",
       " 'front',\n",
       " 'face',\n",
       " 'inwards',\n",
       " 'privacy',\n",
       " 'high',\n",
       " 'agenda',\n",
       " 'em',\n",
       " 'city',\n",
       " 'home',\n",
       " 'many',\n",
       " 'aryan',\n",
       " 'muslim',\n",
       " 'gangsta',\n",
       " 'latino',\n",
       " 'christian',\n",
       " 'italian',\n",
       " 'irish',\n",
       " 'scuffle',\n",
       " 'death',\n",
       " 'stare',\n",
       " 'dodgy',\n",
       " 'dealing',\n",
       " 'shady',\n",
       " 'agreement',\n",
       " 'never',\n",
       " 'far',\n",
       " 'away',\n",
       " 'would',\n",
       " 'say',\n",
       " 'main',\n",
       " 'appeal',\n",
       " 'show',\n",
       " 'due',\n",
       " 'fact',\n",
       " 'go',\n",
       " 'show',\n",
       " 'would',\n",
       " \"n't\",\n",
       " 'dare',\n",
       " 'forget',\n",
       " 'pretty',\n",
       " 'picture',\n",
       " 'painted',\n",
       " 'mainstream',\n",
       " 'audience',\n",
       " 'forget',\n",
       " 'charm',\n",
       " 'forget',\n",
       " 'romance',\n",
       " 'oz',\n",
       " \"n't\",\n",
       " 'mess',\n",
       " 'around',\n",
       " 'first',\n",
       " 'episode',\n",
       " 'ever',\n",
       " 'saw',\n",
       " 'struck',\n",
       " 'nasty',\n",
       " 'surreal',\n",
       " 'could',\n",
       " \"n't\",\n",
       " 'say',\n",
       " 'ready',\n",
       " 'watched',\n",
       " 'developed',\n",
       " 'taste',\n",
       " 'oz',\n",
       " 'got',\n",
       " 'accustomed',\n",
       " 'high',\n",
       " 'level',\n",
       " 'graphic',\n",
       " 'violence',\n",
       " 'violence',\n",
       " 'injustice',\n",
       " 'crooked',\n",
       " 'guard',\n",
       " \"'ll\",\n",
       " 'sold',\n",
       " 'nickel',\n",
       " 'inmate',\n",
       " \"'ll\",\n",
       " 'kill',\n",
       " 'order',\n",
       " 'get',\n",
       " 'away',\n",
       " 'well',\n",
       " 'mannered',\n",
       " 'middle',\n",
       " 'class',\n",
       " 'inmate',\n",
       " 'turned',\n",
       " 'prison',\n",
       " 'bitch',\n",
       " 'due',\n",
       " 'lack',\n",
       " 'street',\n",
       " 'skill',\n",
       " 'prison',\n",
       " 'experience',\n",
       " 'watching',\n",
       " 'oz',\n",
       " 'may',\n",
       " 'become',\n",
       " 'comfortable',\n",
       " 'uncomfortable',\n",
       " 'viewing',\n",
       " 'thats',\n",
       " 'get',\n",
       " 'touch',\n",
       " 'darker',\n",
       " 'side']"
      ]
     },
     "execution_count": 78,
     "metadata": {},
     "output_type": "execute_result"
    }
   ],
   "source": [
    "[ lemmatizer.lemmatize(word) for word in mylist2 ]"
   ]
  },
  {
   "cell_type": "code",
   "execution_count": 79,
   "id": "28c0d9fc-0f14-4166-a31a-d01c3413aedc",
   "metadata": {},
   "outputs": [],
   "source": [
    "mylist3lemma = [ lemmatizer.lemmatize(word) for word in mylist2 ]"
   ]
  },
  {
   "cell_type": "code",
   "execution_count": 80,
   "id": "cbd2f352-d2b1-4127-9259-c5e7b355e451",
   "metadata": {},
   "outputs": [
    {
     "name": "stdout",
     "output_type": "stream",
     "text": [
      "{'one': 1, 'reviewer': 1, 'mentioned': 1, 'watching': 2, 'oz': 6, 'episode': 2, \"'ll\": 3, 'hooked': 1, 'right': 2, 'exactly': 1, 'happened': 1, 'first': 2, 'thing': 1, 'struck': 2, 'brutality': 1, 'unflinching': 1, 'scene': 1, 'violence': 4, 'set': 1, 'word': 2, 'go': 2, 'trust': 1, 'show': 4, 'faint': 1, 'hearted': 1, 'timid': 1, 'pull': 1, 'punch': 1, 'regard': 1, 'drug': 1, 'sex': 1, 'hardcore': 1, 'classic': 1, 'use': 1, 'called': 1, 'nickname': 1, 'given': 1, 'oswald': 1, 'maximum': 1, 'security': 1, 'state': 1, 'penitentary': 1, 'focus': 1, 'mainly': 1, 'emerald': 1, 'city': 2, 'experimental': 1, 'section': 1, 'prison': 3, 'cell': 1, 'glass': 1, 'front': 1, 'face': 1, 'inwards': 1, 'privacy': 1, 'high': 2, 'agenda': 1, 'em': 1, 'home': 1, 'many': 1, 'aryan': 1, 'muslim': 1, 'gangsta': 1, 'latino': 1, 'christian': 1, 'italian': 1, 'irish': 1, 'scuffle': 1, 'death': 1, 'stare': 1, 'dodgy': 1, 'dealing': 1, 'shady': 1, 'agreement': 1, 'never': 1, 'far': 1, 'away': 2, 'would': 2, 'say': 2, 'main': 1, 'appeal': 1, 'due': 2, 'fact': 1, \"n't\": 3, 'dare': 1, 'forget': 3, 'pretty': 1, 'picture': 1, 'painted': 1, 'mainstream': 1, 'audience': 1, 'charm': 1, 'romance': 1, 'mess': 1, 'around': 1, 'ever': 1, 'saw': 1, 'nasty': 1, 'surreal': 1, 'could': 1, 'ready': 1, 'watched': 1, 'developed': 1, 'taste': 1, 'got': 1, 'accustomed': 1, 'level': 1, 'graphic': 1, 'injustice': 1, 'crooked': 1, 'guard': 1, 'sold': 1, 'nickel': 1, 'inmate': 2, 'kill': 1, 'order': 1, 'get': 2, 'well': 1, 'mannered': 1, 'middle': 1, 'class': 1, 'turned': 1, 'bitch': 1, 'lack': 1, 'street': 1, 'skill': 1, 'experience': 1, 'may': 1, 'become': 1, 'comfortable': 1, 'uncomfortable': 1, 'viewing': 1, 'thats': 1, 'touch': 1, 'darker': 1, 'side': 1}\n"
     ]
    }
   ],
   "source": [
    "word_count = {}\n",
    "for word in mylist3lemma:\n",
    "    if word not in word_count:\n",
    "        word_count[word] = 1\n",
    "    elif word in word_count:\n",
    "        word_count[word] += 1\n",
    "print(word_count)\n"
   ]
  },
  {
   "cell_type": "markdown",
   "id": "175ace2a-d47d-47e2-b75d-8e7a4ac3cc21",
   "metadata": {},
   "source": [
    "# SKLearn and the 'Bag of Words' Model #"
   ]
  },
  {
   "cell_type": "markdown",
   "id": "8b65d9e8-7620-49c0-a912-dad33307f8d5",
   "metadata": {},
   "source": [
    "You now have to do this with *every sentence* in the corpus . . . \n",
    "\n",
    "**Key point:** This process of *vectorization* can be automated, and SKLearn does this with its [Text Feature Extraction](https://scikit-learn.org/stable/modules/feature_extraction.html#text-feature-extraction) package"
   ]
  },
  {
   "cell_type": "markdown",
   "id": "80b62b4c-086c-449c-849f-b834ba0b16ac",
   "metadata": {},
   "source": [
    "## CountVectorizer ##\n",
    "\n",
    "This [class](https://scikit-learn.org/stable/modules/generated/sklearn.feature_extraction.text.CountVectorizer.html) counts occurences of words in the *entire* corpus."
   ]
  },
  {
   "cell_type": "code",
   "execution_count": 81,
   "id": "6fb2b9bc-fc91-4ac8-91aa-a86e1d949a29",
   "metadata": {},
   "outputs": [],
   "source": [
    "from sklearn.feature_extraction.text import CountVectorizer"
   ]
  },
  {
   "cell_type": "code",
   "execution_count": 83,
   "id": "b893d45f-8484-4296-a5bf-a4f355386b18",
   "metadata": {},
   "outputs": [
    {
     "data": {
      "text/plain": [
       "0        One of the other reviewers has mentioned that ...\n",
       "1        A wonderful little production. <br /><br />The...\n",
       "2        I thought this was a wonderful way to spend ti...\n",
       "3        Basically there's a family where a little boy ...\n",
       "4        Petter Mattei's \"Love in the Time of Money\" is...\n",
       "                               ...                        \n",
       "49995    I thought this movie did a down right good job...\n",
       "49996    Bad plot, bad dialogue, bad acting, idiotic di...\n",
       "49997    I am a Catholic taught in parochial elementary...\n",
       "49998    I'm going to have to disagree with the previou...\n",
       "49999    No one expects the Star Trek movies to be high...\n",
       "Name: review, Length: 50000, dtype: object"
      ]
     },
     "execution_count": 83,
     "metadata": {},
     "output_type": "execute_result"
    }
   ],
   "source": [
    "mydata['review']"
   ]
  },
  {
   "cell_type": "code",
   "execution_count": 84,
   "id": "56fe8667-e1bf-46d6-bff7-4773c4b7c956",
   "metadata": {},
   "outputs": [],
   "source": [
    "mycount = CountVectorizer()"
   ]
  },
  {
   "cell_type": "code",
   "execution_count": 85,
   "id": "09281555-bed0-41d0-908b-ba9c78086c9d",
   "metadata": {},
   "outputs": [],
   "source": [
    "bag = mycount.fit_transform(mydata['review'])"
   ]
  },
  {
   "cell_type": "markdown",
   "id": "1911e4a4-adbc-40bf-89e3-d901b23ac183",
   "metadata": {},
   "source": [
    "**Note:** This is a new type of data structure:  A scipy [sparse matrix](https://docs.scipy.org/doc/scipy/reference/sparse.html)"
   ]
  },
  {
   "cell_type": "code",
   "execution_count": 89,
   "id": "4deace62-12a6-4791-b9c2-7f81a5e4b724",
   "metadata": {},
   "outputs": [
    {
     "data": {
      "text/plain": [
       "<50000x101895 sparse matrix of type '<class 'numpy.int64'>'\n",
       "\twith 6826529 stored elements in Compressed Sparse Row format>"
      ]
     },
     "execution_count": 89,
     "metadata": {},
     "output_type": "execute_result"
    }
   ],
   "source": [
    "bag"
   ]
  },
  {
   "cell_type": "code",
   "execution_count": 88,
   "id": "02ccdde0-cc2b-44a4-a5fd-e256ed367504",
   "metadata": {},
   "outputs": [
    {
     "data": {
      "text/plain": [
       "(50000, 101895)"
      ]
     },
     "execution_count": 88,
     "metadata": {},
     "output_type": "execute_result"
    }
   ],
   "source": [
    "bag.shape"
   ]
  },
  {
   "cell_type": "code",
   "execution_count": 87,
   "id": "e425c1bb-a7dd-4f4f-a360-415ba5252418",
   "metadata": {},
   "outputs": [
    {
     "data": {
      "text/plain": [
       "<1x101895 sparse matrix of type '<class 'numpy.int64'>'\n",
       "\twith 186 stored elements in Compressed Sparse Row format>"
      ]
     },
     "execution_count": 87,
     "metadata": {},
     "output_type": "execute_result"
    }
   ],
   "source": [
    "bag[0]"
   ]
  },
  {
   "cell_type": "code",
   "execution_count": 90,
   "id": "ff87499e-0972-4371-be38-4a5aa43950da",
   "metadata": {},
   "outputs": [
    {
     "data": {
      "text/plain": [
       "(array([0, 0, 0, 0, 0, 0, 0, 0, 0, 0, 0, 0, 0, 0, 0, 0, 0, 0, 0, 0, 0, 0,\n",
       "        0, 0, 0, 0, 0, 0, 0, 0, 0, 0, 0, 0, 0, 0, 0, 0, 0, 0, 0, 0, 0, 0,\n",
       "        0, 0, 0, 0, 0, 0, 0, 0, 0, 0, 0, 0, 0, 0, 0, 0, 0, 0, 0, 0, 0, 0,\n",
       "        0, 0, 0, 0, 0, 0, 0, 0, 0, 0, 0, 0, 0, 0, 0, 0, 0, 0, 0, 0, 0, 0,\n",
       "        0, 0, 0, 0, 0, 0, 0, 0, 0, 0, 0, 0, 0, 0, 0, 0, 0, 0, 0, 0, 0, 0,\n",
       "        0, 0, 0, 0, 0, 0, 0, 0, 0, 0, 0, 0, 0, 0, 0, 0, 0, 0, 0, 0, 0, 0,\n",
       "        0, 0, 0, 0, 0, 0, 0, 0, 0, 0, 0, 0, 0, 0, 0, 0, 0, 0, 0, 0, 0, 0,\n",
       "        0, 0, 0, 0, 0, 0, 0, 0, 0, 0, 0, 0, 0, 0, 0, 0, 0, 0, 0, 0, 0, 0,\n",
       "        0, 0, 0, 0, 0, 0, 0, 0, 0, 0], dtype=int32),\n",
       " array([ 64131,  63757,  90160,  64776,  75511,  40745,  57558,  90137,\n",
       "          2970,  98226,  48473,  65469,  30113, 101096,  53223,   8758,\n",
       "         42850,  90347,   5707,  75915,   6166,  90455,  46765,  30975,\n",
       "         98847,  40445,  99740,  56982,  12041,  33526,  90399,  86597,\n",
       "          1866,  98149,  46954,  12974,   4541,  94620,  78746,  97142,\n",
       "         98951,  80312,  44763,  35408, 100095,  37795,  92962,  62917,\n",
       "         81437,  34443,  31918,  41171,  64417,  90979,  71592,  62551,\n",
       "         71639,  74108,  91217,  27443,  80408,  40507,  17536,  95817,\n",
       "         46902,  14103,  62222,  37476,  64760,  56533,  79689,  85558,\n",
       "         67071,  34246,  54982,  64110,  29258,  17382,   4414,  31370,\n",
       "         79668,  70605,  98926,   3720,  15580,  40913,  37552,  35429,\n",
       "         31797,  46564,  83481,  70621,  41961,   3024,  29142,  42633,\n",
       "         55619,   6160,  60781,  36216,  51580,  16967,  46911,  46647,\n",
       "         59802,  79429,  22972,  85469,  26380,  22942,  80533,   3130,\n",
       "         62018,  32210,   7224, 100245,  78526,  54968,   5349,  27606,\n",
       "         31842,  37915,  81472, 100248,  22603,  34579,  70448,  68117,\n",
       "         65674,  54992,   6828,  16119,  76558,  26396,  57756,   5948,\n",
       "         30818,  78495,  61396,  87821,  20608,  73312,  13654,  98219,\n",
       "         24622,  89187,  38303,   2170,  52433,  38604,  45622,  21451,\n",
       "         39312,  99131,  83702,  64852,  62203,  45643,  49629,  64482,\n",
       "         37013,  98626,  55525,  58082,  17532,   9211,  93275,  46342,\n",
       "         10355,  90203,  50948,  86413,  82445,  31362,  56540,   8960,\n",
       "         18635,  94097,  96963,  90146,  44135,  14296,  91774, 101124,\n",
       "         22627,  81742], dtype=int32))"
      ]
     },
     "execution_count": 90,
     "metadata": {},
     "output_type": "execute_result"
    }
   ],
   "source": [
    "bag[0].nonzero()"
   ]
  },
  {
   "cell_type": "code",
   "execution_count": 94,
   "id": "5cd8acc1-3a93-4aa2-8acb-19bac3551eda",
   "metadata": {},
   "outputs": [
    {
     "data": {
      "text/plain": [
       "186"
      ]
     },
     "execution_count": 94,
     "metadata": {},
     "output_type": "execute_result"
    }
   ],
   "source": [
    "len(bag[0].data)"
   ]
  },
  {
   "cell_type": "code",
   "execution_count": 95,
   "id": "0d6ff90f-8f04-4ca8-9181-695b8846ba25",
   "metadata": {},
   "outputs": [
    {
     "data": {
      "text/plain": [
       "matrix([[ 1,  7, 16,  2,  1,  1,  1,  4,  1,  2,  2,  6,  2,  3,  3,  2,\n",
       "          1,  1,  2,  2,  4,  3,  9,  1,  2,  1,  5,  4,  6,  2,  1,  2,\n",
       "          1,  3,  2,  1,  6,  1,  1,  4,  1,  1,  3,  1,  2,  1,  1,  3,\n",
       "          3,  5,  1,  1,  3,  1,  1,  1,  1,  1,  6,  1,  1,  1,  1,  1,\n",
       "          6,  1,  1,  1,  1,  1,  1,  1,  1,  1,  1,  3,  1,  2,  1,  1,\n",
       "          1,  3,  2,  1,  1,  1,  1,  1,  1,  1,  3,  1,  2,  1,  1,  1,\n",
       "          1,  1,  1,  1,  1,  1,  1,  1,  2,  1,  1,  1,  1,  1,  1,  1,\n",
       "          1,  1,  2,  1,  2,  1,  1,  2,  1,  1,  1,  1,  1,  3,  1,  1,\n",
       "          1,  1,  1,  1,  1,  1,  1,  1,  1,  1,  1,  1,  1,  1,  2,  1,\n",
       "          1,  1,  1,  1,  1,  1,  1,  1,  1,  2,  1,  1,  1,  2,  1,  1,\n",
       "          2,  1,  1,  1,  1,  1,  1,  1,  1,  1,  1,  1,  1,  1,  1,  1,\n",
       "          1,  1,  1,  1,  1,  1,  1,  1,  1,  1]])"
      ]
     },
     "execution_count": 95,
     "metadata": {},
     "output_type": "execute_result"
    }
   ],
   "source": [
    "bag[bag[0].nonzero()]"
   ]
  },
  {
   "cell_type": "code",
   "execution_count": 97,
   "id": "d151eab1-037f-486b-835f-52c2699e937f",
   "metadata": {},
   "outputs": [
    {
     "data": {
      "text/plain": [
       "matrix([[ 7, 16,  2,  3,  2,  4,  3,  9,  5,  6,  2,  2,  6,  1,  3,  5,\n",
       "          3,  6,  2,  1,  1,  1,  1,  1,  1,  1,  1,  0,  0,  0,  0,  0,\n",
       "          0,  0,  0,  0,  0,  0,  0,  0,  0,  0,  0,  0,  0,  0,  0,  0,\n",
       "          0,  0,  0,  0,  0,  0,  0,  0,  0,  0,  0,  0,  0,  0,  0,  0,\n",
       "          0,  0,  0,  0,  0,  0,  0,  0,  0,  0,  0,  0,  0,  0,  0,  0,\n",
       "          0,  0,  0]])"
      ]
     },
     "execution_count": 97,
     "metadata": {},
     "output_type": "execute_result"
    }
   ],
   "source": [
    "bag[bag[3].nonzero()]"
   ]
  },
  {
   "cell_type": "markdown",
   "id": "a7521d72-303e-419f-9964-16006921f4a6",
   "metadata": {},
   "source": [
    "##  TfidfTransformer ##\n",
    "\n",
    "This gives a (fixed-length) numerical vector for each sentence in our corpus.  But this isn't really a good vector to use.  Why?\n",
    "\n",
    "Instead of the **term frequency**, we will compute TF-IDF:\n",
    "\n",
    "$$\\text{tf-idf}(t,d)=\\text{tf (t,d)}\\times \\text{idf}(t)$$\n",
    "\n",
    "where\n",
    "\n",
    "$$\\text{idf}(t) = \\text{log}\\frac{n}{1+\\text{df}(t)}$$\n",
    "\n",
    "though there are variations on this, such as \n",
    "\n",
    "$$\\text{idf} (t,d) = \\text{log}\\frac{1 + n}{1 + \\text{df}(t)}$$\n",
    "\n",
    "where $n$ is the total number of documents in the corpus and $\\text{df}(t)$ is the number of documents that contain the term $t$.  (The effect of this is to make rarely occurring words have a higher weight.  How??)  The tf-idf equation is implemented in scikit-learn is slightly different and is as follows:\n",
    "\n",
    "$$\\text{tf-idf}(t,d) = \\text{tf}(t,d) \\times (\\text{idf}(t,d)+1)$$\n",
    "\n",
    "Moreover, the [TfidfTrransformer](https://scikit-learn.org/stable/modules/generated/sklearn.feature_extraction.text.TfidfTransformer.html) normalizes the tf-idfs directly:\n",
    "\n",
    "$$v_{\\text{norm}} = \\frac{v}{||v||_2} = \\frac{v}{\\sqrt{v_{1}^{2} + v_{2}^{2} + \\dots + v_{n}^{2}}} = \\frac{v}{\\big (\\sum_{i=1}^{n} v_{i}^{2}\\big)^\\frac{1}{2}}$$"
   ]
  },
  {
   "cell_type": "code",
   "execution_count": 98,
   "id": "177b1f5c-e057-444b-b8b7-cf92f88a8d7f",
   "metadata": {},
   "outputs": [],
   "source": [
    "from sklearn.feature_extraction.text import TfidfTransformer"
   ]
  },
  {
   "cell_type": "code",
   "execution_count": 102,
   "id": "4ead6463-15a4-4c26-b12f-e3288d285171",
   "metadata": {},
   "outputs": [],
   "source": [
    "mytfidf = TfidfTransformer()"
   ]
  },
  {
   "cell_type": "code",
   "execution_count": 104,
   "id": "fe97c9ad-3de9-4551-85a2-bf6aa276535d",
   "metadata": {},
   "outputs": [],
   "source": [
    "mynewbag = mytfidf.fit_transform(bag)"
   ]
  },
  {
   "cell_type": "code",
   "execution_count": 105,
   "id": "b8b40216-1ce6-4df4-bb4b-420c154e72b6",
   "metadata": {},
   "outputs": [
    {
     "data": {
      "text/plain": [
       "(50000, 101895)"
      ]
     },
     "execution_count": 105,
     "metadata": {},
     "output_type": "execute_result"
    }
   ],
   "source": [
    "mynewbag.shape"
   ]
  },
  {
   "cell_type": "code",
   "execution_count": 108,
   "id": "612bdc7e-594a-4624-a98d-937acb80b1d7",
   "metadata": {},
   "outputs": [
    {
     "data": {
      "text/plain": [
       "matrix([[0.02911322, 0.05068733, 0.04479186, 0.02244943, 0.09255941,\n",
       "         0.07188521, 0.03798399, 0.02331236, 0.05603874, 0.0405969 ,\n",
       "         0.02324466, 0.06081672, 0.03718882, 0.04558484, 0.18469651,\n",
       "         0.04837916, 0.03966464, 0.08812306, 0.06598397, 0.04594793,\n",
       "         0.05750647, 0.05318728, 0.06723554, 0.08362849, 0.03477363,\n",
       "         0.03054229, 0.01938486, 0.02408115, 0.17026481, 0.05739846,\n",
       "         0.05110907, 0.0539727 , 0.06140152, 0.13109702, 0.0508575 ,\n",
       "         0.05208189, 0.08048678, 0.06472807, 0.05576775, 0.05991473,\n",
       "         0.04336909, 0.03752364, 0.09527006, 0.07956894, 0.04243153,\n",
       "         0.03678788, 0.06383417, 0.0626505 , 0.1100581 , 0.03002716,\n",
       "         0.05797293, 0.03388801, 0.05017671, 0.06765681, 0.05991473,\n",
       "         0.07293804, 0.05626202, 0.07358243, 0.06244624, 0.09031335,\n",
       "         0.16991551, 0.03334867, 0.054682  , 0.11309272, 0.06889804,\n",
       "         0.42048426, 0.01953166, 0.04889158, 0.08991524, 0.0460941 ,\n",
       "         0.05966131, 0.01649938, 0.04638334, 0.07772821, 0.04803814,\n",
       "         0.02241429, 0.08406808, 0.09611552, 0.02751856, 0.05692567,\n",
       "         0.08300166, 0.04279007, 0.04605736, 0.05029477, 0.05165777,\n",
       "         0.09394278, 0.0342011 , 0.07620972, 0.02737512, 0.07794287,\n",
       "         0.06273927, 0.05499104, 0.03753453, 0.10579811, 0.0602379 ,\n",
       "         0.08991524, 0.04505532, 0.04439296, 0.03940622, 0.05453711,\n",
       "         0.07913832, 0.07064808, 0.10551469, 0.06487257, 0.11309272,\n",
       "         0.02502462, 0.15718045, 0.07745216, 0.03568367, 0.01938438,\n",
       "         0.06554851, 0.04000685, 0.07606762, 0.06106662, 0.01649493,\n",
       "         0.02024542, 0.06822724, 0.04535407, 0.07325531, 0.06069296,\n",
       "         0.03314366, 0.03670446, 0.02969159, 0.06465655, 0.03965131,\n",
       "         0.04890104, 0.10770427, 0.08476384, 0.01862866, 0.14583049,\n",
       "         0.07066954, 0.06313281, 0.050151  , 0.03462046, 0.07794287,\n",
       "         0.03328657, 0.04098781, 0.07108013, 0.04454012, 0.04553863,\n",
       "         0.0278701 , 0.09022208, 0.0968433 , 0.06528047, 0.09312878,\n",
       "         0.05763389, 0.03113722, 0.07698326, 0.05499104, 0.04008983,\n",
       "         0.08550875, 0.06858313, 0.06501908, 0.0772151 , 0.04107129,\n",
       "         0.06759657, 0.03991086, 0.04786631, 0.09165529, 0.07444754,\n",
       "         0.05544246, 0.0761037 , 0.02070658, 0.04165072, 0.02814901,\n",
       "         0.07286019, 0.09732735, 0.0930809 , 0.02746074, 0.04173558,\n",
       "         0.03317903, 0.07051889, 0.05392106, 0.06107842, 0.10150398,\n",
       "         0.0329885 , 0.03361745, 0.05444925, 0.06547914, 0.01815609,\n",
       "         0.01748613, 0.10274642, 0.07182664, 0.02617715, 0.08184977,\n",
       "         0.01982135]])"
      ]
     },
     "execution_count": 108,
     "metadata": {},
     "output_type": "execute_result"
    }
   ],
   "source": [
    "mynewbag[mynewbag[0].nonzero()]"
   ]
  },
  {
   "cell_type": "markdown",
   "id": "8b1c3e17-c2bb-46d6-8982-5f280da3d3ec",
   "metadata": {},
   "source": [
    "# Building the Model? #"
   ]
  },
  {
   "cell_type": "code",
   "execution_count": 109,
   "id": "a459ec95-ecb8-408a-a87d-074dbd90afe6",
   "metadata": {},
   "outputs": [],
   "source": [
    "X_train = mydata.loc[:25000, 'review'].values\n",
    "y_train = mydata.loc[:25000, 'sentiment'].values\n",
    "X_test = mydata.loc[25000:, 'review'].values\n",
    "y_test = mydata.loc[25000:, 'sentiment'].values"
   ]
  },
  {
   "cell_type": "code",
   "execution_count": 111,
   "id": "8ec9f81f-c37d-4a5f-aa97-8cc038884058",
   "metadata": {},
   "outputs": [
    {
     "data": {
      "text/plain": [
       "array(['negative', 'negative', 'positive', 'positive', 'negative',\n",
       "       'positive', 'negative', 'positive', 'positive', 'negative',\n",
       "       'positive', 'positive', 'positive', 'positive', 'positive',\n",
       "       'positive', 'positive', 'positive', 'negative', 'positive',\n",
       "       'positive', 'negative', 'positive', 'negative', 'positive',\n",
       "       'positive', 'negative', 'positive', 'negative', 'negative',\n",
       "       'positive', 'positive', 'positive', 'positive', 'positive',\n",
       "       'positive', 'negative', 'negative', 'positive', 'negative',\n",
       "       'positive', 'negative', 'positive', 'positive', 'positive',\n",
       "       'positive', 'positive', 'positive', 'negative', 'positive'],\n",
       "      dtype=object)"
      ]
     },
     "execution_count": 111,
     "metadata": {},
     "output_type": "execute_result"
    }
   ],
   "source": [
    "y_test[:50]"
   ]
  },
  {
   "cell_type": "code",
   "execution_count": 113,
   "id": "2bf93b6e-ca56-4e33-9732-e64da2d49269",
   "metadata": {},
   "outputs": [],
   "source": [
    "temp = mycount.fit_transform(X_train)"
   ]
  },
  {
   "cell_type": "code",
   "execution_count": 114,
   "id": "f77aa6b0-b08d-4779-aad9-0fa86d8ea896",
   "metadata": {},
   "outputs": [],
   "source": [
    "bagX = mytfidf.fit_transform(temp)"
   ]
  },
  {
   "cell_type": "code",
   "execution_count": 115,
   "id": "e303cb77-345e-4953-9d30-06700d9c8932",
   "metadata": {},
   "outputs": [],
   "source": [
    "from sklearn.linear_model import LogisticRegression"
   ]
  },
  {
   "cell_type": "code",
   "execution_count": 117,
   "id": "be6ba3b8-63f4-44ba-b83d-0284237667bf",
   "metadata": {},
   "outputs": [],
   "source": [
    "mylogreg = LogisticRegression()"
   ]
  },
  {
   "cell_type": "code",
   "execution_count": 118,
   "id": "d1439b78-df59-45c6-bd06-6a8dbe87e2d0",
   "metadata": {},
   "outputs": [],
   "source": [
    "mymodel = mylogreg.fit(bagX, y_train)"
   ]
  },
  {
   "cell_type": "code",
   "execution_count": 119,
   "id": "7b7f6731-acdf-4057-af7c-2136afed687f",
   "metadata": {},
   "outputs": [],
   "source": [
    "temptest = mycount.fit_transform(X_test)"
   ]
  },
  {
   "cell_type": "code",
   "execution_count": 120,
   "id": "5d116544-4605-47a8-9665-b36d0b7d3671",
   "metadata": {},
   "outputs": [],
   "source": [
    "bagXtest = mytfidf.fit_transform(temptest)"
   ]
  },
  {
   "cell_type": "code",
   "execution_count": 121,
   "id": "37fddb0d-68d2-45b2-8674-9d15b79da8f3",
   "metadata": {},
   "outputs": [
    {
     "ename": "ValueError",
     "evalue": "X has 76885 features, but LogisticRegression is expecting 76497 features as input.",
     "output_type": "error",
     "traceback": [
      "\u001b[0;31m---------------------------------------------------------------------------\u001b[0m",
      "\u001b[0;31mValueError\u001b[0m                                Traceback (most recent call last)",
      "Cell \u001b[0;32mIn[121], line 1\u001b[0m\n\u001b[0;32m----> 1\u001b[0m mypredictedy \u001b[38;5;241m=\u001b[39m \u001b[43mmymodel\u001b[49m\u001b[38;5;241;43m.\u001b[39;49m\u001b[43mpredict\u001b[49m\u001b[43m(\u001b[49m\u001b[43mbagXtest\u001b[49m\u001b[43m)\u001b[49m\n",
      "File \u001b[0;32m~/.local/lib/python3.10/site-packages/sklearn/linear_model/_base.py:451\u001b[0m, in \u001b[0;36mLinearClassifierMixin.predict\u001b[0;34m(self, X)\u001b[0m\n\u001b[1;32m    437\u001b[0m \u001b[38;5;250m\u001b[39m\u001b[38;5;124;03m\"\"\"\u001b[39;00m\n\u001b[1;32m    438\u001b[0m \u001b[38;5;124;03mPredict class labels for samples in X.\u001b[39;00m\n\u001b[1;32m    439\u001b[0m \n\u001b[0;32m   (...)\u001b[0m\n\u001b[1;32m    448\u001b[0m \u001b[38;5;124;03m    Vector containing the class labels for each sample.\u001b[39;00m\n\u001b[1;32m    449\u001b[0m \u001b[38;5;124;03m\"\"\"\u001b[39;00m\n\u001b[1;32m    450\u001b[0m xp, _ \u001b[38;5;241m=\u001b[39m get_namespace(X)\n\u001b[0;32m--> 451\u001b[0m scores \u001b[38;5;241m=\u001b[39m \u001b[38;5;28;43mself\u001b[39;49m\u001b[38;5;241;43m.\u001b[39;49m\u001b[43mdecision_function\u001b[49m\u001b[43m(\u001b[49m\u001b[43mX\u001b[49m\u001b[43m)\u001b[49m\n\u001b[1;32m    452\u001b[0m \u001b[38;5;28;01mif\u001b[39;00m \u001b[38;5;28mlen\u001b[39m(scores\u001b[38;5;241m.\u001b[39mshape) \u001b[38;5;241m==\u001b[39m \u001b[38;5;241m1\u001b[39m:\n\u001b[1;32m    453\u001b[0m     indices \u001b[38;5;241m=\u001b[39m xp\u001b[38;5;241m.\u001b[39mastype(scores \u001b[38;5;241m>\u001b[39m \u001b[38;5;241m0\u001b[39m, \u001b[38;5;28mint\u001b[39m)\n",
      "File \u001b[0;32m~/.local/lib/python3.10/site-packages/sklearn/linear_model/_base.py:432\u001b[0m, in \u001b[0;36mLinearClassifierMixin.decision_function\u001b[0;34m(self, X)\u001b[0m\n\u001b[1;32m    429\u001b[0m check_is_fitted(\u001b[38;5;28mself\u001b[39m)\n\u001b[1;32m    430\u001b[0m xp, _ \u001b[38;5;241m=\u001b[39m get_namespace(X)\n\u001b[0;32m--> 432\u001b[0m X \u001b[38;5;241m=\u001b[39m \u001b[38;5;28;43mself\u001b[39;49m\u001b[38;5;241;43m.\u001b[39;49m\u001b[43m_validate_data\u001b[49m\u001b[43m(\u001b[49m\u001b[43mX\u001b[49m\u001b[43m,\u001b[49m\u001b[43m \u001b[49m\u001b[43maccept_sparse\u001b[49m\u001b[38;5;241;43m=\u001b[39;49m\u001b[38;5;124;43m\"\u001b[39;49m\u001b[38;5;124;43mcsr\u001b[39;49m\u001b[38;5;124;43m\"\u001b[39;49m\u001b[43m,\u001b[49m\u001b[43m \u001b[49m\u001b[43mreset\u001b[49m\u001b[38;5;241;43m=\u001b[39;49m\u001b[38;5;28;43;01mFalse\u001b[39;49;00m\u001b[43m)\u001b[49m\n\u001b[1;32m    433\u001b[0m scores \u001b[38;5;241m=\u001b[39m safe_sparse_dot(X, \u001b[38;5;28mself\u001b[39m\u001b[38;5;241m.\u001b[39mcoef_\u001b[38;5;241m.\u001b[39mT, dense_output\u001b[38;5;241m=\u001b[39m\u001b[38;5;28;01mTrue\u001b[39;00m) \u001b[38;5;241m+\u001b[39m \u001b[38;5;28mself\u001b[39m\u001b[38;5;241m.\u001b[39mintercept_\n\u001b[1;32m    434\u001b[0m \u001b[38;5;28;01mreturn\u001b[39;00m xp\u001b[38;5;241m.\u001b[39mreshape(scores, (\u001b[38;5;241m-\u001b[39m\u001b[38;5;241m1\u001b[39m,)) \u001b[38;5;28;01mif\u001b[39;00m scores\u001b[38;5;241m.\u001b[39mshape[\u001b[38;5;241m1\u001b[39m] \u001b[38;5;241m==\u001b[39m \u001b[38;5;241m1\u001b[39m \u001b[38;5;28;01melse\u001b[39;00m scores\n",
      "File \u001b[0;32m~/.local/lib/python3.10/site-packages/sklearn/base.py:626\u001b[0m, in \u001b[0;36mBaseEstimator._validate_data\u001b[0;34m(self, X, y, reset, validate_separately, cast_to_ndarray, **check_params)\u001b[0m\n\u001b[1;32m    623\u001b[0m     out \u001b[38;5;241m=\u001b[39m X, y\n\u001b[1;32m    625\u001b[0m \u001b[38;5;28;01mif\u001b[39;00m \u001b[38;5;129;01mnot\u001b[39;00m no_val_X \u001b[38;5;129;01mand\u001b[39;00m check_params\u001b[38;5;241m.\u001b[39mget(\u001b[38;5;124m\"\u001b[39m\u001b[38;5;124mensure_2d\u001b[39m\u001b[38;5;124m\"\u001b[39m, \u001b[38;5;28;01mTrue\u001b[39;00m):\n\u001b[0;32m--> 626\u001b[0m     \u001b[38;5;28;43mself\u001b[39;49m\u001b[38;5;241;43m.\u001b[39;49m\u001b[43m_check_n_features\u001b[49m\u001b[43m(\u001b[49m\u001b[43mX\u001b[49m\u001b[43m,\u001b[49m\u001b[43m \u001b[49m\u001b[43mreset\u001b[49m\u001b[38;5;241;43m=\u001b[39;49m\u001b[43mreset\u001b[49m\u001b[43m)\u001b[49m\n\u001b[1;32m    628\u001b[0m \u001b[38;5;28;01mreturn\u001b[39;00m out\n",
      "File \u001b[0;32m~/.local/lib/python3.10/site-packages/sklearn/base.py:415\u001b[0m, in \u001b[0;36mBaseEstimator._check_n_features\u001b[0;34m(self, X, reset)\u001b[0m\n\u001b[1;32m    412\u001b[0m     \u001b[38;5;28;01mreturn\u001b[39;00m\n\u001b[1;32m    414\u001b[0m \u001b[38;5;28;01mif\u001b[39;00m n_features \u001b[38;5;241m!=\u001b[39m \u001b[38;5;28mself\u001b[39m\u001b[38;5;241m.\u001b[39mn_features_in_:\n\u001b[0;32m--> 415\u001b[0m     \u001b[38;5;28;01mraise\u001b[39;00m \u001b[38;5;167;01mValueError\u001b[39;00m(\n\u001b[1;32m    416\u001b[0m         \u001b[38;5;124mf\u001b[39m\u001b[38;5;124m\"\u001b[39m\u001b[38;5;124mX has \u001b[39m\u001b[38;5;132;01m{\u001b[39;00mn_features\u001b[38;5;132;01m}\u001b[39;00m\u001b[38;5;124m features, but \u001b[39m\u001b[38;5;132;01m{\u001b[39;00m\u001b[38;5;28mself\u001b[39m\u001b[38;5;241m.\u001b[39m\u001b[38;5;18m__class__\u001b[39m\u001b[38;5;241m.\u001b[39m\u001b[38;5;18m__name__\u001b[39m\u001b[38;5;132;01m}\u001b[39;00m\u001b[38;5;124m \u001b[39m\u001b[38;5;124m\"\u001b[39m\n\u001b[1;32m    417\u001b[0m         \u001b[38;5;124mf\u001b[39m\u001b[38;5;124m\"\u001b[39m\u001b[38;5;124mis expecting \u001b[39m\u001b[38;5;132;01m{\u001b[39;00m\u001b[38;5;28mself\u001b[39m\u001b[38;5;241m.\u001b[39mn_features_in_\u001b[38;5;132;01m}\u001b[39;00m\u001b[38;5;124m features as input.\u001b[39m\u001b[38;5;124m\"\u001b[39m\n\u001b[1;32m    418\u001b[0m     )\n",
      "\u001b[0;31mValueError\u001b[0m: X has 76885 features, but LogisticRegression is expecting 76497 features as input."
     ]
    }
   ],
   "source": [
    "mypredictedy = mymodel.predict(bagXtest)"
   ]
  },
  {
   "cell_type": "markdown",
   "id": "43eb75d5-80f8-49f8-a198-d5f56efe23bf",
   "metadata": {},
   "source": [
    "**Problem:** I think the dictionaries for the test and train had different lengths.  I will try this again with one dictionary."
   ]
  },
  {
   "cell_type": "markdown",
   "id": "5b9db96a-4434-4aa5-ba14-1699fe918bca",
   "metadata": {},
   "source": [
    "# Another Attempt at Building the Model #"
   ]
  },
  {
   "cell_type": "code",
   "execution_count": 122,
   "id": "e0bb305d-7855-48a9-b352-b2bb713bfa59",
   "metadata": {},
   "outputs": [],
   "source": [
    "temp = mycount.fit_transform(mydata['review'].values)"
   ]
  },
  {
   "cell_type": "code",
   "execution_count": 156,
   "id": "f200eaf0-64ad-4959-8a82-442484b3c742",
   "metadata": {},
   "outputs": [],
   "source": [
    "bagX = mytfidf.fit_transform(temp)"
   ]
  },
  {
   "cell_type": "code",
   "execution_count": 157,
   "id": "56c93a00-501b-45e2-8e45-0884213f3965",
   "metadata": {},
   "outputs": [
    {
     "data": {
      "text/plain": [
       "(50000, 101895)"
      ]
     },
     "execution_count": 157,
     "metadata": {},
     "output_type": "execute_result"
    }
   ],
   "source": [
    "bagX.shape"
   ]
  },
  {
   "cell_type": "code",
   "execution_count": 158,
   "id": "c8916b4a-87c0-4113-bc37-e8c7faaf3a99",
   "metadata": {},
   "outputs": [],
   "source": [
    "X_train = bagX[:25000]\n",
    "X_test = bagX[25000:]"
   ]
  },
  {
   "cell_type": "code",
   "execution_count": 159,
   "id": "2489519a-995e-4c47-a34e-258b5afa0d8f",
   "metadata": {},
   "outputs": [
    {
     "data": {
      "text/plain": [
       "(25000, 101895)"
      ]
     },
     "execution_count": 159,
     "metadata": {},
     "output_type": "execute_result"
    }
   ],
   "source": [
    "X_train.shape"
   ]
  },
  {
   "cell_type": "code",
   "execution_count": 160,
   "id": "30953231-286a-4899-af4e-01658c06c866",
   "metadata": {},
   "outputs": [
    {
     "data": {
      "text/plain": [
       "(25000, 101895)"
      ]
     },
     "execution_count": 160,
     "metadata": {},
     "output_type": "execute_result"
    }
   ],
   "source": [
    "X_test.shape"
   ]
  },
  {
   "cell_type": "code",
   "execution_count": 161,
   "id": "db15c175-47d7-4dca-a173-90816f7c5ec4",
   "metadata": {},
   "outputs": [],
   "source": [
    "y_train = mydata.loc[:24999, 'sentiment']"
   ]
  },
  {
   "cell_type": "code",
   "execution_count": 162,
   "id": "c5b40c80-1ad3-4509-8263-9f44d49a0323",
   "metadata": {},
   "outputs": [],
   "source": [
    "y_test = mydata.loc[25000:, 'sentiment']"
   ]
  },
  {
   "cell_type": "code",
   "execution_count": 163,
   "id": "a6397971-db8c-4e91-a668-b3a7a99861c1",
   "metadata": {},
   "outputs": [
    {
     "data": {
      "text/plain": [
       "(25000,)"
      ]
     },
     "execution_count": 163,
     "metadata": {},
     "output_type": "execute_result"
    }
   ],
   "source": [
    "y_train.shape"
   ]
  },
  {
   "cell_type": "code",
   "execution_count": 164,
   "id": "e6e29786-3207-4568-bfb3-ae07a0849da2",
   "metadata": {},
   "outputs": [
    {
     "data": {
      "text/plain": [
       "(25000,)"
      ]
     },
     "execution_count": 164,
     "metadata": {},
     "output_type": "execute_result"
    }
   ],
   "source": [
    "y_test.shape"
   ]
  },
  {
   "cell_type": "code",
   "execution_count": 166,
   "id": "03e484a1-7291-45bf-b779-7839c39aebde",
   "metadata": {},
   "outputs": [],
   "source": [
    "mylogreg = LogisticRegression()"
   ]
  },
  {
   "cell_type": "code",
   "execution_count": 167,
   "id": "b2daa5df-7180-4405-80fb-af16c00cf8e3",
   "metadata": {},
   "outputs": [],
   "source": [
    "mymodel = mylogreg.fit(X_train, y_train)"
   ]
  },
  {
   "cell_type": "code",
   "execution_count": 169,
   "id": "7b894ba5-5b7d-47bd-ac7e-b246e3040260",
   "metadata": {},
   "outputs": [],
   "source": [
    "mypredictions = mymodel.predict(X_test)"
   ]
  },
  {
   "cell_type": "code",
   "execution_count": 170,
   "id": "9bae12c3-eb01-4ed9-89d3-0f0eaae9d248",
   "metadata": {},
   "outputs": [
    {
     "data": {
      "text/plain": [
       "(25000,)"
      ]
     },
     "execution_count": 170,
     "metadata": {},
     "output_type": "execute_result"
    }
   ],
   "source": [
    "mypredictions.shape"
   ]
  },
  {
   "cell_type": "code",
   "execution_count": 171,
   "id": "40228794-f154-45b0-a01e-71ea1717df8e",
   "metadata": {},
   "outputs": [],
   "source": [
    "from sklearn.metrics import accuracy_score"
   ]
  },
  {
   "cell_type": "code",
   "execution_count": 172,
   "id": "534d91db-aad3-4677-8327-5033c3040405",
   "metadata": {},
   "outputs": [
    {
     "data": {
      "text/plain": [
       "0.89084"
      ]
     },
     "execution_count": 172,
     "metadata": {},
     "output_type": "execute_result"
    }
   ],
   "source": [
    "accuracy_score(mypredictions, y_test)"
   ]
  },
  {
   "cell_type": "markdown",
   "id": "ac8e0fd7-5f40-456e-8cb6-6dac0a912ac6",
   "metadata": {},
   "source": [
    "### Comments ###\n",
    "\n",
    "I don't think 89% accuracy on a simple logistic regression model is all that bad.  Note that I didn't even include my cleaned up data when I vectorized my text."
   ]
  },
  {
   "cell_type": "code",
   "execution_count": null,
   "id": "1dc491a2-4423-455a-b1e4-f3aa82140e94",
   "metadata": {},
   "outputs": [],
   "source": []
  }
 ],
 "metadata": {
  "kernelspec": {
   "display_name": "Python 3",
   "language": "python",
   "name": "python3"
  },
  "language_info": {
   "codemirror_mode": {
    "name": "ipython",
    "version": 3
   },
   "file_extension": ".py",
   "mimetype": "text/x-python",
   "name": "python",
   "nbconvert_exporter": "python",
   "pygments_lexer": "ipython3",
   "version": "3.11.6"
  }
 },
 "nbformat": 4,
 "nbformat_minor": 5
}
