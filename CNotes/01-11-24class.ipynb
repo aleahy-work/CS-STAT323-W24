{
 "cells": [
  {
   "cell_type": "markdown",
   "id": "41f69e3b-aed5-4414-9c1e-bd8cc38533a8",
   "metadata": {},
   "source": [
    "# Class Notes 1/11/24 #"
   ]
  },
  {
   "cell_type": "markdown",
   "id": "60bd5876-a41b-44a4-95d8-b0574332a402",
   "metadata": {},
   "source": [
    "### An Object-Oriented Perceptron ###"
   ]
  },
  {
   "cell_type": "code",
   "execution_count": 11,
   "id": "d1485b8a-7f07-4351-b28c-2ff461487821",
   "metadata": {},
   "outputs": [],
   "source": [
    "import numpy as np\n",
    "\n",
    "class Perceptron:\n",
    "    \"\"\"Perceptron classifier.\n",
    "\n",
    "    Parameters\n",
    "    ------------\n",
    "    eta : float\n",
    "      Learning rate (between 0.0 and 1.0)\n",
    "    n_iter : int\n",
    "      Passes over the training dataset.\n",
    "    random_state : int\n",
    "      Random number generator seed for random weight\n",
    "      initialization.\n",
    "\n",
    "    Attributes\n",
    "    -----------\n",
    "    w_ : 1d-array\n",
    "      Weights after fitting.\n",
    "    b_ : Scalar\n",
    "      Bias unit after fitting.\n",
    "    errors_ : list\n",
    "      Number of misclassifications (updates) in each epoch.\n",
    "\n",
    "    \"\"\"\n",
    "    def __init__(self, eta=0.01, n_iter=50, random_state=1):\n",
    "        self.eta = eta\n",
    "        self.n_iter = n_iter\n",
    "        self.random_state = random_state\n",
    "\n",
    "    def fit(self, X, y):\n",
    "        \"\"\"Fit training data.\n",
    "\n",
    "        Parameters\n",
    "        ----------\n",
    "        X : {array-like}, shape = [n_examples, n_features]\n",
    "          Training vectors, where n_examples is the number of examples and\n",
    "          n_features is the number of features.\n",
    "        y : array-like, shape = [n_examples]\n",
    "          Target values.\n",
    "\n",
    "        Returns\n",
    "        -------\n",
    "        self : object\n",
    "\n",
    "        \"\"\"\n",
    "        rgen = np.random.RandomState(self.random_state)\n",
    "        self.w_ = rgen.normal(loc=0.0, scale=0.01, size=X.shape[1])\n",
    "        self.b_ = np.float_(0.)\n",
    "        \n",
    "        self.errors_ = []\n",
    "\n",
    "        for _ in range(self.n_iter):\n",
    "            errors = 0\n",
    "            for xi, target in zip(X, y):\n",
    "                update = self.eta * (target - self.predict(xi))\n",
    "                self.w_ += update * xi\n",
    "                self.b_ += update\n",
    "                errors += int(update != 0.0)\n",
    "            self.errors_.append(errors)\n",
    "        return self\n",
    "\n",
    "    def net_input(self, X):\n",
    "        \"\"\"Calculate net input\"\"\"\n",
    "        return np.dot(X, self.w_) + self.b_\n",
    "\n",
    "    def predict(self, X):\n",
    "        \"\"\"Return class label after unit step\"\"\"\n",
    "        return np.where(self.net_input(X) >= 0.0, 1, 0)"
   ]
  },
  {
   "cell_type": "code",
   "execution_count": 12,
   "id": "392d31bb-d4da-4cae-84c3-e1c197c717b6",
   "metadata": {},
   "outputs": [],
   "source": [
    "data = np.genfromtxt('jan11data.csv',delimiter=',')"
   ]
  },
  {
   "cell_type": "code",
   "execution_count": 13,
   "id": "920eeec3-bfdd-4c44-81b0-6f54c3fb07e2",
   "metadata": {},
   "outputs": [
    {
     "data": {
      "text/plain": [
       "array([[-1.84238004,  1.97394517,  1.        ],\n",
       "       [-2.98921685,  2.6726499 ,  1.        ],\n",
       "       [-1.4964729 ,  2.26819417,  1.        ],\n",
       "       [-2.30311212,  2.12954935,  1.        ],\n",
       "       [-2.1671905 ,  3.27538149,  1.        ],\n",
       "       [-1.51056109,  3.07130952,  1.        ],\n",
       "       [-3.94996259,  1.96830767,  1.        ],\n",
       "       [-2.56199865,  1.9764674 ,  1.        ],\n",
       "       [-2.57156931,  1.14506803,  1.        ],\n",
       "       [-2.05263125,  1.06656843,  1.        ],\n",
       "       [-3.89742167,  1.61855205,  1.        ],\n",
       "       [-2.89777976,  2.91820873,  1.        ],\n",
       "       [-3.62630627,  2.02227248,  1.        ],\n",
       "       [-3.68295371,  0.71377916,  1.        ],\n",
       "       [-2.02339907,  0.10986905,  1.        ],\n",
       "       [-2.10789978,  0.79519064,  1.        ],\n",
       "       [-2.37070297,  1.27532246,  1.        ],\n",
       "       [-0.12466844,  0.25415246,  1.        ],\n",
       "       [-2.09887603,  2.41048992,  1.        ],\n",
       "       [-2.17283855,  3.66926035,  1.        ],\n",
       "       [ 2.09364924, -2.23442951, -1.        ],\n",
       "       [ 2.45116368, -0.31018816, -1.        ],\n",
       "       [ 2.4862178 , -2.68525396, -1.        ],\n",
       "       [ 1.06295691,  0.21752052, -1.        ],\n",
       "       [ 3.42571883, -0.87886279, -1.        ],\n",
       "       [ 2.51289564, -2.15761786, -1.        ],\n",
       "       [ 1.57547595, -1.04751885, -1.        ],\n",
       "       [ 1.2774832 , -2.69353138, -1.        ],\n",
       "       [ 2.35607441, -1.37307099, -1.        ],\n",
       "       [ 2.38856303, -2.09621229, -1.        ],\n",
       "       [ 3.25925355, -2.05710788, -1.        ],\n",
       "       [ 2.49059211, -1.04153099, -1.        ],\n",
       "       [ 1.91907647, -2.79314305, -1.        ],\n",
       "       [ 3.52425331, -1.26095731, -1.        ],\n",
       "       [ 1.98293227, -1.12474203, -1.        ],\n",
       "       [ 4.83475734, -2.77359931, -1.        ],\n",
       "       [ 1.28699345, -2.60075567, -1.        ],\n",
       "       [ 1.32428575, -3.08751528, -1.        ],\n",
       "       [ 1.3620399 , -2.38717286, -1.        ],\n",
       "       [ 2.89014774, -1.29362782, -1.        ]])"
      ]
     },
     "execution_count": 13,
     "metadata": {},
     "output_type": "execute_result"
    }
   ],
   "source": [
    "data"
   ]
  },
  {
   "cell_type": "code",
   "execution_count": 16,
   "id": "e0a82d78-9e36-403f-b6d5-f179b4043933",
   "metadata": {},
   "outputs": [],
   "source": [
    "X=data[:,0:2]"
   ]
  },
  {
   "cell_type": "code",
   "execution_count": 17,
   "id": "d08d385f-34c1-4e4b-b32e-8d18be72145d",
   "metadata": {},
   "outputs": [],
   "source": [
    "y = data[:,2]"
   ]
  },
  {
   "cell_type": "code",
   "execution_count": 18,
   "id": "791870c9-ee37-4375-8085-81b2b4c30a2f",
   "metadata": {},
   "outputs": [
    {
     "data": {
      "text/plain": [
       "array([ 1.,  1.,  1.,  1.,  1.,  1.,  1.,  1.,  1.,  1.,  1.,  1.,  1.,\n",
       "        1.,  1.,  1.,  1.,  1.,  1.,  1., -1., -1., -1., -1., -1., -1.,\n",
       "       -1., -1., -1., -1., -1., -1., -1., -1., -1., -1., -1., -1., -1.,\n",
       "       -1.])"
      ]
     },
     "execution_count": 18,
     "metadata": {},
     "output_type": "execute_result"
    }
   ],
   "source": [
    "y"
   ]
  },
  {
   "cell_type": "code",
   "execution_count": 20,
   "id": "597ecfb6-9b0b-4ee3-9693-04bf864bdfe1",
   "metadata": {},
   "outputs": [],
   "source": [
    "y = np.where(y <= 0, 0, 1)"
   ]
  },
  {
   "cell_type": "code",
   "execution_count": 21,
   "id": "9f658d7c-c443-41fc-aa14-f65a320e9779",
   "metadata": {},
   "outputs": [
    {
     "data": {
      "text/plain": [
       "array([1, 1, 1, 1, 1, 1, 1, 1, 1, 1, 1, 1, 1, 1, 1, 1, 1, 1, 1, 1, 0, 0,\n",
       "       0, 0, 0, 0, 0, 0, 0, 0, 0, 0, 0, 0, 0, 0, 0, 0, 0, 0])"
      ]
     },
     "execution_count": 21,
     "metadata": {},
     "output_type": "execute_result"
    }
   ],
   "source": [
    "y"
   ]
  },
  {
   "cell_type": "code",
   "execution_count": 23,
   "id": "ce6c7465-3a2e-4412-a316-9d0ae9e89416",
   "metadata": {},
   "outputs": [],
   "source": [
    "mymodel =Perceptron(.1, 10)"
   ]
  },
  {
   "cell_type": "code",
   "execution_count": 25,
   "id": "107da873-f94e-49b0-833c-caa8e3534c68",
   "metadata": {},
   "outputs": [],
   "source": [
    "myfittedmodel = mymodel.fit(X,y)"
   ]
  },
  {
   "cell_type": "code",
   "execution_count": 26,
   "id": "52c19f8d-2ffc-4683-a5cb-d4327dad2285",
   "metadata": {},
   "outputs": [
    {
     "data": {
      "text/plain": [
       "array([1, 1, 1, 1, 1, 1, 1, 1, 1, 1, 1, 1, 1, 1, 1, 1, 1, 1, 1, 1, 0, 0,\n",
       "       0, 0, 0, 0, 0, 0, 0, 0, 0, 0, 0, 0, 0, 0, 0, 0, 0, 0])"
      ]
     },
     "execution_count": 26,
     "metadata": {},
     "output_type": "execute_result"
    }
   ],
   "source": [
    "myfittedmodel.predict(X)"
   ]
  },
  {
   "cell_type": "code",
   "execution_count": 29,
   "id": "9e408b87-3270-4a7f-bb94-48409e6c1ba5",
   "metadata": {},
   "outputs": [
    {
     "data": {
      "text/plain": [
       "array(0)"
      ]
     },
     "execution_count": 29,
     "metadata": {},
     "output_type": "execute_result"
    }
   ],
   "source": [
    "myfittedmodel.predict([1,-4])"
   ]
  },
  {
   "cell_type": "code",
   "execution_count": 7,
   "id": "7709532b-445d-47c1-90b3-30d1506df544",
   "metadata": {},
   "outputs": [],
   "source": [
    "mydata = np.array([[1,2,3],[4,5,6]])"
   ]
  },
  {
   "cell_type": "code",
   "execution_count": 9,
   "id": "00fb0927-d04b-4a00-9a48-c93c0fd61d4f",
   "metadata": {},
   "outputs": [
    {
     "data": {
      "text/plain": [
       "2"
      ]
     },
     "execution_count": 9,
     "metadata": {},
     "output_type": "execute_result"
    }
   ],
   "source": [
    "mydata.shape[0]"
   ]
  },
  {
   "cell_type": "code",
   "execution_count": 10,
   "id": "7bea83f3-757d-4095-8fc0-e31abf77de39",
   "metadata": {},
   "outputs": [
    {
     "data": {
      "text/plain": [
       "(2, 3)"
      ]
     },
     "execution_count": 10,
     "metadata": {},
     "output_type": "execute_result"
    }
   ],
   "source": [
    "mydata.shape"
   ]
  },
  {
   "cell_type": "code",
   "execution_count": null,
   "id": "0e5b7d69-c68a-439c-b688-73980da27481",
   "metadata": {},
   "outputs": [],
   "source": []
  }
 ],
 "metadata": {
  "kernelspec": {
   "display_name": "Python 3",
   "language": "python",
   "name": "python3"
  },
  "language_info": {
   "codemirror_mode": {
    "name": "ipython",
    "version": 3
   },
   "file_extension": ".py",
   "mimetype": "text/x-python",
   "name": "python",
   "nbconvert_exporter": "python",
   "pygments_lexer": "ipython3",
   "version": "3.11.6"
  }
 },
 "nbformat": 4,
 "nbformat_minor": 5
}
