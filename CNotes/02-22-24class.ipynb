{
 "cells": [
  {
   "cell_type": "code",
   "execution_count": 84,
   "id": "fe6ecd94-f502-4efc-9442-2b6531580b70",
   "metadata": {},
   "outputs": [],
   "source": [
    "import torch"
   ]
  },
  {
   "cell_type": "code",
   "execution_count": 85,
   "id": "59e5d7ff-81ad-4552-a2be-10e34a7671ab",
   "metadata": {},
   "outputs": [
    {
     "data": {
      "text/plain": [
       "True"
      ]
     },
     "execution_count": 85,
     "metadata": {},
     "output_type": "execute_result"
    }
   ],
   "source": [
    "torch.cuda.is_available()"
   ]
  },
  {
   "cell_type": "code",
   "execution_count": 86,
   "id": "eff130cb-ae7a-41d2-a4eb-1dd3b67947fa",
   "metadata": {},
   "outputs": [
    {
     "data": {
      "text/plain": [
       "1"
      ]
     },
     "execution_count": 86,
     "metadata": {},
     "output_type": "execute_result"
    }
   ],
   "source": [
    "torch.cuda.device_count()"
   ]
  },
  {
   "cell_type": "code",
   "execution_count": 87,
   "id": "062cad26-88ac-448d-b22c-d25ab64785b5",
   "metadata": {},
   "outputs": [
    {
     "data": {
      "text/plain": [
       "'NVIDIA RTX A6000'"
      ]
     },
     "execution_count": 87,
     "metadata": {},
     "output_type": "execute_result"
    }
   ],
   "source": [
    "torch.cuda.get_device_name()"
   ]
  },
  {
   "cell_type": "code",
   "execution_count": 88,
   "id": "51f0274b-3507-42fc-ab7e-a2dca02727b2",
   "metadata": {},
   "outputs": [],
   "source": [
    "mytensor = torch.tensor([1,2])"
   ]
  },
  {
   "cell_type": "code",
   "execution_count": 89,
   "id": "1d368f47-6c59-4820-b7c0-0d3937fd87ce",
   "metadata": {},
   "outputs": [
    {
     "data": {
      "text/plain": [
       "device(type='cpu')"
      ]
     },
     "execution_count": 89,
     "metadata": {},
     "output_type": "execute_result"
    }
   ],
   "source": [
    "mytensor.device"
   ]
  },
  {
   "cell_type": "code",
   "execution_count": 90,
   "id": "86150e1e-afab-4e6a-bf5c-1de93f547737",
   "metadata": {},
   "outputs": [
    {
     "data": {
      "text/plain": [
       "tensor([1, 2], device='cuda:0')"
      ]
     },
     "execution_count": 90,
     "metadata": {},
     "output_type": "execute_result"
    }
   ],
   "source": [
    "mytensor.to('cuda')"
   ]
  },
  {
   "cell_type": "code",
   "execution_count": 91,
   "id": "3c62a662-6ed4-4def-8fde-1ff3a1fa5c32",
   "metadata": {},
   "outputs": [
    {
     "data": {
      "text/plain": [
       "device(type='cpu')"
      ]
     },
     "execution_count": 91,
     "metadata": {},
     "output_type": "execute_result"
    }
   ],
   "source": [
    "mytensor.device"
   ]
  },
  {
   "cell_type": "code",
   "execution_count": 92,
   "id": "0477db16-080b-44ec-a33c-362ac3b03439",
   "metadata": {},
   "outputs": [],
   "source": [
    "mytensorgpu = mytensor.to('cuda')"
   ]
  },
  {
   "cell_type": "code",
   "execution_count": 93,
   "id": "e2733112-bbe9-4631-964a-8b45e225168f",
   "metadata": {},
   "outputs": [
    {
     "data": {
      "text/plain": [
       "device(type='cuda', index=0)"
      ]
     },
     "execution_count": 93,
     "metadata": {},
     "output_type": "execute_result"
    }
   ],
   "source": [
    "mytensorgpu.device"
   ]
  },
  {
   "cell_type": "code",
   "execution_count": 94,
   "id": "d0fa8368-aa44-4ef7-93a3-cc67b51dc971",
   "metadata": {},
   "outputs": [],
   "source": [
    "device = torch.device('cuda') "
   ]
  },
  {
   "cell_type": "code",
   "execution_count": 95,
   "id": "c2371427-f15c-4cb5-9860-6abdb8a4930d",
   "metadata": {},
   "outputs": [],
   "source": [
    "mytemp = torch.tensor([1,2,3])"
   ]
  },
  {
   "cell_type": "code",
   "execution_count": 96,
   "id": "4fa9566f-d3b5-4ad5-8050-483ab2636eb5",
   "metadata": {},
   "outputs": [
    {
     "data": {
      "text/plain": [
       "device(type='cpu')"
      ]
     },
     "execution_count": 96,
     "metadata": {},
     "output_type": "execute_result"
    }
   ],
   "source": [
    "mytemp.device"
   ]
  },
  {
   "cell_type": "code",
   "execution_count": 83,
   "id": "a8c2eac6-b18a-4d25-82ed-43c0fa956f65",
   "metadata": {},
   "outputs": [
    {
     "data": {
      "text/plain": [
       "2"
      ]
     },
     "execution_count": 83,
     "metadata": {},
     "output_type": "execute_result"
    }
   ],
   "source": [
    "1+1"
   ]
  },
  {
   "cell_type": "code",
   "execution_count": null,
   "id": "804146cb-a066-4437-9a00-763e7062be59",
   "metadata": {},
   "outputs": [],
   "source": []
  },
  {
   "cell_type": "code",
   "execution_count": null,
   "id": "e7a5d5a2-6634-4304-a4b5-a1b1f7bfcd3e",
   "metadata": {},
   "outputs": [],
   "source": []
  },
  {
   "cell_type": "markdown",
   "id": "eb3c3274-19f9-4822-9a92-7a874b7c0a35",
   "metadata": {},
   "source": [
    "## Another Function: Saddle Point ##"
   ]
  },
  {
   "cell_type": "code",
   "execution_count": 97,
   "id": "77c85741-2244-4e18-99e9-10ea94173159",
   "metadata": {},
   "outputs": [],
   "source": [
    "import numpy as np\n",
    "import torch\n",
    "import torch.nn as nn\n",
    "import matplotlib.pyplot as plt"
   ]
  },
  {
   "cell_type": "code",
   "execution_count": 98,
   "id": "08b2ffa6-6499-4bfd-b9de-e7563459abb8",
   "metadata": {},
   "outputs": [],
   "source": [
    "tempX = np.random.uniform(-1,1,2000)\n",
    "tempY = np.random.uniform(-1,1,2000)"
   ]
  },
  {
   "cell_type": "code",
   "execution_count": 99,
   "id": "09d43df8-e1e9-43a0-9aeb-a992d5234ba1",
   "metadata": {},
   "outputs": [],
   "source": [
    "myX = np.array([tempX, tempY]).T"
   ]
  },
  {
   "cell_type": "code",
   "execution_count": 100,
   "id": "76e012c2-2c8e-4935-8922-869ec90b6a15",
   "metadata": {},
   "outputs": [
    {
     "data": {
      "text/plain": [
       "array([[-0.23243988, -0.3509104 ],\n",
       "       [-0.96937549, -0.0867042 ],\n",
       "       [ 0.47410144,  0.28749426],\n",
       "       [ 0.3485642 , -0.56330771],\n",
       "       [-0.91306455, -0.96492934]])"
      ]
     },
     "execution_count": 100,
     "metadata": {},
     "output_type": "execute_result"
    }
   ],
   "source": [
    "myX[:5]"
   ]
  },
  {
   "cell_type": "code",
   "execution_count": 101,
   "id": "123235f7-7a85-443b-9f1f-df4028de6a96",
   "metadata": {},
   "outputs": [],
   "source": [
    "def myfunc(X):\n",
    "    \n",
    "    return X[:,0]**2  - X[:,1]**2"
   ]
  },
  {
   "cell_type": "code",
   "execution_count": 102,
   "id": "44c63b50-8d52-47f6-a834-017ba1e72759",
   "metadata": {},
   "outputs": [],
   "source": [
    "myy = myfunc(myX)"
   ]
  },
  {
   "cell_type": "code",
   "execution_count": 103,
   "id": "39a0ddc6-8e46-43dd-a4c8-e40645c306c0",
   "metadata": {},
   "outputs": [
    {
     "data": {
      "text/plain": [
       "array([-0.06910981,  0.93217122,  0.14211923, -0.19581857, -0.09740177])"
      ]
     },
     "execution_count": 103,
     "metadata": {},
     "output_type": "execute_result"
    }
   ],
   "source": [
    "myy[:5]"
   ]
  },
  {
   "cell_type": "code",
   "execution_count": 104,
   "id": "5cc33392-f94b-4692-9018-a20fe9c9ae33",
   "metadata": {
    "scrolled": true
   },
   "outputs": [
    {
     "data": {
      "image/png": "[encoded data removed]",
      "text/plain": [
       "<Figure size 640x480 with 1 Axes>"
      ]
     },
     "metadata": {},
     "output_type": "display_data"
    }
   ],
   "source": [
    "fig = plt.figure()\n",
    "ax = fig.add_subplot(projection='3d')\n",
    "ax.scatter(myX[:,0], myX[:,1], myy)\n",
    "plt.show()"
   ]
  },
  {
   "cell_type": "code",
   "execution_count": 105,
   "id": "e8f99194-d09e-4d67-8c2f-b696cef091c8",
   "metadata": {},
   "outputs": [],
   "source": [
    "myXtensor = torch.from_numpy(myX)"
   ]
  },
  {
   "cell_type": "code",
   "execution_count": 106,
   "id": "43df8e57-ce98-429b-bd8d-84e3c6198e18",
   "metadata": {},
   "outputs": [
    {
     "data": {
      "text/plain": [
       "device(type='cpu')"
      ]
     },
     "execution_count": 106,
     "metadata": {},
     "output_type": "execute_result"
    }
   ],
   "source": [
    "myXtensor.device"
   ]
  },
  {
   "cell_type": "code",
   "execution_count": 107,
   "id": "36280e5b-15d6-4b4b-876d-ba91ecd8c781",
   "metadata": {},
   "outputs": [],
   "source": [
    "myXtensor = myXtensor.to('cuda')"
   ]
  },
  {
   "cell_type": "code",
   "execution_count": 108,
   "id": "58cc1596-cd2c-4a8b-b03a-1e92c616b8d6",
   "metadata": {},
   "outputs": [
    {
     "data": {
      "text/plain": [
       "tensor([[-0.2324, -0.3509],\n",
       "        [-0.9694, -0.0867],\n",
       "        [ 0.4741,  0.2875],\n",
       "        [ 0.3486, -0.5633],\n",
       "        [-0.9131, -0.9649]], device='cuda:0', dtype=torch.float64)"
      ]
     },
     "execution_count": 108,
     "metadata": {},
     "output_type": "execute_result"
    }
   ],
   "source": [
    "myXtensor[:5]"
   ]
  },
  {
   "cell_type": "code",
   "execution_count": 109,
   "id": "d4805383-6216-44c7-ba51-4b6a9599d919",
   "metadata": {},
   "outputs": [
    {
     "data": {
      "text/plain": [
       "torch.Size([2000, 2])"
      ]
     },
     "execution_count": 109,
     "metadata": {},
     "output_type": "execute_result"
    }
   ],
   "source": [
    "myXtensor.shape"
   ]
  },
  {
   "cell_type": "code",
   "execution_count": 110,
   "id": "f5dff4d4-89a0-4790-b9a4-d607298f624e",
   "metadata": {},
   "outputs": [],
   "source": [
    "myytensor = torch.from_numpy(myy).to('cuda')"
   ]
  },
  {
   "cell_type": "code",
   "execution_count": 111,
   "id": "303f1418-a822-4ba4-abb2-d0258a899b5e",
   "metadata": {},
   "outputs": [
    {
     "data": {
      "text/plain": [
       "tensor([-0.0691,  0.9322,  0.1421,  ...,  0.7146,  0.5971,  0.6678],\n",
       "       device='cuda:0', dtype=torch.float64)"
      ]
     },
     "execution_count": 111,
     "metadata": {},
     "output_type": "execute_result"
    }
   ],
   "source": [
    "myytensor"
   ]
  },
  {
   "cell_type": "code",
   "execution_count": 112,
   "id": "addaae5f-ebfd-450a-8c69-172d7bef59ca",
   "metadata": {},
   "outputs": [
    {
     "data": {
      "text/plain": [
       "tensor([-0.0691,  0.9322,  0.1421, -0.1958, -0.0974], device='cuda:0',\n",
       "       dtype=torch.float64)"
      ]
     },
     "execution_count": 112,
     "metadata": {},
     "output_type": "execute_result"
    }
   ],
   "source": [
    "myytensor[:5]"
   ]
  },
  {
   "cell_type": "code",
   "execution_count": 113,
   "id": "b529c958-fd8f-48f3-87e8-caed04800508",
   "metadata": {},
   "outputs": [
    {
     "data": {
      "text/plain": [
       "torch.Size([2000])"
      ]
     },
     "execution_count": 113,
     "metadata": {},
     "output_type": "execute_result"
    }
   ],
   "source": [
    "myytensor.shape"
   ]
  },
  {
   "cell_type": "code",
   "execution_count": 114,
   "id": "9f59c787-16fa-41d0-9318-c3e143696bb5",
   "metadata": {},
   "outputs": [
    {
     "data": {
      "text/plain": [
       "torch.float64"
      ]
     },
     "execution_count": 114,
     "metadata": {},
     "output_type": "execute_result"
    }
   ],
   "source": [
    "myytensor.dtype"
   ]
  },
  {
   "cell_type": "code",
   "execution_count": 115,
   "id": "b25f8269-07ef-4fe1-9b3e-32ac9ca2c5c2",
   "metadata": {},
   "outputs": [],
   "source": [
    "train_ds = torch.utils.data.TensorDataset(myXtensor, myytensor)"
   ]
  },
  {
   "cell_type": "code",
   "execution_count": 116,
   "id": "f26adac1-6c6e-4976-aa83-13f58f95922b",
   "metadata": {},
   "outputs": [],
   "source": [
    "batch_size = 20"
   ]
  },
  {
   "cell_type": "code",
   "execution_count": 117,
   "id": "987d1f05-b351-4533-b69f-e3a3e2aa8ed2",
   "metadata": {},
   "outputs": [],
   "source": [
    "train_dl = torch.utils.data.DataLoader(train_ds, batch_size, shuffle=True)"
   ]
  },
  {
   "cell_type": "code",
   "execution_count": 122,
   "id": "d445196e-db06-43ba-9fdd-ce098a652a90",
   "metadata": {},
   "outputs": [],
   "source": [
    "class Model(nn.Module):\n",
    "    def __init__(self, input_size, hidden_size, output_size):\n",
    "        super().__init__()\n",
    "        self.layer1 = nn.Linear(input_size, hidden_size)\n",
    "        self.layer2 = nn.Linear(hidden_size, hidden_size)\n",
    "        self.layer3 = nn.Linear(hidden_size, output_size)  \n",
    "\n",
    "    def forward(self, x):\n",
    "        x = self.layer1(x)\n",
    "        x = nn.ReLU()(x)\n",
    "        x = self.layer2(x)\n",
    "        x = nn.ReLU()(x)\n",
    "        x = self.layer3(x)\n",
    "        return x\n",
    "    \n",
    "input_size = 2\n",
    "hidden_size = 32\n",
    "output_size = 1\n",
    " \n",
    "model = Model(input_size, hidden_size, output_size)\n",
    "model = model.to('cuda')\n",
    "\n",
    "learning_rate = 0.0001\n",
    "\n",
    "loss_fn = nn.MSELoss()\n",
    " \n",
    "optimizer = torch.optim.Adam(model.parameters(), lr=learning_rate)\n"
   ]
  },
  {
   "cell_type": "code",
   "execution_count": 123,
   "id": "aafc333a-8b15-4471-b703-47e3fd7bbd19",
   "metadata": {},
   "outputs": [
    {
     "name": "stdout",
     "output_type": "stream",
     "text": [
      "Model(\n",
      "  (layer1): Linear(in_features=2, out_features=32, bias=True)\n",
      "  (layer2): Linear(in_features=32, out_features=32, bias=True)\n",
      "  (layer3): Linear(in_features=32, out_features=1, bias=True)\n",
      ")\n"
     ]
    }
   ],
   "source": [
    "print(model)"
   ]
  },
  {
   "cell_type": "code",
   "execution_count": 126,
   "id": "fb9d4efe-27c8-4386-81da-6808054746e2",
   "metadata": {},
   "outputs": [
    {
     "name": "stdout",
     "output_type": "stream",
     "text": [
      "Epoch is  0  and MSE is  0.00011062566045438871\n",
      "Epoch is  5  and MSE is  0.00011155378160765395\n",
      "Epoch is  10  and MSE is  0.00010883848881348968\n",
      "Epoch is  15  and MSE is  8.93419492058456e-05\n",
      "Epoch is  20  and MSE is  8.500337571604177e-05\n",
      "Epoch is  25  and MSE is  5.152776066097431e-05\n",
      "Epoch is  30  and MSE is  7.159444794524461e-05\n",
      "Epoch is  35  and MSE is  6.374159420374781e-05\n",
      "Epoch is  40  and MSE is  4.623167842510156e-05\n",
      "Epoch is  45  and MSE is  7.45127399568446e-05\n",
      "Epoch is  50  and MSE is  7.61632327339612e-05\n",
      "Epoch is  55  and MSE is  6.835724343545735e-05\n",
      "Epoch is  60  and MSE is  5.3519175708061084e-05\n",
      "Epoch is  65  and MSE is  7.563280814792961e-05\n",
      "Epoch is  70  and MSE is  4.089538560947403e-05\n",
      "Epoch is  75  and MSE is  3.24579123116564e-05\n",
      "Epoch is  80  and MSE is  0.00010931082215392962\n",
      "Epoch is  85  and MSE is  4.0949060348793864e-05\n",
      "Epoch is  90  and MSE is  6.82052705087699e-05\n",
      "Epoch is  95  and MSE is  3.663891038740985e-05\n",
      "Epoch is  100  and MSE is  4.5650471292901784e-05\n",
      "Epoch is  105  and MSE is  5.4627347708446905e-05\n",
      "Epoch is  110  and MSE is  3.323767668916844e-05\n",
      "Epoch is  115  and MSE is  7.250318594742566e-05\n",
      "Epoch is  120  and MSE is  3.357195237185806e-05\n",
      "Epoch is  125  and MSE is  2.8004127671010792e-05\n",
      "Epoch is  130  and MSE is  2.657623917912133e-05\n",
      "Epoch is  135  and MSE is  4.4200274714967236e-05\n",
      "Epoch is  140  and MSE is  4.3735992221627384e-05\n",
      "Epoch is  145  and MSE is  4.1174283978762105e-05\n",
      "Epoch is  150  and MSE is  2.503584255464375e-05\n",
      "Epoch is  155  and MSE is  3.156411912641488e-05\n",
      "Epoch is  160  and MSE is  4.2842399125220254e-05\n",
      "Epoch is  165  and MSE is  4.44324869022239e-05\n",
      "Epoch is  170  and MSE is  1.2498957403295208e-05\n",
      "Epoch is  175  and MSE is  3.600705531425774e-05\n",
      "Epoch is  180  and MSE is  2.5663266569608822e-05\n",
      "Epoch is  185  and MSE is  5.5390759371221066e-05\n",
      "Epoch is  190  and MSE is  2.756051799224224e-05\n",
      "Epoch is  195  and MSE is  3.449144060141407e-05\n"
     ]
    }
   ],
   "source": [
    "num_epochs = 200\n",
    "loss_hist = [0] * num_epochs\n",
    "accuracy_hist = [0] * num_epochs\n",
    "\n",
    "for epoch in range(num_epochs):\n",
    "\n",
    "    for x_batch, y_batch in train_dl:\n",
    "        pred = torch.squeeze(model(x_batch.float()))\n",
    "        loss = loss_fn(pred, y_batch.float())\n",
    "        optimizer.zero_grad()\n",
    "        loss.backward()\n",
    "        optimizer.step()\n",
    "\n",
    "    if epoch % 5 == 0:\n",
    "        print(\"Epoch is \", epoch, ' and MSE is ', loss.item())\n",
    "#        loss_hist[epoch] += loss.item()*y_batch.size(0)\n",
    "#        is_correct = (torch.argmax(pred, dim=1) == y_batch).float()\n",
    "#        accuracy_hist[epoch] += is_correct.sum()\n",
    "#        \n",
    "#    loss_hist[epoch] /= len(train_dl.dataset)\n",
    "#    accuracy_hist[epoch] /= len(train_dl.dataset)"
   ]
  },
  {
   "cell_type": "code",
   "execution_count": null,
   "id": "4ac6b08a-413e-4176-b7d6-7719618b5c85",
   "metadata": {},
   "outputs": [],
   "source": []
  }
 ],
 "metadata": {
  "kernelspec": {
   "display_name": "Python 3 (ipykernel)",
   "language": "python",
   "name": "python3"
  },
  "language_info": {
   "codemirror_mode": {
    "name": "ipython",
    "version": 3
   },
   "file_extension": ".py",
   "mimetype": "text/x-python",
   "name": "python",
   "nbconvert_exporter": "python",
   "pygments_lexer": "ipython3",
   "version": "3.10.12"
  }
 },
 "nbformat": 4,
 "nbformat_minor": 5
}
