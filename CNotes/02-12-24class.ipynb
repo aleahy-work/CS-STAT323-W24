{
 "cells": [
  {
   "cell_type": "markdown",
   "id": "7a316b4c-6cd7-43b4-9ca4-056935e8b59b",
   "metadata": {},
   "source": [
    "# Pytorch Introduction #\n",
    "\n",
    "See [this link](https://pytorch.org/get-started/locally/) for installation instructions--it's a bit more complicated.\n",
    "\n",
    "**Note:** You might not have a GPU that works--or the CUDA drivers for your GPU!"
   ]
  },
  {
   "cell_type": "code",
   "execution_count": 7,
   "id": "a2e0005e-b4f2-4929-a2ea-a011e111ae12",
   "metadata": {},
   "outputs": [],
   "source": [
    "import torch  # pip install torch first !!!!!  See https://pytorch.org/get-started/locally/\n",
    "import numpy as np"
   ]
  },
  {
   "cell_type": "markdown",
   "id": "db1ce5b3-6a67-406c-98c0-af3c458fce93",
   "metadata": {},
   "source": [
    "## Some ways to Create Tensors ##\n",
    "\n",
    "See, e.g., [this pytorch tutorial](https://pytorch.org/tutorials/beginner/basics/tensorqs_tutorial.html) or [this one](https://pytorch.org/docs/stable/tensors.html). "
   ]
  },
  {
   "cell_type": "code",
   "execution_count": 8,
   "id": "44311183-284e-4723-80b6-1b54e2d62add",
   "metadata": {},
   "outputs": [],
   "source": [
    "mytensor1 = torch.tensor([[1,2],[3,4]])"
   ]
  },
  {
   "cell_type": "code",
   "execution_count": 9,
   "id": "806bdad5-ad0f-4c80-880d-8843d2330b32",
   "metadata": {},
   "outputs": [
    {
     "data": {
      "text/plain": [
       "tensor([[1, 2],\n",
       "        [3, 4]])"
      ]
     },
     "execution_count": 9,
     "metadata": {},
     "output_type": "execute_result"
    }
   ],
   "source": [
    "mytensor1"
   ]
  },
  {
   "cell_type": "code",
   "execution_count": 10,
   "id": "9b252eac-4f90-466f-948e-27638d9afb76",
   "metadata": {},
   "outputs": [],
   "source": [
    "myarray2 = np.array([[6,7],[8,9]])"
   ]
  },
  {
   "cell_type": "code",
   "execution_count": 11,
   "id": "fed67fab-89ad-48f8-b13f-56db0f1f51bc",
   "metadata": {},
   "outputs": [
    {
     "data": {
      "text/plain": [
       "array([[6, 7],\n",
       "       [8, 9]])"
      ]
     },
     "execution_count": 11,
     "metadata": {},
     "output_type": "execute_result"
    }
   ],
   "source": [
    "myarray2"
   ]
  },
  {
   "cell_type": "code",
   "execution_count": 12,
   "id": "df09d167-b6da-4a2e-829e-d442845b0b04",
   "metadata": {},
   "outputs": [],
   "source": [
    "mytensor2 = torch.tensor(myarray2)"
   ]
  },
  {
   "cell_type": "code",
   "execution_count": 13,
   "id": "30be4f11-849e-4179-94bb-94b2ff885009",
   "metadata": {},
   "outputs": [
    {
     "data": {
      "text/plain": [
       "tensor([[6, 7],\n",
       "        [8, 9]])"
      ]
     },
     "execution_count": 13,
     "metadata": {},
     "output_type": "execute_result"
    }
   ],
   "source": [
    "mytensor2"
   ]
  },
  {
   "cell_type": "markdown",
   "id": "1a6ace10-0d11-4f40-aadc-203f8cf92130",
   "metadata": {},
   "source": [
    "## Tensor Attributes ##"
   ]
  },
  {
   "cell_type": "code",
   "execution_count": 14,
   "id": "80ee1b53-4c09-4825-a07c-896a1378b9ba",
   "metadata": {},
   "outputs": [
    {
     "data": {
      "text/plain": [
       "torch.int64"
      ]
     },
     "execution_count": 14,
     "metadata": {},
     "output_type": "execute_result"
    }
   ],
   "source": [
    "mytensor2.dtype"
   ]
  },
  {
   "cell_type": "code",
   "execution_count": 15,
   "id": "a038013b-81b2-48c3-b1b7-c15d2014c86e",
   "metadata": {},
   "outputs": [
    {
     "data": {
      "text/plain": [
       "torch.Size([2, 2])"
      ]
     },
     "execution_count": 15,
     "metadata": {},
     "output_type": "execute_result"
    }
   ],
   "source": [
    "mytensor2.shape"
   ]
  },
  {
   "cell_type": "code",
   "execution_count": 17,
   "id": "10418219-dc19-4f66-98f2-71d06bb42f0d",
   "metadata": {},
   "outputs": [],
   "source": [
    "mytensor2.grad"
   ]
  },
  {
   "cell_type": "markdown",
   "id": "a411bc5b-1091-4910-a59b-941af487b744",
   "metadata": {},
   "source": [
    "**Note:** \"This attribute is None by default and becomes a Tensor the first time a call to backward() computes gradients for self.\""
   ]
  },
  {
   "cell_type": "markdown",
   "id": "fd129203-1a38-45a5-b0c0-79da95c940b7",
   "metadata": {},
   "source": [
    "## Some Tensor operations and methods ##"
   ]
  },
  {
   "cell_type": "code",
   "execution_count": 25,
   "id": "3ccb1d1e-d7ff-48ba-8f5e-fa333a7335f4",
   "metadata": {},
   "outputs": [
    {
     "data": {
      "text/plain": [
       "tensor([[6, 7],\n",
       "        [8, 9]], device='cuda:0')"
      ]
     },
     "execution_count": 25,
     "metadata": {},
     "output_type": "execute_result"
    }
   ],
   "source": [
    "mytensor3"
   ]
  },
  {
   "cell_type": "code",
   "execution_count": 26,
   "id": "2ab3457e-9694-45a5-be6b-51c24295b1cc",
   "metadata": {},
   "outputs": [
    {
     "data": {
      "text/plain": [
       "tensor(9, device='cuda:0')"
      ]
     },
     "execution_count": 26,
     "metadata": {},
     "output_type": "execute_result"
    }
   ],
   "source": [
    "mytensor3[1,1]"
   ]
  },
  {
   "cell_type": "code",
   "execution_count": 37,
   "id": "c7bfaab9-ec54-42e4-9342-af3c140186ac",
   "metadata": {},
   "outputs": [],
   "source": [
    "mytensor4 = torch.normal(mean=0,std=1, size=(10,2,1))"
   ]
  },
  {
   "cell_type": "code",
   "execution_count": 38,
   "id": "e891d7f7-f791-451d-8ec2-ae7431310ddc",
   "metadata": {},
   "outputs": [
    {
     "data": {
      "text/plain": [
       "tensor([[[ 1.0031],\n",
       "         [-0.5343]],\n",
       "\n",
       "        [[-1.1378],\n",
       "         [-0.4252]],\n",
       "\n",
       "        [[ 1.2428],\n",
       "         [-1.3340]],\n",
       "\n",
       "        [[ 1.5824],\n",
       "         [ 0.6447]],\n",
       "\n",
       "        [[ 1.3444],\n",
       "         [-0.1495]],\n",
       "\n",
       "        [[ 0.3136],\n",
       "         [ 0.7253]],\n",
       "\n",
       "        [[-1.6716],\n",
       "         [-0.0602]],\n",
       "\n",
       "        [[-0.1004],\n",
       "         [ 2.0126]],\n",
       "\n",
       "        [[ 2.1712],\n",
       "         [ 0.0132]],\n",
       "\n",
       "        [[-0.7432],\n",
       "         [-1.6442]]])"
      ]
     },
     "execution_count": 38,
     "metadata": {},
     "output_type": "execute_result"
    }
   ],
   "source": [
    "mytensor4"
   ]
  },
  {
   "cell_type": "code",
   "execution_count": 39,
   "id": "42db118d-4a02-4e8e-aef0-4e41c66766f6",
   "metadata": {},
   "outputs": [
    {
     "data": {
      "text/plain": [
       "tensor([[ 0.4005],\n",
       "        [-0.0752]])"
      ]
     },
     "execution_count": 39,
     "metadata": {},
     "output_type": "execute_result"
    }
   ],
   "source": [
    "mytensor4.mean(axis=0)"
   ]
  },
  {
   "cell_type": "markdown",
   "id": "6f803bd1-82a2-459a-a2c1-296402b807e4",
   "metadata": {},
   "source": [
    "## The Tensor 'device' ##\n",
    "\n",
    "**Note:** This is probably one of the most important aspects of a pytorch tensor, because it allows us to shift computations onto the GPU by specifying device of each of the involved tensors. "
   ]
  },
  {
   "cell_type": "code",
   "execution_count": 13,
   "id": "681f4313-4a7a-48a9-b40b-91fe1cae7331",
   "metadata": {},
   "outputs": [
    {
     "data": {
      "text/plain": [
       "device(type='cpu')"
      ]
     },
     "execution_count": 13,
     "metadata": {},
     "output_type": "execute_result"
    }
   ],
   "source": [
    "mytensor2.device"
   ]
  },
  {
   "cell_type": "code",
   "execution_count": 14,
   "id": "8fd86f6c-936b-40cd-ad49-3fab97f82892",
   "metadata": {},
   "outputs": [
    {
     "data": {
      "text/plain": [
       "1"
      ]
     },
     "execution_count": 14,
     "metadata": {},
     "output_type": "execute_result"
    }
   ],
   "source": [
    "torch.cuda.device_count()"
   ]
  },
  {
   "cell_type": "code",
   "execution_count": 16,
   "id": "fa94fba8-f3ad-4b4c-a346-5667c448ee2e",
   "metadata": {},
   "outputs": [
    {
     "data": {
      "text/plain": [
       "'NVIDIA GeForce GTX 1660 Ti'"
      ]
     },
     "execution_count": 16,
     "metadata": {},
     "output_type": "execute_result"
    }
   ],
   "source": [
    "torch.cuda.get_device_name()"
   ]
  },
  {
   "cell_type": "code",
   "execution_count": 21,
   "id": "54a29899-d2f0-4489-a02d-62bf40ddebaa",
   "metadata": {},
   "outputs": [],
   "source": [
    "mytensor3 = mytensor2.to(device='cuda')"
   ]
  },
  {
   "cell_type": "code",
   "execution_count": 22,
   "id": "84be04e0-4eb7-4956-bcac-9f48ac42130a",
   "metadata": {},
   "outputs": [
    {
     "data": {
      "text/plain": [
       "device(type='cuda', index=0)"
      ]
     },
     "execution_count": 22,
     "metadata": {},
     "output_type": "execute_result"
    }
   ],
   "source": [
    "mytensor3.device"
   ]
  },
  {
   "cell_type": "markdown",
   "id": "4e58ee53-851c-44f8-91fd-e3fc55b7150e",
   "metadata": {},
   "source": [
    "## Iterables ##\n",
    "\n",
    "This is a fundamental concept in python that pytorch exploits in creating the 'inner for-loop' based on batches of the training dataset.  The basic examples of iterables are python lists, tuples, sets, and dictionaries.  The **DataLoader** methods create iterables for the inner loop. "
   ]
  },
  {
   "cell_type": "code",
   "execution_count": 18,
   "id": "19824b5b-3469-493b-a185-c7861dc465d3",
   "metadata": {},
   "outputs": [
    {
     "name": "stdout",
     "output_type": "stream",
     "text": [
      "1\n",
      "2\n",
      "3\n",
      "4\n",
      "5\n"
     ]
    }
   ],
   "source": [
    "for i in [1,2,3,4,5]:\n",
    "    print(i)"
   ]
  },
  {
   "cell_type": "code",
   "execution_count": 19,
   "id": "e0445c5f-8879-458b-a4fe-b13915967fa2",
   "metadata": {},
   "outputs": [
    {
     "name": "stdout",
     "output_type": "stream",
     "text": [
      "1\n",
      "2\n",
      "3\n",
      "4\n",
      "5\n"
     ]
    }
   ],
   "source": [
    "for i in (1,2,3,4,5):\n",
    "    print(i)"
   ]
  },
  {
   "cell_type": "code",
   "execution_count": 20,
   "id": "25fedf6d-a65a-47fe-87fe-b9c93e4b1d0a",
   "metadata": {},
   "outputs": [
    {
     "name": "stdout",
     "output_type": "stream",
     "text": [
      "1\n",
      "2\n",
      "3\n",
      "4\n",
      "5\n"
     ]
    }
   ],
   "source": [
    "for i in {1,2,3,4,5}:\n",
    "    print(i)"
   ]
  },
  {
   "cell_type": "code",
   "execution_count": 22,
   "id": "d7d2301d-b35e-4e85-a169-f3f2002c951b",
   "metadata": {},
   "outputs": [
    {
     "name": "stdout",
     "output_type": "stream",
     "text": [
      "one\n",
      "two\n",
      "three\n",
      "four\n",
      "five\n"
     ]
    }
   ],
   "source": [
    "for k, v in { 'one':1,'two':2,'three':3,'four':4, 'five':5}.items():\n",
    "    print(k)"
   ]
  },
  {
   "cell_type": "markdown",
   "id": "e69fd6e0-2a8a-4cac-af5b-6e24d28e2a63",
   "metadata": {},
   "source": [
    "## A Simple Example ##\n",
    "\n",
    "(See the textbook, Chapter 12 pp. 390-395.)"
   ]
  },
  {
   "cell_type": "code",
   "execution_count": 23,
   "id": "66c4551e-86d8-4506-96a5-2cd23807f74c",
   "metadata": {},
   "outputs": [],
   "source": [
    "import torch\n",
    "import numpy as np\n",
    "import matplotlib.pyplot as plt"
   ]
  },
  {
   "cell_type": "code",
   "execution_count": 24,
   "id": "52888261-c642-4493-9229-5d44f3b957c3",
   "metadata": {},
   "outputs": [
    {
     "data": {
      "image/png": "[encoded data removed]",
      "text/plain": [
       "<Figure size 432x288 with 1 Axes>"
      ]
     },
     "metadata": {
      "needs_background": "light"
     },
     "output_type": "display_data"
    }
   ],
   "source": [
    "X_train = np.arange(10, dtype='float32').reshape((10, 1))\n",
    "y_train = np.array([1.0, 1.3, 3.1, 2.0, 5.0, 6.3, 6.6, \n",
    "                    7.4, 8.0, 9.0], dtype='float32')\n",
    "\n",
    "plt.plot(X_train, y_train, 'o', markersize=10)\n",
    "plt.xlabel('x')\n",
    "plt.ylabel('y')\n",
    "\n",
    "#plt.savefig('figures/12_07.pdf')\n",
    "plt.show()"
   ]
  },
  {
   "cell_type": "code",
   "execution_count": 25,
   "id": "4c17956e-3040-4f72-aba1-0c338378a47e",
   "metadata": {},
   "outputs": [],
   "source": [
    "from torch.utils.data import TensorDataset\n",
    "from torch.utils.data import DataLoader\n",
    "\n",
    "X_train_norm = (X_train - np.mean(X_train)) / np.std(X_train)\n",
    "X_train_norm = torch.from_numpy(X_train_norm)\n",
    "\n",
    "# On some computers the explicit cast to .float() is\n",
    "# necessary\n",
    "y_train = torch.from_numpy(y_train).float()\n",
    "\n",
    "train_ds = TensorDataset(X_train_norm, y_train)\n",
    "\n",
    "batch_size = 1\n",
    "train_dl = DataLoader(train_ds, batch_size, shuffle=True)"
   ]
  },
  {
   "cell_type": "code",
   "execution_count": 26,
   "id": "35c36a47-f1ec-46b2-8963-1c8e9f2665f7",
   "metadata": {},
   "outputs": [
    {
     "name": "stdout",
     "output_type": "stream",
     "text": [
      "<torch.utils.data.dataloader.DataLoader object at 0x7f15b743bfd0>\n",
      "<torch.utils.data.dataloader.DataLoader object at 0x7f15b743bfd0>\n",
      "<torch.utils.data.dataloader.DataLoader object at 0x7f15b743bfd0>\n",
      "<torch.utils.data.dataloader.DataLoader object at 0x7f15b743bfd0>\n",
      "<torch.utils.data.dataloader.DataLoader object at 0x7f15b743bfd0>\n",
      "<torch.utils.data.dataloader.DataLoader object at 0x7f15b743bfd0>\n",
      "<torch.utils.data.dataloader.DataLoader object at 0x7f15b743bfd0>\n",
      "<torch.utils.data.dataloader.DataLoader object at 0x7f15b743bfd0>\n",
      "<torch.utils.data.dataloader.DataLoader object at 0x7f15b743bfd0>\n",
      "<torch.utils.data.dataloader.DataLoader object at 0x7f15b743bfd0>\n"
     ]
    }
   ],
   "source": [
    "for item in train_dl:\n",
    "    print(train_dl)"
   ]
  },
  {
   "cell_type": "code",
   "execution_count": 28,
   "id": "71537df5-9869-46b4-9f6c-ed97ca72d3f9",
   "metadata": {},
   "outputs": [
    {
     "name": "stdout",
     "output_type": "stream",
     "text": [
      "Epoch 0  Loss 45.0782\n",
      "Epoch 10  Loss 26.4366\n",
      "Epoch 20  Loss 1.5918\n",
      "Epoch 30  Loss 14.1307\n",
      "Epoch 40  Loss 11.6038\n",
      "Epoch 50  Loss 6.3084\n",
      "Epoch 60  Loss 0.6349\n",
      "Epoch 70  Loss 3.1374\n",
      "Epoch 80  Loss 1.9999\n",
      "Epoch 90  Loss 0.3133\n",
      "Epoch 100  Loss 0.7653\n",
      "Epoch 110  Loss 1.0039\n",
      "Epoch 120  Loss 0.0235\n",
      "Epoch 130  Loss 0.5176\n",
      "Epoch 140  Loss 0.0759\n",
      "Epoch 150  Loss 1.8789\n",
      "Epoch 160  Loss 0.0008\n",
      "Epoch 170  Loss 0.0866\n",
      "Epoch 180  Loss 0.0646\n",
      "Epoch 190  Loss 0.0011\n"
     ]
    }
   ],
   "source": [
    "torch.manual_seed(1)\n",
    "weight = torch.randn(1)\n",
    "weight.requires_grad_()\n",
    "bias = torch.zeros(1, requires_grad=True)\n",
    " \n",
    "def loss_fn(input, target):\n",
    "    return (input-target).pow(2).mean()\n",
    "\n",
    "def model(xb):\n",
    "    return xb @ weight + bias\n",
    "\n",
    "learning_rate = 0.001\n",
    "num_epochs = 200\n",
    "log_epochs = 10\n",
    "\n",
    "for epoch in range(num_epochs):\n",
    "    for x_batch, y_batch in train_dl:\n",
    "        pred = model(x_batch)\n",
    "        loss = loss_fn(pred, y_batch)\n",
    "        loss.backward()\n",
    "\n",
    "        with torch.no_grad():\n",
    "            weight -= weight.grad * learning_rate\n",
    "            bias -= bias.grad * learning_rate\n",
    "            weight.grad.zero_()\n",
    "            bias.grad.zero_()\n",
    " \n",
    "    if epoch % log_epochs==0:\n",
    "        print(f'Epoch {epoch}  Loss {loss.item():.4f}')\n",
    " "
   ]
  },
  {
   "cell_type": "code",
   "execution_count": 29,
   "id": "127beb3f-ffc9-4f7f-a072-2e7f3c0bccec",
   "metadata": {},
   "outputs": [
    {
     "name": "stdout",
     "output_type": "stream",
     "text": [
      "Final Parameters: 2.6696107387542725 4.879678249359131\n"
     ]
    },
    {
     "data": {
      "image/png": "[encoded data removed]",
      "text/plain": [
       "<Figure size 936x360 with 1 Axes>"
      ]
     },
     "metadata": {
      "needs_background": "light"
     },
     "output_type": "display_data"
    }
   ],
   "source": [
    "print('Final Parameters:', weight.item(), bias.item())\n",
    " \n",
    "X_test = np.linspace(0, 9, num=100, dtype='float32').reshape(-1, 1)\n",
    "X_test_norm = (X_test - np.mean(X_train)) / np.std(X_train)\n",
    "X_test_norm = torch.from_numpy(X_test_norm)\n",
    "y_pred = model(X_test_norm).detach().numpy()\n",
    "\n",
    "\n",
    "fig = plt.figure(figsize=(13, 5))\n",
    "ax = fig.add_subplot(1, 2, 1)\n",
    "plt.plot(X_train_norm, y_train, 'o', markersize=10)\n",
    "plt.plot(X_test_norm, y_pred, '--', lw=3)\n",
    "plt.legend(['Training examples', 'Linear Reg.'], fontsize=15)\n",
    "ax.set_xlabel('x', size=15)\n",
    "ax.set_ylabel('y', size=15)\n",
    "ax.tick_params(axis='both', which='major', labelsize=15)\n",
    " \n",
    "#plt.savefig('figures/12_08.pdf')\n",
    "\n",
    "plt.show()"
   ]
  },
  {
   "cell_type": "markdown",
   "id": "ec95b551-d8b1-47e8-84c4-54f35c60a0d2",
   "metadata": {},
   "source": [
    "### Model training via the torch.nn and torch.optim modules"
   ]
  },
  {
   "cell_type": "code",
   "execution_count": 9,
   "id": "ea325a3f-32bc-42d0-bb7e-2a08c0cce560",
   "metadata": {},
   "outputs": [
    {
     "name": "stdout",
     "output_type": "stream",
     "text": [
      "Epoch 0  Loss 24.6684\n",
      "Epoch 10  Loss 29.1377\n",
      "Epoch 20  Loss 20.9207\n",
      "Epoch 30  Loss 0.1257\n",
      "Epoch 40  Loss 12.4922\n",
      "Epoch 50  Loss 1.7845\n",
      "Epoch 60  Loss 7.6425\n",
      "Epoch 70  Loss 2.5606\n",
      "Epoch 80  Loss 0.0157\n",
      "Epoch 90  Loss 0.7548\n",
      "Epoch 100  Loss 0.8412\n",
      "Epoch 110  Loss 0.4923\n",
      "Epoch 120  Loss 0.0823\n",
      "Epoch 130  Loss 0.0794\n",
      "Epoch 140  Loss 0.0891\n",
      "Epoch 150  Loss 0.0973\n",
      "Epoch 160  Loss 0.1043\n",
      "Epoch 170  Loss 0.1103\n",
      "Epoch 180  Loss 0.0009\n",
      "Epoch 190  Loss 0.0764\n"
     ]
    }
   ],
   "source": [
    "import torch.nn as nn\n",
    "\n",
    "input_size = 1\n",
    "output_size = 1\n",
    "model = nn.Linear(input_size, output_size)\n",
    "\n",
    "loss_fn = nn.MSELoss(reduction='mean')\n",
    "\n",
    "optimizer = torch.optim.SGD(model.parameters(), lr=learning_rate)\n",
    "\n",
    "for epoch in range(num_epochs):\n",
    "    for x_batch, y_batch in train_dl:\n",
    "        # 1. Generate predictions\n",
    "        pred = model(x_batch)[:, 0] \n",
    "\n",
    "        # 2. Calculate loss\n",
    "        loss = loss_fn(pred, y_batch)\n",
    "\n",
    "        # 3. Compute gradients\n",
    "        loss.backward()\n",
    "\n",
    "        # 4. Update parameters using gradients\n",
    "        optimizer.step()\n",
    "\n",
    "        # 5. Reset the gradients to zero\n",
    "        optimizer.zero_grad()\n",
    "        \n",
    "    if epoch % log_epochs==0:\n",
    "        print(f'Epoch {epoch}  Loss {loss.item():.4f}')"
   ]
  },
  {
   "cell_type": "code",
   "execution_count": 10,
   "id": "2cf7dea4-59d3-4ec5-9c25-8567760f7da7",
   "metadata": {},
   "outputs": [
    {
     "name": "stdout",
     "output_type": "stream",
     "text": [
      "Final Parameters: 2.6496422290802 4.87706995010376\n"
     ]
    },
    {
     "data": {
      "image/png": "[encoded data removed]",
      "text/plain": [
       "<Figure size 936x360 with 1 Axes>"
      ]
     },
     "metadata": {
      "needs_background": "light"
     },
     "output_type": "display_data"
    }
   ],
   "source": [
    "print('Final Parameters:', model.weight.item(), model.bias.item())\n",
    " \n",
    "X_test = np.linspace(0, 9, num=100, dtype='float32').reshape(-1, 1)\n",
    "X_test_norm = (X_test - np.mean(X_train)) / np.std(X_train)\n",
    "X_test_norm = torch.from_numpy(X_test_norm)\n",
    "y_pred = model(X_test_norm).detach().numpy()\n",
    "\n",
    "\n",
    "fig = plt.figure(figsize=(13, 5))\n",
    "ax = fig.add_subplot(1, 2, 1)\n",
    "plt.plot(X_train_norm.detach().numpy(), y_train.detach().numpy(), 'o', markersize=10)\n",
    "plt.plot(X_test_norm.detach().numpy(), y_pred.detach().numpy(), '--', lw=3)\n",
    "plt.legend(['Training examples', 'Linear reg.'], fontsize=15)\n",
    "ax.set_xlabel('x', size=15)\n",
    "ax.set_ylabel('y', size=15)\n",
    "ax.tick_params(axis='both', which='major', labelsize=15)\n",
    " \n",
    "#plt.savefig('ch12-linreg-2.pdf')\n",
    "\n",
    "plt.show()\n"
   ]
  }
 ],
 "metadata": {
  "kernelspec": {
   "display_name": "Python 3",
   "language": "python",
   "name": "python3"
  },
  "language_info": {
   "codemirror_mode": {
    "name": "ipython",
    "version": 3
   },
   "file_extension": ".py",
   "mimetype": "text/x-python",
   "name": "python",
   "nbconvert_exporter": "python",
   "pygments_lexer": "ipython3",
   "version": "3.11.6"
  }
 },
 "nbformat": 4,
 "nbformat_minor": 5
}
