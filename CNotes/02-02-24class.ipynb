{
 "cells": [
  {
   "cell_type": "markdown",
   "id": "817123db-1473-4186-a879-8f6fcf43f20b",
   "metadata": {},
   "source": [
    "# K Means Clustering #"
   ]
  },
  {
   "cell_type": "markdown",
   "id": "b03e379f-43b5-4450-9240-2f187361aa3b",
   "metadata": {},
   "source": [
    "## Making Clusters ##"
   ]
  },
  {
   "cell_type": "code",
   "execution_count": 6,
   "id": "9c7c2ebb-eec9-4dd6-aeba-63a4d1e5197c",
   "metadata": {},
   "outputs": [],
   "source": [
    "from sklearn.datasets import make_blobs\n",
    "import matplotlib.pyplot as plt"
   ]
  },
  {
   "cell_type": "code",
   "execution_count": 41,
   "id": "1325108c-55c3-49c5-957f-25dc9b7b8db2",
   "metadata": {},
   "outputs": [],
   "source": [
    "myX, _ = make_blobs(300)  # The defaults should be good--see the sklearn webpage"
   ]
  },
  {
   "cell_type": "code",
   "execution_count": 42,
   "id": "4d2fc258-3857-44fe-918b-27d755be90d9",
   "metadata": {},
   "outputs": [
    {
     "data": {
      "text/plain": [
       "array([[-1.97407162,  0.3158997 ],\n",
       "       [ 1.85979441,  6.35951086],\n",
       "       [ 3.40341271,  6.05147589],\n",
       "       [ 3.3115618 ,  4.93103311],\n",
       "       [-6.14118783,  3.17116188]])"
      ]
     },
     "execution_count": 42,
     "metadata": {},
     "output_type": "execute_result"
    }
   ],
   "source": [
    "myX[:5]"
   ]
  },
  {
   "cell_type": "code",
   "execution_count": 43,
   "id": "f213939d-e70d-4e45-8248-94695765c00b",
   "metadata": {},
   "outputs": [
    {
     "data": {
      "image/png": "[encoded data removed]",
      "text/plain": [
       "<Figure size 432x288 with 1 Axes>"
      ]
     },
     "metadata": {
      "needs_background": "light"
     },
     "output_type": "display_data"
    }
   ],
   "source": [
    "plt.scatter(myX[:,0], myX[:,1])\n",
    "plt.show()"
   ]
  },
  {
   "cell_type": "markdown",
   "id": "92e65be0-5316-494a-9325-b1f4683704e4",
   "metadata": {},
   "source": [
    "## An Overview ##"
   ]
  },
  {
   "cell_type": "markdown",
   "id": "ad7eec20-a630-46d9-9275-ded3d04d3537",
   "metadata": {},
   "source": [
    "**Question:**  What distinguishes clustered data?\n",
    "\n",
    "1. The number of clusters\n",
    "2. The location of the center of each cluster\n",
    "3. Points are in a cluster if they are closest to their center"
   ]
  },
  {
   "cell_type": "markdown",
   "id": "fe0a67c3-05af-4f5a-97e1-df03cf834ba9",
   "metadata": {},
   "source": [
    "**The Algorithm:** \n",
    "\n",
    "(See the [Wikipedia page](https://en.wikipedia.org/wiki/K-means_clustering).)\n",
    "\n",
    "0. Initialization: Choose $k$ and $k$ points randomly in the data to be the initial means (centroids) $m^{(i)}_1 ,\\ldots  m^{(i)}_k$. \n",
    "1. Assignment: assign each point to the cluster with the nearest mean:\n",
    "\n",
    "$$\n",
    "S^{(t)}_i = \\{ x_p : \\| x_p - - m^{(t)}_i\\|^2 \\le  \\| x_p - - m^{(t)}_j\\|^2 \\forall j, 1 \\le j \\le k \\}\n",
    "$$\n",
    "\n",
    "3. Update:  update the mean\n",
    "\n",
    "$$\n",
    "m^{(t+1)}_i = {1 \\over |S^{(t)}_i|} \\Sigma_{x_j \\in S^{(t)}_i} x_j\n",
    "$$\n",
    "\n",
    "**Notes:**\n",
    "\n",
    "+ This might not converge to the optimal answer.\n",
    "+ This is a basic case of the Expectation-Maximization algorithm"
   ]
  },
  {
   "cell_type": "code",
   "execution_count": null,
   "id": "b694e298-5bf7-44ff-9627-830da84853d7",
   "metadata": {},
   "outputs": [],
   "source": []
  },
  {
   "cell_type": "markdown",
   "id": "9eb90683-f730-4b8d-b124-26a730133751",
   "metadata": {},
   "source": [
    "## An implementation of K Means Clustering ##\n",
    "\n",
    "From [here](https://towardsdatascience.com/k-means-clustering-algorithm-applications-evaluation-methods-and-drawbacks-aa03e644b48a)."
   ]
  },
  {
   "cell_type": "code",
   "execution_count": 78,
   "id": "8d95eadd-13b2-473b-8d63-f65fcdd8c190",
   "metadata": {},
   "outputs": [],
   "source": [
    "import numpy as np\n",
    "from numpy.linalg import norm\n",
    "\n",
    "\n",
    "class Kmeans:\n",
    "    '''Implementing Kmeans algorithm.'''\n",
    "\n",
    "    def __init__(self, n_clusters, max_iter=100, random_state=123):\n",
    "        self.n_clusters = n_clusters\n",
    "        self.max_iter = max_iter\n",
    "        self.random_state = random_state\n",
    "\n",
    "    def initializ_centroids(self, X):\n",
    "        np.random.RandomState(self.random_state)\n",
    "        random_idx = np.random.permutation(X.shape[0])\n",
    "        centroids = X[random_idx[:self.n_clusters]]\n",
    "        return centroids\n",
    "\n",
    "    def compute_centroids(self, X, labels):\n",
    "        centroids = np.zeros((self.n_clusters, X.shape[1]))\n",
    "        for k in range(self.n_clusters):\n",
    "            centroids[k, :] = np.mean(X[labels == k, :], axis=0)\n",
    "        return centroids\n",
    "\n",
    "    def compute_distance(self, X, centroids):\n",
    "        distance = np.zeros((X.shape[0], self.n_clusters))\n",
    "        for k in range(self.n_clusters):\n",
    "            row_norm = norm(X - centroids[k, :], axis=1)\n",
    "            distance[:, k] = np.square(row_norm)\n",
    "        return distance\n",
    "\n",
    "    def find_closest_cluster(self, distance):\n",
    "        return np.argmin(distance, axis=1)\n",
    "\n",
    "    def compute_sse(self, X, labels, centroids):\n",
    "        distance = np.zeros(X.shape[0])\n",
    "        for k in range(self.n_clusters):\n",
    "            distance[labels == k] = norm(X[labels == k] - centroids[k], axis=1)\n",
    "        return np.sum(np.square(distance))\n",
    "    \n",
    "    def fit(self, X):\n",
    "        self.centroids = self.initializ_centroids(X)\n",
    "        for i in range(self.max_iter):\n",
    "            old_centroids = self.centroids\n",
    "            distance = self.compute_distance(X, old_centroids)\n",
    "            self.labels = self.find_closest_cluster(distance)\n",
    "            self.centroids = self.compute_centroids(X, self.labels)\n",
    "            if np.all(old_centroids == self.centroids):\n",
    "                break\n",
    "        self.error = self.compute_sse(X, self.labels, self.centroids)\n",
    "    \n",
    "    def predict(self, X):\n",
    "        distance = self.compute_distance(X, self.centroids)\n",
    "        return self.find_closest_cluster(distance)"
   ]
  },
  {
   "cell_type": "code",
   "execution_count": 11,
   "id": "e5847909-3a6f-4173-9c7c-67e18d01b49f",
   "metadata": {},
   "outputs": [],
   "source": [
    "my3means = Kmeans(n_clusters = 3)"
   ]
  },
  {
   "cell_type": "code",
   "execution_count": 44,
   "id": "b011a1b6-bd40-43ce-ae5d-772ff798f2ff",
   "metadata": {},
   "outputs": [],
   "source": [
    "my3means.fit(myX)"
   ]
  },
  {
   "cell_type": "code",
   "execution_count": 45,
   "id": "456d6bc3-77f7-47d7-8fae-2adef45b6703",
   "metadata": {},
   "outputs": [
    {
     "data": {
      "text/plain": [
       "array([0])"
      ]
     },
     "execution_count": 45,
     "metadata": {},
     "output_type": "execute_result"
    }
   ],
   "source": [
    "my3means.predict(np.array([[-2,2]]))"
   ]
  },
  {
   "cell_type": "markdown",
   "id": "241fed3f-59c3-40bf-afa4-4b8d3505db5c",
   "metadata": {},
   "source": [
    "## The SKLearn k-Means Clustering Implementation ##\n",
    "\n",
    "See the textbook for more details."
   ]
  },
  {
   "cell_type": "code",
   "execution_count": 79,
   "id": "4ad57f35-b913-4a2b-9a1d-c52e74631248",
   "metadata": {},
   "outputs": [],
   "source": [
    "from sklearn.cluster import KMeans"
   ]
  },
  {
   "cell_type": "code",
   "execution_count": 80,
   "id": "f4b9e4a1-b032-4a3c-88b9-a598cfe82f9a",
   "metadata": {},
   "outputs": [],
   "source": [
    "km = KMeans(n_clusters=3, \n",
    "            init='random', \n",
    "            n_init=10, \n",
    "            max_iter=300,\n",
    "            tol=1e-04,\n",
    "            random_state=0)\n",
    "\n",
    "y_km = km.fit_predict(myX)"
   ]
  },
  {
   "cell_type": "code",
   "execution_count": 81,
   "id": "db9fcd94-9483-4ed0-b745-710347035d58",
   "metadata": {},
   "outputs": [
    {
     "data": {
      "text/plain": [
       "array([0, 2, 2, 2, 1, 2, 2, 1, 2, 2, 2, 2, 0, 1, 0, 1, 0, 2, 1, 1, 1, 0,\n",
       "       0, 1, 2, 2, 1, 0, 2, 1, 0, 0, 0, 0, 1, 2, 2, 2, 1, 2, 2, 2, 0, 2,\n",
       "       1, 0, 1, 0, 1, 2, 2, 0, 1, 0, 0, 0, 0, 0, 0, 1, 2, 1, 1, 0, 0, 0,\n",
       "       2, 1, 0, 0, 1, 0, 0, 1, 2, 0, 2, 1, 0, 2, 1, 0, 2, 2, 2, 2, 1, 2,\n",
       "       0, 0, 0, 2, 1, 1, 1, 2, 1, 0, 1, 0, 0, 2, 1, 1, 0, 1, 0, 0, 0, 0,\n",
       "       0, 2, 2, 0, 2, 2, 0, 0, 1, 1, 2, 2, 1, 0, 1, 2, 1, 1, 0, 0, 0, 2,\n",
       "       2, 0, 0, 1, 0, 2, 1, 2, 0, 1, 1, 2, 1, 2, 1, 1, 2, 0, 2, 1, 1, 0,\n",
       "       0, 2, 1, 1, 2, 2, 1, 0, 0, 2, 0, 0, 1, 0, 1, 2, 1, 2, 2, 1, 1, 0,\n",
       "       0, 0, 0, 0, 2, 1, 1, 1, 2, 0, 1, 1, 0, 1, 0, 0, 0, 2, 2, 0, 2, 0,\n",
       "       2, 0, 1, 1, 0, 0, 2, 2, 0, 2, 0, 2, 1, 1, 2, 2, 2, 2, 1, 0, 1, 2,\n",
       "       1, 0, 2, 1, 1, 0, 2, 2, 0, 1, 1, 2, 0, 0, 1, 1, 1, 1, 2, 1, 0, 2,\n",
       "       2, 2, 1, 2, 2, 0, 1, 0, 1, 1, 2, 2, 2, 1, 0, 0, 0, 2, 0, 2, 0, 1,\n",
       "       2, 1, 0, 2, 2, 1, 1, 0, 1, 2, 1, 1, 1, 0, 0, 0, 1, 2, 1, 1, 2, 1,\n",
       "       1, 1, 1, 2, 1, 1, 2, 0, 2, 0, 2, 2, 2, 2], dtype=int32)"
      ]
     },
     "execution_count": 81,
     "metadata": {},
     "output_type": "execute_result"
    }
   ],
   "source": [
    "y_km"
   ]
  },
  {
   "cell_type": "code",
   "execution_count": 83,
   "id": "4072bfa7-39a8-466b-adb6-44aeb067d4db",
   "metadata": {},
   "outputs": [
    {
     "data": {
      "text/plain": [
       "<matplotlib.collections.PathCollection at 0x7f5173025f90>"
      ]
     },
     "execution_count": 83,
     "metadata": {},
     "output_type": "execute_result"
    },
    {
     "data": {
      "image/png": "[encoded data removed]",
      "text/plain": [
       "<Figure size 432x288 with 1 Axes>"
      ]
     },
     "metadata": {
      "needs_background": "light"
     },
     "output_type": "display_data"
    }
   ],
   "source": [
    "plt.scatter(myX[:,0], myX[:,1], c = y_km)"
   ]
  }
 ],
 "metadata": {
  "kernelspec": {
   "display_name": "Python 3",
   "language": "python",
   "name": "python3"
  },
  "language_info": {
   "codemirror_mode": {
    "name": "ipython",
    "version": 3
   },
   "file_extension": ".py",
   "mimetype": "text/x-python",
   "name": "python",
   "nbconvert_exporter": "python",
   "pygments_lexer": "ipython3",
   "version": "3.11.6"
  }
 },
 "nbformat": 4,
 "nbformat_minor": 5
}
