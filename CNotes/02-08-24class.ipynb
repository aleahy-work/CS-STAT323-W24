{
 "cells": [
  {
   "cell_type": "markdown",
   "id": "97ca99d7-9cb8-4903-bbd5-b12aadb3da22",
   "metadata": {},
   "source": [
    "# The BackPropagation Algorithm #"
   ]
  },
  {
   "cell_type": "markdown",
   "id": "d6f40bfe-c062-46d5-9737-e7c2af72624d",
   "metadata": {},
   "source": [
    "This is from Chapter 11 of the Raschka book, available on the author's [github page](https://github.com/rasbt/machine-learning-book/tree/main/ch11).\n",
    "\n",
    "+ Theory is discussed on pages 362-367.\n",
    "+ Most of the chapter is devoted to implementing a neural network to classifying the images of the digits 0-9 in the MNIST dataset using a simple neural network.\n",
    "+ He includes a lot of extra things--visualizing and loading the data--which we won't spend much time on.  **So you should consult the github for this.**"
   ]
  },
  {
   "cell_type": "markdown",
   "id": "51063199-e2b1-4120-af1e-e3aacec61956",
   "metadata": {},
   "source": [
    "## Loading MNIST ##\n",
    "\n",
    "(**Note:** I'm using a local copy of the data, so I have to load it differently than he does.)"
   ]
  },
  {
   "cell_type": "code",
   "execution_count": 1,
   "id": "52240673-330c-4896-9bbb-323bb84bf830",
   "metadata": {},
   "outputs": [],
   "source": [
    "import numpy as np"
   ]
  },
  {
   "cell_type": "code",
   "execution_count": 3,
   "id": "fe3509af-b2a9-48d5-af39-0760c4528f62",
   "metadata": {},
   "outputs": [],
   "source": [
    "mydata = np.genfromtxt(\"/home/employee/aleahy/CS323/Jupyter/Data/mnist/mnist_train.csv\", delimiter=\",\")"
   ]
  },
  {
   "cell_type": "code",
   "execution_count": 98,
   "id": "1e987a72-2e70-4218-a8e4-e73af51a5259",
   "metadata": {},
   "outputs": [
    {
     "data": {
      "text/plain": [
       "(60000, 785)"
      ]
     },
     "execution_count": 98,
     "metadata": {},
     "output_type": "execute_result"
    }
   ],
   "source": [
    "mydata.shape  # This is one bigger than it should be"
   ]
  },
  {
   "cell_type": "code",
   "execution_count": 96,
   "id": "61397fd3-e916-48f4-b3a7-30afc4126b8a",
   "metadata": {},
   "outputs": [
    {
     "data": {
      "text/plain": [
       "array([[5., 0., 0., ..., 0., 0., 0.],\n",
       "       [0., 0., 0., ..., 0., 0., 0.],\n",
       "       [4., 0., 0., ..., 0., 0., 0.],\n",
       "       [1., 0., 0., ..., 0., 0., 0.],\n",
       "       [9., 0., 0., ..., 0., 0., 0.]])"
      ]
     },
     "execution_count": 96,
     "metadata": {},
     "output_type": "execute_result"
    }
   ],
   "source": [
    "mydata[:5]  \n",
    "#  Note that the digit corresponding to the picture is in the first column so separate off"
   ]
  },
  {
   "cell_type": "code",
   "execution_count": 68,
   "id": "ca93b44e-aaf0-4cff-8eb0-b43ac6e6e559",
   "metadata": {},
   "outputs": [],
   "source": [
    "myy = mydata[:,0].astype(int)  \n",
    "# I had a problem below with these values being real so I cast them to int"
   ]
  },
  {
   "cell_type": "code",
   "execution_count": 69,
   "id": "e8ef671e-2d76-4bcd-8379-6340e90b1927",
   "metadata": {},
   "outputs": [
    {
     "data": {
      "text/plain": [
       "array([5, 0, 4, 1, 9])"
      ]
     },
     "execution_count": 69,
     "metadata": {},
     "output_type": "execute_result"
    }
   ],
   "source": [
    "myy[:5]"
   ]
  },
  {
   "cell_type": "code",
   "execution_count": 70,
   "id": "7ae5d8f1-b6ed-4341-82e3-607382c91d8d",
   "metadata": {},
   "outputs": [],
   "source": [
    "myX = mydata[:,1:]"
   ]
  },
  {
   "cell_type": "code",
   "execution_count": 71,
   "id": "0029972c-1a11-4a6d-b51b-1bd14974f933",
   "metadata": {},
   "outputs": [
    {
     "data": {
      "text/plain": [
       "(60000, 784)"
      ]
     },
     "execution_count": 71,
     "metadata": {},
     "output_type": "execute_result"
    }
   ],
   "source": [
    "myX.shape"
   ]
  },
  {
   "cell_type": "code",
   "execution_count": 72,
   "id": "8239617f-934e-4190-a730-5e168881b5db",
   "metadata": {},
   "outputs": [
    {
     "data": {
      "text/plain": [
       "array([[0., 0., 0., ..., 0., 0., 0.],\n",
       "       [0., 0., 0., ..., 0., 0., 0.],\n",
       "       [0., 0., 0., ..., 0., 0., 0.],\n",
       "       [0., 0., 0., ..., 0., 0., 0.],\n",
       "       [0., 0., 0., ..., 0., 0., 0.]])"
      ]
     },
     "execution_count": 72,
     "metadata": {},
     "output_type": "execute_result"
    }
   ],
   "source": [
    "myX[:5]"
   ]
  },
  {
   "cell_type": "markdown",
   "id": "65c03aed-4a83-4b37-bac5-9e9cae04b71a",
   "metadata": {},
   "source": [
    "**Normalize the data**"
   ]
  },
  {
   "cell_type": "code",
   "execution_count": 73,
   "id": "4bb819b6-fbf9-49b4-bb6c-20044f36afe0",
   "metadata": {},
   "outputs": [],
   "source": [
    "myX = ((myX / 255.) - .5) * 2  # Warning: Don't do this multiple times without thinking!!!"
   ]
  },
  {
   "cell_type": "code",
   "execution_count": 74,
   "id": "d7944d53-8236-4c8d-ab89-3e4cc1bba6fe",
   "metadata": {},
   "outputs": [
    {
     "data": {
      "text/plain": [
       "array([[-1., -1., -1., ..., -1., -1., -1.],\n",
       "       [-1., -1., -1., ..., -1., -1., -1.],\n",
       "       [-1., -1., -1., ..., -1., -1., -1.],\n",
       "       [-1., -1., -1., ..., -1., -1., -1.],\n",
       "       [-1., -1., -1., ..., -1., -1., -1.]])"
      ]
     },
     "execution_count": 74,
     "metadata": {},
     "output_type": "execute_result"
    }
   ],
   "source": [
    "myX[:5]"
   ]
  },
  {
   "cell_type": "markdown",
   "id": "7b3f0581-dead-4d17-b080-66c678509cfb",
   "metadata": {},
   "source": [
    "**Note:** The test set already exists separately, but I will create a **validation** set to be used later."
   ]
  },
  {
   "cell_type": "code",
   "execution_count": 75,
   "id": "8cfef7ff-95d0-419c-a2e2-cb33429405c3",
   "metadata": {},
   "outputs": [],
   "source": [
    "from sklearn.model_selection import train_test_split"
   ]
  },
  {
   "cell_type": "code",
   "execution_count": 76,
   "id": "72a38411-4303-4759-a45a-99b549de355c",
   "metadata": {},
   "outputs": [],
   "source": [
    "X_train, X_valid, y_train, y_valid = train_test_split(myX, myy, test_size=5000)"
   ]
  },
  {
   "cell_type": "code",
   "execution_count": 77,
   "id": "6dd43c05-953b-4e82-9b85-39894ff3a202",
   "metadata": {},
   "outputs": [
    {
     "name": "stdout",
     "output_type": "stream",
     "text": [
      "(55000, 784)\n",
      "(5000, 784)\n",
      "(55000,)\n",
      "(5000,)\n"
     ]
    }
   ],
   "source": [
    "print(X_train.shape)\n",
    "print(X_valid.shape)\n",
    "print(y_train.shape)\n",
    "print(y_valid.shape)"
   ]
  },
  {
   "cell_type": "markdown",
   "id": "4fd80c50-8402-4ec7-b3bf-a27033df830c",
   "metadata": {},
   "source": [
    "## Creating the Perceptron Class ##"
   ]
  },
  {
   "cell_type": "code",
   "execution_count": 80,
   "id": "3d59af6a-277f-48fa-b053-531f990d86b4",
   "metadata": {},
   "outputs": [
    {
     "data": {
      "text/plain": [
       "array([[0., 0., 1., 0., 0., 0., 0., 0., 0., 0.],\n",
       "       [0., 1., 0., 0., 0., 0., 0., 0., 0., 0.],\n",
       "       [1., 0., 0., 0., 0., 0., 0., 0., 0., 0.],\n",
       "       [0., 0., 0., 1., 0., 0., 0., 0., 0., 0.],\n",
       "       [0., 0., 0., 1., 0., 0., 0., 0., 0., 0.],\n",
       "       [0., 0., 1., 0., 0., 0., 0., 0., 0., 0.],\n",
       "       [0., 0., 0., 0., 0., 0., 0., 1., 0., 0.],\n",
       "       [0., 0., 0., 0., 0., 0., 0., 1., 0., 0.],\n",
       "       [0., 0., 0., 0., 0., 0., 0., 0., 1., 0.],\n",
       "       [0., 0., 0., 0., 0., 0., 1., 0., 0., 0.]])"
      ]
     },
     "execution_count": 80,
     "metadata": {},
     "output_type": "execute_result"
    }
   ],
   "source": [
    "int_to_onehot(y_valid[:10], 10) \n",
    "# I had problems with y_valid being a real and the method required an int!!!"
   ]
  },
  {
   "cell_type": "code",
   "execution_count": 81,
   "id": "b5d2a9b2-0300-47cd-8587-643330d71140",
   "metadata": {},
   "outputs": [],
   "source": [
    "##########################\n",
    "### MODEL\n",
    "##########################\n",
    "\n",
    "def sigmoid(z):                                        \n",
    "    return 1. / (1. + np.exp(-z))\n",
    "\n",
    "\n",
    "def int_to_onehot(y, num_labels):\n",
    "\n",
    "    ary = np.zeros((y.shape[0], num_labels))\n",
    "    for i, val in enumerate(y):\n",
    "        ary[i, val] = 1\n",
    "\n",
    "    return ary\n",
    "\n",
    "\n",
    "class NeuralNetMLP:\n",
    "\n",
    "    def __init__(self, num_features, num_hidden, num_classes, random_seed=123):\n",
    "        super().__init__()\n",
    "        \n",
    "        self.num_classes = num_classes\n",
    "        \n",
    "        # hidden\n",
    "        rng = np.random.RandomState(random_seed)\n",
    "        \n",
    "        self.weight_h = rng.normal(\n",
    "            loc=0.0, scale=0.1, size=(num_hidden, num_features))\n",
    "        self.bias_h = np.zeros(num_hidden)\n",
    "        \n",
    "        # output\n",
    "        self.weight_out = rng.normal(\n",
    "            loc=0.0, scale=0.1, size=(num_classes, num_hidden))\n",
    "        self.bias_out = np.zeros(num_classes)\n",
    "        \n",
    "    def forward(self, x):\n",
    "        # Hidden layer\n",
    "        # input dim: [n_examples, n_features] dot [n_hidden, n_features].T\n",
    "        # output dim: [n_examples, n_hidden]\n",
    "        z_h = np.dot(x, self.weight_h.T) + self.bias_h\n",
    "        a_h = sigmoid(z_h)\n",
    "\n",
    "        # Output layer\n",
    "        # input dim: [n_examples, n_hidden] dot [n_classes, n_hidden].T\n",
    "        # output dim: [n_examples, n_classes]\n",
    "        z_out = np.dot(a_h, self.weight_out.T) + self.bias_out\n",
    "        a_out = sigmoid(z_out)\n",
    "        return a_h, a_out\n",
    "\n",
    "    def backward(self, x, a_h, a_out, y):  \n",
    "    \n",
    "        #########################\n",
    "        ### Output layer weights\n",
    "        #########################\n",
    "        \n",
    "        # onehot encoding\n",
    "        y_onehot = int_to_onehot(y, self.num_classes)\n",
    "\n",
    "        # Part 1: dLoss/dOutWeights\n",
    "        ## = dLoss/dOutAct * dOutAct/dOutNet * dOutNet/dOutWeight\n",
    "        ## where DeltaOut = dLoss/dOutAct * dOutAct/dOutNet\n",
    "        ## for convenient re-use\n",
    "        \n",
    "        # input/output dim: [n_examples, n_classes]\n",
    "        d_loss__d_a_out = 2.*(a_out - y_onehot) / y.shape[0]\n",
    "\n",
    "        # input/output dim: [n_examples, n_classes]\n",
    "        d_a_out__d_z_out = a_out * (1. - a_out) # sigmoid derivative\n",
    "\n",
    "        # output dim: [n_examples, n_classes]\n",
    "        delta_out = d_loss__d_a_out * d_a_out__d_z_out # \"delta (rule) placeholder\"\n",
    "\n",
    "        # gradient for output weights\n",
    "        \n",
    "        # [n_examples, n_hidden]\n",
    "        d_z_out__dw_out = a_h\n",
    "        \n",
    "        # input dim: [n_classes, n_examples] dot [n_examples, n_hidden]\n",
    "        # output dim: [n_classes, n_hidden]\n",
    "        d_loss__dw_out = np.dot(delta_out.T, d_z_out__dw_out)\n",
    "        d_loss__db_out = np.sum(delta_out, axis=0)\n",
    "        \n",
    "\n",
    "        #################################        \n",
    "        # Part 2: dLoss/dHiddenWeights\n",
    "        ## = DeltaOut * dOutNet/dHiddenAct * dHiddenAct/dHiddenNet * dHiddenNet/dWeight\n",
    "        \n",
    "        # [n_classes, n_hidden]\n",
    "        d_z_out__a_h = self.weight_out\n",
    "        \n",
    "        # output dim: [n_examples, n_hidden]\n",
    "        d_loss__a_h = np.dot(delta_out, d_z_out__a_h)\n",
    "        \n",
    "        # [n_examples, n_hidden]\n",
    "        d_a_h__d_z_h = a_h * (1. - a_h) # sigmoid derivative\n",
    "        \n",
    "        # [n_examples, n_features]\n",
    "        d_z_h__d_w_h = x\n",
    "        \n",
    "        # output dim: [n_hidden, n_features]\n",
    "        d_loss__d_w_h = np.dot((d_loss__a_h * d_a_h__d_z_h).T, d_z_h__d_w_h)\n",
    "        d_loss__d_b_h = np.sum((d_loss__a_h * d_a_h__d_z_h), axis=0)\n",
    "\n",
    "        return (d_loss__dw_out, d_loss__db_out, \n",
    "                d_loss__d_w_h, d_loss__d_b_h)"
   ]
  },
  {
   "cell_type": "code",
   "execution_count": 82,
   "id": "79cc0854-ce9b-4f75-a38c-de2a8e4806ab",
   "metadata": {},
   "outputs": [],
   "source": [
    "model = NeuralNetMLP(num_features=28*28,\n",
    "                     num_hidden=50,\n",
    "                     num_classes=10)"
   ]
  },
  {
   "cell_type": "markdown",
   "id": "4cd5bc01-8431-428e-a9be-5f31bffac552",
   "metadata": {},
   "source": [
    "**Question:** What does this mean graphically?"
   ]
  },
  {
   "cell_type": "markdown",
   "id": "aac0b52d-eb3f-4cbb-846d-f12791a99b1d",
   "metadata": {},
   "source": [
    "## Defining Some Helpful Methods ##"
   ]
  },
  {
   "cell_type": "markdown",
   "id": "a22eb46f-afe5-4d87-aa96-84f2a8a246e5",
   "metadata": {},
   "source": [
    "### . . . for loading the data: ###"
   ]
  },
  {
   "cell_type": "code",
   "execution_count": 83,
   "id": "f98abc5b-1dd3-4dea-b7e2-f929171049d7",
   "metadata": {},
   "outputs": [
    {
     "name": "stdout",
     "output_type": "stream",
     "text": [
      "(100, 784)\n",
      "(100,)\n"
     ]
    }
   ],
   "source": [
    "import numpy as np\n",
    "\n",
    "num_epochs = 50\n",
    "minibatch_size = 100\n",
    "\n",
    "\n",
    "def minibatch_generator(X, y, minibatch_size):\n",
    "    indices = np.arange(X.shape[0])\n",
    "    np.random.shuffle(indices)\n",
    "\n",
    "    for start_idx in range(0, indices.shape[0] - minibatch_size \n",
    "                           + 1, minibatch_size):\n",
    "        batch_idx = indices[start_idx:start_idx + minibatch_size]\n",
    "        \n",
    "        yield X[batch_idx], y[batch_idx]\n",
    "\n",
    "        \n",
    "# iterate over training epochs\n",
    "for i in range(num_epochs):\n",
    "\n",
    "    # iterate over minibatches\n",
    "    minibatch_gen = minibatch_generator(\n",
    "        X_train, y_train, minibatch_size)\n",
    "    \n",
    "    for X_train_mini, y_train_mini in minibatch_gen:\n",
    "\n",
    "        break\n",
    "        \n",
    "    break\n",
    "    \n",
    "print(X_train_mini.shape)\n",
    "print(y_train_mini.shape)"
   ]
  },
  {
   "cell_type": "markdown",
   "id": "7a5cb40f-505e-40ac-bfa0-6e4df5afe1d3",
   "metadata": {},
   "source": [
    "### . . . for computing the loss and accuracy ###"
   ]
  },
  {
   "cell_type": "code",
   "execution_count": 84,
   "id": "ab50ca56-83e5-4e11-a47b-dd7dc4eaf9ba",
   "metadata": {},
   "outputs": [],
   "source": [
    "def mse_loss(targets, probas, num_labels=10):\n",
    "    onehot_targets = int_to_onehot(targets, num_labels=num_labels)\n",
    "    return np.mean((onehot_targets - probas)**2)\n",
    "\n",
    "\n",
    "def accuracy(targets, predicted_labels):\n",
    "    return np.mean(predicted_labels == targets) "
   ]
  },
  {
   "cell_type": "markdown",
   "id": "28ecf18c-44da-4a7f-932d-3f0a2b823007",
   "metadata": {},
   "source": [
    "#### Checking the initial accuracy: ####"
   ]
  },
  {
   "cell_type": "code",
   "execution_count": 95,
   "id": "0148b0ee-c0ea-4dd0-9af9-7b94113d8357",
   "metadata": {},
   "outputs": [
    {
     "name": "stdout",
     "output_type": "stream",
     "text": [
      "Initial validation MSE: 0.0\n",
      "Initial validation accuracy: 94.6%\n"
     ]
    }
   ],
   "source": [
    "_, probas = model.forward(X_valid)\n",
    "mse = mse_loss(y_valid, probas)\n",
    "\n",
    "predicted_labels = np.argmax(probas, axis=1)\n",
    "acc = accuracy(y_valid, predicted_labels)\n",
    "\n",
    "print(f'Initial validation MSE: {mse:.1f}')\n",
    "print(f'Initial validation accuracy: {acc*100:.1f}%')"
   ]
  },
  {
   "cell_type": "markdown",
   "id": "90e877bf-d822-43b9-bb48-43d57b7e91c3",
   "metadata": {},
   "source": [
    "### . . . for computing model accuracy: ###"
   ]
  },
  {
   "cell_type": "code",
   "execution_count": 87,
   "id": "aa5d326c-0c85-44eb-a799-55bf2b6d08de",
   "metadata": {},
   "outputs": [],
   "source": [
    "def compute_mse_and_acc(nnet, X, y, num_labels=10, minibatch_size=100):\n",
    "    mse, correct_pred, num_examples = 0., 0, 0\n",
    "    minibatch_gen = minibatch_generator(X, y, minibatch_size)\n",
    "        \n",
    "    for i, (features, targets) in enumerate(minibatch_gen):\n",
    "\n",
    "        _, probas = nnet.forward(features)\n",
    "        predicted_labels = np.argmax(probas, axis=1)\n",
    "        \n",
    "        onehot_targets = int_to_onehot(targets, num_labels=num_labels)\n",
    "        loss = np.mean((onehot_targets - probas)**2)\n",
    "        correct_pred += (predicted_labels == targets).sum()\n",
    "        \n",
    "        num_examples += targets.shape[0]\n",
    "        mse += loss\n",
    "\n",
    "    mse = mse/(i+1)\n",
    "    acc = correct_pred/num_examples\n",
    "    return mse, acc"
   ]
  },
  {
   "cell_type": "code",
   "execution_count": 88,
   "id": "85f8dfd3-8eb4-4c98-b17a-937cbcd492e3",
   "metadata": {},
   "outputs": [
    {
     "name": "stdout",
     "output_type": "stream",
     "text": [
      "Initial valid MSE: 0.3\n",
      "Initial valid accuracy: 8.6%\n"
     ]
    }
   ],
   "source": [
    "mse, acc = compute_mse_and_acc(model, X_valid, y_valid)\n",
    "print(f'Initial valid MSE: {mse:.1f}')\n",
    "print(f'Initial valid accuracy: {acc*100:.1f}%')"
   ]
  },
  {
   "cell_type": "markdown",
   "id": "5267ff5b-3bd2-42b5-aede-d5bdf85ad5c3",
   "metadata": {},
   "source": [
    "**Question:** Why is this important?  See below!"
   ]
  },
  {
   "cell_type": "markdown",
   "id": "dab06208-2786-40a4-b984-0e3c32c74eed",
   "metadata": {},
   "source": [
    "## Training The Model ##"
   ]
  },
  {
   "cell_type": "code",
   "execution_count": 89,
   "id": "1fcf25ea-ebde-4b56-bea0-950847f99def",
   "metadata": {},
   "outputs": [],
   "source": [
    "def train(model, X_train, y_train, X_valid, y_valid, num_epochs,\n",
    "          learning_rate=0.1):\n",
    "    \n",
    "    epoch_loss = []\n",
    "    epoch_train_acc = []\n",
    "    epoch_valid_acc = []\n",
    "    \n",
    "    for e in range(num_epochs):\n",
    "\n",
    "        # iterate over minibatches\n",
    "        minibatch_gen = minibatch_generator(\n",
    "            X_train, y_train, minibatch_size)\n",
    "\n",
    "        for X_train_mini, y_train_mini in minibatch_gen:\n",
    "            \n",
    "            #### Compute outputs ####\n",
    "            a_h, a_out = model.forward(X_train_mini)\n",
    "\n",
    "            #### Compute gradients ####\n",
    "            d_loss__d_w_out, d_loss__d_b_out, d_loss__d_w_h, d_loss__d_b_h = \\\n",
    "                model.backward(X_train_mini, a_h, a_out, y_train_mini)\n",
    "\n",
    "            #### Update weights ####\n",
    "            model.weight_h -= learning_rate * d_loss__d_w_h\n",
    "            model.bias_h -= learning_rate * d_loss__d_b_h\n",
    "            model.weight_out -= learning_rate * d_loss__d_w_out\n",
    "            model.bias_out -= learning_rate * d_loss__d_b_out\n",
    "        \n",
    "        #### Epoch Logging ####        \n",
    "        train_mse, train_acc = compute_mse_and_acc(model, X_train, y_train)\n",
    "        valid_mse, valid_acc = compute_mse_and_acc(model, X_valid, y_valid)\n",
    "        train_acc, valid_acc = train_acc*100, valid_acc*100\n",
    "        epoch_train_acc.append(train_acc)\n",
    "        epoch_valid_acc.append(valid_acc)\n",
    "        epoch_loss.append(train_mse)\n",
    "        print(f'Epoch: {e+1:03d}/{num_epochs:03d} '\n",
    "              f'| Train MSE: {train_mse:.2f} '\n",
    "              f'| Train Acc: {train_acc:.2f}% '\n",
    "              f'| Valid Acc: {valid_acc:.2f}%')\n",
    "\n",
    "    return epoch_loss, epoch_train_acc, epoch_valid_acc"
   ]
  },
  {
   "cell_type": "code",
   "execution_count": 90,
   "id": "b72f6f58-15e0-486d-8bc0-296439f3e481",
   "metadata": {},
   "outputs": [
    {
     "name": "stdout",
     "output_type": "stream",
     "text": [
      "Epoch: 001/050 | Train MSE: 0.05 | Train Acc: 75.66% | Valid Acc: 75.50%\n",
      "Epoch: 002/050 | Train MSE: 0.03 | Train Acc: 85.33% | Valid Acc: 85.58%\n",
      "Epoch: 003/050 | Train MSE: 0.02 | Train Acc: 87.84% | Valid Acc: 87.76%\n",
      "Epoch: 004/050 | Train MSE: 0.02 | Train Acc: 89.20% | Valid Acc: 89.16%\n",
      "Epoch: 005/050 | Train MSE: 0.02 | Train Acc: 90.05% | Valid Acc: 89.86%\n",
      "Epoch: 006/050 | Train MSE: 0.02 | Train Acc: 90.56% | Valid Acc: 90.40%\n",
      "Epoch: 007/050 | Train MSE: 0.02 | Train Acc: 91.04% | Valid Acc: 91.08%\n",
      "Epoch: 008/050 | Train MSE: 0.02 | Train Acc: 91.36% | Valid Acc: 91.54%\n",
      "Epoch: 009/050 | Train MSE: 0.01 | Train Acc: 91.67% | Valid Acc: 91.60%\n",
      "Epoch: 010/050 | Train MSE: 0.01 | Train Acc: 91.94% | Valid Acc: 91.84%\n",
      "Epoch: 011/050 | Train MSE: 0.01 | Train Acc: 92.16% | Valid Acc: 92.04%\n",
      "Epoch: 012/050 | Train MSE: 0.01 | Train Acc: 92.34% | Valid Acc: 92.12%\n",
      "Epoch: 013/050 | Train MSE: 0.01 | Train Acc: 92.50% | Valid Acc: 92.36%\n",
      "Epoch: 014/050 | Train MSE: 0.01 | Train Acc: 92.73% | Valid Acc: 92.42%\n",
      "Epoch: 015/050 | Train MSE: 0.01 | Train Acc: 92.86% | Valid Acc: 92.54%\n",
      "Epoch: 016/050 | Train MSE: 0.01 | Train Acc: 93.07% | Valid Acc: 92.68%\n",
      "Epoch: 017/050 | Train MSE: 0.01 | Train Acc: 93.27% | Valid Acc: 92.76%\n",
      "Epoch: 018/050 | Train MSE: 0.01 | Train Acc: 93.33% | Valid Acc: 92.82%\n",
      "Epoch: 019/050 | Train MSE: 0.01 | Train Acc: 93.40% | Valid Acc: 92.92%\n",
      "Epoch: 020/050 | Train MSE: 0.01 | Train Acc: 93.54% | Valid Acc: 93.00%\n",
      "Epoch: 021/050 | Train MSE: 0.01 | Train Acc: 93.69% | Valid Acc: 93.10%\n",
      "Epoch: 022/050 | Train MSE: 0.01 | Train Acc: 93.78% | Valid Acc: 93.32%\n",
      "Epoch: 023/050 | Train MSE: 0.01 | Train Acc: 93.91% | Valid Acc: 93.22%\n",
      "Epoch: 024/050 | Train MSE: 0.01 | Train Acc: 93.96% | Valid Acc: 93.44%\n",
      "Epoch: 025/050 | Train MSE: 0.01 | Train Acc: 94.03% | Valid Acc: 93.52%\n",
      "Epoch: 026/050 | Train MSE: 0.01 | Train Acc: 94.21% | Valid Acc: 93.48%\n",
      "Epoch: 027/050 | Train MSE: 0.01 | Train Acc: 94.25% | Valid Acc: 93.48%\n",
      "Epoch: 028/050 | Train MSE: 0.01 | Train Acc: 94.29% | Valid Acc: 93.56%\n",
      "Epoch: 029/050 | Train MSE: 0.01 | Train Acc: 94.41% | Valid Acc: 93.66%\n",
      "Epoch: 030/050 | Train MSE: 0.01 | Train Acc: 94.41% | Valid Acc: 93.74%\n",
      "Epoch: 031/050 | Train MSE: 0.01 | Train Acc: 94.54% | Valid Acc: 93.78%\n",
      "Epoch: 032/050 | Train MSE: 0.01 | Train Acc: 94.59% | Valid Acc: 93.86%\n",
      "Epoch: 033/050 | Train MSE: 0.01 | Train Acc: 94.60% | Valid Acc: 93.92%\n",
      "Epoch: 034/050 | Train MSE: 0.01 | Train Acc: 94.71% | Valid Acc: 93.84%\n",
      "Epoch: 035/050 | Train MSE: 0.01 | Train Acc: 94.74% | Valid Acc: 93.98%\n",
      "Epoch: 036/050 | Train MSE: 0.01 | Train Acc: 94.82% | Valid Acc: 94.04%\n",
      "Epoch: 037/050 | Train MSE: 0.01 | Train Acc: 94.90% | Valid Acc: 94.02%\n",
      "Epoch: 038/050 | Train MSE: 0.01 | Train Acc: 94.92% | Valid Acc: 94.14%\n",
      "Epoch: 039/050 | Train MSE: 0.01 | Train Acc: 95.01% | Valid Acc: 94.08%\n",
      "Epoch: 040/050 | Train MSE: 0.01 | Train Acc: 95.10% | Valid Acc: 94.26%\n",
      "Epoch: 041/050 | Train MSE: 0.01 | Train Acc: 95.09% | Valid Acc: 94.08%\n",
      "Epoch: 042/050 | Train MSE: 0.01 | Train Acc: 95.13% | Valid Acc: 94.16%\n",
      "Epoch: 043/050 | Train MSE: 0.01 | Train Acc: 95.26% | Valid Acc: 94.22%\n",
      "Epoch: 044/050 | Train MSE: 0.01 | Train Acc: 95.27% | Valid Acc: 94.18%\n",
      "Epoch: 045/050 | Train MSE: 0.01 | Train Acc: 95.31% | Valid Acc: 94.24%\n",
      "Epoch: 046/050 | Train MSE: 0.01 | Train Acc: 95.24% | Valid Acc: 94.40%\n",
      "Epoch: 047/050 | Train MSE: 0.01 | Train Acc: 95.33% | Valid Acc: 94.50%\n",
      "Epoch: 048/050 | Train MSE: 0.01 | Train Acc: 95.41% | Valid Acc: 94.44%\n",
      "Epoch: 049/050 | Train MSE: 0.01 | Train Acc: 95.47% | Valid Acc: 94.48%\n",
      "Epoch: 050/050 | Train MSE: 0.01 | Train Acc: 95.54% | Valid Acc: 94.58%\n"
     ]
    }
   ],
   "source": [
    "np.random.seed(123) # for the training set shuffling\n",
    "\n",
    "epoch_loss, epoch_train_acc, epoch_valid_acc = train(\n",
    "    model, X_train, y_train, X_valid, y_valid,\n",
    "    num_epochs=50, learning_rate=0.1)"
   ]
  },
  {
   "cell_type": "markdown",
   "id": "199693fd-8e2d-4dc8-afcf-1c4638745518",
   "metadata": {},
   "source": [
    "## Evaluating Model Performance ##"
   ]
  },
  {
   "cell_type": "code",
   "execution_count": 92,
   "id": "86ad45b6-7cbe-41db-b7d6-d701bc9844e4",
   "metadata": {},
   "outputs": [],
   "source": [
    "import matplotlib.pyplot as plt"
   ]
  },
  {
   "cell_type": "code",
   "execution_count": 93,
   "id": "72ffdead-bc3b-40d4-bebb-cce3f388c438",
   "metadata": {},
   "outputs": [
    {
     "data": {
      "image/png": "[encoded data removed]",
      "text/plain": [
       "<Figure size 432x288 with 1 Axes>"
      ]
     },
     "metadata": {
      "needs_background": "light"
     },
     "output_type": "display_data"
    }
   ],
   "source": [
    "plt.plot(range(len(epoch_loss)), epoch_loss)\n",
    "plt.ylabel('Mean squared error')\n",
    "plt.xlabel('Epoch')\n",
    "#plt.savefig('figures/11_07.png', dpi=300)\n",
    "plt.show()"
   ]
  },
  {
   "cell_type": "code",
   "execution_count": 100,
   "id": "5954b55d-0ca3-4dbf-8974-7c2face21995",
   "metadata": {},
   "outputs": [
    {
     "data": {
      "image/png": "[encoded data removed]",
      "text/plain": [
       "<Figure size 432x288 with 1 Axes>"
      ]
     },
     "metadata": {
      "needs_background": "light"
     },
     "output_type": "display_data"
    }
   ],
   "source": [
    "plt.plot(range(len(epoch_train_acc)), epoch_train_acc,\n",
    "         label='Training')\n",
    "plt.plot(range(len(epoch_valid_acc)), epoch_valid_acc,\n",
    "         label='Validation')\n",
    "plt.ylabel('Accuracy')\n",
    "plt.xlabel('Epochs')\n",
    "plt.legend(loc='lower right')\n",
    "plt.savefig('epochs.png')\n",
    "plt.show()"
   ]
  },
  {
   "cell_type": "markdown",
   "id": "069a0fca-0adc-4e71-bf1a-0eebc4e7f6b0",
   "metadata": {},
   "source": [
    "## Final Accuracy Measure ##\n",
    "\n",
    "(**Note:** I didn't load my test data, so I'll just show you his.)"
   ]
  },
  {
   "cell_type": "code",
   "execution_count": 23,
   "id": "df7ec094-fead-42a3-8820-2e3127db4f88",
   "metadata": {},
   "outputs": [
    {
     "name": "stdout",
     "output_type": "stream",
     "text": [
      "Test accuracy: 94.54%\n"
     ]
    }
   ],
   "source": [
    "test_mse, test_acc = compute_mse_and_acc(model, X_test, y_test)\n",
    "print(f'Test accuracy: {test_acc*100:.2f}%')"
   ]
  }
 ],
 "metadata": {
  "kernelspec": {
   "display_name": "Python 3",
   "language": "python",
   "name": "python3"
  },
  "language_info": {
   "codemirror_mode": {
    "name": "ipython",
    "version": 3
   },
   "file_extension": ".py",
   "mimetype": "text/x-python",
   "name": "python",
   "nbconvert_exporter": "python",
   "pygments_lexer": "ipython3",
   "version": "3.11.6"
  }
 },
 "nbformat": 4,
 "nbformat_minor": 5
}
